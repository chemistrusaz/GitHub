{
 "cells": [
  {
   "cell_type": "code",
   "execution_count": 38,
   "metadata": {},
   "outputs": [],
   "source": [
    "#***************************************************************************\n",
    "#Assignment Name: 2.1\n",
    "#Name: Tushar Muley\n",
    "#Date: 09/13/2020\n",
    "#Course: DSC530\n",
    "#Desc: Simple Python code to get use to using Python in Jupyter Notebook \n",
    "#      and using Anaconda\n",
    "#***************************************************************************\n"
   ]
  },
  {
   "cell_type": "code",
   "execution_count": 19,
   "metadata": {},
   "outputs": [
    {
     "name": "stdout",
     "output_type": "stream",
     "text": [
      "Hello World! I wonder why that is always the default coding text to start with\n"
     ]
    }
   ],
   "source": [
    "#Items 1 - Display the text\n",
    "print(\"Hello World! I wonder why that is always the default coding text to start with\")"
   ]
  },
  {
   "cell_type": "code",
   "execution_count": 40,
   "metadata": {},
   "outputs": [
    {
     "name": "stdout",
     "output_type": "stream",
     "text": [
      "4\n"
     ]
    }
   ],
   "source": [
    "#Item 2 - Add two numbers together\n",
    "print (2 + 2)"
   ]
  },
  {
   "cell_type": "code",
   "execution_count": 41,
   "metadata": {},
   "outputs": [
    {
     "name": "stdout",
     "output_type": "stream",
     "text": [
      "30\n"
     ]
    }
   ],
   "source": [
    "#Item 3 - Subtract a number from another number\n",
    "print (42 - 12)"
   ]
  },
  {
   "cell_type": "code",
   "execution_count": 42,
   "metadata": {},
   "outputs": [
    {
     "name": "stdout",
     "output_type": "stream",
     "text": [
      "36\n"
     ]
    }
   ],
   "source": [
    "#Item 4 - Multiply two numbers\n",
    "print (12*3)"
   ]
  },
  {
   "cell_type": "code",
   "execution_count": 43,
   "metadata": {},
   "outputs": [
    {
     "name": "stdout",
     "output_type": "stream",
     "text": [
      "18.0\n"
     ]
    }
   ],
   "source": [
    "#Item 5 - Divide between two numbers\n",
    "print (36/2)"
   ]
  },
  {
   "cell_type": "code",
   "execution_count": 23,
   "metadata": {},
   "outputs": [
    {
     "name": "stdout",
     "output_type": "stream",
     "text": [
      "This is crazy!\n"
     ]
    }
   ],
   "source": [
    "#Item 5 - Concatenate two strings together\n",
    "print (\"This is\" + \" crazy!\")"
   ]
  },
  {
   "cell_type": "code",
   "execution_count": 1,
   "metadata": {},
   "outputs": [
    {
     "name": "stdout",
     "output_type": "stream",
     "text": [
      "[2, 5, 7, 10]\n"
     ]
    }
   ],
   "source": [
    "#Item 6 - Create a list of 4 items\n",
    "randomNumberlist = [2,5,7,10]\n",
    "print (randomNumberlist)"
   ]
  },
  {
   "cell_type": "code",
   "execution_count": 2,
   "metadata": {},
   "outputs": [
    {
     "name": "stdout",
     "output_type": "stream",
     "text": [
      "[2, 5, 7, 10, 10000]\n"
     ]
    }
   ],
   "source": [
    "#Item 7 - Append an item to your list\n",
    "randomNumberlist.append(10000)\n",
    "print(randomNumberlist)"
   ]
  },
  {
   "cell_type": "code",
   "execution_count": 37,
   "metadata": {},
   "outputs": [
    {
     "name": "stdout",
     "output_type": "stream",
     "text": [
      "('Jack', 'Jake', 'Jane', 'Lucky')\n"
     ]
    }
   ],
   "source": [
    "#Item 8 - Create a tuple with 4 items\n",
    "myTuple = (\"Jack\",\"Jake\",\"Jane\",\"Lucky\")\n",
    "print (myTuple)"
   ]
  }
 ],
 "metadata": {
  "kernelspec": {
   "display_name": "Python 3",
   "language": "python",
   "name": "python3"
  },
  "language_info": {
   "codemirror_mode": {
    "name": "ipython",
    "version": 3
   },
   "file_extension": ".py",
   "mimetype": "text/x-python",
   "name": "python",
   "nbconvert_exporter": "python",
   "pygments_lexer": "ipython3",
   "version": "3.8.3"
  }
 },
 "nbformat": 4,
 "nbformat_minor": 4
}
