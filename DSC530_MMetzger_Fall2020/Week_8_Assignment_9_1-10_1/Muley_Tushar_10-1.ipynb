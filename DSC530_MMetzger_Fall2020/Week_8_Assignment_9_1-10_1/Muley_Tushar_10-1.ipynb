{
 "cells": [
  {
   "cell_type": "markdown",
   "metadata": {},
   "source": [
    "Name: Tushar Muley\n",
    "Assignment: Exercises 10-1\n",
    "Date: 25 October 2020"
   ]
  },
  {
   "cell_type": "code",
   "execution_count": 1,
   "metadata": {},
   "outputs": [],
   "source": [
    "from __future__ import print_function, division\n",
    "\n",
    "%matplotlib inline\n",
    "\n",
    "import numpy as np\n",
    "\n",
    "import random\n",
    "\n",
    "import thinkstats2\n",
    "import thinkplot"
   ]
  },
  {
   "cell_type": "code",
   "execution_count": 8,
   "metadata": {},
   "outputs": [],
   "source": [
    "import first\n",
    "live, firsts, others = first.MakeFrames()\n",
    "live = live.dropna(subset=['agepreg', 'totalwgt_lb'])\n",
    "ages = live.agepreg\n",
    "weights = live.totalwgt_lb"
   ]
  },
  {
   "cell_type": "code",
   "execution_count": 9,
   "metadata": {},
   "outputs": [],
   "source": [
    "from thinkstats2 import Mean, MeanVar, Var, Std, Cov\n",
    "\n",
    "def LeastSquares(xs, ys):\n",
    "    meanx, varx = MeanVar(xs)\n",
    "    meany = Mean(ys)\n",
    "\n",
    "    slope = Cov(xs, ys, meanx, meany) / varx\n",
    "    inter = meany - slope * meanx\n",
    "\n",
    "    return inter, slope"
   ]
  },
  {
   "cell_type": "code",
   "execution_count": 9,
   "metadata": {},
   "outputs": [],
   "source": [
    "def FitLine(xs, inter, slope):\n",
    "    fit_xs = np.sort(xs)\n",
    "    fit_ys = inter + slope * fit_xs\n",
    "    return fit_xs, fit_ys"
   ]
  },
  {
   "cell_type": "code",
   "execution_count": 20,
   "metadata": {},
   "outputs": [],
   "source": [
    "def PlotPercentiles(age_means, cdfs):\n",
    "    thinkplot.PrePlot(3)\n",
    "    for percent in [75, 50, 25]:\n",
    "        weight_percentiles = [cdf.Percentile(percent) for cdf in cdfs]\n",
    "        label = '%dth' % percent\n",
    "        thinkplot.Plot(age_means, weight_percentiles, label=label)"
   ]
  },
  {
   "cell_type": "code",
   "execution_count": 35,
   "metadata": {},
   "outputs": [],
   "source": [
    "def SampleRows(df, nrows, replace=False):\n",
    "    \"\"\"Choose a sample of rows from a DataFrame.\n",
    "\n",
    "    df: DataFrame\n",
    "    nrows: number of rows\n",
    "    replace: whether to sample with replacement\n",
    "\n",
    "    returns: DataDf\n",
    "    \"\"\"\n",
    "    indices = np.random.choice(df.index, nrows, replace=replace)\n",
    "    sample = df.loc[indices]\n",
    "    return sample\n",
    "\n",
    "def ResampleRows(df):\n",
    "    \"\"\"Resamples rows from a DataFrame.\n",
    "\n",
    "    df: DataFrame\n",
    "\n",
    "    returns: DataFrame\n",
    "    \"\"\"\n",
    "    return SampleRows(df, len(df), replace=True)"
   ]
  },
  {
   "cell_type": "code",
   "execution_count": 23,
   "metadata": {},
   "outputs": [],
   "source": [
    "def SamplingDistributions(live, iters=101):\n",
    "    t = []\n",
    "    for _ in range(iters):\n",
    "        sample = ResampleRows(live)\n",
    "        ages = sample.agepreg\n",
    "        weights = sample.totalwgt_lb\n",
    "        estimates = LeastSquares(ages, weights)\n",
    "        t.append(estimates)\n",
    "\n",
    "    inters, slopes = zip(*t)\n",
    "    return inters, slopes"
   ]
  },
  {
   "cell_type": "code",
   "execution_count": 12,
   "metadata": {},
   "outputs": [],
   "source": [
    "def Summarize(estimates, actual=None):\n",
    "    mean = Mean(estimates)\n",
    "    stderr = Std(estimates, mu=actual)\n",
    "    cdf = thinkstats2.Cdf(estimates)\n",
    "    ci = cdf.ConfidenceInterval(90)\n",
    "    print('mean, SE, CI', mean, stderr, ci)"
   ]
  },
  {
   "cell_type": "markdown",
   "metadata": {
    "collapsed": true
   },
   "source": [
    "**Exercise:** Use `ResampleRows` and generate a list of estimates for the mean birth weight.  Use `Summarize` to compute the SE and CI for these estimates."
   ]
  },
  {
   "cell_type": "code",
   "execution_count": 13,
   "metadata": {},
   "outputs": [
    {
     "name": "stdout",
     "output_type": "stream",
     "text": [
      "mean, SE, CI 7.2656926933502985 0.014936630010032077 (7.241563398982076, 7.290060024341669)\n"
     ]
    }
   ],
   "source": [
    "iters = 1000\n",
    "estimates = [ResampleRows(live).totalwgt_lb.mean()\n",
    "             for _ in range(iters)]\n",
    "Summarize(estimates)"
   ]
  },
  {
   "cell_type": "code",
   "execution_count": 29,
   "metadata": {},
   "outputs": [],
   "source": [
    "def PlotConfidenceIntervals(xs, inters, slopes, percent=90, **options):\n",
    "    fys_seq = []\n",
    "    for inter, slope in zip(inters, slopes):\n",
    "        fxs, fys = FitLine(xs, inter, slope)\n",
    "        fys_seq.append(fys)\n",
    "\n",
    "    p = (100 - percent) / 2\n",
    "    percents = p, 100 - p\n",
    "    low, high = thinkstats2.PercentileRows(fys_seq, percents)\n",
    "    thinkplot.FillBetween(fxs, low, high, **options)"
   ]
  },
  {
   "cell_type": "code",
   "execution_count": 15,
   "metadata": {},
   "outputs": [],
   "source": [
    "def CoefDetermination(ys, res):\n",
    "    return 1 - Var(res) / Var(ys)"
   ]
  },
  {
   "cell_type": "code",
   "execution_count": 37,
   "metadata": {},
   "outputs": [],
   "source": [
    "class SlopeTest(thinkstats2.HypothesisTest):\n",
    "\n",
    "    def TestStatistic(self, data):\n",
    "        ages, weights = data\n",
    "        _, slope = thinkstats2.LeastSquares(ages, weights)\n",
    "        return slope\n",
    "\n",
    "    def MakeModel(self):\n",
    "        _, weights = self.data\n",
    "        self.ybar = weights.mean()\n",
    "        self.res = weights - self.ybar\n",
    "\n",
    "    def RunModel(self):\n",
    "        ages, _ = self.data\n",
    "        weights = self.ybar + np.random.permutation(self.res)\n",
    "        return ages, weights"
   ]
  },
  {
   "cell_type": "code",
   "execution_count": 34,
   "metadata": {},
   "outputs": [],
   "source": [
    "def ResampleRowsWeighted(df, column='finalwgt'):\n",
    "    weights = df[column]\n",
    "    cdf = thinkstats2.Cdf(dict(weights))\n",
    "    indices = cdf.Sample(len(weights))\n",
    "    sample = df.loc[indices]\n",
    "    return sample"
   ]
  },
  {
   "cell_type": "markdown",
   "metadata": {},
   "source": [
    "# Exercises\n",
    "\n",
    "**Exercise:** Using the data from the BRFSS, compute the linear least squares fit for log(weight) versus height. How would you best present the estimated parameters for a model like this where one of the variables is log-transformed? If you were trying to guess someone’s weight, how much would it help to know their height?\n",
    "\n",
    "Like the NSFG, the BRFSS oversamples some groups and provides a sampling weight for each respondent. In the BRFSS data, the variable name for these weights is totalwt. Use resampling, with and without weights, to estimate the mean height of respondents in the BRFSS, the standard error of the mean, and a 90% confidence interval. How much does correct weighting affect the estimates?"
   ]
  },
  {
   "cell_type": "markdown",
   "metadata": {},
   "source": [
    "Read the BRFSS data and extract heights and log weights."
   ]
  },
  {
   "cell_type": "code",
   "execution_count": 5,
   "metadata": {},
   "outputs": [],
   "source": [
    "import brfss\n",
    "\n",
    "df = brfss.ReadBrfss(nrows=None)\n",
    "df = df.dropna(subset=['htm3', 'wtkg2'])\n",
    "heights, weights = df.htm3, df.wtkg2\n",
    "log_weights = np.log10(weights)"
   ]
  },
  {
   "cell_type": "markdown",
   "metadata": {},
   "source": [
    "Estimate intercept and slope."
   ]
  },
  {
   "cell_type": "code",
   "execution_count": 135,
   "metadata": {},
   "outputs": [
    {
     "data": {
      "text/plain": [
       "(0.9930804163917814, 0.005281454169417991)"
      ]
     },
     "execution_count": 135,
     "metadata": {},
     "output_type": "execute_result"
    }
   ],
   "source": [
    "inter, slope = LeastSquares(heights, log_weights)\n",
    "inter, slope"
   ]
  },
  {
   "cell_type": "markdown",
   "metadata": {},
   "source": [
    "Make a scatter plot of the data and show the fitted line."
   ]
  },
  {
   "cell_type": "code",
   "execution_count": 93,
   "metadata": {},
   "outputs": [],
   "source": [
    "fit_xs, fit_ys = FitLine(heights, inter, slope)"
   ]
  },
  {
   "cell_type": "code",
   "execution_count": 84,
   "metadata": {},
   "outputs": [
    {
     "data": {
      "text/plain": [
       "0         157.0\n",
       "1         163.0\n",
       "3         170.0\n",
       "4         185.0\n",
       "5         183.0\n",
       "          ...  \n",
       "414504    191.0\n",
       "414505    170.0\n",
       "414506    178.0\n",
       "414507    157.0\n",
       "414508    178.0\n",
       "Name: htm3, Length: 395832, dtype: float64"
      ]
     },
     "execution_count": 84,
     "metadata": {},
     "output_type": "execute_result"
    }
   ],
   "source": [
    "heights"
   ]
  },
  {
   "cell_type": "code",
   "execution_count": 27,
   "metadata": {},
   "outputs": [
    {
     "data": {
      "text/plain": [
       "0         1.850707\n",
       "1         1.861714\n",
       "3         1.867114\n",
       "4         1.947630\n",
       "5         2.037785\n",
       "            ...   \n",
       "414504    1.947630\n",
       "414505    1.861714\n",
       "414506    1.958612\n",
       "414507    1.949829\n",
       "414508    1.875061\n",
       "Name: wtkg2, Length: 395832, dtype: float64"
      ]
     },
     "execution_count": 27,
     "metadata": {},
     "output_type": "execute_result"
    }
   ],
   "source": [
    "log_weights"
   ]
  },
  {
   "cell_type": "code",
   "execution_count": 87,
   "metadata": {},
   "outputs": [
    {
     "data": {
      "image/png": "[encoded data removed]",
      "text/plain": [
       "<Figure size 432x288 with 1 Axes>"
      ]
     },
     "metadata": {
      "needs_background": "light"
     },
     "output_type": "display_data"
    }
   ],
   "source": [
    "thinkplot.Scatter(heights, log_weights, color='blue', alpha=0.1, s=10)\n",
    "thinkplot.Plot(fit_xs, fit_ys, color='red', linewidth=2)\n",
    "thinkplot.Config(xlabel=\"Height (cm)\",\n",
    "                 ylabel='Log Weight (kg)',\n",
    "                 axis=[100,230, 1.25, 2.5],\n",
    "                 legend=False)\n"
   ]
  },
  {
   "cell_type": "markdown",
   "metadata": {},
   "source": [
    "Make the same plot but apply the inverse transform to show weights on a linear (not log) scale."
   ]
  },
  {
   "cell_type": "code",
   "execution_count": 102,
   "metadata": {},
   "outputs": [],
   "source": [
    "inter, slope = LeastSquares(heights, weights)"
   ]
  },
  {
   "cell_type": "code",
   "execution_count": 103,
   "metadata": {},
   "outputs": [],
   "source": [
    "fit_xs, fit_ys = FitLine(heights, inter, slope)"
   ]
  },
  {
   "cell_type": "code",
   "execution_count": 104,
   "metadata": {},
   "outputs": [
    {
     "data": {
      "text/plain": [
       "0          70.91\n",
       "1          72.73\n",
       "3          73.64\n",
       "4          88.64\n",
       "5         109.09\n",
       "           ...  \n",
       "414504     88.64\n",
       "414505     72.73\n",
       "414506     90.91\n",
       "414507     89.09\n",
       "414508     75.00\n",
       "Name: wtkg2, Length: 395832, dtype: float64"
      ]
     },
     "execution_count": 104,
     "metadata": {},
     "output_type": "execute_result"
    }
   ],
   "source": [
    "weights"
   ]
  },
  {
   "cell_type": "code",
   "execution_count": 106,
   "metadata": {},
   "outputs": [
    {
     "data": {
      "image/png": "[encoded data removed]",
      "text/plain": [
       "<Figure size 432x288 with 1 Axes>"
      ]
     },
     "metadata": {
      "needs_background": "light"
     },
     "output_type": "display_data"
    }
   ],
   "source": [
    "thinkplot.Scatter(heights, weights, color='blue', alpha=0.01, s=5)\n",
    "fit_xs, fit_ys = thinkstats2.FitLine(heights, inter, slope)\n",
    "thinkplot.Plot(fit_xs, 10**fit_ys, color='red', linewidth=2)\n",
    "thinkplot.Config(xlabel=\"Height (cm)\",\n",
    "                 ylabel='Weight (kg)',\n",
    "                 legend=False)"
   ]
  },
  {
   "cell_type": "markdown",
   "metadata": {},
   "source": [
    "Plot percentiles of the residuals."
   ]
  },
  {
   "cell_type": "code",
   "execution_count": 30,
   "metadata": {},
   "outputs": [],
   "source": [
    "res = Residuals(heights, log_weights, inter, slope)\n",
    "df['residual'] = res"
   ]
  },
  {
   "cell_type": "code",
   "execution_count": 137,
   "metadata": {},
   "outputs": [
    {
     "data": {
      "text/plain": [
       "Index(['age', 'sex', 'wtyrago', 'finalwt', 'wtkg2', 'htm3', 'residual'], dtype='object')"
      ]
     },
     "execution_count": 137,
     "metadata": {},
     "output_type": "execute_result"
    }
   ],
   "source": [
    "df.columns"
   ]
  },
  {
   "cell_type": "code",
   "execution_count": 125,
   "metadata": {},
   "outputs": [],
   "source": [
    "df['residual'] = Residuals(heights, log_weights, inter, slope)"
   ]
  },
  {
   "cell_type": "code",
   "execution_count": 138,
   "metadata": {
    "scrolled": true
   },
   "outputs": [
    {
     "data": {
      "text/plain": [
       "0         0.028439\n",
       "1         0.007756\n",
       "3        -0.023814\n",
       "4        -0.022520\n",
       "5         0.078198\n",
       "            ...   \n",
       "414504   -0.054208\n",
       "414505   -0.029214\n",
       "414506    0.025432\n",
       "414507    0.127560\n",
       "414508   -0.058118\n",
       "Name: residual, Length: 395832, dtype: float64"
      ]
     },
     "execution_count": 138,
     "metadata": {},
     "output_type": "execute_result"
    }
   ],
   "source": [
    "df.residual"
   ]
  },
  {
   "cell_type": "code",
   "execution_count": 139,
   "metadata": {},
   "outputs": [
    {
     "data": {
      "text/plain": [
       "0         157.0\n",
       "1         163.0\n",
       "3         170.0\n",
       "4         185.0\n",
       "5         183.0\n",
       "          ...  \n",
       "414504    191.0\n",
       "414505    170.0\n",
       "414506    178.0\n",
       "414507    157.0\n",
       "414508    178.0\n",
       "Name: htm3, Length: 395832, dtype: float64"
      ]
     },
     "execution_count": 139,
     "metadata": {},
     "output_type": "execute_result"
    }
   ],
   "source": [
    "df.htm3"
   ]
  },
  {
   "cell_type": "code",
   "execution_count": 144,
   "metadata": {},
   "outputs": [],
   "source": [
    "bins = np.arange(130, 230, 5)\n",
    "indices = np.digitize(df.htm3, bins)\n",
    "groups = df.groupby(indices)\n",
    "\n",
    "height_means = [group.htm3.mean() for _, group in groups][1:-1]\n",
    "cdfs = [thinkstats2.Cdf(group.residual) for i, group in groups][1:-1]\n"
   ]
  },
  {
   "cell_type": "code",
   "execution_count": 145,
   "metadata": {},
   "outputs": [
    {
     "data": {
      "image/png": "[encoded data removed]",
      "text/plain": [
       "<Figure size 432x288 with 1 Axes>"
      ]
     },
     "metadata": {
      "needs_background": "light"
     },
     "output_type": "display_data"
    }
   ],
   "source": [
    "thinkplot.PrePlot(3)\n",
    "for percent in [75, 50, 25]:\n",
    "    ys = [cdf.Percentile(percent) for cdf in cdfs]\n",
    "    label = '%dth' % percent\n",
    "    thinkplot.Plot(height_means, ys, label=label)\n",
    "    \n",
    "thinkplot.Config(xlabel='height (cm)', ylabel='residual weight (kg)', legend=False)"
   ]
  },
  {
   "cell_type": "code",
   "execution_count": null,
   "metadata": {},
   "outputs": [],
   "source": [
    "# The lines are similar over the range, so the relationship is linear. \n",
    "# lines mirror each other indicating the variance is the same. There is a dip in the 25 percent line at around \n",
    "# 140 cm. Than 25 percent line and 50 percent lines come close near 200 - 210 cm.\n",
    "\n"
   ]
  },
  {
   "cell_type": "markdown",
   "metadata": {},
   "source": [
    "Compute correlation."
   ]
  },
  {
   "cell_type": "code",
   "execution_count": 149,
   "metadata": {},
   "outputs": [
    {
     "data": {
      "text/plain": [
       "0.5317282605983575"
      ]
     },
     "execution_count": 149,
     "metadata": {},
     "output_type": "execute_result"
    }
   ],
   "source": [
    "correlation = thinkstats2.Corr(heights, log_weights)\n",
    "correlation"
   ]
  },
  {
   "cell_type": "markdown",
   "metadata": {},
   "source": [
    "Compute coefficient of determination."
   ]
  },
  {
   "cell_type": "code",
   "execution_count": 151,
   "metadata": {},
   "outputs": [
    {
     "data": {
      "text/plain": [
       "0.2827349431189319"
      ]
     },
     "execution_count": 151,
     "metadata": {},
     "output_type": "execute_result"
    }
   ],
   "source": [
    "rsquared = thinkstats2.CoefDetermination(log_weights, res)\n",
    "rsquared"
   ]
  },
  {
   "cell_type": "markdown",
   "metadata": {},
   "source": [
    "Confirm that $R^2 = \\rho^2$."
   ]
  },
  {
   "cell_type": "code",
   "execution_count": 153,
   "metadata": {},
   "outputs": [
    {
     "data": {
      "text/plain": [
       "2.2926105458509483e-14"
      ]
     },
     "execution_count": 153,
     "metadata": {},
     "output_type": "execute_result"
    }
   ],
   "source": [
    "correlation**2 - rsquared"
   ]
  },
  {
   "cell_type": "markdown",
   "metadata": {},
   "source": [
    "Compute Std(ys), which is the RMSE of predictions that don't use height."
   ]
  },
  {
   "cell_type": "code",
   "execution_count": 21,
   "metadata": {},
   "outputs": [
    {
     "name": "stdout",
     "output_type": "stream",
     "text": [
      "Std(ys) 1.40821553384062\n",
      "Std(res) 0.15374446385331794\n",
      "Std(log_ys) 0.10320725030004863\n"
     ]
    }
   ],
   "source": [
    "#I did weights for both log and non log\n",
    "print('Std(ys)', Std(weights))\n",
    "print('Std(res)', Std(res))\n",
    "print('Std(log_ys)', Std(log_weights))"
   ]
  },
  {
   "cell_type": "markdown",
   "metadata": {},
   "source": [
    "Compute Std(res), the RMSE of predictions that do use height."
   ]
  },
  {
   "cell_type": "code",
   "execution_count": 32,
   "metadata": {},
   "outputs": [
    {
     "data": {
      "text/plain": [
       "0.15374446385331794"
      ]
     },
     "execution_count": 32,
     "metadata": {},
     "output_type": "execute_result"
    }
   ],
   "source": [
    "std_res = Std(res)\n",
    "std_res"
   ]
  },
  {
   "cell_type": "markdown",
   "metadata": {},
   "source": [
    "How much does height information reduce RMSE?"
   ]
  },
  {
   "cell_type": "code",
   "execution_count": 29,
   "metadata": {},
   "outputs": [
    {
     "data": {
      "text/plain": [
       "0.10320725030004863"
      ]
     },
     "execution_count": 29,
     "metadata": {},
     "output_type": "execute_result"
    }
   ],
   "source": [
    "#Had to redo std_ys not save from before\n",
    "std_ys = Std(log_weights)\n",
    "std_ys"
   ]
  },
  {
   "cell_type": "code",
   "execution_count": 33,
   "metadata": {},
   "outputs": [
    {
     "data": {
      "text/plain": [
       "-0.4896672802186408"
      ]
     },
     "execution_count": 33,
     "metadata": {},
     "output_type": "execute_result"
    }
   ],
   "source": [
    "1 - std_res / std_ys\n"
   ]
  },
  {
   "cell_type": "markdown",
   "metadata": {},
   "source": [
    "Use resampling to compute sampling distributions for inter and slope."
   ]
  },
  {
   "cell_type": "code",
   "execution_count": 36,
   "metadata": {},
   "outputs": [],
   "source": [
    "t = []\n",
    "for _ in range(100):\n",
    "    sample = ResampleRows(df)\n",
    "    estimates = LeastSquares(sample.htm3, np.log10(sample.wtkg2))\n",
    "    t.append(estimates)\n",
    "\n",
    "inters, slopes = zip(*t)"
   ]
  },
  {
   "cell_type": "markdown",
   "metadata": {},
   "source": [
    "Plot the sampling distribution of slope."
   ]
  },
  {
   "cell_type": "code",
   "execution_count": 39,
   "metadata": {},
   "outputs": [
    {
     "data": {
      "text/plain": [
       "{'xscale': 'linear', 'yscale': 'linear'}"
      ]
     },
     "execution_count": 39,
     "metadata": {},
     "output_type": "execute_result"
    },
    {
     "data": {
      "image/png": "[encoded data removed]",
      "text/plain": [
       "<Figure size 432x288 with 1 Axes>"
      ]
     },
     "metadata": {
      "needs_background": "light"
     },
     "output_type": "display_data"
    }
   ],
   "source": [
    "cdf = thinkstats2.Cdf(slopes)\n",
    "thinkplot.Cdf(cdf)"
   ]
  },
  {
   "cell_type": "markdown",
   "metadata": {},
   "source": [
    "Compute the p-value of the slope."
   ]
  },
  {
   "cell_type": "code",
   "execution_count": 40,
   "metadata": {},
   "outputs": [
    {
     "name": "stdout",
     "output_type": "stream",
     "text": [
      "pvalue 0\n"
     ]
    }
   ],
   "source": [
    "print('pvalue',cdf[0])"
   ]
  },
  {
   "cell_type": "markdown",
   "metadata": {},
   "source": [
    "Compute the 90% confidence interval of slope."
   ]
  },
  {
   "cell_type": "code",
   "execution_count": 42,
   "metadata": {},
   "outputs": [
    {
     "name": "stdout",
     "output_type": "stream",
     "text": [
      "5%= 0.005255980606518346 95%= 0.005308070412706934\n"
     ]
    }
   ],
   "source": [
    "print('5%=', cdf.Percentile(5),'95%=', cdf.Percentile(95))\n"
   ]
  },
  {
   "cell_type": "markdown",
   "metadata": {},
   "source": [
    "Compute the mean of the sampling distribution."
   ]
  },
  {
   "cell_type": "code",
   "execution_count": 44,
   "metadata": {},
   "outputs": [
    {
     "name": "stdout",
     "output_type": "stream",
     "text": [
      "mean of slope= 0.005281747081768061\n"
     ]
    }
   ],
   "source": [
    "print ('mean of slope=', Mean(slopes))"
   ]
  },
  {
   "cell_type": "markdown",
   "metadata": {},
   "source": [
    "Compute the standard deviation of the sampling distribution, which is the standard error."
   ]
  },
  {
   "cell_type": "code",
   "execution_count": 45,
   "metadata": {},
   "outputs": [
    {
     "name": "stdout",
     "output_type": "stream",
     "text": [
      "std of slope= 1.532071968312446e-05\n"
     ]
    }
   ],
   "source": [
    "print('std of slope=',Std(slopes))"
   ]
  },
  {
   "cell_type": "markdown",
   "metadata": {},
   "source": [
    "Resample rows without weights, compute mean height, and summarize results."
   ]
  },
  {
   "cell_type": "code",
   "execution_count": 47,
   "metadata": {},
   "outputs": [
    {
     "name": "stdout",
     "output_type": "stream",
     "text": [
      "mean, SE, CI 168.95748352836554 0.0180212595000463 (168.92709280704946, 168.98716374623578)\n"
     ]
    }
   ],
   "source": [
    "estimatesUnweight =[ResampleRows(df).htm3.mean() for _ in range(100)]\n",
    "Summarize(estimatesUnweight)"
   ]
  },
  {
   "cell_type": "markdown",
   "metadata": {},
   "source": [
    "Resample rows with weights.  Note that the weight column in this dataset is called `finalwt`."
   ]
  },
  {
   "cell_type": "code",
   "execution_count": 63,
   "metadata": {},
   "outputs": [
    {
     "data": {
      "text/html": [
       "<div>\n",
       "<style scoped>\n",
       "    .dataframe tbody tr th:only-of-type {\n",
       "        vertical-align: middle;\n",
       "    }\n",
       "\n",
       "    .dataframe tbody tr th {\n",
       "        vertical-align: top;\n",
       "    }\n",
       "\n",
       "    .dataframe thead th {\n",
       "        text-align: right;\n",
       "    }\n",
       "</style>\n",
       "<table border=\"1\" class=\"dataframe\">\n",
       "  <thead>\n",
       "    <tr style=\"text-align: right;\">\n",
       "      <th></th>\n",
       "      <th>age</th>\n",
       "      <th>sex</th>\n",
       "      <th>wtyrago</th>\n",
       "      <th>finalwt</th>\n",
       "      <th>wtkg2</th>\n",
       "      <th>htm3</th>\n",
       "      <th>residual</th>\n",
       "    </tr>\n",
       "  </thead>\n",
       "  <tbody>\n",
       "    <tr>\n",
       "      <th>0</th>\n",
       "      <td>82.0</td>\n",
       "      <td>2</td>\n",
       "      <td>76.363636</td>\n",
       "      <td>185.870345</td>\n",
       "      <td>70.91</td>\n",
       "      <td>157.0</td>\n",
       "      <td>-7.719944</td>\n",
       "    </tr>\n",
       "    <tr>\n",
       "      <th>1</th>\n",
       "      <td>65.0</td>\n",
       "      <td>2</td>\n",
       "      <td>72.727273</td>\n",
       "      <td>126.603027</td>\n",
       "      <td>72.73</td>\n",
       "      <td>163.0</td>\n",
       "      <td>-7.813661</td>\n",
       "    </tr>\n",
       "    <tr>\n",
       "      <th>3</th>\n",
       "      <td>61.0</td>\n",
       "      <td>1</td>\n",
       "      <td>73.636364</td>\n",
       "      <td>517.926275</td>\n",
       "      <td>73.64</td>\n",
       "      <td>170.0</td>\n",
       "      <td>-7.930438</td>\n",
       "    </tr>\n",
       "    <tr>\n",
       "      <th>4</th>\n",
       "      <td>26.0</td>\n",
       "      <td>1</td>\n",
       "      <td>88.636364</td>\n",
       "      <td>1252.624630</td>\n",
       "      <td>88.64</td>\n",
       "      <td>185.0</td>\n",
       "      <td>-8.111730</td>\n",
       "    </tr>\n",
       "    <tr>\n",
       "      <th>5</th>\n",
       "      <td>42.0</td>\n",
       "      <td>1</td>\n",
       "      <td>118.181818</td>\n",
       "      <td>415.161314</td>\n",
       "      <td>109.09</td>\n",
       "      <td>183.0</td>\n",
       "      <td>-7.986667</td>\n",
       "    </tr>\n",
       "    <tr>\n",
       "      <th>...</th>\n",
       "      <td>...</td>\n",
       "      <td>...</td>\n",
       "      <td>...</td>\n",
       "      <td>...</td>\n",
       "      <td>...</td>\n",
       "      <td>...</td>\n",
       "      <td>...</td>\n",
       "    </tr>\n",
       "    <tr>\n",
       "      <th>414504</th>\n",
       "      <td>23.0</td>\n",
       "      <td>1</td>\n",
       "      <td>84.090909</td>\n",
       "      <td>43.439320</td>\n",
       "      <td>88.64</td>\n",
       "      <td>191.0</td>\n",
       "      <td>-8.216453</td>\n",
       "    </tr>\n",
       "    <tr>\n",
       "      <th>414505</th>\n",
       "      <td>49.0</td>\n",
       "      <td>2</td>\n",
       "      <td>70.454545</td>\n",
       "      <td>6.216538</td>\n",
       "      <td>72.73</td>\n",
       "      <td>170.0</td>\n",
       "      <td>-7.935838</td>\n",
       "    </tr>\n",
       "    <tr>\n",
       "      <th>414506</th>\n",
       "      <td>45.0</td>\n",
       "      <td>1</td>\n",
       "      <td>86.363636</td>\n",
       "      <td>20.617560</td>\n",
       "      <td>90.91</td>\n",
       "      <td>178.0</td>\n",
       "      <td>-7.978571</td>\n",
       "    </tr>\n",
       "    <tr>\n",
       "      <th>414507</th>\n",
       "      <td>52.0</td>\n",
       "      <td>2</td>\n",
       "      <td>89.090909</td>\n",
       "      <td>11.188138</td>\n",
       "      <td>89.09</td>\n",
       "      <td>157.0</td>\n",
       "      <td>-7.620823</td>\n",
       "    </tr>\n",
       "    <tr>\n",
       "      <th>414508</th>\n",
       "      <td>38.0</td>\n",
       "      <td>1</td>\n",
       "      <td>75.000000</td>\n",
       "      <td>25.989792</td>\n",
       "      <td>75.00</td>\n",
       "      <td>178.0</td>\n",
       "      <td>-8.062121</td>\n",
       "    </tr>\n",
       "  </tbody>\n",
       "</table>\n",
       "<p>395832 rows × 7 columns</p>\n",
       "</div>"
      ],
      "text/plain": [
       "         age  sex     wtyrago      finalwt   wtkg2   htm3  residual\n",
       "0       82.0    2   76.363636   185.870345   70.91  157.0 -7.719944\n",
       "1       65.0    2   72.727273   126.603027   72.73  163.0 -7.813661\n",
       "3       61.0    1   73.636364   517.926275   73.64  170.0 -7.930438\n",
       "4       26.0    1   88.636364  1252.624630   88.64  185.0 -8.111730\n",
       "5       42.0    1  118.181818   415.161314  109.09  183.0 -7.986667\n",
       "...      ...  ...         ...          ...     ...    ...       ...\n",
       "414504  23.0    1   84.090909    43.439320   88.64  191.0 -8.216453\n",
       "414505  49.0    2   70.454545     6.216538   72.73  170.0 -7.935838\n",
       "414506  45.0    1   86.363636    20.617560   90.91  178.0 -7.978571\n",
       "414507  52.0    2   89.090909    11.188138   89.09  157.0 -7.620823\n",
       "414508  38.0    1   75.000000    25.989792   75.00  178.0 -8.062121\n",
       "\n",
       "[395832 rows x 7 columns]"
      ]
     },
     "execution_count": 63,
     "metadata": {},
     "output_type": "execute_result"
    }
   ],
   "source": [
    "df"
   ]
  },
  {
   "cell_type": "code",
   "execution_count": 71,
   "metadata": {},
   "outputs": [
    {
     "name": "stdout",
     "output_type": "stream",
     "text": [
      "mean, SE, CI 170.49673624163788 0.016232847457105955 (170.47343064734534, 170.5242653448938)\n"
     ]
    }
   ],
   "source": [
    "estimatesWeight = [ResampleRowsWeighted(df,'finalwt').htm3.mean() for _ in range(100)]\n",
    "Summarize(estimatesWeight)"
   ]
  },
  {
   "cell_type": "code",
   "execution_count": null,
   "metadata": {},
   "outputs": [],
   "source": [
    "#The mean hieight is 2 cm taller."
   ]
  }
 ],
 "metadata": {
  "kernelspec": {
   "display_name": "Python 3",
   "language": "python",
   "name": "python3"
  },
  "language_info": {
   "codemirror_mode": {
    "name": "ipython",
    "version": 3
   },
   "file_extension": ".py",
   "mimetype": "text/x-python",
   "name": "python",
   "nbconvert_exporter": "python",
   "pygments_lexer": "ipython3",
   "version": "3.8.3"
  }
 },
 "nbformat": 4,
 "nbformat_minor": 1
}
