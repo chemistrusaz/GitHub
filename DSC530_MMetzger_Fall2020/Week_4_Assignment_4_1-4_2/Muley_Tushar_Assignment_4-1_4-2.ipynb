{
 "cells": [
  {
   "cell_type": "markdown",
   "metadata": {},
   "source": [
    "Name: Muley, Tushar\n",
    "Assignment: Week 4 Exercises 4-1 and 4-2\n",
    "Date: Spet. 27, 2020"
   ]
  },
  {
   "cell_type": "code",
   "execution_count": 1,
   "metadata": {},
   "outputs": [],
   "source": [
    "from __future__ import print_function, division\n",
    "\n",
    "%matplotlib inline\n",
    "\n",
    "import numpy as np\n",
    "\n",
    "import nsfg\n",
    "import first\n",
    "import thinkstats2\n",
    "import thinkplot"
   ]
  },
  {
   "cell_type": "code",
   "execution_count": 13,
   "metadata": {},
   "outputs": [],
   "source": [
    "def EvalCdf(sample, x):\n",
    "    count = 0.0\n",
    "    for value in sample:\n",
    "        if value <= x:\n",
    "            count += 1\n",
    "\n",
    "    prob = count / len(sample)\n",
    "    return prob"
   ]
  },
  {
   "cell_type": "markdown",
   "metadata": {
    "collapsed": true
   },
   "source": [
    "## Exercises"
   ]
  },
  {
   "cell_type": "markdown",
   "metadata": {
    "collapsed": true
   },
   "source": [
    "**Exercise:** How much did you weigh at birth? If you don’t know, call your mother or someone else who knows. Using the NSFG data (all live births), compute the distribution of birth weights and use it to find your percentile rank. If you were a first baby, find your percentile rank in the distribution for first babies. Otherwise use the distribution for others. If you are in the 90th percentile or higher, call your mother back and apologize."
   ]
  },
  {
   "cell_type": "markdown",
   "metadata": {},
   "source": [
    "Exercise 4-1\n",
    "Using the NSFG data (all live births), compute the distribution of birth weights and use it to find your percentile rank."
   ]
  },
  {
   "cell_type": "code",
   "execution_count": 32,
   "metadata": {},
   "outputs": [],
   "source": [
    "import nsfg"
   ]
  },
  {
   "cell_type": "code",
   "execution_count": 38,
   "metadata": {},
   "outputs": [
    {
     "data": {
      "text/plain": [
       "0        8.8125\n",
       "2        9.1250\n",
       "5        8.5625\n",
       "8        7.5625\n",
       "10       7.8125\n",
       "          ...  \n",
       "13576    6.4375\n",
       "13578    6.0000\n",
       "13581    6.3750\n",
       "13584    6.3750\n",
       "13588    6.1875\n",
       "Name: totalwgt_lb, Length: 4413, dtype: float64"
      ]
     },
     "execution_count": 38,
     "metadata": {},
     "output_type": "execute_result"
    }
   ],
   "source": [
    "firsts.totalwgt_lb"
   ]
  },
  {
   "cell_type": "code",
   "execution_count": 28,
   "metadata": {},
   "outputs": [
    {
     "data": {
      "image/png": "[encoded data removed]",
      "text/plain": [
       "<Figure size 432x288 with 1 Axes>"
      ]
     },
     "metadata": {
      "needs_background": "light"
     },
     "output_type": "display_data"
    }
   ],
   "source": [
    "first_cdf = thinkstats2.Cdf(firsts.totalwgt_lb, label='first')\n",
    "\n",
    "thinkplot.PrePlot(2)\n",
    "thinkplot.Cdfs([first_cdf])\n",
    "thinkplot.Config(xlabel='Weight (pounds)', ylabel='CDF')"
   ]
  },
  {
   "cell_type": "markdown",
   "metadata": {},
   "source": [
    "Find your percentile rank."
   ]
  },
  {
   "cell_type": "code",
   "execution_count": 39,
   "metadata": {},
   "outputs": [
    {
     "data": {
      "text/plain": [
       "47.74237909695164"
      ]
     },
     "execution_count": 39,
     "metadata": {},
     "output_type": "execute_result"
    }
   ],
   "source": [
    "#Mine weight was 7.2 lb and I was the first child\n",
    "first_cdf.PercentileRank(7.2)"
   ]
  },
  {
   "cell_type": "markdown",
   "metadata": {
    "collapsed": true
   },
   "source": [
    "**Exercise:** The numbers generated by `numpy.random.random` are supposed to be uniform between 0 and 1; that is, every value in the range should have the same probability.\n",
    "\n",
    "Generate 1000 numbers from `numpy.random.random` and plot their PMF.  What goes wrong?\n",
    "\n",
    "Now plot the CDF. Is the distribution uniform?"
   ]
  },
  {
   "cell_type": "markdown",
   "metadata": {},
   "source": [
    "Generate 1000 numbers from `numpy.random.random` and plot their PMF. What goes wrong?\n",
    "\n",
    "Tushar-> A lot goes wrong. Since you ask for 1000 number without justifying an parameters like greater than x or less than y you get numbers all over the place. When you go to plot them they could be below zero or near zero. That cause the distrition to look very odd. In my case what appears to be single line."
   ]
  },
  {
   "cell_type": "code",
   "execution_count": 75,
   "metadata": {},
   "outputs": [],
   "source": [
    "#Create random sample\n",
    "randomNumber= np.random.random(1000)"
   ]
  },
  {
   "cell_type": "code",
   "execution_count": 76,
   "metadata": {},
   "outputs": [
    {
     "data": {
      "text/plain": [
       "array([6.43400557e-01, 9.60398851e-01, 2.58607267e-01, 4.84951303e-01,\n",
       "       4.38366984e-01, 6.78335329e-01, 8.44756174e-01, 8.26946802e-01,\n",
       "       6.45952709e-01, 6.82755362e-01, 5.63006136e-01, 6.35118468e-01,\n",
       "       6.91891014e-01, 3.92477357e-01, 7.35636306e-01, 3.78015872e-01,\n",
       "       4.55775277e-01, 7.33106473e-01, 4.90772876e-01, 5.57474192e-02,\n",
       "       2.87325786e-01, 3.56648989e-01, 9.54774285e-01, 6.08134415e-01,\n",
       "       1.18470057e-01, 6.21772966e-01, 1.37195656e-01, 8.98246667e-01,\n",
       "       2.80950278e-01, 3.27590319e-01, 5.31935117e-01, 7.17061198e-01,\n",
       "       1.85497586e-01, 9.95887006e-02, 5.74095348e-01, 9.55958585e-01,\n",
       "       6.09906054e-01, 4.25481153e-01, 5.03468559e-01, 1.65242264e-01,\n",
       "       5.62407106e-02, 4.60776466e-01, 1.64869650e-01, 7.23285630e-01,\n",
       "       4.11614235e-01, 8.73924736e-02, 9.78405366e-01, 5.74638439e-01,\n",
       "       8.71578096e-01, 2.05735181e-01, 1.71782485e-01, 3.33912347e-01,\n",
       "       6.66450834e-01, 9.50377614e-01, 5.41995623e-01, 9.54958978e-01,\n",
       "       3.99519198e-01, 4.31007024e-01, 4.12213539e-01, 5.48425227e-01,\n",
       "       1.08847765e-02, 4.01264596e-01, 2.18294552e-01, 3.22303456e-01,\n",
       "       2.19755873e-01, 5.19464193e-01, 3.14074120e-01, 4.27283069e-01,\n",
       "       6.12877045e-01, 8.42797378e-01, 3.89407844e-01, 9.48731040e-01,\n",
       "       7.80792383e-01, 5.87222963e-01, 4.31099934e-01, 9.20057635e-02,\n",
       "       9.00311092e-01, 2.79465329e-01, 7.93706861e-01, 7.23533190e-01,\n",
       "       9.38273837e-01, 7.33023792e-01, 1.65034727e-01, 2.85974713e-01,\n",
       "       5.23405675e-02, 4.95774636e-01, 5.60372775e-01, 1.25874436e-01,\n",
       "       3.61228091e-01, 8.82265003e-01, 7.55031592e-01, 6.49919680e-01,\n",
       "       8.69980785e-01, 1.05673356e-01, 2.72411095e-02, 2.42501804e-01,\n",
       "       4.69131506e-01, 1.29214290e-01, 5.29257565e-01, 1.37161200e-01,\n",
       "       9.96752410e-01, 7.40282439e-01, 2.62684843e-01, 1.76975007e-01,\n",
       "       2.01165164e-01, 2.97669334e-01, 6.77419775e-01, 6.57196568e-02,\n",
       "       2.82832287e-01, 1.08603095e-01, 7.03727396e-01, 2.19184709e-01,\n",
       "       1.73510976e-02, 7.68294425e-02, 9.60406370e-01, 4.66709495e-01,\n",
       "       7.58834148e-01, 4.47937786e-01, 5.37508539e-01, 2.80974407e-01,\n",
       "       4.39847915e-01, 5.74492611e-01, 2.92251286e-01, 2.55926899e-01,\n",
       "       4.83339446e-01, 9.33815372e-01, 3.75188646e-01, 5.16121833e-01,\n",
       "       4.04760880e-01, 1.99618377e-01, 3.55293374e-03, 5.72908869e-01,\n",
       "       3.72771558e-01, 7.90591279e-01, 1.48958644e-01, 6.71569927e-01,\n",
       "       9.77415815e-01, 4.59161570e-01, 4.95064567e-02, 8.60432925e-01,\n",
       "       4.70423677e-01, 9.67263825e-01, 1.77594496e-01, 2.27295742e-01,\n",
       "       1.16229416e-01, 4.92223485e-01, 1.38601456e-01, 6.37634226e-01,\n",
       "       8.60744465e-01, 5.59833461e-01, 9.46099473e-01, 8.98197932e-01,\n",
       "       2.27056655e-01, 5.69552637e-01, 6.68354232e-01, 8.59120148e-02,\n",
       "       5.40324307e-01, 7.53012038e-01, 6.41834551e-01, 4.34225869e-01,\n",
       "       8.30837982e-01, 2.92374958e-01, 6.75944625e-01, 7.50656533e-01,\n",
       "       3.35612699e-01, 6.48554372e-01, 1.34251577e-02, 5.34318551e-01,\n",
       "       6.43499107e-01, 5.31048519e-01, 4.84722224e-01, 3.70293485e-01,\n",
       "       6.54258447e-01, 8.09759274e-01, 9.05305897e-01, 5.33477928e-01,\n",
       "       2.52505404e-01, 5.39756186e-01, 9.21993591e-01, 3.92630615e-01,\n",
       "       8.48764950e-01, 2.55759818e-01, 5.23140926e-01, 8.99963541e-01,\n",
       "       6.43111475e-01, 4.46025713e-01, 9.98034098e-01, 4.35865632e-01,\n",
       "       9.78997356e-01, 1.07888597e-01, 7.09831437e-01, 2.62216864e-01,\n",
       "       8.20925177e-01, 3.22434858e-01, 2.82700548e-01, 6.76384341e-01,\n",
       "       5.70279517e-02, 2.58686479e-01, 7.40981852e-03, 4.07813789e-01,\n",
       "       6.63811907e-01, 6.98750538e-01, 8.07410862e-01, 5.04970319e-01,\n",
       "       9.51336749e-01, 1.24704957e-01, 1.70449242e-01, 1.76275308e-01,\n",
       "       9.60755673e-01, 7.27523730e-01, 3.02484582e-02, 6.21446256e-01,\n",
       "       3.76037758e-01, 4.17142570e-01, 2.92930217e-01, 1.30248598e-01,\n",
       "       2.19679537e-01, 8.73360029e-01, 5.99049082e-01, 3.87430763e-01,\n",
       "       5.52047708e-01, 8.43296532e-03, 1.50157628e-01, 4.20094368e-01,\n",
       "       5.01032067e-01, 3.26466067e-02, 9.13209028e-01, 8.36258155e-01,\n",
       "       7.53985654e-01, 3.80196759e-01, 7.68256101e-01, 5.43022800e-01,\n",
       "       5.08491642e-01, 3.21381770e-01, 1.09888847e-01, 3.41432840e-01,\n",
       "       5.99320759e-02, 6.22316111e-01, 7.33190453e-01, 9.11056014e-01,\n",
       "       4.80289915e-01, 6.53954502e-01, 7.80439118e-01, 3.24187100e-02,\n",
       "       4.01870286e-01, 3.80339479e-02, 3.48389337e-01, 1.26044014e-01,\n",
       "       5.83773414e-01, 2.85374412e-01, 5.12929235e-01, 1.96874622e-01,\n",
       "       8.34304108e-01, 2.51178789e-01, 9.88043873e-02, 4.15671966e-01,\n",
       "       5.88214600e-01, 1.02438390e-01, 3.09237373e-01, 6.03016658e-02,\n",
       "       7.21684068e-01, 2.66958654e-01, 3.40547354e-01, 3.85162463e-01,\n",
       "       1.71531397e-01, 7.84998713e-01, 3.70568763e-01, 9.27927709e-01,\n",
       "       4.69331508e-01, 9.80130545e-01, 5.17320915e-01, 3.89032336e-01,\n",
       "       3.45029281e-01, 2.21536101e-02, 7.43880997e-01, 6.32815319e-01,\n",
       "       9.64538339e-01, 2.00502491e-02, 2.11205873e-01, 1.65031305e-01,\n",
       "       9.45073430e-01, 3.58821245e-01, 2.46576009e-01, 5.51401832e-01,\n",
       "       1.19334808e-02, 7.76833090e-01, 3.94211507e-01, 1.14355139e-01,\n",
       "       5.63995268e-01, 3.46314522e-01, 7.01143097e-01, 5.27807058e-01,\n",
       "       9.69109476e-01, 5.16765533e-01, 4.76508925e-01, 2.68748584e-01,\n",
       "       1.22783929e-01, 9.86386229e-01, 6.72624977e-01, 4.16388782e-02,\n",
       "       1.83356125e-01, 6.71384945e-01, 8.46334190e-01, 8.41857231e-01,\n",
       "       2.17577583e-01, 9.36675597e-01, 6.78482571e-01, 7.88739916e-01,\n",
       "       1.15960056e-02, 1.64105320e-02, 9.25026496e-01, 3.48094608e-01,\n",
       "       9.95540594e-01, 6.99305818e-01, 2.24978358e-01, 9.28932505e-01,\n",
       "       8.42642116e-01, 8.50681815e-01, 4.30573696e-01, 3.62219539e-01,\n",
       "       6.52314509e-01, 4.33716474e-01, 3.55960224e-01, 5.10309827e-01,\n",
       "       3.01015953e-01, 4.58882303e-01, 1.18903484e-01, 7.63604085e-01,\n",
       "       5.46873391e-01, 9.82246394e-01, 9.23632727e-01, 6.94070970e-01,\n",
       "       1.81812311e-01, 6.32255377e-01, 5.05895770e-01, 2.67648062e-01,\n",
       "       9.84971102e-01, 4.94146388e-01, 7.98461749e-01, 1.60543349e-02,\n",
       "       7.73529477e-01, 1.27216511e-01, 1.39339395e-01, 1.32805352e-01,\n",
       "       4.95569906e-01, 8.62273915e-01, 2.31546992e-01, 3.19731860e-01,\n",
       "       5.89465528e-01, 6.49594794e-01, 4.64267446e-01, 2.07874228e-02,\n",
       "       7.02443946e-01, 1.63438407e-01, 2.27069701e-01, 4.65221931e-02,\n",
       "       2.63720158e-01, 1.69283587e-01, 9.76825599e-01, 3.15062617e-01,\n",
       "       5.18886280e-01, 8.15353382e-01, 6.55959775e-01, 1.42633809e-01,\n",
       "       6.99915910e-01, 2.54738984e-01, 9.80174700e-01, 8.23771169e-01,\n",
       "       9.06150967e-02, 6.79980252e-02, 2.96892232e-01, 8.59883684e-01,\n",
       "       4.18817455e-01, 4.84943516e-01, 9.27850120e-01, 1.99728627e-01,\n",
       "       4.20010414e-01, 2.70490193e-01, 6.17306977e-01, 9.87151148e-01,\n",
       "       6.25352727e-01, 6.13099358e-01, 2.74622832e-02, 8.82905338e-01,\n",
       "       7.75792502e-01, 1.44231009e-01, 4.92450244e-01, 9.52663394e-01,\n",
       "       4.21697693e-01, 2.28576204e-01, 8.66804331e-01, 4.93322707e-01,\n",
       "       6.55778631e-01, 8.64468162e-01, 1.47675512e-01, 8.55936955e-01,\n",
       "       2.07478418e-01, 5.92329908e-01, 8.81986172e-01, 2.40388117e-01,\n",
       "       7.98874610e-01, 6.96360380e-01, 2.30881008e-01, 8.48995923e-01,\n",
       "       6.15534610e-01, 8.79623031e-01, 2.42847279e-01, 1.90764253e-01,\n",
       "       8.12513917e-01, 4.53333550e-01, 4.33618639e-01, 9.30965786e-01,\n",
       "       8.00648507e-01, 2.21138490e-01, 6.56749289e-01, 9.93752745e-03,\n",
       "       9.38159395e-01, 9.86131423e-01, 8.41237047e-01, 8.20467848e-01,\n",
       "       4.88520965e-02, 7.82472920e-01, 6.97802759e-01, 2.52869882e-01,\n",
       "       4.41681394e-01, 9.32690556e-01, 2.30996767e-01, 3.39017323e-02,\n",
       "       6.64642449e-01, 2.49498071e-01, 2.83181932e-01, 4.77831983e-01,\n",
       "       1.90644570e-01, 1.98554184e-01, 1.70620380e-01, 8.02477189e-01,\n",
       "       3.15214327e-01, 1.64636743e-01, 1.05790396e-03, 2.50207364e-01,\n",
       "       1.97993326e-01, 1.67402831e-02, 4.70356996e-01, 3.23506954e-01,\n",
       "       9.65516666e-01, 2.37580407e-01, 1.69458395e-01, 7.76870633e-01,\n",
       "       6.66248402e-01, 1.52319481e-01, 2.16422931e-01, 5.63266528e-01,\n",
       "       6.20547181e-01, 3.38075508e-01, 1.59334404e-02, 2.02374126e-01,\n",
       "       3.65547737e-01, 6.15558422e-01, 5.31883388e-01, 4.03695858e-01,\n",
       "       3.21906754e-01, 5.55817257e-01, 8.66493148e-01, 7.55730509e-01,\n",
       "       7.16265620e-01, 5.25526215e-01, 6.50140211e-01, 2.07414008e-02,\n",
       "       6.35869010e-01, 9.71900908e-01, 4.71483705e-01, 5.31382814e-02,\n",
       "       7.61070957e-01, 7.92649576e-01, 1.03832367e-01, 8.45211117e-01,\n",
       "       3.51910312e-01, 3.54613191e-01, 1.61086076e-01, 8.17434088e-01,\n",
       "       6.08240987e-01, 6.69365843e-01, 4.50897965e-01, 8.48247232e-01,\n",
       "       1.37417371e-01, 5.58737331e-01, 1.43060973e-01, 6.34925192e-01,\n",
       "       6.46758866e-01, 2.00461296e-01, 6.73958492e-01, 7.65169066e-01,\n",
       "       7.67254624e-01, 8.23197274e-01, 1.21198821e-01, 7.48239490e-01,\n",
       "       8.54934973e-01, 5.43025519e-02, 8.95668606e-01, 3.44339316e-01,\n",
       "       3.75678360e-01, 3.73499422e-01, 6.64099465e-01, 1.78214073e-01,\n",
       "       8.63058176e-03, 4.17377794e-01, 6.22148191e-01, 4.13290228e-01,\n",
       "       2.04992006e-02, 3.86390341e-01, 3.18165993e-01, 1.29776863e-01,\n",
       "       2.27066267e-02, 6.31070452e-01, 8.71153040e-01, 1.87897274e-01,\n",
       "       1.50628606e-01, 2.63810773e-01, 5.90992090e-01, 3.27812946e-01,\n",
       "       3.32597766e-01, 3.10010496e-01, 9.04060511e-01, 6.81418461e-01,\n",
       "       2.35942582e-01, 8.10196806e-01, 8.30835363e-01, 4.51491506e-01,\n",
       "       1.66010371e-01, 6.17780946e-01, 7.25447011e-01, 8.57372938e-02,\n",
       "       3.87276188e-01, 3.12678425e-01, 5.92996084e-01, 4.96251795e-01,\n",
       "       3.59327705e-01, 3.95085358e-01, 2.26097465e-01, 6.16134080e-01,\n",
       "       8.05841718e-01, 9.12801401e-01, 7.04503213e-03, 1.85118805e-01,\n",
       "       7.70055558e-01, 4.35237384e-02, 1.06351684e-01, 4.08843503e-01,\n",
       "       5.96866303e-01, 2.57620039e-01, 1.78796029e-01, 7.25442010e-02,\n",
       "       9.14313685e-01, 2.12107462e-01, 5.18186332e-01, 2.39044067e-01,\n",
       "       2.34481299e-01, 1.27296081e-01, 1.50094106e-01, 9.31148622e-01,\n",
       "       7.60660983e-01, 7.76467268e-01, 4.75638282e-01, 5.76506146e-01,\n",
       "       4.30219742e-01, 2.79825339e-01, 4.75041009e-01, 3.00515702e-01,\n",
       "       2.97095583e-02, 3.34485055e-01, 4.22026982e-01, 2.21636615e-01,\n",
       "       5.39023003e-01, 4.20756701e-01, 6.67635570e-01, 2.57740011e-01,\n",
       "       5.02221355e-01, 6.11991618e-01, 7.57701974e-01, 2.03798511e-01,\n",
       "       1.21460448e-01, 2.50063602e-01, 7.28579330e-01, 2.17493348e-01,\n",
       "       5.17269215e-01, 8.00884124e-01, 5.18106959e-01, 6.11116732e-01,\n",
       "       2.01644669e-01, 9.06180902e-01, 9.86286463e-01, 3.49932453e-01,\n",
       "       3.55665798e-02, 9.82470394e-01, 8.69518598e-01, 4.16459294e-01,\n",
       "       8.05703038e-01, 5.60075210e-01, 9.31088276e-01, 3.13176327e-01,\n",
       "       3.61090992e-01, 5.03315155e-01, 1.30304523e-01, 8.65308350e-01,\n",
       "       8.42055279e-01, 3.72018569e-01, 3.27721675e-01, 9.09815195e-01,\n",
       "       2.11272240e-01, 5.39254862e-02, 5.55854713e-01, 8.81642037e-01,\n",
       "       3.88434252e-01, 6.35553560e-01, 9.89265953e-01, 9.89114204e-01,\n",
       "       3.88007548e-01, 4.77241541e-01, 3.84134900e-01, 9.16407259e-01,\n",
       "       9.06591649e-01, 6.64066575e-01, 5.39318910e-01, 1.90924285e-01,\n",
       "       3.66924141e-01, 7.73625130e-01, 8.20012161e-01, 1.47107396e-01,\n",
       "       8.89982585e-01, 1.13699282e-01, 5.49776936e-01, 3.30548015e-01,\n",
       "       3.04834017e-01, 8.47306388e-01, 2.51471086e-01, 7.76261805e-01,\n",
       "       2.38754002e-02, 4.94066101e-01, 7.35461254e-01, 8.77226747e-01,\n",
       "       8.43991790e-01, 3.68073205e-01, 9.36847176e-01, 7.46515764e-01,\n",
       "       1.21496805e-01, 9.49856666e-01, 2.64274208e-01, 6.63060780e-03,\n",
       "       9.10412859e-01, 1.17268043e-01, 5.05806108e-02, 6.87205985e-01,\n",
       "       5.23230947e-01, 4.61874887e-01, 7.78333946e-01, 6.97013341e-01,\n",
       "       6.74233951e-01, 1.61975497e-01, 7.17090125e-01, 3.16591423e-01,\n",
       "       3.33059357e-01, 5.19935484e-01, 9.47382439e-01, 4.93270927e-01,\n",
       "       6.33900503e-01, 6.60226812e-01, 1.23047251e-01, 6.30699102e-01,\n",
       "       4.65856394e-01, 4.33885912e-01, 4.00256389e-01, 9.13340265e-01,\n",
       "       9.51907105e-01, 5.05110187e-01, 6.56488726e-02, 2.15535526e-01,\n",
       "       5.08013869e-01, 5.96661654e-01, 1.39717765e-01, 6.30230620e-01,\n",
       "       6.38605226e-01, 9.44832708e-02, 8.64094123e-01, 3.25314085e-01,\n",
       "       6.48841640e-01, 2.15418947e-01, 2.80728746e-01, 9.71823703e-01,\n",
       "       6.36213378e-01, 3.16430318e-01, 8.49515530e-01, 4.72212983e-04,\n",
       "       3.68135814e-01, 1.39605115e-01, 9.57869013e-01, 4.29098479e-01,\n",
       "       5.44044287e-01, 8.43085986e-01, 1.35407194e-01, 2.29951777e-01,\n",
       "       2.15670908e-01, 2.18457295e-01, 9.02821820e-01, 8.86666017e-01,\n",
       "       4.07550186e-01, 1.76296268e-01, 4.48872951e-01, 4.41018587e-01,\n",
       "       8.34752125e-01, 2.63350409e-01, 3.51967354e-01, 4.28471350e-01,\n",
       "       2.54590201e-01, 7.15251121e-01, 4.47110662e-01, 7.32143116e-01,\n",
       "       4.36200275e-02, 1.74059711e-01, 9.25377111e-02, 8.57642612e-02,\n",
       "       2.34447690e-02, 7.12178146e-01, 2.79037965e-01, 1.01147134e-02,\n",
       "       5.25092957e-01, 6.03940817e-01, 7.86009022e-01, 6.71134780e-01,\n",
       "       9.07998545e-01, 8.74461136e-01, 9.96919470e-01, 7.80944807e-02,\n",
       "       3.74882027e-01, 1.92915634e-01, 6.90747288e-02, 4.38338803e-01,\n",
       "       7.28913532e-01, 7.09686462e-02, 4.42955146e-01, 9.81946642e-01,\n",
       "       8.22529019e-01, 8.44344592e-01, 7.90081102e-01, 6.58837073e-01,\n",
       "       4.33394662e-01, 8.31220899e-01, 3.90659875e-01, 1.95120772e-01,\n",
       "       1.53312397e-01, 5.73407463e-01, 7.50520155e-01, 8.63530352e-01,\n",
       "       2.47915789e-01, 1.41366588e-02, 3.19272960e-02, 9.30472937e-01,\n",
       "       5.22455229e-01, 3.48172471e-01, 9.52779011e-01, 2.76331808e-01,\n",
       "       6.80232578e-01, 5.27900699e-01, 8.93469146e-01, 6.22134648e-01,\n",
       "       8.44272837e-01, 4.13501636e-01, 9.78193291e-01, 8.97382917e-01,\n",
       "       7.86549389e-01, 7.38407864e-01, 3.24864247e-01, 2.30442825e-01,\n",
       "       2.97951054e-01, 2.12218467e-01, 4.08502891e-01, 7.85539865e-01,\n",
       "       6.45840114e-01, 8.48910615e-01, 5.28639193e-01, 6.09646070e-01,\n",
       "       7.36191693e-01, 9.43128729e-02, 4.16739247e-01, 8.68796558e-01,\n",
       "       6.55625786e-01, 8.77266193e-01, 7.12093577e-01, 6.16304352e-01,\n",
       "       6.96458686e-02, 3.81271710e-01, 9.19959390e-01, 8.60707499e-01,\n",
       "       9.46310133e-01, 5.39300414e-01, 5.72728337e-01, 7.03787758e-02,\n",
       "       5.75408445e-01, 6.54827887e-01, 3.43279905e-01, 2.92732687e-01,\n",
       "       5.05603815e-01, 9.52771083e-01, 2.07244611e-01, 7.78159652e-01,\n",
       "       1.63737965e-02, 5.08547330e-01, 4.51463909e-02, 9.01710525e-01,\n",
       "       2.20407263e-01, 6.70695080e-01, 9.16205204e-01, 6.91657899e-01,\n",
       "       5.06668735e-01, 2.92032938e-01, 7.80010747e-01, 7.48590168e-01,\n",
       "       2.33071782e-01, 5.18272598e-01, 5.48845657e-01, 5.06897301e-01,\n",
       "       3.29554945e-02, 9.29114867e-01, 6.12319454e-01, 9.14339497e-01,\n",
       "       3.96549163e-01, 2.02864754e-01, 6.97773087e-01, 2.18204835e-01,\n",
       "       4.09305873e-01, 8.73926408e-01, 7.10682851e-01, 9.20359001e-01,\n",
       "       5.97317236e-01, 6.36186015e-02, 4.58851702e-01, 4.63635275e-02,\n",
       "       2.35702279e-01, 7.00549230e-01, 1.41251161e-01, 6.87290187e-01,\n",
       "       1.99061459e-01, 4.50510451e-01, 9.96715006e-01, 2.99898134e-01,\n",
       "       3.93541346e-01, 1.03017233e-01, 6.92309120e-01, 3.68993942e-01,\n",
       "       4.71912673e-01, 1.52315177e-01, 2.57930446e-01, 7.16652556e-01,\n",
       "       9.30735511e-01, 5.91426862e-01, 7.12922657e-01, 7.42859018e-01,\n",
       "       1.37233632e-01, 5.29861827e-01, 1.51303098e-01, 1.20710476e-01,\n",
       "       8.29353668e-01, 9.68152621e-02, 6.58049800e-01, 3.75128579e-02,\n",
       "       7.95520823e-01, 8.93526012e-01, 9.57025641e-03, 2.74113296e-01,\n",
       "       2.62449962e-01, 5.46336224e-01, 2.65096138e-01, 2.82073833e-01,\n",
       "       9.97036851e-01, 8.33691381e-01, 5.00684774e-02, 5.67893085e-01,\n",
       "       9.58380113e-01, 4.29582351e-02, 6.90458753e-01, 6.23228874e-01,\n",
       "       9.17229180e-01, 2.11122217e-01, 4.16773576e-01, 9.60247118e-01,\n",
       "       5.48318467e-01, 2.85232882e-01, 7.05559485e-01, 3.96395084e-01,\n",
       "       9.18069227e-01, 5.89452628e-01, 5.91522868e-01, 1.37122819e-01,\n",
       "       9.44879974e-01, 2.95521372e-01, 2.04211048e-01, 7.85149918e-01,\n",
       "       3.46150138e-01, 5.72821956e-01, 3.46734861e-01, 3.80068633e-01,\n",
       "       8.78469857e-01, 7.45819741e-01, 1.67989023e-01, 4.14739592e-01,\n",
       "       5.78162828e-01, 3.31924381e-01, 9.94186400e-01, 3.51143821e-01,\n",
       "       9.08490406e-01, 4.35587130e-01, 7.34374771e-01, 1.31755616e-01,\n",
       "       7.48166263e-02, 8.86286064e-01, 1.58883426e-01, 9.74917141e-02,\n",
       "       7.88367590e-02, 6.57720515e-01, 8.62978905e-01, 5.94493728e-01,\n",
       "       8.82564434e-01, 4.93001142e-01, 7.21949138e-01, 2.97653298e-01,\n",
       "       2.71693734e-01, 7.77385651e-01, 4.77390099e-01, 3.30764624e-01,\n",
       "       8.49563844e-02, 8.86327507e-01, 2.33017984e-01, 1.51039292e-01,\n",
       "       8.30950550e-01, 3.51797558e-01, 5.93793130e-02, 3.51941996e-01,\n",
       "       1.31807186e-01, 4.38782175e-01, 4.82013501e-01, 7.14938642e-01,\n",
       "       5.41197595e-01, 9.55698844e-01, 7.52925304e-01, 2.05183887e-01,\n",
       "       9.80745493e-02, 3.32398732e-01, 8.50657279e-01, 4.91674623e-01,\n",
       "       1.56664281e-01, 4.03381727e-01, 8.25640965e-01, 3.22406365e-01,\n",
       "       2.53226752e-01, 7.94974700e-01, 5.69026539e-02, 3.32321123e-01,\n",
       "       1.55590635e-01, 3.43997139e-01, 3.60490340e-01, 4.04294385e-01,\n",
       "       8.10219300e-01, 8.54742109e-01, 1.75486572e-01, 6.54481411e-01,\n",
       "       5.06308367e-01, 3.93003975e-01, 3.83316687e-01, 7.05623220e-01,\n",
       "       1.18723119e-01, 5.38867613e-01, 9.10261909e-01, 6.85331262e-01,\n",
       "       7.78237437e-01, 5.83422685e-01, 2.49751714e-01, 3.97215732e-01,\n",
       "       7.01595529e-01, 7.02585055e-01, 7.86401874e-01, 9.29368711e-02,\n",
       "       2.53153084e-01, 6.37834471e-01, 3.85828141e-01, 8.13450252e-01,\n",
       "       1.60860900e-01, 7.22368255e-01, 8.94174726e-01, 2.42986859e-01,\n",
       "       3.74467329e-02, 5.32642996e-01, 6.55118881e-01, 9.74087654e-02,\n",
       "       8.59624659e-01, 4.51657983e-01, 4.90879715e-01, 3.75352708e-01,\n",
       "       6.97312929e-01, 3.75837972e-01, 6.44367190e-01, 9.19896730e-01])"
      ]
     },
     "execution_count": 76,
     "metadata": {},
     "output_type": "execute_result"
    }
   ],
   "source": [
    "#View the randomSample\n",
    "randomNumber"
   ]
  },
  {
   "cell_type": "code",
   "execution_count": 77,
   "metadata": {},
   "outputs": [],
   "source": [
    "pmfRandom= thinkstats2.Pmf(randomNumber, label='randomNum')"
   ]
  },
  {
   "cell_type": "code",
   "execution_count": 80,
   "metadata": {
    "scrolled": true
   },
   "outputs": [
    {
     "data": {
      "image/png": "[encoded data removed]",
      "text/plain": [
       "<Figure size 432x288 with 1 Axes>"
      ]
     },
     "metadata": {
      "needs_background": "light"
     },
     "output_type": "display_data"
    }
   ],
   "source": [
    "# plot PMFs of random sample\n",
    "#width= -0.2 / 0.1\n",
    "thinkplot.Hist(pmfRandom)\n",
    "thinkplot.Config(xlabel='Random Numbers', ylabel='PMF')\n"
   ]
  },
  {
   "cell_type": "markdown",
   "metadata": {},
   "source": [
    "Now plot the CDF. Is the distribution uniform? \n",
    "Tushar-> Yes, it comes out surprisingly uniformed"
   ]
  },
  {
   "cell_type": "code",
   "execution_count": 82,
   "metadata": {},
   "outputs": [
    {
     "data": {
      "image/png": "[encoded data removed]",
      "text/plain": [
       "<Figure size 432x288 with 1 Axes>"
      ]
     },
     "metadata": {
      "needs_background": "light"
     },
     "output_type": "display_data"
    }
   ],
   "source": [
    "cdfRandom = thinkstats2.Cdf(randomNumber, label='randomNum')\n",
    "thinkplot.Cdf(cdfRandom)\n",
    "thinkplot.Config(xlabel='Random Numbers', ylabel='CDF')"
   ]
  }
 ],
 "metadata": {
  "kernelspec": {
   "display_name": "Python 3",
   "language": "python",
   "name": "python3"
  },
  "language_info": {
   "codemirror_mode": {
    "name": "ipython",
    "version": 3
   },
   "file_extension": ".py",
   "mimetype": "text/x-python",
   "name": "python",
   "nbconvert_exporter": "python",
   "pygments_lexer": "ipython3",
   "version": "3.8.3"
  }
 },
 "nbformat": 4,
 "nbformat_minor": 1
}
