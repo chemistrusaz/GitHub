{
 "cells": [
  {
   "cell_type": "markdown",
   "metadata": {},
   "source": [
    "Name: Muley, Tushar\n",
    "Assignment: 13-1\n",
    "Date: 15 November 2020"
   ]
  },
  {
   "cell_type": "code",
   "execution_count": 14,
   "metadata": {},
   "outputs": [],
   "source": [
    "from __future__ import print_function, division\n",
    "\n",
    "%matplotlib inline\n",
    "\n",
    "import warnings\n",
    "warnings.filterwarnings('ignore', category=FutureWarning)\n",
    "\n",
    "import numpy as np\n",
    "import pandas as pd\n",
    "\n",
    "import random\n",
    "\n",
    "import thinkstats2\n",
    "import thinkplot"
   ]
  },
  {
   "cell_type": "code",
   "execution_count": 15,
   "metadata": {},
   "outputs": [],
   "source": [
    "import nsfg\n",
    "\n",
    "preg = nsfg.ReadFemPreg()\n",
    "complete = preg.query('outcome in [1, 3, 4]').prglngth\n",
    "cdf = thinkstats2.Cdf(complete, label='cdf')"
   ]
  },
  {
   "cell_type": "code",
   "execution_count": 18,
   "metadata": {},
   "outputs": [],
   "source": [
    "import survival\n",
    "\n",
    "def MakeSurvivalFromCdf(cdf, label=''):\n",
    "    \"\"\"Makes a survival function based on a CDF.\n",
    "\n",
    "    cdf: Cdf\n",
    "    \n",
    "    returns: SurvivalFunction\n",
    "    \"\"\"\n",
    "    ts = cdf.xs\n",
    "    ss = 1 - cdf.ps\n",
    "    return survival.SurvivalFunction(ts, ss, label)"
   ]
  },
  {
   "cell_type": "code",
   "execution_count": 31,
   "metadata": {},
   "outputs": [],
   "source": [
    "from collections import Counter\n",
    "\n",
    "def EstimateHazardFunction(complete, ongoing, label='', verbose=False):\n",
    "    \"\"\"Estimates the hazard function by Kaplan-Meier.\n",
    "\n",
    "    http://en.wikipedia.org/wiki/Kaplan%E2%80%93Meier_estimator\n",
    "\n",
    "    complete: list of complete lifetimes\n",
    "    ongoing: list of ongoing lifetimes\n",
    "    label: string\n",
    "    verbose: whether to display intermediate results\n",
    "    \"\"\"\n",
    "    if np.sum(np.isnan(complete)):\n",
    "        raise ValueError(\"complete contains NaNs\")\n",
    "    if np.sum(np.isnan(ongoing)):\n",
    "        raise ValueError(\"ongoing contains NaNs\")\n",
    "\n",
    "    hist_complete = Counter(complete)\n",
    "    hist_ongoing = Counter(ongoing)\n",
    "\n",
    "    ts = list(hist_complete | hist_ongoing)\n",
    "    ts.sort()\n",
    "\n",
    "    at_risk = len(complete) + len(ongoing)\n",
    "\n",
    "    lams = pd.Series(index=ts)\n",
    "    for t in ts:\n",
    "        ended = hist_complete[t]\n",
    "        censored = hist_ongoing[t]\n",
    "\n",
    "        lams[t] = ended / at_risk\n",
    "        if verbose:\n",
    "            print(t, at_risk, ended, censored, lams[t])\n",
    "        at_risk -= ended + censored\n",
    "\n",
    "    return survival.HazardFunction(lams, label=label)"
   ]
  },
  {
   "cell_type": "code",
   "execution_count": 34,
   "metadata": {},
   "outputs": [],
   "source": [
    "def EstimateMarriageSurvival(resp):\n",
    "    \"\"\"Estimates the survival curve.\n",
    "\n",
    "    resp: DataFrame of respondents\n",
    "\n",
    "    returns: pair of HazardFunction, SurvivalFunction\n",
    "    \"\"\"\n",
    "    # NOTE: Filling missing values would be better than dropping them.\n",
    "    complete = resp[resp.evrmarry == 1].agemarry.dropna()\n",
    "    ongoing = resp[resp.evrmarry == 0].age\n",
    "\n",
    "    hf = EstimateHazardFunction(complete, ongoing)\n",
    "    sf = hf.MakeSurvival()\n",
    "\n",
    "    return hf, sf"
   ]
  },
  {
   "cell_type": "code",
   "execution_count": 35,
   "metadata": {},
   "outputs": [],
   "source": [
    "def ResampleSurvival(resp, iters=101):\n",
    "    \"\"\"Resamples respondents and estimates the survival function.\n",
    "\n",
    "    resp: DataFrame of respondents\n",
    "    iters: number of resamples\n",
    "    \"\"\" \n",
    "    _, sf = EstimateMarriageSurvival(resp)\n",
    "    thinkplot.Plot(sf)\n",
    "\n",
    "    low, high = resp.agemarry.min(), resp.agemarry.max()\n",
    "    ts = np.arange(low, high, 1/12.0)\n",
    "\n",
    "    ss_seq = []\n",
    "    for _ in range(iters):\n",
    "        sample = thinkstats2.ResampleRows(resp)\n",
    "        _, sf = EstimateMarriageSurvival(sample)\n",
    "        ss_seq.append(sf.Probs(ts))\n",
    "\n",
    "    low, high = thinkstats2.PercentileRows(ss_seq, [5, 95])\n",
    "    thinkplot.FillBetween(ts, low, high, color='gray', label='90% CI')"
   ]
  },
  {
   "cell_type": "code",
   "execution_count": 40,
   "metadata": {},
   "outputs": [],
   "source": [
    "def AddLabelsByDecade(groups, **options):\n",
    "    \"\"\"Draws fake points in order to add labels to the legend.\n",
    "\n",
    "    groups: GroupBy object\n",
    "    \"\"\"\n",
    "    thinkplot.PrePlot(len(groups))\n",
    "    for name, _ in groups:\n",
    "        label = '%d0s' % name\n",
    "        thinkplot.Plot([15], [1], label=label, **options)\n",
    "\n",
    "def EstimateMarriageSurvivalByDecade(groups, **options):\n",
    "    \"\"\"Groups respondents by decade and plots survival curves.\n",
    "\n",
    "    groups: GroupBy object\n",
    "    \"\"\"\n",
    "    thinkplot.PrePlot(len(groups))\n",
    "    for _, group in groups:\n",
    "        _, sf = EstimateMarriageSurvival(group)\n",
    "        thinkplot.Plot(sf, **options)\n",
    "\n",
    "def PlotResampledByDecade(resps, iters=11, predict_flag=False, omit=None):\n",
    "    \"\"\"Plots survival curves for resampled data.\n",
    "\n",
    "    resps: list of DataFrames\n",
    "    iters: number of resamples to plot\n",
    "    predict_flag: whether to also plot predictions\n",
    "    \"\"\"\n",
    "    for i in range(iters):\n",
    "        samples = [thinkstats2.ResampleRowsWeighted(resp) \n",
    "                   for resp in resps]\n",
    "        sample = pd.concat(samples, ignore_index=True)\n",
    "        groups = sample.groupby('decade')\n",
    "\n",
    "        if omit:\n",
    "            groups = [(name, group) for name, group in groups \n",
    "                      if name not in omit]\n",
    "\n",
    "        # TODO: refactor this to collect resampled estimates and\n",
    "        # plot shaded areas\n",
    "        if i == 0:\n",
    "            AddLabelsByDecade(groups, alpha=0.7)\n",
    "\n",
    "        if predict_flag:\n",
    "            PlotPredictionsByDecade(groups, alpha=0.1)\n",
    "            EstimateMarriageSurvivalByDecade(groups, alpha=0.1)\n",
    "        else:\n",
    "            EstimateMarriageSurvivalByDecade(groups, alpha=0.2)"
   ]
  },
  {
   "cell_type": "markdown",
   "metadata": {},
   "source": [
    "Here are the results for the combined data."
   ]
  },
  {
   "cell_type": "code",
   "execution_count": 41,
   "metadata": {},
   "outputs": [],
   "source": [
    "import warnings\n",
    "warnings.filterwarnings('ignore')"
   ]
  },
  {
   "cell_type": "code",
   "execution_count": 43,
   "metadata": {},
   "outputs": [],
   "source": [
    "def PlotPredictionsByDecade(groups, **options):\n",
    "    \"\"\"Groups respondents by decade and plots survival curves.\n",
    "\n",
    "    groups: GroupBy object\n",
    "    \"\"\"\n",
    "    hfs = []\n",
    "    for _, group in groups:\n",
    "        hf, sf = EstimateMarriageSurvival(group)\n",
    "        hfs.append(hf)\n",
    "\n",
    "    thinkplot.PrePlot(len(hfs))\n",
    "    for i, hf in enumerate(hfs):\n",
    "        if i > 0:\n",
    "            hf.Extend(hfs[i-1])\n",
    "        sf = hf.MakeSurvival()\n",
    "        thinkplot.Plot(sf, **options)"
   ]
  },
  {
   "cell_type": "markdown",
   "metadata": {
    "collapsed": true
   },
   "source": [
    "## Exercises"
   ]
  },
  {
   "cell_type": "markdown",
   "metadata": {
    "collapsed": true
   },
   "source": [
    "**Exercise:**    In NSFG Cycles 6 and 7, the variable `cmdivorcx` contains the date of divorce for the respondent’s first marriage, if applicable, encoded in century-months.\n",
    "\n",
    "Compute the duration of marriages that have ended in divorce, and the duration, so far, of marriages that are ongoing. Estimate the hazard and survival curve for the duration of marriage.\n",
    "\n",
    "Use resampling to take into account sampling weights, and plot data from several resamples to visualize sampling error.\n",
    "\n",
    "Consider dividing the respondents into groups by decade of birth, and possibly by age at first marriage."
   ]
  },
  {
   "cell_type": "code",
   "execution_count": 49,
   "metadata": {},
   "outputs": [],
   "source": [
    "def CleanData(resp):\n",
    "    \"\"\"Cleans respondent data.\n",
    "\n",
    "    resp: DataFrame\n",
    "    \"\"\"\n",
    "    resp.cmdivorcx.replace([9998, 9999], np.nan, inplace=True)\n",
    "\n",
    "    resp['notdivorced'] = resp.cmdivorcx.isnull().astype(int)\n",
    "    resp['duration'] = (resp.cmdivorcx - resp.cmmarrhx) / 12.0\n",
    "    resp['durationsofar'] = (resp.cmintvw - resp.cmmarrhx) / 12.0\n",
    "\n",
    "    month0 = pd.to_datetime('1899-12-15')\n",
    "    dates = [month0 + pd.DateOffset(months=cm) \n",
    "             for cm in resp.cmbirth]\n",
    "    resp['decade'] = (pd.DatetimeIndex(dates).year - 1900) // 10"
   ]
  },
  {
   "cell_type": "code",
   "execution_count": 114,
   "metadata": {},
   "outputs": [],
   "source": [
    "CleanData(resp6)\n",
    "married6 = resp6[resp6.evrmarry==1]\n",
    "\n",
    "CleanData(resp7)\n",
    "married7 = resp7[resp7.evrmarry==1]"
   ]
  },
  {
   "cell_type": "code",
   "execution_count": 115,
   "metadata": {},
   "outputs": [
    {
     "data": {
      "text/html": [
       "<div>\n",
       "<style scoped>\n",
       "    .dataframe tbody tr th:only-of-type {\n",
       "        vertical-align: middle;\n",
       "    }\n",
       "\n",
       "    .dataframe tbody tr th {\n",
       "        vertical-align: top;\n",
       "    }\n",
       "\n",
       "    .dataframe thead th {\n",
       "        text-align: right;\n",
       "    }\n",
       "</style>\n",
       "<table border=\"1\" class=\"dataframe\">\n",
       "  <thead>\n",
       "    <tr style=\"text-align: right;\">\n",
       "      <th></th>\n",
       "      <th>caseid</th>\n",
       "      <th>cmbirth</th>\n",
       "      <th>evrmarry</th>\n",
       "      <th>cmmarrhx</th>\n",
       "      <th>cmdivorcx</th>\n",
       "      <th>parity</th>\n",
       "      <th>finalwgt</th>\n",
       "      <th>cmintvw</th>\n",
       "      <th>agemarry</th>\n",
       "      <th>age</th>\n",
       "      <th>year</th>\n",
       "      <th>decade</th>\n",
       "      <th>fives</th>\n",
       "      <th>notdivorced</th>\n",
       "      <th>duration</th>\n",
       "      <th>durationsofar</th>\n",
       "    </tr>\n",
       "  </thead>\n",
       "  <tbody>\n",
       "    <tr>\n",
       "      <th>1</th>\n",
       "      <td>5012</td>\n",
       "      <td>718</td>\n",
       "      <td>True</td>\n",
       "      <td>974.0</td>\n",
       "      <td>1077.0</td>\n",
       "      <td>1</td>\n",
       "      <td>4744.191350</td>\n",
       "      <td>1233</td>\n",
       "      <td>21.333333</td>\n",
       "      <td>42.916667</td>\n",
       "      <td>59</td>\n",
       "      <td>5</td>\n",
       "      <td>11</td>\n",
       "      <td>0</td>\n",
       "      <td>8.583333</td>\n",
       "      <td>21.583333</td>\n",
       "    </tr>\n",
       "    <tr>\n",
       "      <th>2</th>\n",
       "      <td>11586</td>\n",
       "      <td>708</td>\n",
       "      <td>True</td>\n",
       "      <td>910.0</td>\n",
       "      <td>938.0</td>\n",
       "      <td>1</td>\n",
       "      <td>4744.191350</td>\n",
       "      <td>1234</td>\n",
       "      <td>16.833333</td>\n",
       "      <td>43.833333</td>\n",
       "      <td>58</td>\n",
       "      <td>5</td>\n",
       "      <td>11</td>\n",
       "      <td>0</td>\n",
       "      <td>2.333333</td>\n",
       "      <td>27.000000</td>\n",
       "    </tr>\n",
       "    <tr>\n",
       "      <th>5</th>\n",
       "      <td>845</td>\n",
       "      <td>727</td>\n",
       "      <td>True</td>\n",
       "      <td>937.0</td>\n",
       "      <td>NaN</td>\n",
       "      <td>6</td>\n",
       "      <td>4705.681352</td>\n",
       "      <td>1234</td>\n",
       "      <td>17.500000</td>\n",
       "      <td>42.250000</td>\n",
       "      <td>60</td>\n",
       "      <td>6</td>\n",
       "      <td>12</td>\n",
       "      <td>1</td>\n",
       "      <td>NaN</td>\n",
       "      <td>24.750000</td>\n",
       "    </tr>\n",
       "    <tr>\n",
       "      <th>8</th>\n",
       "      <td>8656</td>\n",
       "      <td>780</td>\n",
       "      <td>True</td>\n",
       "      <td>1003.0</td>\n",
       "      <td>NaN</td>\n",
       "      <td>3</td>\n",
       "      <td>6520.021223</td>\n",
       "      <td>1237</td>\n",
       "      <td>18.583333</td>\n",
       "      <td>38.083333</td>\n",
       "      <td>64</td>\n",
       "      <td>6</td>\n",
       "      <td>12</td>\n",
       "      <td>1</td>\n",
       "      <td>NaN</td>\n",
       "      <td>19.500000</td>\n",
       "    </tr>\n",
       "    <tr>\n",
       "      <th>10</th>\n",
       "      <td>5917</td>\n",
       "      <td>714</td>\n",
       "      <td>True</td>\n",
       "      <td>953.0</td>\n",
       "      <td>NaN</td>\n",
       "      <td>2</td>\n",
       "      <td>3488.586646</td>\n",
       "      <td>1233</td>\n",
       "      <td>19.916667</td>\n",
       "      <td>43.250000</td>\n",
       "      <td>59</td>\n",
       "      <td>5</td>\n",
       "      <td>11</td>\n",
       "      <td>1</td>\n",
       "      <td>NaN</td>\n",
       "      <td>23.333333</td>\n",
       "    </tr>\n",
       "    <tr>\n",
       "      <th>...</th>\n",
       "      <td>...</td>\n",
       "      <td>...</td>\n",
       "      <td>...</td>\n",
       "      <td>...</td>\n",
       "      <td>...</td>\n",
       "      <td>...</td>\n",
       "      <td>...</td>\n",
       "      <td>...</td>\n",
       "      <td>...</td>\n",
       "      <td>...</td>\n",
       "      <td>...</td>\n",
       "      <td>...</td>\n",
       "      <td>...</td>\n",
       "      <td>...</td>\n",
       "      <td>...</td>\n",
       "      <td>...</td>\n",
       "    </tr>\n",
       "    <tr>\n",
       "      <th>7634</th>\n",
       "      <td>1282</td>\n",
       "      <td>798</td>\n",
       "      <td>True</td>\n",
       "      <td>1057.0</td>\n",
       "      <td>1119.0</td>\n",
       "      <td>2</td>\n",
       "      <td>4055.209574</td>\n",
       "      <td>1228</td>\n",
       "      <td>21.583333</td>\n",
       "      <td>35.833333</td>\n",
       "      <td>66</td>\n",
       "      <td>6</td>\n",
       "      <td>13</td>\n",
       "      <td>0</td>\n",
       "      <td>5.166667</td>\n",
       "      <td>14.250000</td>\n",
       "    </tr>\n",
       "    <tr>\n",
       "      <th>7635</th>\n",
       "      <td>2954</td>\n",
       "      <td>862</td>\n",
       "      <td>True</td>\n",
       "      <td>1069.0</td>\n",
       "      <td>NaN</td>\n",
       "      <td>1</td>\n",
       "      <td>4087.693768</td>\n",
       "      <td>1228</td>\n",
       "      <td>17.250000</td>\n",
       "      <td>30.500000</td>\n",
       "      <td>71</td>\n",
       "      <td>7</td>\n",
       "      <td>14</td>\n",
       "      <td>1</td>\n",
       "      <td>NaN</td>\n",
       "      <td>13.250000</td>\n",
       "    </tr>\n",
       "    <tr>\n",
       "      <th>7636</th>\n",
       "      <td>4964</td>\n",
       "      <td>727</td>\n",
       "      <td>True</td>\n",
       "      <td>953.0</td>\n",
       "      <td>NaN</td>\n",
       "      <td>6</td>\n",
       "      <td>3703.220316</td>\n",
       "      <td>1227</td>\n",
       "      <td>18.833333</td>\n",
       "      <td>41.666667</td>\n",
       "      <td>60</td>\n",
       "      <td>6</td>\n",
       "      <td>12</td>\n",
       "      <td>1</td>\n",
       "      <td>NaN</td>\n",
       "      <td>22.833333</td>\n",
       "    </tr>\n",
       "    <tr>\n",
       "      <th>7637</th>\n",
       "      <td>143</td>\n",
       "      <td>808</td>\n",
       "      <td>True</td>\n",
       "      <td>1060.0</td>\n",
       "      <td>1151.0</td>\n",
       "      <td>0</td>\n",
       "      <td>4496.050707</td>\n",
       "      <td>1230</td>\n",
       "      <td>21.000000</td>\n",
       "      <td>35.166667</td>\n",
       "      <td>67</td>\n",
       "      <td>6</td>\n",
       "      <td>13</td>\n",
       "      <td>0</td>\n",
       "      <td>7.583333</td>\n",
       "      <td>14.166667</td>\n",
       "    </tr>\n",
       "    <tr>\n",
       "      <th>7638</th>\n",
       "      <td>11018</td>\n",
       "      <td>811</td>\n",
       "      <td>True</td>\n",
       "      <td>1032.0</td>\n",
       "      <td>1053.0</td>\n",
       "      <td>0</td>\n",
       "      <td>6565.818007</td>\n",
       "      <td>1228</td>\n",
       "      <td>18.416667</td>\n",
       "      <td>34.750000</td>\n",
       "      <td>67</td>\n",
       "      <td>6</td>\n",
       "      <td>13</td>\n",
       "      <td>0</td>\n",
       "      <td>1.750000</td>\n",
       "      <td>16.333333</td>\n",
       "    </tr>\n",
       "  </tbody>\n",
       "</table>\n",
       "<p>4126 rows × 16 columns</p>\n",
       "</div>"
      ],
      "text/plain": [
       "      caseid  cmbirth  evrmarry  cmmarrhx  cmdivorcx  parity     finalwgt  \\\n",
       "1       5012      718      True     974.0     1077.0       1  4744.191350   \n",
       "2      11586      708      True     910.0      938.0       1  4744.191350   \n",
       "5        845      727      True     937.0        NaN       6  4705.681352   \n",
       "8       8656      780      True    1003.0        NaN       3  6520.021223   \n",
       "10      5917      714      True     953.0        NaN       2  3488.586646   \n",
       "...      ...      ...       ...       ...        ...     ...          ...   \n",
       "7634    1282      798      True    1057.0     1119.0       2  4055.209574   \n",
       "7635    2954      862      True    1069.0        NaN       1  4087.693768   \n",
       "7636    4964      727      True     953.0        NaN       6  3703.220316   \n",
       "7637     143      808      True    1060.0     1151.0       0  4496.050707   \n",
       "7638   11018      811      True    1032.0     1053.0       0  6565.818007   \n",
       "\n",
       "      cmintvw   agemarry        age  year  decade  fives  notdivorced  \\\n",
       "1        1233  21.333333  42.916667    59       5     11            0   \n",
       "2        1234  16.833333  43.833333    58       5     11            0   \n",
       "5        1234  17.500000  42.250000    60       6     12            1   \n",
       "8        1237  18.583333  38.083333    64       6     12            1   \n",
       "10       1233  19.916667  43.250000    59       5     11            1   \n",
       "...       ...        ...        ...   ...     ...    ...          ...   \n",
       "7634     1228  21.583333  35.833333    66       6     13            0   \n",
       "7635     1228  17.250000  30.500000    71       7     14            1   \n",
       "7636     1227  18.833333  41.666667    60       6     12            1   \n",
       "7637     1230  21.000000  35.166667    67       6     13            0   \n",
       "7638     1228  18.416667  34.750000    67       6     13            0   \n",
       "\n",
       "      duration  durationsofar  \n",
       "1     8.583333      21.583333  \n",
       "2     2.333333      27.000000  \n",
       "5          NaN      24.750000  \n",
       "8          NaN      19.500000  \n",
       "10         NaN      23.333333  \n",
       "...        ...            ...  \n",
       "7634  5.166667      14.250000  \n",
       "7635       NaN      13.250000  \n",
       "7636       NaN      22.833333  \n",
       "7637  7.583333      14.166667  \n",
       "7638  1.750000      16.333333  \n",
       "\n",
       "[4126 rows x 16 columns]"
      ]
     },
     "execution_count": 115,
     "metadata": {},
     "output_type": "execute_result"
    }
   ],
   "source": [
    "# Quick peek at married6\n",
    "married6"
   ]
  },
  {
   "cell_type": "code",
   "execution_count": 119,
   "metadata": {},
   "outputs": [],
   "source": [
    "#Compute the duration of marriages that have ended in divorce, and the duration, so far, \n",
    "#of marriages that are ongoing. Estimate the hazard and survival curve for the duration of marriage.\n",
    "\n",
    "complete6 = married6[married6.notdivorced!=1].durationsofar.dropna()\n",
    "ongoing6 = married6[married6.evrmarry==1].durationsofar.dropna()\n",
    "\n",
    "complete7 = married7[married7.notdivorced!=1].durationsofar.dropna()\n",
    "ongoing7 = married7[married7.evrmarry==1].durationsofar.dropna()"
   ]
  },
  {
   "cell_type": "code",
   "execution_count": 120,
   "metadata": {},
   "outputs": [
    {
     "data": {
      "image/png": "[encoded data removed]",
      "text/plain": [
       "<Figure size 432x288 with 1 Axes>"
      ]
     },
     "metadata": {
      "needs_background": "light"
     },
     "output_type": "display_data"
    }
   ],
   "source": [
    "# Estimated hazard Cycle 6\n",
    "hf = EstimateHazardFunction(complete6, ongoing6)\n",
    "thinkplot.Plot(hf)\n",
    "thinkplot.Config(xlabel='Age (years)',\n",
    "                 ylabel='Hazard',\n",
    "                title = 'Cycle 6')\n"
   ]
  },
  {
   "cell_type": "code",
   "execution_count": 121,
   "metadata": {},
   "outputs": [
    {
     "data": {
      "image/png": "[encoded data removed]",
      "text/plain": [
       "<Figure size 432x288 with 1 Axes>"
      ]
     },
     "metadata": {
      "needs_background": "light"
     },
     "output_type": "display_data"
    }
   ],
   "source": [
    "# Survival curve Cycle 6\n",
    "sf = hf.MakeSurvival()\n",
    "thinkplot.Plot(sf)\n",
    "thinkplot.Config(xlabel='Age (years)',\n",
    "                 ylabel='Prob Divorce',\n",
    "                 ylim=[0, 1],\n",
    "                title = 'Cycle 6')"
   ]
  },
  {
   "cell_type": "code",
   "execution_count": 77,
   "metadata": {},
   "outputs": [
    {
     "data": {
      "image/png": "[encoded data removed]",
      "text/plain": [
       "<Figure size 432x288 with 1 Axes>"
      ]
     },
     "metadata": {
      "needs_background": "light"
     },
     "output_type": "display_data"
    }
   ],
   "source": [
    "#Estimated hazard Cycle 7\n",
    "hf = EstimateHazardFunction(complete7, ongoing7)\n",
    "thinkplot.Plot(hf)\n",
    "thinkplot.Config(xlabel='Age (years)',\n",
    "                 ylabel='Hazard',\n",
    "                title = 'Cycle 7')"
   ]
  },
  {
   "cell_type": "code",
   "execution_count": 108,
   "metadata": {},
   "outputs": [
    {
     "data": {
      "image/png": "[encoded data removed]",
      "text/plain": [
       "<Figure size 432x288 with 1 Axes>"
      ]
     },
     "metadata": {
      "needs_background": "light"
     },
     "output_type": "display_data"
    }
   ],
   "source": [
    "# Survival curve Cycle 7\n",
    "sf = hf.MakeSurvival()\n",
    "thinkplot.Plot(sf)\n",
    "thinkplot.Config(xlabel='Age (years)',\n",
    "                 ylabel='Prob Divorce',\n",
    "                 ylim=[0, 1],\n",
    "                title = 'Cycle 7')"
   ]
  },
  {
   "cell_type": "code",
   "execution_count": 56,
   "metadata": {},
   "outputs": [],
   "source": [
    "# Use resampling to take into account sampling weights, and plot data from several resamples to visualize sampling\n",
    "#error.\n",
    "\n",
    "def ResampledDivorce(resps iters=15):\n",
    "\n",
    "    for i in range(iters):\n",
    "        samples = [thinkstats2.ResampleRowsWeighted(resp) \n",
    "                   for resp in resps]\n",
    "        sample = pd.concat(samples, ignore_index=True)\n",
    "        PlotDivorce(sample) #color='#225EA8', alpha=0.1)\n",
    "        \n",
    "    thinkplot.Show(xlabel='Years', axis= [0,30,0,1])\n"
   ]
  },
  {
   "cell_type": "code",
   "execution_count": 101,
   "metadata": {},
   "outputs": [],
   "source": [
    "#Solution\n",
    "def ResampleDivorceByDecade(resps, iters=15):\n",
    "    \"\"\"resps: list of DataFrames \n",
    "        iters: number of resamples to plot\"\"\"\n",
    "    for i in range(iters):\n",
    "        samples = [thinkstats2.ResampleRowsWeighted(resp) \n",
    "            for resp in resps]\n",
    "        sample = pd.concat(samples, ignore_index=True)\n",
    "        groups = sample.groupby('decade')\n",
    "        if i == 0:\n",
    "            survival.AddLabelsByDecade(groups, alpha=0.1) #0.7\n",
    "\n",
    "        EstimateSurvivalInDecade(groups, alpha=0.1)\n",
    "\n",
    "    thinkplot.Config(xlabel='Years',\n",
    "                     ylabel='Fraction Not Divorced',\n",
    "                     axis=[0, 30, 0, 1])"
   ]
  },
  {
   "cell_type": "code",
   "execution_count": 125,
   "metadata": {},
   "outputs": [],
   "source": [
    "def EstimateInDecade(groups, **options):\n",
    "    thinkplot.PrePlot(len(groups))\n",
    "    for name, group in groups:\n",
    "        _, sf = EstimateSurvival(group)\n",
    "        thinkplot.Plot(sf, **options)"
   ]
  },
  {
   "cell_type": "code",
   "execution_count": 130,
   "metadata": {},
   "outputs": [],
   "source": [
    "def EstimateSurvival(resp):\n",
    "\n",
    "    complete = resp[resp.notdivorced!=1].duration.dropna()\n",
    "    ongoing = resp[resp.notdivorced==1].durationsofar.dropna()\n",
    "\n",
    "    hf = survival.EstimateHazardFunction(complete, ongoing)\n",
    "    sf = hf.MakeSurvival()\n",
    "\n",
    "    return hf, sf"
   ]
  },
  {
   "cell_type": "code",
   "execution_count": 131,
   "metadata": {},
   "outputs": [
    {
     "data": {
      "image/png": "[encoded data removed]",
      "text/plain": [
       "<Figure size 432x288 with 1 Axes>"
      ]
     },
     "metadata": {
      "needs_background": "light"
     },
     "output_type": "display_data"
    }
   ],
   "source": [
    "ResampleDivorceByDecade([married6, married7])\n",
    "#Odd that they just drop like that."
   ]
  }
 ],
 "metadata": {
  "kernelspec": {
   "display_name": "Python 3",
   "language": "python",
   "name": "python3"
  },
  "language_info": {
   "codemirror_mode": {
    "name": "ipython",
    "version": 3
   },
   "file_extension": ".py",
   "mimetype": "text/x-python",
   "name": "python",
   "nbconvert_exporter": "python",
   "pygments_lexer": "ipython3",
   "version": "3.8.3"
  }
 },
 "nbformat": 4,
 "nbformat_minor": 1
}
