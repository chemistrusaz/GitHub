{
 "cells": [
  {
   "cell_type": "markdown",
   "id": "fb20179f",
   "metadata": {},
   "source": [
    "Name: Tushar Muley\n",
    "\n",
    "Assignment: Assignment 6-3\n",
    "\n",
    "Date:January 9, 2022"
   ]
  },
  {
   "cell_type": "markdown",
   "id": "253aadcd",
   "metadata": {},
   "source": [
    "Assignment 6.3"
   ]
  },
  {
   "cell_type": "markdown",
   "id": "b60875f4",
   "metadata": {},
   "source": [
    "Load the ResNet50 model. Perform image classification on five to ten images of your choice. They can be personal images or publically available images."
   ]
  },
  {
   "cell_type": "code",
   "execution_count": 1,
   "id": "d0f87145",
   "metadata": {},
   "outputs": [],
   "source": [
    "# load librariesabs\n",
    "\n",
    "from tensorflow.keras.applications.resnet50 import ResNet50\n",
    "from tensorflow.keras.preprocessing import image\n",
    "from tensorflow.keras.applications.resnet50 import preprocess_input,decode_predictions\n",
    "import numpy as np"
   ]
  },
  {
   "cell_type": "code",
   "execution_count": 2,
   "id": "7372f376",
   "metadata": {},
   "outputs": [
    {
     "name": "stdout",
     "output_type": "stream",
     "text": [
      "Downloading data from https://storage.googleapis.com/tensorflow/keras-applications/resnet/resnet50_weights_tf_dim_ordering_tf_kernels.h5\n",
      "102973440/102967424 [==============================] - 32s 0us/step\n"
     ]
    }
   ],
   "source": [
    "model = ResNet50(weights='imagenet')"
   ]
  },
  {
   "cell_type": "code",
   "execution_count": 3,
   "id": "2ad5af4d",
   "metadata": {},
   "outputs": [],
   "source": [
    "# image 1 - Cat\n",
    "img_path = 'images/cat.jpg'\n",
    "img = image.load_img(img_path, target_size=(224, 224))\n",
    "x = image.img_to_array(img)\n",
    "x = np.expand_dims(x, axis=0)\n",
    "x = preprocess_input(x)"
   ]
  },
  {
   "cell_type": "code",
   "execution_count": 4,
   "id": "c5341572",
   "metadata": {},
   "outputs": [
    {
     "name": "stdout",
     "output_type": "stream",
     "text": [
      "Downloading data from https://storage.googleapis.com/download.tensorflow.org/data/imagenet_class_index.json\n",
      "40960/35363 [==================================] - 0s 1us/step\n",
      "Predicted: [('n02123045', 'tabby', 0.34258923), ('n02127052', 'lynx', 0.28296286), ('n02124075', 'Egyptian_cat', 0.17924757)]\n"
     ]
    }
   ],
   "source": [
    "preds = model.predict(x)\n",
    "\n",
    "# print prediction\n",
    "print('Predicted:', decode_predictions(preds, top=3)[0])"
   ]
  },
  {
   "cell_type": "code",
   "execution_count": 5,
   "id": "cc75d187",
   "metadata": {},
   "outputs": [],
   "source": [
    "# image 2 - Dog\n",
    "img_path = 'images/dog.jpg'\n",
    "img = image.load_img(img_path, target_size=(224, 224))\n",
    "x = image.img_to_array(img)\n",
    "x = np.expand_dims(x, axis=0)\n",
    "x = preprocess_input(x)\n"
   ]
  },
  {
   "cell_type": "code",
   "execution_count": 6,
   "id": "9ed84df8",
   "metadata": {},
   "outputs": [
    {
     "name": "stdout",
     "output_type": "stream",
     "text": [
      "Predicted: [('n02085620', 'Chihuahua', 0.74188256), ('n02091032', 'Italian_greyhound', 0.119903475), ('n02087046', 'toy_terrier', 0.040911667)]\n"
     ]
    }
   ],
   "source": [
    "preds = model.predict(x)\n",
    "# print prediction\n",
    "print('Predicted:', decode_predictions(preds, top=3)[0])"
   ]
  },
  {
   "cell_type": "code",
   "execution_count": 7,
   "id": "4dac78dc",
   "metadata": {},
   "outputs": [],
   "source": [
    "# image 3 - Car\n",
    "img_path = 'images/car.jpg'\n",
    "img = image.load_img(img_path, target_size=(224, 224))\n",
    "x = image.img_to_array(img)\n",
    "x = np.expand_dims(x, axis=0)\n",
    "x = preprocess_input(x)"
   ]
  },
  {
   "cell_type": "code",
   "execution_count": 8,
   "id": "52c96a2a",
   "metadata": {},
   "outputs": [
    {
     "name": "stdout",
     "output_type": "stream",
     "text": [
      "Predicted: [('n02085620', 'Chihuahua', 0.74188256), ('n02091032', 'Italian_greyhound', 0.119903475), ('n02087046', 'toy_terrier', 0.040911667)]\n"
     ]
    }
   ],
   "source": [
    "prepreds = model.predict(x)\n",
    "# print prediction\n",
    "print('Predicted:', decode_predictions(preds, top=3)[0])"
   ]
  },
  {
   "cell_type": "code",
   "execution_count": 9,
   "id": "25af2a54",
   "metadata": {},
   "outputs": [],
   "source": [
    "# image 4 - Plane\n",
    "img_path = 'images/plane.jpg'\n",
    "img = image.load_img(img_path, target_size=(224, 224))\n",
    "x = image.img_to_array(img)\n",
    "x = np.expand_dims(x, axis=0)\n",
    "x = preprocess_input(x)\n"
   ]
  },
  {
   "cell_type": "code",
   "execution_count": 10,
   "id": "1c8ec1ff",
   "metadata": {},
   "outputs": [
    {
     "name": "stdout",
     "output_type": "stream",
     "text": [
      "Predicted: [('n02690373', 'airliner', 0.4190179), ('n02692877', 'airship', 0.1941008), ('n04592741', 'wing', 0.09277537)]\n"
     ]
    }
   ],
   "source": [
    "preds = model.predict(x)\n",
    "# print prediction\n",
    "print('Predicted:', decode_predictions(preds, top=3)[0])"
   ]
  },
  {
   "cell_type": "code",
   "execution_count": 11,
   "id": "223a6efe",
   "metadata": {},
   "outputs": [],
   "source": [
    "# image 5 - Tree\n",
    "img_path = 'images/tree.jpg'\n",
    "img = image.load_img(img_path, target_size=(224, 224))\n",
    "x = image.img_to_array(img)\n",
    "x = np.expand_dims(x, axis=0)\n",
    "x = preprocess_input(x)\n"
   ]
  },
  {
   "cell_type": "code",
   "execution_count": 12,
   "id": "03ceb00b",
   "metadata": {},
   "outputs": [
    {
     "name": "stdout",
     "output_type": "stream",
     "text": [
      "Predicted: [('n09332890', 'lakeside', 0.45476627), ('n09468604', 'valley', 0.08258028), ('n02793495', 'barn', 0.0682712)]\n"
     ]
    }
   ],
   "source": [
    "preds = model.predict(x)\n",
    "# print prediction\n",
    "print('Predicted:', decode_predictions(preds, top=3)[0])"
   ]
  },
  {
   "cell_type": "code",
   "execution_count": 13,
   "id": "35fe52e0",
   "metadata": {},
   "outputs": [],
   "source": [
    "# image 6 - Clock\n",
    "img_path = 'images/clock.jpg'\n",
    "img = image.load_img(img_path, target_size=(224, 224))\n",
    "x = image.img_to_array(img)\n",
    "x = np.expand_dims(x, axis=0)\n",
    "x = preprocess_input(x)\n"
   ]
  },
  {
   "cell_type": "code",
   "execution_count": 14,
   "id": "aad47c29",
   "metadata": {},
   "outputs": [
    {
     "name": "stdout",
     "output_type": "stream",
     "text": [
      "Predicted: [('n02708093', 'analog_clock', 0.68151724), ('n04548280', 'wall_clock', 0.31837997), ('n04328186', 'stopwatch', 5.6163146e-05)]\n"
     ]
    }
   ],
   "source": [
    "preds = model.predict(x)\n",
    "# print prediction\n",
    "print('Predicted:', decode_predictions(preds, top=3)[0])"
   ]
  },
  {
   "cell_type": "code",
   "execution_count": 15,
   "id": "080790cf",
   "metadata": {},
   "outputs": [],
   "source": [
    "# image 7 - Elephant\n",
    "img_path = 'images/elephant.jpg'\n",
    "img = image.load_img(img_path, target_size=(224, 224))\n",
    "x = image.img_to_array(img)\n",
    "x = np.expand_dims(x, axis=0)\n",
    "x = preprocess_input(x)\n"
   ]
  },
  {
   "cell_type": "code",
   "execution_count": 16,
   "id": "44d8eea1",
   "metadata": {},
   "outputs": [
    {
     "name": "stdout",
     "output_type": "stream",
     "text": [
      "Predicted: [('n01871265', 'tusker', 0.56959945), ('n02504458', 'African_elephant', 0.39313105), ('n02504013', 'Indian_elephant', 0.028914424)]\n"
     ]
    }
   ],
   "source": [
    "preds = model.predict(x)\n",
    "# print prediction\n",
    "print('Predicted:', decode_predictions(preds, top=3)[0])"
   ]
  },
  {
   "cell_type": "code",
   "execution_count": 17,
   "id": "237da2be",
   "metadata": {},
   "outputs": [],
   "source": [
    "# image 8 - hippo\n",
    "img_path = 'images/hippo.jpg'\n",
    "img = image.load_img(img_path, target_size=(224, 224))\n",
    "x = image.img_to_array(img)\n",
    "x = np.expand_dims(x, axis=0)\n",
    "x = preprocess_input(x)"
   ]
  },
  {
   "cell_type": "code",
   "execution_count": 19,
   "id": "b7e6c82a",
   "metadata": {},
   "outputs": [
    {
     "name": "stdout",
     "output_type": "stream",
     "text": [
      "Predicted: [('n02398521', 'hippopotamus', 0.9993253), ('n02504013', 'Indian_elephant', 0.00020761864), ('n02408429', 'water_buffalo', 0.000111352296)]\n"
     ]
    }
   ],
   "source": [
    "preds = model.predict(x)\n",
    "# print prediction\n",
    "print('Predicted:', decode_predictions(preds, top=3)[0])"
   ]
  },
  {
   "cell_type": "code",
   "execution_count": 20,
   "id": "2ddc91d0",
   "metadata": {},
   "outputs": [],
   "source": [
    "# image 9 - Bird\n",
    "img_path = 'images/bird.jpg'\n",
    "img = image.load_img(img_path, target_size=(224, 224))\n",
    "x = image.img_to_array(img)\n",
    "x = np.expand_dims(x, axis=0)\n",
    "x = preprocess_input(x)\n"
   ]
  },
  {
   "cell_type": "code",
   "execution_count": 21,
   "id": "d4940b40",
   "metadata": {},
   "outputs": [
    {
     "name": "stdout",
     "output_type": "stream",
     "text": [
      "Predicted: [('n01843065', 'jacamar', 0.13380224), ('n01531178', 'goldfinch', 0.12710223), ('n01530575', 'brambling', 0.09049343)]\n"
     ]
    }
   ],
   "source": [
    "preds = model.predict(x)\n",
    "# print prediction\n",
    "print('Predicted:', decode_predictions(preds, top=3)[0])"
   ]
  },
  {
   "cell_type": "code",
   "execution_count": 23,
   "id": "befc6e3a",
   "metadata": {},
   "outputs": [],
   "source": [
    "# Image 10 - Dragon\n",
    "img_path = 'images/dragon.png'\n",
    "img = image.load_img(img_path, target_size=(224, 224))\n",
    "x = image.img_to_array(img)\n",
    "x = np.expand_dims(x, axis=0)\n",
    "x = preprocess_input(x)"
   ]
  },
  {
   "cell_type": "code",
   "execution_count": 24,
   "id": "c7e35d1b",
   "metadata": {},
   "outputs": [
    {
     "name": "stdout",
     "output_type": "stream",
     "text": [
      "Predicted: [('n03485794', 'handkerchief', 0.22730742), ('n03814906', 'necklace', 0.21184915), ('n04275548', 'spider_web', 0.10659091)]\n"
     ]
    }
   ],
   "source": [
    "preds = model.predict(x)\n",
    "# print prediction\n",
    "print('Predicted:', decode_predictions(preds, top=3)[0])"
   ]
  }
 ],
 "metadata": {
  "kernelspec": {
   "display_name": "Python 3",
   "language": "python",
   "name": "python3"
  },
  "language_info": {
   "codemirror_mode": {
    "name": "ipython",
    "version": 3
   },
   "file_extension": ".py",
   "mimetype": "text/x-python",
   "name": "python",
   "nbconvert_exporter": "python",
   "pygments_lexer": "ipython3",
   "version": "3.8.5"
  }
 },
 "nbformat": 4,
 "nbformat_minor": 5
}
