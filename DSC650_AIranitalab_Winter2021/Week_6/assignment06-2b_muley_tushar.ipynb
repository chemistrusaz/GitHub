{
 "cells": [
  {
   "cell_type": "markdown",
   "id": "ac106f6e",
   "metadata": {},
   "source": [
    "Name: Tushar Muley\n",
    "\n",
    "Assignment: Assignment 6-2b\n",
    "\n",
    "Date:January 9, 2022"
   ]
  },
  {
   "cell_type": "markdown",
   "id": "6915afe7",
   "metadata": {},
   "source": [
    "##### Assignment 6.2b"
   ]
  },
  {
   "cell_type": "markdown",
   "id": "bd0f0ba1",
   "metadata": {},
   "source": [
    "Using section 5.2 in Deep Learning with Python as a guide, create a ConvNet model that classifies images CIFAR10 small images classification dataset. This time includes dropout and data-augmentation."
   ]
  },
  {
   "cell_type": "code",
   "execution_count": 1,
   "id": "2341fe38",
   "metadata": {},
   "outputs": [],
   "source": [
    "# download data\n",
    "from keras.datasets import cifar10\n",
    "from keras.utils import to_categorical\n",
    "from keras.preprocessing.image import ImageDataGenerator\n",
    "\n"
   ]
  },
  {
   "cell_type": "code",
   "execution_count": 2,
   "id": "a4f66aec",
   "metadata": {},
   "outputs": [],
   "source": [
    "# libraries\n",
    "import pandas as pd\n",
    "import matplotlib.pyplot as plt"
   ]
  },
  {
   "cell_type": "code",
   "execution_count": 3,
   "id": "13fbb399",
   "metadata": {},
   "outputs": [],
   "source": [
    "# breakout the data\n",
    "(x_train, y_train), (x_test, y_test) = cifar10.load_data()"
   ]
  },
  {
   "cell_type": "code",
   "execution_count": 4,
   "id": "0654b1ec",
   "metadata": {},
   "outputs": [
    {
     "data": {
      "text/plain": [
       "((50000, 32, 32, 3), (50000, 1))"
      ]
     },
     "execution_count": 4,
     "metadata": {},
     "output_type": "execute_result"
    }
   ],
   "source": [
    "# check the data volume for training\n",
    "x_train.shape, y_train.shape"
   ]
  },
  {
   "cell_type": "code",
   "execution_count": 5,
   "id": "6ef641f8",
   "metadata": {},
   "outputs": [
    {
     "data": {
      "text/plain": [
       "((10000, 32, 32, 3), (10000, 1))"
      ]
     },
     "execution_count": 5,
     "metadata": {},
     "output_type": "execute_result"
    }
   ],
   "source": [
    "# check the data volume for test\n",
    "x_test.shape, y_test.shape"
   ]
  },
  {
   "cell_type": "code",
   "execution_count": 6,
   "id": "7a7b9b13",
   "metadata": {},
   "outputs": [],
   "source": [
    "# preprocess the data\n",
    "x_train = x_train.astype(\"float32\")\n",
    "x_test = x_test.astype(\"float32\")\n",
    "y_train = to_categorical(y_train)\n",
    "y_test = to_categorical(y_test)\n"
   ]
  },
  {
   "cell_type": "code",
   "execution_count": 7,
   "id": "751ded86",
   "metadata": {},
   "outputs": [],
   "source": [
    "# reserve 10K samples for validation\n",
    "x_val = x_train[-10000:]\n",
    "y_val = y_train[-10000:]\n",
    "partial_x_train = x_train[:-10000]\n",
    "partial_y_train = y_train[:-10000]"
   ]
  },
  {
   "cell_type": "code",
   "execution_count": 10,
   "id": "f3475ef1",
   "metadata": {},
   "outputs": [],
   "source": [
    "train_datagen = ImageDataGenerator(rescale=1./255,\n",
    "                                   rotation_range=40,\n",
    "                                   width_shift_range=0.2,\n",
    "                                   height_shift_range=0.2,\n",
    "                                   shear_range=0.2,\n",
    "                                   zoom_range=0.2,\n",
    "                                   horizontal_flip=True)\n",
    "\n",
    "test_datagen = ImageDataGenerator(rescale=1./255)\n",
    "\n",
    "train_generator = train_datagen.flow(partial_x_train, partial_y_train,\n",
    "                                     batch_size=32)\n",
    "\n",
    "validation_generator = train_datagen.flow(x_val, y_val, batch_size=32)"
   ]
  },
  {
   "cell_type": "code",
   "execution_count": 11,
   "id": "347c8cb0",
   "metadata": {},
   "outputs": [],
   "source": [
    "# instantiate the model\n",
    "from keras import models\n",
    "from keras import layers"
   ]
  },
  {
   "cell_type": "code",
   "execution_count": 12,
   "id": "e286da3a",
   "metadata": {},
   "outputs": [],
   "source": [
    "model = models.Sequential()\n",
    "model.add(layers.Conv2D(32, (3,3), activation='relu', input_shape=(32,32,3)))\n",
    "model.add(layers.MaxPooling2D(2,2))\n",
    "model.add(layers.Conv2D(64, (3,3), activation='relu'))\n",
    "model.add(layers.MaxPooling2D(2,2))\n",
    "model.add(layers.Conv2D(64, (3,3), activation='relu'))\n",
    "model.add(layers.MaxPooling2D(2,2))\n",
    "model.add(layers.Flatten())\n",
    "model.add(layers.Dropout(0.5))\n",
    "model.add(layers.Dense(64, activation='relu'))\n",
    "model.add(layers.Dense(10, activation='softmax'))"
   ]
  },
  {
   "cell_type": "code",
   "execution_count": 13,
   "id": "43a74b91",
   "metadata": {},
   "outputs": [
    {
     "name": "stdout",
     "output_type": "stream",
     "text": [
      "Model: \"sequential\"\n",
      "_________________________________________________________________\n",
      "Layer (type)                 Output Shape              Param #   \n",
      "=================================================================\n",
      "conv2d (Conv2D)              (None, 30, 30, 32)        896       \n",
      "_________________________________________________________________\n",
      "max_pooling2d (MaxPooling2D) (None, 15, 15, 32)        0         \n",
      "_________________________________________________________________\n",
      "conv2d_1 (Conv2D)            (None, 13, 13, 64)        18496     \n",
      "_________________________________________________________________\n",
      "max_pooling2d_1 (MaxPooling2 (None, 6, 6, 64)          0         \n",
      "_________________________________________________________________\n",
      "conv2d_2 (Conv2D)            (None, 4, 4, 64)          36928     \n",
      "_________________________________________________________________\n",
      "max_pooling2d_2 (MaxPooling2 (None, 2, 2, 64)          0         \n",
      "_________________________________________________________________\n",
      "flatten (Flatten)            (None, 256)               0         \n",
      "_________________________________________________________________\n",
      "dropout (Dropout)            (None, 256)               0         \n",
      "_________________________________________________________________\n",
      "dense (Dense)                (None, 64)                16448     \n",
      "_________________________________________________________________\n",
      "dense_1 (Dense)              (None, 10)                650       \n",
      "=================================================================\n",
      "Total params: 73,418\n",
      "Trainable params: 73,418\n",
      "Non-trainable params: 0\n",
      "_________________________________________________________________\n"
     ]
    }
   ],
   "source": [
    "model.summary()"
   ]
  },
  {
   "cell_type": "code",
   "execution_count": 14,
   "id": "ddb03665",
   "metadata": {},
   "outputs": [],
   "source": [
    "from keras import optimizers\n",
    "model.compile(optimizer=optimizers.RMSprop(lr=1e-4),\n",
    "              loss='categorical_crossentropy',\n",
    "              metrics=['accuracy'])"
   ]
  },
  {
   "cell_type": "code",
   "execution_count": 15,
   "id": "2281dbf6",
   "metadata": {},
   "outputs": [
    {
     "name": "stderr",
     "output_type": "stream",
     "text": [
      "C:\\Users\\Tushar\\AppData\\Roaming\\Python\\Python38\\site-packages\\tensorflow\\python\\keras\\engine\\training.py:1844: UserWarning: `Model.fit_generator` is deprecated and will be removed in a future version. Please use `Model.fit`, which supports generators.\n",
      "  warnings.warn('`Model.fit_generator` is deprecated and '\n"
     ]
    },
    {
     "name": "stdout",
     "output_type": "stream",
     "text": [
      "Epoch 1/30\n",
      "1250/1250 [==============================] - 60s 47ms/step - loss: 2.2583 - accuracy: 0.1430 - val_loss: 1.9999 - val_accuracy: 0.2568\n",
      "Epoch 2/30\n",
      "1250/1250 [==============================] - 62s 50ms/step - loss: 1.9972 - accuracy: 0.2494 - val_loss: 1.8848 - val_accuracy: 0.3030\n",
      "Epoch 3/30\n",
      "1250/1250 [==============================] - 62s 49ms/step - loss: 1.9050 - accuracy: 0.2826 - val_loss: 1.8627 - val_accuracy: 0.3095\n",
      "Epoch 4/30\n",
      "1250/1250 [==============================] - 62s 49ms/step - loss: 1.8612 - accuracy: 0.3009 - val_loss: 1.8021 - val_accuracy: 0.3351\n",
      "Epoch 5/30\n",
      "1250/1250 [==============================] - 62s 49ms/step - loss: 1.8156 - accuracy: 0.3192 - val_loss: 1.7502 - val_accuracy: 0.3557\n",
      "Epoch 6/30\n",
      "1250/1250 [==============================] - 62s 49ms/step - loss: 1.7806 - accuracy: 0.3404 - val_loss: 1.7236 - val_accuracy: 0.3691\n",
      "Epoch 7/30\n",
      "1250/1250 [==============================] - 62s 49ms/step - loss: 1.7681 - accuracy: 0.3456 - val_loss: 1.6977 - val_accuracy: 0.3761\n",
      "Epoch 8/30\n",
      "1250/1250 [==============================] - 62s 49ms/step - loss: 1.7446 - accuracy: 0.3568 - val_loss: 1.6772 - val_accuracy: 0.3939\n",
      "Epoch 9/30\n",
      "1250/1250 [==============================] - 61s 49ms/step - loss: 1.7183 - accuracy: 0.3696 - val_loss: 1.6555 - val_accuracy: 0.4047\n",
      "Epoch 10/30\n",
      "1250/1250 [==============================] - 61s 49ms/step - loss: 1.6886 - accuracy: 0.3797 - val_loss: 1.6210 - val_accuracy: 0.4179\n",
      "Epoch 11/30\n",
      "1250/1250 [==============================] - 61s 49ms/step - loss: 1.6771 - accuracy: 0.3872 - val_loss: 1.6175 - val_accuracy: 0.4104\n",
      "Epoch 12/30\n",
      "1250/1250 [==============================] - 62s 49ms/step - loss: 1.6608 - accuracy: 0.3956 - val_loss: 1.5951 - val_accuracy: 0.4259\n",
      "Epoch 13/30\n",
      "1250/1250 [==============================] - 62s 50ms/step - loss: 1.6458 - accuracy: 0.4024 - val_loss: 1.5915 - val_accuracy: 0.4257\n",
      "Epoch 14/30\n",
      "1250/1250 [==============================] - 63s 50ms/step - loss: 1.6321 - accuracy: 0.4082 - val_loss: 1.5732 - val_accuracy: 0.4314\n",
      "Epoch 15/30\n",
      "1250/1250 [==============================] - 58s 47ms/step - loss: 1.6223 - accuracy: 0.4096 - val_loss: 1.5489 - val_accuracy: 0.4376\n",
      "Epoch 16/30\n",
      "1250/1250 [==============================] - 54s 43ms/step - loss: 1.6057 - accuracy: 0.4191 - val_loss: 1.5541 - val_accuracy: 0.4433\n",
      "Epoch 17/30\n",
      "1250/1250 [==============================] - 58s 46ms/step - loss: 1.6026 - accuracy: 0.4219 - val_loss: 1.5387 - val_accuracy: 0.4476\n",
      "Epoch 18/30\n",
      "1250/1250 [==============================] - 55s 44ms/step - loss: 1.5769 - accuracy: 0.4283 - val_loss: 1.5222 - val_accuracy: 0.4552\n",
      "Epoch 19/30\n",
      "1250/1250 [==============================] - 53s 42ms/step - loss: 1.5702 - accuracy: 0.4296 - val_loss: 1.5036 - val_accuracy: 0.4639\n",
      "Epoch 20/30\n",
      "1250/1250 [==============================] - 54s 43ms/step - loss: 1.5645 - accuracy: 0.4354 - val_loss: 1.5043 - val_accuracy: 0.4595\n",
      "Epoch 21/30\n",
      "1250/1250 [==============================] - 56s 45ms/step - loss: 1.5555 - accuracy: 0.4385 - val_loss: 1.4785 - val_accuracy: 0.4710\n",
      "Epoch 22/30\n",
      "1250/1250 [==============================] - 53s 42ms/step - loss: 1.5421 - accuracy: 0.4427 - val_loss: 1.4754 - val_accuracy: 0.4779\n",
      "Epoch 23/30\n",
      "1250/1250 [==============================] - 50s 40ms/step - loss: 1.5369 - accuracy: 0.4494 - val_loss: 1.4709 - val_accuracy: 0.4753\n",
      "Epoch 24/30\n",
      "1250/1250 [==============================] - 50s 40ms/step - loss: 1.5217 - accuracy: 0.4532 - val_loss: 1.4534 - val_accuracy: 0.4818\n",
      "Epoch 25/30\n",
      "1250/1250 [==============================] - 50s 40ms/step - loss: 1.5191 - accuracy: 0.4543 - val_loss: 1.4482 - val_accuracy: 0.4783\n",
      "Epoch 26/30\n",
      "1250/1250 [==============================] - 50s 40ms/step - loss: 1.5038 - accuracy: 0.4554 - val_loss: 1.4608 - val_accuracy: 0.4853\n",
      "Epoch 27/30\n",
      "1250/1250 [==============================] - 50s 40ms/step - loss: 1.5010 - accuracy: 0.4602 - val_loss: 1.4553 - val_accuracy: 0.4801\n",
      "Epoch 28/30\n",
      "1250/1250 [==============================] - 52s 42ms/step - loss: 1.4935 - accuracy: 0.4627 - val_loss: 1.4310 - val_accuracy: 0.4837\n",
      "Epoch 29/30\n",
      "1250/1250 [==============================] - 56s 45ms/step - loss: 1.4863 - accuracy: 0.4663 - val_loss: 1.4354 - val_accuracy: 0.4914\n",
      "Epoch 30/30\n",
      "1250/1250 [==============================] - 62s 50ms/step - loss: 1.4890 - accuracy: 0.4674 - val_loss: 1.4205 - val_accuracy: 0.5007\n"
     ]
    }
   ],
   "source": [
    "history = model.fit_generator(train_generator,\n",
    "                              steps_per_epoch=len(partial_x_train) / 32,\n",
    "                              epochs=30,\n",
    "                              validation_data=validation_generator,\n",
    "                              validation_steps=len(x_val) / 32)"
   ]
  },
  {
   "cell_type": "code",
   "execution_count": 16,
   "id": "726754bd",
   "metadata": {},
   "outputs": [
    {
     "data": {
      "text/plain": [
       "dict_keys(['loss', 'accuracy', 'val_loss', 'val_accuracy'])"
      ]
     },
     "execution_count": 16,
     "metadata": {},
     "output_type": "execute_result"
    }
   ],
   "source": [
    "history_dict = history.history\n",
    "history_dict.keys()"
   ]
  },
  {
   "cell_type": "code",
   "execution_count": 17,
   "id": "1617ad21",
   "metadata": {},
   "outputs": [
    {
     "data": {
      "image/png": "[encoded data removed]",
      "text/plain": [
       "<Figure size 432x288 with 1 Axes>"
      ]
     },
     "metadata": {
      "needs_background": "light"
     },
     "output_type": "display_data"
    }
   ],
   "source": [
    "# plot the training and validation loss\n",
    "\n",
    "history_dict = history.history\n",
    "loss_values = history_dict[\"loss\"]\n",
    "val_loss_values = history_dict[\"val_loss\"]\n",
    "epochs = range(1, len(loss_values) + 1)\n",
    "plt.plot(epochs, loss_values, \"bo\", label=\"Training loss\")\n",
    "plt.plot(epochs, val_loss_values, \"b\", label=\"Validation loss\")\n",
    "plt.title(\"Training and validation loss\")\n",
    "plt.xlabel(\"Epochs\")\n",
    "plt.ylabel(\"Loss\")\n",
    "plt.legend()\n",
    "plt.show()"
   ]
  },
  {
   "cell_type": "code",
   "execution_count": 18,
   "id": "bb03fbe4",
   "metadata": {},
   "outputs": [
    {
     "data": {
      "image/png": "[encoded data removed]",
      "text/plain": [
       "<Figure size 432x288 with 1 Axes>"
      ]
     },
     "metadata": {
      "needs_background": "light"
     },
     "output_type": "display_data"
    }
   ],
   "source": [
    "# plot the training and validation accuracy\n",
    "plt.clf()\n",
    "acc = history_dict[\"accuracy\"]\n",
    "val_acc = history_dict[\"val_accuracy\"]\n",
    "plt.plot(epochs, acc, \"bo\", label=\"Training acc\")\n",
    "plt.plot(epochs, val_acc, \"b\", label=\"Validation acc\")\n",
    "plt.title(\"Training and validation accuracy\")\n",
    "plt.xlabel(\"Epochs\")\n",
    "plt.ylabel(\"Accuracy\")\n",
    "plt.legend()\n",
    "plt.show()"
   ]
  },
  {
   "cell_type": "code",
   "execution_count": 19,
   "id": "3fd1330c",
   "metadata": {},
   "outputs": [
    {
     "name": "stdout",
     "output_type": "stream",
     "text": [
      "Epoch 1/16\n",
      "1562/1562 [==============================] - 61s 38ms/step - loss: 1.4690 - accuracy: 0.4749\n",
      "Epoch 2/16\n",
      "1562/1562 [==============================] - 61s 39ms/step - loss: 1.4774 - accuracy: 0.4704\n",
      "Epoch 3/16\n",
      "1562/1562 [==============================] - 59s 38ms/step - loss: 1.4617 - accuracy: 0.4783\n",
      "Epoch 4/16\n",
      "1562/1562 [==============================] - 59s 38ms/step - loss: 1.4572 - accuracy: 0.4773\n",
      "Epoch 5/16\n",
      "1562/1562 [==============================] - 60s 39ms/step - loss: 1.4420 - accuracy: 0.4835\n",
      "Epoch 6/16\n",
      "1562/1562 [==============================] - 61s 39ms/step - loss: 1.4284 - accuracy: 0.4907\n",
      "Epoch 7/16\n",
      "1562/1562 [==============================] - 62s 40ms/step - loss: 1.4361 - accuracy: 0.4879\n",
      "Epoch 8/16\n",
      "1562/1562 [==============================] - 66s 42ms/step - loss: 1.4229 - accuracy: 0.4887\n",
      "Epoch 9/16\n",
      "1562/1562 [==============================] - 68s 43ms/step - loss: 1.4268 - accuracy: 0.4926\n",
      "Epoch 10/16\n",
      "1562/1562 [==============================] - 63s 40ms/step - loss: 1.4205 - accuracy: 0.4928\n",
      "Epoch 11/16\n",
      "1562/1562 [==============================] - 63s 41ms/step - loss: 1.4097 - accuracy: 0.4974\n",
      "Epoch 12/16\n",
      "1562/1562 [==============================] - 61s 39ms/step - loss: 1.3999 - accuracy: 0.5010\n",
      "Epoch 13/16\n",
      "1562/1562 [==============================] - 62s 40ms/step - loss: 1.4002 - accuracy: 0.5011\n",
      "Epoch 14/16\n",
      "1562/1562 [==============================] - 60s 38ms/step - loss: 1.3925 - accuracy: 0.5030\n",
      "Epoch 15/16\n",
      "1562/1562 [==============================] - 60s 38ms/step - loss: 1.3854 - accuracy: 0.5091\n",
      "Epoch 16/16\n",
      "1562/1562 [==============================] - 60s 39ms/step - loss: 1.3960 - accuracy: 0.5014\n",
      "313/313 [==============================] - 3s 9ms/step - loss: 237.8977 - accuracy: 0.3425\n"
     ]
    }
   ],
   "source": [
    "# retrain the model\n",
    "train_generator = train_datagen.flow(x_train, y_train, batch_size=32)\n",
    "\n",
    "model.compile(optimizer=optimizers.RMSprop(lr=1e-4),\n",
    "              loss='categorical_crossentropy',metrics=['accuracy'])\n",
    "\n",
    "history = model.fit_generator(train_generator,\n",
    "                              steps_per_epoch=len(x_train) / 32,epochs=16)\n",
    "\n",
    "results = model.evaluate(x_test, y_test)"
   ]
  },
  {
   "cell_type": "code",
   "execution_count": 20,
   "id": "c68e3ca5",
   "metadata": {},
   "outputs": [
    {
     "data": {
      "text/plain": [
       "[237.89772033691406, 0.3425000011920929]"
      ]
     },
     "execution_count": 20,
     "metadata": {},
     "output_type": "execute_result"
    }
   ],
   "source": [
    "# print results\n",
    "results"
   ]
  },
  {
   "cell_type": "code",
   "execution_count": 21,
   "id": "96a6a363",
   "metadata": {},
   "outputs": [
    {
     "data": {
      "text/plain": [
       "array([[1., 0., 0., ..., 0., 0., 0.],\n",
       "       [0., 1., 0., ..., 0., 0., 0.],\n",
       "       [1., 0., 0., ..., 0., 0., 0.],\n",
       "       ...,\n",
       "       [0., 0., 0., ..., 0., 0., 0.],\n",
       "       [1., 0., 0., ..., 0., 0., 0.],\n",
       "       [0., 0., 0., ..., 1., 0., 0.]], dtype=float32)"
      ]
     },
     "execution_count": 21,
     "metadata": {},
     "output_type": "execute_result"
    }
   ],
   "source": [
    "# generate predictions on new data\n",
    "model.predict(x_test)"
   ]
  }
 ],
 "metadata": {
  "kernelspec": {
   "display_name": "Python 3",
   "language": "python",
   "name": "python3"
  },
  "language_info": {
   "codemirror_mode": {
    "name": "ipython",
    "version": 3
   },
   "file_extension": ".py",
   "mimetype": "text/x-python",
   "name": "python",
   "nbconvert_exporter": "python",
   "pygments_lexer": "ipython3",
   "version": "3.8.5"
  }
 },
 "nbformat": 4,
 "nbformat_minor": 5
}
