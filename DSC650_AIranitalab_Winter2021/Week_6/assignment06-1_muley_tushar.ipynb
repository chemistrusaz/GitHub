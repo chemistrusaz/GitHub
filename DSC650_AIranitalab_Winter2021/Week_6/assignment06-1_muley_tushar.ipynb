{
 "cells": [
  {
   "cell_type": "markdown",
   "id": "99496848",
   "metadata": {},
   "source": [
    "Name: Tushar Muley\n",
    "\n",
    "Assignment: Assignment 6-1\n",
    "\n",
    "Date:January 9, 2022"
   ]
  },
  {
   "cell_type": "markdown",
   "id": "b38cac19",
   "metadata": {},
   "source": [
    "#### Assignment 6.1"
   ]
  },
  {
   "cell_type": "markdown",
   "id": "225f40aa",
   "metadata": {},
   "source": [
    "Using section 5.1 in Deep Learning with Python as a guide (listing 5.3 in particular), create a ConvNet model that classifies images in the MNIST digit dataset. "
   ]
  },
  {
   "cell_type": "code",
   "execution_count": 1,
   "id": "85bc83d2",
   "metadata": {},
   "outputs": [],
   "source": [
    "from keras import layers\n",
    "from keras import models\n"
   ]
  },
  {
   "cell_type": "code",
   "execution_count": 2,
   "id": "ccbceedd",
   "metadata": {},
   "outputs": [],
   "source": [
    "model = models.Sequential()\n",
    "model.add(layers.Conv2D(32, (3, 3), activation='relu', input_shape=(28, 28, 1)))\n",
    "model.add(layers.MaxPooling2D((2, 2)))\n",
    "model.add(layers.Conv2D(64, (3, 3), activation='relu'))\n",
    "model.add(layers.MaxPooling2D((2, 2)))\n",
    "model.add(layers.Conv2D(64, (3, 3), activation='relu'))"
   ]
  },
  {
   "cell_type": "code",
   "execution_count": 3,
   "id": "26292935",
   "metadata": {},
   "outputs": [
    {
     "name": "stdout",
     "output_type": "stream",
     "text": [
      "Model: \"sequential\"\n",
      "_________________________________________________________________\n",
      "Layer (type)                 Output Shape              Param #   \n",
      "=================================================================\n",
      "conv2d (Conv2D)              (None, 26, 26, 32)        320       \n",
      "_________________________________________________________________\n",
      "max_pooling2d (MaxPooling2D) (None, 13, 13, 32)        0         \n",
      "_________________________________________________________________\n",
      "conv2d_1 (Conv2D)            (None, 11, 11, 64)        18496     \n",
      "_________________________________________________________________\n",
      "max_pooling2d_1 (MaxPooling2 (None, 5, 5, 64)          0         \n",
      "_________________________________________________________________\n",
      "conv2d_2 (Conv2D)            (None, 3, 3, 64)          36928     \n",
      "=================================================================\n",
      "Total params: 55,744\n",
      "Trainable params: 55,744\n",
      "Non-trainable params: 0\n",
      "_________________________________________________________________\n"
     ]
    }
   ],
   "source": [
    "model.summary()"
   ]
  },
  {
   "cell_type": "markdown",
   "id": "66ba58ee",
   "metadata": {},
   "source": [
    "#### Listing 5.2. Adding a classifier on top of the convnet"
   ]
  },
  {
   "cell_type": "code",
   "execution_count": 4,
   "id": "1f407606",
   "metadata": {},
   "outputs": [],
   "source": [
    "model.add(layers.Flatten())\n",
    "model.add(layers.Dense(64, activation='relu'))\n",
    "model.add(layers.Dense(10, activation='softmax'))"
   ]
  },
  {
   "cell_type": "code",
   "execution_count": 5,
   "id": "c7579758",
   "metadata": {},
   "outputs": [
    {
     "name": "stdout",
     "output_type": "stream",
     "text": [
      "Model: \"sequential\"\n",
      "_________________________________________________________________\n",
      "Layer (type)                 Output Shape              Param #   \n",
      "=================================================================\n",
      "conv2d (Conv2D)              (None, 26, 26, 32)        320       \n",
      "_________________________________________________________________\n",
      "max_pooling2d (MaxPooling2D) (None, 13, 13, 32)        0         \n",
      "_________________________________________________________________\n",
      "conv2d_1 (Conv2D)            (None, 11, 11, 64)        18496     \n",
      "_________________________________________________________________\n",
      "max_pooling2d_1 (MaxPooling2 (None, 5, 5, 64)          0         \n",
      "_________________________________________________________________\n",
      "conv2d_2 (Conv2D)            (None, 3, 3, 64)          36928     \n",
      "_________________________________________________________________\n",
      "flatten (Flatten)            (None, 576)               0         \n",
      "_________________________________________________________________\n",
      "dense (Dense)                (None, 64)                36928     \n",
      "_________________________________________________________________\n",
      "dense_1 (Dense)              (None, 10)                650       \n",
      "=================================================================\n",
      "Total params: 93,322\n",
      "Trainable params: 93,322\n",
      "Non-trainable params: 0\n",
      "_________________________________________________________________\n"
     ]
    }
   ],
   "source": [
    "model.summary()"
   ]
  },
  {
   "cell_type": "markdown",
   "id": "65c071cf",
   "metadata": {},
   "source": [
    "#### Listing 5.3. Training the convnet on MNIST images"
   ]
  },
  {
   "cell_type": "code",
   "execution_count": 6,
   "id": "67c33eec",
   "metadata": {},
   "outputs": [],
   "source": [
    "from keras.datasets import mnist\n",
    "from keras.utils import to_categorical\n"
   ]
  },
  {
   "cell_type": "code",
   "execution_count": 7,
   "id": "93803be7",
   "metadata": {},
   "outputs": [],
   "source": [
    "(train_images, train_labels), (test_images, test_labels) = mnist.load_data()"
   ]
  },
  {
   "cell_type": "code",
   "execution_count": 8,
   "id": "7fcdbd7f",
   "metadata": {},
   "outputs": [],
   "source": [
    "train_images = train_images.reshape((60000, 28, 28, 1))\n",
    "train_images = train_images.astype('float32') / 255\n"
   ]
  },
  {
   "cell_type": "code",
   "execution_count": 9,
   "id": "8000a9a5",
   "metadata": {},
   "outputs": [],
   "source": [
    "test_images = test_images.reshape((10000, 28, 28, 1))\n",
    "test_images = test_images.astype('float32') / 255\n"
   ]
  },
  {
   "cell_type": "code",
   "execution_count": 10,
   "id": "44bf4df7",
   "metadata": {},
   "outputs": [],
   "source": [
    "train_labels = to_categorical(train_labels)\n",
    "test_labels = to_categorical(test_labels)\n"
   ]
  },
  {
   "cell_type": "code",
   "execution_count": 12,
   "id": "c1cd37bc",
   "metadata": {},
   "outputs": [],
   "source": [
    "model.compile(optimizer='rmsprop',\n",
    "              loss='categorical_crossentropy',\n",
    "              metrics=['accuracy'])\n",
    "\n"
   ]
  },
  {
   "cell_type": "code",
   "execution_count": 16,
   "id": "8e4e473c",
   "metadata": {},
   "outputs": [
    {
     "data": {
      "text/plain": [
       "((50000, 28, 28, 1), (10000, 28, 28, 1))"
      ]
     },
     "execution_count": 16,
     "metadata": {},
     "output_type": "execute_result"
    }
   ],
   "source": [
    "# validation set\n",
    "val_images = train_images[:10000,:]\n",
    "val_labels = train_labels[:10000,:]\n",
    "\n",
    "partial_train_images = train_images[10000:,:]\n",
    "partial_train_labels = train_labels[10000:,:]\n",
    "\n",
    "partial_train_images.shape, val_images.shape"
   ]
  },
  {
   "cell_type": "code",
   "execution_count": 18,
   "id": "35f74e36",
   "metadata": {},
   "outputs": [
    {
     "name": "stdout",
     "output_type": "stream",
     "text": [
      "Epoch 1/5\n",
      "938/938 [==============================] - 35s 36ms/step - loss: 0.0154 - accuracy: 0.9953 - val_loss: 0.0124 - val_accuracy: 0.9962\n",
      "Epoch 2/5\n",
      "938/938 [==============================] - 44s 47ms/step - loss: 0.0128 - accuracy: 0.9964 - val_loss: 0.0080 - val_accuracy: 0.9974\n",
      "Epoch 3/5\n",
      "938/938 [==============================] - 45s 48ms/step - loss: 0.0100 - accuracy: 0.9970 - val_loss: 0.0045 - val_accuracy: 0.9987\n",
      "Epoch 4/5\n",
      "938/938 [==============================] - 43s 46ms/step - loss: 0.0077 - accuracy: 0.9977 - val_loss: 0.0045 - val_accuracy: 0.9985\n",
      "Epoch 5/5\n",
      "938/938 [==============================] - 40s 43ms/step - loss: 0.0076 - accuracy: 0.9977 - val_loss: 0.0068 - val_accuracy: 0.9976\n"
     ]
    }
   ],
   "source": [
    "# train the model\n",
    "history=model.fit(train_images,\n",
    "                  train_labels, \n",
    "                  epochs=5, \n",
    "                  batch_size=64,\n",
    "                  validation_data=(val_images, val_labels))"
   ]
  },
  {
   "cell_type": "code",
   "execution_count": 19,
   "id": "eac007bc",
   "metadata": {},
   "outputs": [
    {
     "data": {
      "text/plain": [
       "dict_keys(['loss', 'accuracy', 'val_loss', 'val_accuracy'])"
      ]
     },
     "execution_count": 19,
     "metadata": {},
     "output_type": "execute_result"
    }
   ],
   "source": [
    "history_dict = history.history\n",
    "history_dict.keys()"
   ]
  },
  {
   "cell_type": "markdown",
   "id": "3382b669",
   "metadata": {},
   "source": [
    "#### Plot"
   ]
  },
  {
   "cell_type": "markdown",
   "id": "186c4914",
   "metadata": {},
   "source": [
    "##### Training and Validation Loss"
   ]
  },
  {
   "cell_type": "code",
   "execution_count": 21,
   "id": "f10fe1c4",
   "metadata": {},
   "outputs": [
    {
     "data": {
      "image/png": "[encoded data removed]",
      "text/plain": [
       "<Figure size 432x288 with 1 Axes>"
      ]
     },
     "metadata": {
      "needs_background": "light"
     },
     "output_type": "display_data"
    }
   ],
   "source": [
    "import matplotlib.pyplot as plt\n",
    "history_dict = history.history\n",
    "loss_val = history_dict[\"loss\"]\n",
    "val_loss_val = history_dict[\"val_loss\"]\n",
    "epochs= range(1, len(loss_val) +1)\n",
    "plt.plot(epochs, loss_val, \"bo\", label=\"Training Loss\")\n",
    "plt.plot(epochs, val_loss_val, \"b\", label=\"Validation Loss\")\n",
    "plt.plot(title = \"Training and Validation Loss\")\n",
    "plt.plot(xlabel=\"Epochs\")\n",
    "plt.plot(ylabel=\"Loss\")\n",
    "plt.legend()\n",
    "plt.show()\n",
    "         "
   ]
  },
  {
   "cell_type": "markdown",
   "id": "a9e0b36c",
   "metadata": {},
   "source": [
    "##### Training and Validation Accuracy"
   ]
  },
  {
   "cell_type": "code",
   "execution_count": 22,
   "id": "0b832bb7",
   "metadata": {},
   "outputs": [
    {
     "data": {
      "image/png": "[encoded data removed]",
      "text/plain": [
       "<Figure size 432x288 with 1 Axes>"
      ]
     },
     "metadata": {
      "needs_background": "light"
     },
     "output_type": "display_data"
    }
   ],
   "source": [
    "history_dict = history.history\n",
    "acc = history_dict[\"accuracy\"]\n",
    "val_acc = history_dict[\"val_accuracy\"]\n",
    "epochs= range(1, len(loss_val) +1)\n",
    "plt.plot(epochs, acc, \"bo\", label=\"Training Accuracy\")\n",
    "plt.plot(epochs, val_acc, \"b\", label=\"Validation Accuracy\")\n",
    "plt.plot(title = \"Training and Validation Accuracy\")\n",
    "plt.plot(xlabel=\"Epochs\")\n",
    "plt.plot(ylabel=\"Accuracy\")\n",
    "plt.legend()\n",
    "plt.show()"
   ]
  },
  {
   "cell_type": "markdown",
   "id": "62c05397",
   "metadata": {},
   "source": [
    "#### Retrain model"
   ]
  },
  {
   "cell_type": "code",
   "execution_count": 26,
   "id": "2642ed1c",
   "metadata": {},
   "outputs": [
    {
     "name": "stdout",
     "output_type": "stream",
     "text": [
      "Epoch 1/3\n",
      "118/118 [==============================] - 30s 248ms/step - loss: 0.0018 - accuracy: 0.9993\n",
      "Epoch 2/3\n",
      "118/118 [==============================] - 34s 283ms/step - loss: 6.9039e-04 - accuracy: 0.9997\n",
      "Epoch 3/3\n",
      "118/118 [==============================] - 33s 276ms/step - loss: 5.5668e-04 - accuracy: 0.9998\n",
      "313/313 [==============================] - 3s 8ms/step - loss: 0.0373 - accuracy: 0.9927\n"
     ]
    }
   ],
   "source": [
    "model.compile(optimizer='rmsprop',\n",
    "              loss = 'categorical_crossentropy',\n",
    "              metrics = ['accuracy'])\n",
    "\n",
    "model.fit(train_images, train_labels, epochs=3, batch_size=512)\n",
    "\n",
    "results=model.evaluate(test_images, test_labels)"
   ]
  },
  {
   "cell_type": "code",
   "execution_count": 27,
   "id": "fa64af6c",
   "metadata": {},
   "outputs": [
    {
     "data": {
      "text/plain": [
       "[0.03726635128259659, 0.9926999807357788]"
      ]
     },
     "execution_count": 27,
     "metadata": {},
     "output_type": "execute_result"
    }
   ],
   "source": [
    "results"
   ]
  },
  {
   "cell_type": "code",
   "execution_count": 28,
   "id": "fef8c504",
   "metadata": {},
   "outputs": [
    {
     "data": {
      "text/plain": [
       "array([[1.17138473e-18, 1.52956668e-14, 1.89267655e-13, ...,\n",
       "        1.00000000e+00, 2.82987699e-16, 9.99412358e-13],\n",
       "       [3.89941445e-19, 2.53855212e-17, 1.00000000e+00, ...,\n",
       "        6.27537656e-27, 4.38832692e-20, 1.33996726e-29],\n",
       "       [5.93215256e-13, 1.00000000e+00, 1.57812270e-11, ...,\n",
       "        8.91156648e-10, 1.22106908e-10, 1.01484397e-10],\n",
       "       ...,\n",
       "       [2.81409270e-33, 1.80594282e-24, 6.73015316e-29, ...,\n",
       "        2.94729163e-23, 3.30883150e-21, 8.33329335e-22],\n",
       "       [5.74947273e-21, 1.00544685e-23, 1.31905212e-29, ...,\n",
       "        4.42883865e-28, 1.92395280e-13, 1.18429775e-18],\n",
       "       [3.33153792e-15, 6.87902423e-18, 2.37463993e-14, ...,\n",
       "        9.12308501e-30, 2.69159071e-13, 1.71166226e-21]], dtype=float32)"
      ]
     },
     "execution_count": 28,
     "metadata": {},
     "output_type": "execute_result"
    }
   ],
   "source": [
    "model.predict(test_images)"
   ]
  },
  {
   "cell_type": "code",
   "execution_count": null,
   "id": "8224442c",
   "metadata": {},
   "outputs": [],
   "source": []
  }
 ],
 "metadata": {
  "kernelspec": {
   "display_name": "Python 3",
   "language": "python",
   "name": "python3"
  },
  "language_info": {
   "codemirror_mode": {
    "name": "ipython",
    "version": 3
   },
   "file_extension": ".py",
   "mimetype": "text/x-python",
   "name": "python",
   "nbconvert_exporter": "python",
   "pygments_lexer": "ipython3",
   "version": "3.8.5"
  }
 },
 "nbformat": 4,
 "nbformat_minor": 5
}
