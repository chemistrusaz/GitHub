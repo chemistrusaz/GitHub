{
 "cells": [
  {
   "cell_type": "markdown",
   "id": "44c88d65",
   "metadata": {},
   "source": [
    "Name: Tushar Muley\n",
    "\n",
    "Assignment: Assignment 6-2a\n",
    "\n",
    "Date:January 9, 2022\n"
   ]
  },
  {
   "cell_type": "markdown",
   "id": "ead34aff",
   "metadata": {},
   "source": [
    "##### Assignment 6.2a"
   ]
  },
  {
   "cell_type": "markdown",
   "id": "f1305921",
   "metadata": {},
   "source": [
    "Using section 5.2 in Deep Learning with Python as a guide, create a ConvNet model that classifies images CIFAR10 small images classification dataset. Do not use dropout or data-augmentation in this part. "
   ]
  },
  {
   "cell_type": "code",
   "execution_count": 1,
   "id": "fe878d0a",
   "metadata": {},
   "outputs": [],
   "source": [
    "# get data\n",
    "from keras.datasets import cifar10\n",
    "from keras.utils import to_categorical\n"
   ]
  },
  {
   "cell_type": "code",
   "execution_count": 2,
   "id": "10432c00",
   "metadata": {},
   "outputs": [],
   "source": [
    "# library\n",
    "import pandas as pd\n",
    "from keras import layers\n",
    "from keras import models"
   ]
  },
  {
   "cell_type": "code",
   "execution_count": 3,
   "id": "aad42fd6",
   "metadata": {},
   "outputs": [
    {
     "name": "stdout",
     "output_type": "stream",
     "text": [
      "Downloading data from https://www.cs.toronto.edu/~kriz/cifar-10-python.tar.gz\n",
      "170500096/170498071 [==============================] - 14s 0us/step\n"
     ]
    }
   ],
   "source": [
    "# breakout data\n",
    "(x_train, y_train), (x_test, y_test) = cifar10.load_data()"
   ]
  },
  {
   "cell_type": "code",
   "execution_count": 4,
   "id": "9049932c",
   "metadata": {},
   "outputs": [
    {
     "data": {
      "text/plain": [
       "((50000, 32, 32, 3), (50000, 1))"
      ]
     },
     "execution_count": 4,
     "metadata": {},
     "output_type": "execute_result"
    }
   ],
   "source": [
    "# check the training data\n",
    "x_train.shape, y_train.shape"
   ]
  },
  {
   "cell_type": "code",
   "execution_count": 5,
   "id": "736392d0",
   "metadata": {},
   "outputs": [
    {
     "data": {
      "text/plain": [
       "((10000, 32, 32, 3), (10000, 1))"
      ]
     },
     "execution_count": 5,
     "metadata": {},
     "output_type": "execute_result"
    }
   ],
   "source": [
    "# check the test data\n",
    "x_test.shape, y_test.shape"
   ]
  },
  {
   "cell_type": "code",
   "execution_count": 6,
   "id": "65aabefd",
   "metadata": {},
   "outputs": [],
   "source": [
    "model = models.Sequential()\n",
    "model.add(layers.Conv2D(32, (3,3), activation='relu', input_shape=(32,32,3)))\n",
    "model.add(layers.MaxPooling2D(2,2))\n",
    "model.add(layers.Conv2D(64, (3,3), activation='relu'))\n",
    "model.add(layers.MaxPooling2D(2,2))\n",
    "model.add(layers.Conv2D(64, (3,3), activation='relu'))\n",
    "model.add(layers.MaxPooling2D(2,2))\n",
    "model.add(layers.Flatten())\n",
    "model.add(layers.Dense(512, activation='relu'))\n",
    "model.add(layers.Dense(10, activation='sigmoid'))"
   ]
  },
  {
   "cell_type": "code",
   "execution_count": 7,
   "id": "3644d61b",
   "metadata": {},
   "outputs": [
    {
     "name": "stdout",
     "output_type": "stream",
     "text": [
      "Model: \"sequential\"\n",
      "_________________________________________________________________\n",
      "Layer (type)                 Output Shape              Param #   \n",
      "=================================================================\n",
      "conv2d (Conv2D)              (None, 30, 30, 32)        896       \n",
      "_________________________________________________________________\n",
      "max_pooling2d (MaxPooling2D) (None, 15, 15, 32)        0         \n",
      "_________________________________________________________________\n",
      "conv2d_1 (Conv2D)            (None, 13, 13, 64)        18496     \n",
      "_________________________________________________________________\n",
      "max_pooling2d_1 (MaxPooling2 (None, 6, 6, 64)          0         \n",
      "_________________________________________________________________\n",
      "conv2d_2 (Conv2D)            (None, 4, 4, 64)          36928     \n",
      "_________________________________________________________________\n",
      "max_pooling2d_2 (MaxPooling2 (None, 2, 2, 64)          0         \n",
      "_________________________________________________________________\n",
      "flatten (Flatten)            (None, 256)               0         \n",
      "_________________________________________________________________\n",
      "dense (Dense)                (None, 512)               131584    \n",
      "_________________________________________________________________\n",
      "dense_1 (Dense)              (None, 10)                5130      \n",
      "=================================================================\n",
      "Total params: 193,034\n",
      "Trainable params: 193,034\n",
      "Non-trainable params: 0\n",
      "_________________________________________________________________\n"
     ]
    }
   ],
   "source": [
    "model.summary()"
   ]
  },
  {
   "cell_type": "code",
   "execution_count": 8,
   "id": "2f46310d",
   "metadata": {},
   "outputs": [],
   "source": [
    "model.compile(optimizer='rmsprop',\n",
    "loss='categorical_crossentropy',\n",
    "metrics=['accuracy'])"
   ]
  },
  {
   "cell_type": "code",
   "execution_count": 9,
   "id": "669ee43f",
   "metadata": {},
   "outputs": [],
   "source": [
    "# preprocess the data\n",
    "x_train = x_train.astype(\"float32\") / 255\n",
    "x_test = x_test.astype(\"float32\") / 255\n",
    "y_train = to_categorical(y_train)\n",
    "y_test = to_categorical(y_test)\n",
    "\n",
    "# reserve 10K for validation\n",
    "x_val = x_train[-10000:]\n",
    "y_val = y_train[-10000:]\n",
    "x_train = x_train[:-10000]\n",
    "y_train = y_train[:-10000]"
   ]
  },
  {
   "cell_type": "code",
   "execution_count": 10,
   "id": "86805e7e",
   "metadata": {},
   "outputs": [
    {
     "data": {
      "text/plain": [
       "((10000, 32, 32, 3), (10000, 10))"
      ]
     },
     "execution_count": 10,
     "metadata": {},
     "output_type": "execute_result"
    }
   ],
   "source": [
    "# check sample\n",
    "x_val.shape, y_val.shape"
   ]
  },
  {
   "cell_type": "code",
   "execution_count": 11,
   "id": "f85955a6",
   "metadata": {},
   "outputs": [
    {
     "name": "stdout",
     "output_type": "stream",
     "text": [
      "Epoch 1/100\n",
      "1250/1250 [==============================] - 45s 33ms/step - loss: 1.8359 - accuracy: 0.3269 - val_loss: 1.4621 - val_accuracy: 0.4850\n",
      "Epoch 2/100\n",
      "1250/1250 [==============================] - 43s 34ms/step - loss: 1.2246 - accuracy: 0.5634 - val_loss: 1.0588 - val_accuracy: 0.6308\n",
      "Epoch 3/100\n",
      "1250/1250 [==============================] - 40s 32ms/step - loss: 1.0348 - accuracy: 0.6326 - val_loss: 1.0182 - val_accuracy: 0.6515\n",
      "Epoch 4/100\n",
      "1250/1250 [==============================] - 45s 36ms/step - loss: 0.9155 - accuracy: 0.6751 - val_loss: 1.0605 - val_accuracy: 0.6403\n",
      "Epoch 5/100\n",
      "1250/1250 [==============================] - 28s 22ms/step - loss: 0.8219 - accuracy: 0.7108 - val_loss: 0.9920 - val_accuracy: 0.6637\n",
      "Epoch 6/100\n",
      "1250/1250 [==============================] - 30s 24ms/step - loss: 0.7485 - accuracy: 0.7379 - val_loss: 1.1147 - val_accuracy: 0.6302\n",
      "Epoch 7/100\n",
      "1250/1250 [==============================] - 37s 30ms/step - loss: 0.6865 - accuracy: 0.7629 - val_loss: 1.2606 - val_accuracy: 0.6178\n",
      "Epoch 8/100\n",
      "1250/1250 [==============================] - 31s 25ms/step - loss: 0.6568 - accuracy: 0.7755 - val_loss: 0.9155 - val_accuracy: 0.7007\n",
      "Epoch 9/100\n",
      "1250/1250 [==============================] - 29s 23ms/step - loss: 0.6263 - accuracy: 0.7859 - val_loss: 1.0432 - val_accuracy: 0.6926\n",
      "Epoch 10/100\n",
      "1250/1250 [==============================] - 29s 23ms/step - loss: 0.6255 - accuracy: 0.7854 - val_loss: 1.0788 - val_accuracy: 0.6995\n",
      "Epoch 11/100\n",
      "1250/1250 [==============================] - 28s 23ms/step - loss: 0.6033 - accuracy: 0.7927 - val_loss: 1.0889 - val_accuracy: 0.6526\n",
      "Epoch 12/100\n",
      "1250/1250 [==============================] - 29s 23ms/step - loss: 0.6105 - accuracy: 0.7911 - val_loss: 1.1144 - val_accuracy: 0.6942\n",
      "Epoch 13/100\n",
      "1250/1250 [==============================] - 32s 25ms/step - loss: 0.5880 - accuracy: 0.8033 - val_loss: 1.1963 - val_accuracy: 0.6676\n",
      "Epoch 14/100\n",
      "1250/1250 [==============================] - 30s 24ms/step - loss: 0.6048 - accuracy: 0.7946 - val_loss: 1.1257 - val_accuracy: 0.6785\n",
      "Epoch 15/100\n",
      "1250/1250 [==============================] - 31s 25ms/step - loss: 0.5957 - accuracy: 0.8022 - val_loss: 1.1461 - val_accuracy: 0.6815\n",
      "Epoch 16/100\n",
      "1250/1250 [==============================] - 36s 28ms/step - loss: 0.5900 - accuracy: 0.8020 - val_loss: 1.2578 - val_accuracy: 0.6584\n",
      "Epoch 17/100\n",
      "1250/1250 [==============================] - 35s 28ms/step - loss: 0.5980 - accuracy: 0.7992 - val_loss: 1.2337 - val_accuracy: 0.6879\n",
      "Epoch 18/100\n",
      "1250/1250 [==============================] - 36s 29ms/step - loss: 0.5820 - accuracy: 0.8052 - val_loss: 1.2124 - val_accuracy: 0.6905\n",
      "Epoch 19/100\n",
      "1250/1250 [==============================] - 29s 23ms/step - loss: 0.5783 - accuracy: 0.8104 - val_loss: 1.2467 - val_accuracy: 0.6834\n",
      "Epoch 20/100\n",
      "1250/1250 [==============================] - 35s 28ms/step - loss: 0.5973 - accuracy: 0.8028 - val_loss: 1.3658 - val_accuracy: 0.6705\n",
      "Epoch 21/100\n",
      "1250/1250 [==============================] - 29s 23ms/step - loss: 0.5939 - accuracy: 0.8062 - val_loss: 1.2275 - val_accuracy: 0.6880\n",
      "Epoch 22/100\n",
      "1250/1250 [==============================] - 32s 26ms/step - loss: 0.6042 - accuracy: 0.8045 - val_loss: 1.3989 - val_accuracy: 0.6955\n",
      "Epoch 23/100\n",
      "1250/1250 [==============================] - 35s 28ms/step - loss: 0.6111 - accuracy: 0.8016 - val_loss: 1.3010 - val_accuracy: 0.7018\n",
      "Epoch 24/100\n",
      "1250/1250 [==============================] - 35s 28ms/step - loss: 0.6028 - accuracy: 0.8052 - val_loss: 1.1473 - val_accuracy: 0.6558\n",
      "Epoch 25/100\n",
      "1250/1250 [==============================] - 36s 28ms/step - loss: 0.6097 - accuracy: 0.8038 - val_loss: 1.6226 - val_accuracy: 0.6797\n",
      "Epoch 26/100\n",
      "1250/1250 [==============================] - 35s 28ms/step - loss: 0.6076 - accuracy: 0.8048 - val_loss: 1.3226 - val_accuracy: 0.6620\n",
      "Epoch 27/100\n",
      "1250/1250 [==============================] - 35s 28ms/step - loss: 0.5925 - accuracy: 0.8108 - val_loss: 1.4596 - val_accuracy: 0.6563\n",
      "Epoch 28/100\n",
      "1250/1250 [==============================] - 35s 28ms/step - loss: 0.6117 - accuracy: 0.8090 - val_loss: 1.5850 - val_accuracy: 0.6884\n",
      "Epoch 29/100\n",
      "1250/1250 [==============================] - 35s 28ms/step - loss: 0.6254 - accuracy: 0.8032 - val_loss: 1.6789 - val_accuracy: 0.6827\n",
      "Epoch 30/100\n",
      "1250/1250 [==============================] - 35s 28ms/step - loss: 0.6130 - accuracy: 0.8051 - val_loss: 1.2540 - val_accuracy: 0.6500\n",
      "Epoch 31/100\n",
      "1250/1250 [==============================] - 37s 30ms/step - loss: 0.6196 - accuracy: 0.8011 - val_loss: 1.6076 - val_accuracy: 0.6927\n",
      "Epoch 32/100\n",
      "1250/1250 [==============================] - 35s 28ms/step - loss: 0.6343 - accuracy: 0.8020 - val_loss: 1.2851 - val_accuracy: 0.6581\n",
      "Epoch 33/100\n",
      "1250/1250 [==============================] - 37s 30ms/step - loss: 0.6173 - accuracy: 0.8018 - val_loss: 1.4253 - val_accuracy: 0.6842\n",
      "Epoch 34/100\n",
      "1250/1250 [==============================] - 37s 30ms/step - loss: 0.6591 - accuracy: 0.7905 - val_loss: 1.2248 - val_accuracy: 0.6288\n",
      "Epoch 35/100\n",
      "1250/1250 [==============================] - 37s 30ms/step - loss: 0.6345 - accuracy: 0.8044 - val_loss: 1.4401 - val_accuracy: 0.6584\n",
      "Epoch 36/100\n",
      "1250/1250 [==============================] - 35s 28ms/step - loss: 0.6484 - accuracy: 0.7996 - val_loss: 1.4441 - val_accuracy: 0.6581\n",
      "Epoch 37/100\n",
      "1250/1250 [==============================] - 34s 27ms/step - loss: 0.6506 - accuracy: 0.8023 - val_loss: 1.6454 - val_accuracy: 0.6527\n",
      "Epoch 38/100\n",
      "1250/1250 [==============================] - 38s 30ms/step - loss: 0.6489 - accuracy: 0.7993 - val_loss: 1.5955 - val_accuracy: 0.5976\n",
      "Epoch 39/100\n",
      "1250/1250 [==============================] - 35s 28ms/step - loss: 0.6675 - accuracy: 0.7947 - val_loss: 2.0528 - val_accuracy: 0.6854\n",
      "Epoch 40/100\n",
      "1250/1250 [==============================] - 35s 28ms/step - loss: 0.6773 - accuracy: 0.7924 - val_loss: 1.7016 - val_accuracy: 0.6676\n",
      "Epoch 41/100\n",
      "1250/1250 [==============================] - 35s 28ms/step - loss: 0.6704 - accuracy: 0.7948 - val_loss: 1.4472 - val_accuracy: 0.6163\n",
      "Epoch 42/100\n",
      "1250/1250 [==============================] - 35s 28ms/step - loss: 0.6953 - accuracy: 0.7855 - val_loss: 2.3117 - val_accuracy: 0.6828\n",
      "Epoch 43/100\n",
      "1250/1250 [==============================] - 33s 27ms/step - loss: 0.6832 - accuracy: 0.7930 - val_loss: 1.3057 - val_accuracy: 0.6521\n",
      "Epoch 44/100\n",
      "1250/1250 [==============================] - 32s 26ms/step - loss: 0.6691 - accuracy: 0.7942 - val_loss: 1.8548 - val_accuracy: 0.6347\n",
      "Epoch 45/100\n",
      "1250/1250 [==============================] - 32s 25ms/step - loss: 0.6860 - accuracy: 0.7892 - val_loss: 1.7781 - val_accuracy: 0.6739\n",
      "Epoch 46/100\n",
      "1250/1250 [==============================] - 32s 26ms/step - loss: 0.6897 - accuracy: 0.7904 - val_loss: 1.5058 - val_accuracy: 0.6674\n",
      "Epoch 47/100\n",
      "1250/1250 [==============================] - 32s 26ms/step - loss: 0.7068 - accuracy: 0.7849 - val_loss: 1.7811 - val_accuracy: 0.6577\n",
      "Epoch 48/100\n",
      "1250/1250 [==============================] - 33s 26ms/step - loss: 0.7003 - accuracy: 0.7878 - val_loss: 1.4099 - val_accuracy: 0.6699\n",
      "Epoch 49/100\n",
      "1250/1250 [==============================] - 30s 24ms/step - loss: 0.7012 - accuracy: 0.7868 - val_loss: 1.6122 - val_accuracy: 0.6636\n",
      "Epoch 50/100\n",
      "1250/1250 [==============================] - 30s 24ms/step - loss: 0.7121 - accuracy: 0.7827 - val_loss: 1.2997 - val_accuracy: 0.6009\n",
      "Epoch 51/100\n",
      "1250/1250 [==============================] - 27s 22ms/step - loss: 0.7033 - accuracy: 0.7796 - val_loss: 1.5868 - val_accuracy: 0.6712\n",
      "Epoch 52/100\n",
      "1250/1250 [==============================] - 25s 20ms/step - loss: 0.7234 - accuracy: 0.7801 - val_loss: 2.0812 - val_accuracy: 0.6593\n",
      "Epoch 53/100\n",
      "1250/1250 [==============================] - 26s 21ms/step - loss: 0.7357 - accuracy: 0.7782 - val_loss: 1.3825 - val_accuracy: 0.6335\n",
      "Epoch 54/100\n",
      "1250/1250 [==============================] - 25s 20ms/step - loss: 0.7190 - accuracy: 0.7765 - val_loss: 1.7406 - val_accuracy: 0.6805\n",
      "Epoch 55/100\n",
      "1250/1250 [==============================] - 26s 21ms/step - loss: 0.7115 - accuracy: 0.7814 - val_loss: 1.5623 - val_accuracy: 0.6572\n",
      "Epoch 56/100\n",
      "1250/1250 [==============================] - 25s 20ms/step - loss: 0.7293 - accuracy: 0.7786 - val_loss: 1.4875 - val_accuracy: 0.6389\n",
      "Epoch 57/100\n",
      "1250/1250 [==============================] - 25s 20ms/step - loss: 0.7283 - accuracy: 0.7759 - val_loss: 1.8414 - val_accuracy: 0.6602\n",
      "Epoch 58/100\n",
      "1250/1250 [==============================] - 25s 20ms/step - loss: 0.7229 - accuracy: 0.7781 - val_loss: 1.3578 - val_accuracy: 0.6666\n",
      "Epoch 59/100\n",
      "1250/1250 [==============================] - 25s 20ms/step - loss: 0.7084 - accuracy: 0.7866 - val_loss: 1.7043 - val_accuracy: 0.6717\n",
      "Epoch 60/100\n",
      "1250/1250 [==============================] - 25s 20ms/step - loss: 0.7240 - accuracy: 0.7799 - val_loss: 1.8645 - val_accuracy: 0.6750\n",
      "Epoch 61/100\n",
      "1250/1250 [==============================] - 25s 20ms/step - loss: 0.7294 - accuracy: 0.7777 - val_loss: 1.4217 - val_accuracy: 0.6399\n",
      "Epoch 62/100\n",
      "1250/1250 [==============================] - 26s 21ms/step - loss: 0.7086 - accuracy: 0.7818 - val_loss: 1.7239 - val_accuracy: 0.6453\n",
      "Epoch 63/100\n",
      "1250/1250 [==============================] - 29s 23ms/step - loss: 0.7189 - accuracy: 0.7781 - val_loss: 1.2878 - val_accuracy: 0.6216\n",
      "Epoch 64/100\n",
      "1250/1250 [==============================] - 30s 24ms/step - loss: 0.7400 - accuracy: 0.7767 - val_loss: 1.3993 - val_accuracy: 0.6432\n",
      "Epoch 65/100\n",
      "1250/1250 [==============================] - 25s 20ms/step - loss: 0.7198 - accuracy: 0.7855 - val_loss: 1.2909 - val_accuracy: 0.6489\n",
      "Epoch 66/100\n",
      "1250/1250 [==============================] - 25s 20ms/step - loss: 0.7096 - accuracy: 0.7765 - val_loss: 1.2580 - val_accuracy: 0.6741\n",
      "Epoch 67/100\n",
      "1250/1250 [==============================] - 25s 20ms/step - loss: 0.7202 - accuracy: 0.7767 - val_loss: 1.3813 - val_accuracy: 0.6738\n",
      "Epoch 68/100\n",
      "1250/1250 [==============================] - 25s 20ms/step - loss: 0.7086 - accuracy: 0.7787 - val_loss: 1.4085 - val_accuracy: 0.6528\n",
      "Epoch 69/100\n",
      "1250/1250 [==============================] - 25s 20ms/step - loss: 0.6995 - accuracy: 0.7807 - val_loss: 1.5318 - val_accuracy: 0.6491\n",
      "Epoch 70/100\n",
      "1250/1250 [==============================] - 25s 20ms/step - loss: 0.7013 - accuracy: 0.7826 - val_loss: 2.0221 - val_accuracy: 0.6489\n",
      "Epoch 71/100\n",
      "1250/1250 [==============================] - 28s 22ms/step - loss: 0.7239 - accuracy: 0.7776 - val_loss: 1.3145 - val_accuracy: 0.6558\n",
      "Epoch 72/100\n",
      "1250/1250 [==============================] - 25s 20ms/step - loss: 0.6977 - accuracy: 0.7835 - val_loss: 1.5881 - val_accuracy: 0.6540\n",
      "Epoch 73/100\n",
      "1250/1250 [==============================] - 25s 20ms/step - loss: 0.6955 - accuracy: 0.7827 - val_loss: 1.5039 - val_accuracy: 0.6407\n",
      "Epoch 74/100\n",
      "1250/1250 [==============================] - 26s 21ms/step - loss: 0.6956 - accuracy: 0.7821 - val_loss: 1.3095 - val_accuracy: 0.6561\n",
      "Epoch 75/100\n",
      "1250/1250 [==============================] - 25s 20ms/step - loss: 0.6929 - accuracy: 0.7818 - val_loss: 1.6257 - val_accuracy: 0.5840\n",
      "Epoch 76/100\n",
      "1250/1250 [==============================] - 25s 20ms/step - loss: 0.6991 - accuracy: 0.7810 - val_loss: 1.2542 - val_accuracy: 0.6420\n",
      "Epoch 77/100\n",
      "1250/1250 [==============================] - 24s 20ms/step - loss: 0.6962 - accuracy: 0.7809 - val_loss: 1.2289 - val_accuracy: 0.6609\n",
      "Epoch 78/100\n",
      "1250/1250 [==============================] - 25s 20ms/step - loss: 0.7004 - accuracy: 0.7830 - val_loss: 1.3193 - val_accuracy: 0.6469\n",
      "Epoch 79/100\n",
      "1250/1250 [==============================] - 25s 20ms/step - loss: 0.6674 - accuracy: 0.7896 - val_loss: 1.2697 - val_accuracy: 0.6825\n",
      "Epoch 80/100\n",
      "1250/1250 [==============================] - 25s 20ms/step - loss: 0.6884 - accuracy: 0.7826 - val_loss: 1.4066 - val_accuracy: 0.6833\n",
      "Epoch 81/100\n",
      "1250/1250 [==============================] - 25s 20ms/step - loss: 0.6760 - accuracy: 0.7857 - val_loss: 1.2521 - val_accuracy: 0.6512\n",
      "Epoch 82/100\n",
      "1250/1250 [==============================] - 25s 20ms/step - loss: 0.6919 - accuracy: 0.7790 - val_loss: 1.4214 - val_accuracy: 0.6362\n",
      "Epoch 83/100\n",
      "1250/1250 [==============================] - 25s 20ms/step - loss: 0.6849 - accuracy: 0.7825 - val_loss: 1.2615 - val_accuracy: 0.6520\n",
      "Epoch 84/100\n",
      "1250/1250 [==============================] - 25s 20ms/step - loss: 0.6905 - accuracy: 0.7844 - val_loss: 1.5496 - val_accuracy: 0.6694\n",
      "Epoch 85/100\n",
      "1250/1250 [==============================] - 25s 20ms/step - loss: 0.6801 - accuracy: 0.7848 - val_loss: 1.3567 - val_accuracy: 0.6598\n",
      "Epoch 86/100\n",
      "1250/1250 [==============================] - 27s 22ms/step - loss: 0.6757 - accuracy: 0.7864 - val_loss: 2.4631 - val_accuracy: 0.6636\n",
      "Epoch 87/100\n",
      "1250/1250 [==============================] - 29s 23ms/step - loss: 0.7057 - accuracy: 0.7804 - val_loss: 2.5179 - val_accuracy: 0.6797\n",
      "Epoch 88/100\n",
      "1250/1250 [==============================] - 25s 20ms/step - loss: 0.6747 - accuracy: 0.7866 - val_loss: 1.4089 - val_accuracy: 0.6470\n",
      "Epoch 89/100\n",
      "1250/1250 [==============================] - 24s 19ms/step - loss: 0.6834 - accuracy: 0.7843 - val_loss: 1.3715 - val_accuracy: 0.6728\n",
      "Epoch 90/100\n",
      "1250/1250 [==============================] - 25s 20ms/step - loss: 0.6661 - accuracy: 0.7875 - val_loss: 1.4632 - val_accuracy: 0.6247\n",
      "Epoch 91/100\n",
      "1250/1250 [==============================] - 24s 20ms/step - loss: 0.6779 - accuracy: 0.7893 - val_loss: 2.0835 - val_accuracy: 0.6677\n",
      "Epoch 92/100\n",
      "1250/1250 [==============================] - 25s 20ms/step - loss: 0.6625 - accuracy: 0.7908 - val_loss: 1.5524 - val_accuracy: 0.6594\n",
      "Epoch 93/100\n",
      "1250/1250 [==============================] - 25s 20ms/step - loss: 0.6661 - accuracy: 0.7937 - val_loss: 1.3946 - val_accuracy: 0.6622\n",
      "Epoch 94/100\n",
      "1250/1250 [==============================] - 25s 20ms/step - loss: 0.6510 - accuracy: 0.7958 - val_loss: 1.3060 - val_accuracy: 0.6333\n",
      "Epoch 95/100\n",
      "1250/1250 [==============================] - 24s 20ms/step - loss: 0.6662 - accuracy: 0.7895 - val_loss: 1.7688 - val_accuracy: 0.6423\n",
      "Epoch 96/100\n",
      "1250/1250 [==============================] - 25s 20ms/step - loss: 0.6523 - accuracy: 0.7934 - val_loss: 1.4366 - val_accuracy: 0.6609\n",
      "Epoch 97/100\n",
      "1250/1250 [==============================] - 25s 20ms/step - loss: 0.6445 - accuracy: 0.7922 - val_loss: 1.5374 - val_accuracy: 0.6284\n",
      "Epoch 98/100\n",
      "1250/1250 [==============================] - 24s 20ms/step - loss: 0.6415 - accuracy: 0.7932 - val_loss: 2.0326 - val_accuracy: 0.6223\n",
      "Epoch 99/100\n",
      "1250/1250 [==============================] - 25s 20ms/step - loss: 0.6436 - accuracy: 0.7908 - val_loss: 1.3589 - val_accuracy: 0.6638\n",
      "Epoch 100/100\n",
      "1250/1250 [==============================] - 24s 20ms/step - loss: 0.6616 - accuracy: 0.7964 - val_loss: 1.2924 - val_accuracy: 0.6511\n"
     ]
    }
   ],
   "source": [
    "history = model.fit(x_train, y_train, epochs=100, validation_data=(x_val,y_val))"
   ]
  },
  {
   "cell_type": "code",
   "execution_count": 12,
   "id": "af200c3b",
   "metadata": {},
   "outputs": [
    {
     "data": {
      "text/plain": [
       "dict_keys(['loss', 'accuracy', 'val_loss', 'val_accuracy'])"
      ]
     },
     "execution_count": 12,
     "metadata": {},
     "output_type": "execute_result"
    }
   ],
   "source": [
    "history_dict = history.history\n",
    "history_dict.keys()"
   ]
  },
  {
   "cell_type": "code",
   "execution_count": 14,
   "id": "53e0cfdb",
   "metadata": {},
   "outputs": [
    {
     "data": {
      "image/png": "[encoded data removed]",
      "text/plain": [
       "<Figure size 432x288 with 1 Axes>"
      ]
     },
     "metadata": {
      "needs_background": "light"
     },
     "output_type": "display_data"
    }
   ],
   "source": [
    "# plot the training and validation loss\n",
    "import matplotlib.pyplot as plt\n",
    "history_dict = history.history\n",
    "loss_values = history_dict[\"loss\"]\n",
    "val_loss_values = history_dict[\"val_loss\"]\n",
    "epochs = range(1, len(loss_values) + 1)\n",
    "plt.plot(epochs, loss_values, \"bo\", label=\"Training loss\")\n",
    "plt.plot(epochs, val_loss_values, \"b\", label=\"Validation loss\")\n",
    "plt.title(\"Training and validation loss\")\n",
    "plt.xlabel(\"Epochs\")\n",
    "plt.ylabel(\"Loss\")\n",
    "plt.legend()\n",
    "plt.show()"
   ]
  },
  {
   "cell_type": "code",
   "execution_count": 15,
   "id": "15d01182",
   "metadata": {},
   "outputs": [
    {
     "data": {
      "image/png": "[encoded data removed]",
      "text/plain": [
       "<Figure size 432x288 with 1 Axes>"
      ]
     },
     "metadata": {
      "needs_background": "light"
     },
     "output_type": "display_data"
    }
   ],
   "source": [
    "# plot the training and validation accuracy\n",
    "plt.clf()\n",
    "acc = history_dict[\"accuracy\"]\n",
    "val_acc = history_dict[\"val_accuracy\"]\n",
    "plt.plot(epochs, acc, \"bo\", label=\"Training acc\")\n",
    "plt.plot(epochs, val_acc, \"b\", label=\"Validation acc\")\n",
    "plt.title(\"Training and validation accuracy\")\n",
    "plt.xlabel(\"Epochs\")\n",
    "plt.ylabel(\"Accuracy\")\n",
    "plt.legend()\n",
    "plt.show()"
   ]
  },
  {
   "cell_type": "code",
   "execution_count": 16,
   "id": "923b6c24",
   "metadata": {},
   "outputs": [
    {
     "name": "stdout",
     "output_type": "stream",
     "text": [
      "Epoch 1/10\n",
      "1563/1563 [==============================] - 30s 18ms/step - loss: 0.8621 - accuracy: 0.7425\n",
      "Epoch 2/10\n",
      "1563/1563 [==============================] - 33s 21ms/step - loss: 0.7850 - accuracy: 0.75360s - loss: 0.7849 - accura\n",
      "Epoch 3/10\n",
      "1563/1563 [==============================] - 36s 23ms/step - loss: 0.7789 - accuracy: 0.7581\n",
      "Epoch 4/10\n",
      "1563/1563 [==============================] - 33s 21ms/step - loss: 0.7755 - accuracy: 0.7540\n",
      "Epoch 5/10\n",
      "1563/1563 [==============================] - 30s 19ms/step - loss: 0.7620 - accuracy: 0.7608\n",
      "Epoch 6/10\n",
      "1563/1563 [==============================] - 31s 20ms/step - loss: 0.7477 - accuracy: 0.7637\n",
      "Epoch 7/10\n",
      "1563/1563 [==============================] - 30s 19ms/step - loss: 0.7574 - accuracy: 0.7581\n",
      "Epoch 8/10\n",
      "1563/1563 [==============================] - 31s 20ms/step - loss: 0.7640 - accuracy: 0.7569\n",
      "Epoch 9/10\n",
      "1563/1563 [==============================] - 32s 21ms/step - loss: 0.7653 - accuracy: 0.7579\n",
      "Epoch 10/10\n",
      "1563/1563 [==============================] - 30s 19ms/step - loss: 0.7346 - accuracy: 0.7614\n",
      "313/313 [==============================] - 3s 8ms/step - loss: 1.4350 - accuracy: 0.6515\n"
     ]
    }
   ],
   "source": [
    "# retrain the model\n",
    "(x_train, y_train), (x_test, y_test) = cifar10.load_data()\n",
    "\n",
    "# preprocess the data\n",
    "x_train = x_train.astype(\"float32\") / 255\n",
    "x_test = x_test.astype(\"float32\") / 255\n",
    "y_train = to_categorical(y_train)\n",
    "y_test = to_categorical(y_test)\n",
    "model.compile(optimizer='rmsprop',\n",
    "loss='categorical_crossentropy',\n",
    "metrics=['accuracy'])\n",
    "history = model.fit(x_train, y_train, epochs=10)\n",
    "results = model.evaluate(x_test, y_test)"
   ]
  },
  {
   "cell_type": "code",
   "execution_count": 17,
   "id": "4382ea20",
   "metadata": {},
   "outputs": [
    {
     "data": {
      "text/plain": [
       "[1.4349656105041504, 0.6514999866485596]"
      ]
     },
     "execution_count": 17,
     "metadata": {},
     "output_type": "execute_result"
    }
   ],
   "source": [
    "# print the results\n",
    "results"
   ]
  },
  {
   "cell_type": "code",
   "execution_count": 18,
   "id": "2ac27d04",
   "metadata": {},
   "outputs": [
    {
     "data": {
      "text/plain": [
       "array([[0.0000000e+00, 0.0000000e+00, 0.0000000e+00, ..., 0.0000000e+00,\n",
       "        0.0000000e+00, 0.0000000e+00],\n",
       "       [3.0394677e-31, 1.7475647e-31, 4.7103405e-35, ..., 6.9648780e-37,\n",
       "        2.3962413e-30, 8.8907534e-32],\n",
       "       [4.8058961e-22, 5.4047130e-22, 2.2406346e-22, ..., 2.4171372e-22,\n",
       "        6.1508722e-21, 6.1663518e-22],\n",
       "       ...,\n",
       "       [0.0000000e+00, 0.0000000e+00, 0.0000000e+00, ..., 0.0000000e+00,\n",
       "        0.0000000e+00, 0.0000000e+00],\n",
       "       [5.2398946e-34, 2.3454804e-36, 5.3544291e-32, ..., 5.3570209e-33,\n",
       "        9.0837745e-37, 1.8028205e-36],\n",
       "       [0.0000000e+00, 0.0000000e+00, 0.0000000e+00, ..., 0.0000000e+00,\n",
       "        0.0000000e+00, 0.0000000e+00]], dtype=float32)"
      ]
     },
     "execution_count": 18,
     "metadata": {},
     "output_type": "execute_result"
    }
   ],
   "source": [
    "# using a trained model to generate predictions on new data\n",
    "model.predict(x_test)"
   ]
  }
 ],
 "metadata": {
  "kernelspec": {
   "display_name": "Python 3",
   "language": "python",
   "name": "python3"
  },
  "language_info": {
   "codemirror_mode": {
    "name": "ipython",
    "version": 3
   },
   "file_extension": ".py",
   "mimetype": "text/x-python",
   "name": "python",
   "nbconvert_exporter": "python",
   "pygments_lexer": "ipython3",
   "version": "3.8.5"
  }
 },
 "nbformat": 4,
 "nbformat_minor": 5
}
