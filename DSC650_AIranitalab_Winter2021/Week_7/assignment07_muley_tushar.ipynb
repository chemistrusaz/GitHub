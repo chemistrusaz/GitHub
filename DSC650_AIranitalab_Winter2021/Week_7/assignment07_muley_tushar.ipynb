{
 "cells": [
  {
   "cell_type": "markdown",
   "metadata": {},
   "source": [
    "Name: Muley, Tushar\n",
    "\n",
    "Assignment: Assignment 7\n",
    "\n",
    "Date: January 30, 2022"
   ]
  },
  {
   "cell_type": "markdown",
   "metadata": {},
   "source": [
    "#### Assignment 7a"
   ]
  },
  {
   "cell_type": "code",
   "execution_count": 1,
   "metadata": {},
   "outputs": [],
   "source": [
    "# import libraries\n",
    "import os\n",
    "from pathlib import Path\n",
    "import shutil\n",
    "import pandas as pd\n",
    "import hashlib\n",
    "import pygeohash"
   ]
  },
  {
   "cell_type": "code",
   "execution_count": 2,
   "metadata": {},
   "outputs": [],
   "source": [
    "# create results folder\n",
    "\n",
    "current_dir = Path(os.getcwd()).absolute()\n",
    "results_dir = current_dir.joinpath('results')\n",
    "\n",
    "if results_dir.exists():\n",
    "    shutil.rmtree(results_dir)\n",
    "    \n",
    "results_dir.mkdir(parents=True, exist_ok=True)"
   ]
  },
  {
   "cell_type": "code",
   "execution_count": 4,
   "metadata": {},
   "outputs": [],
   "source": [
    "df = pd.read_parquet('routes.parquet')"
   ]
  },
  {
   "cell_type": "code",
   "execution_count": 5,
   "metadata": {},
   "outputs": [
    {
     "data": {
      "text/html": [
       "<div>\n",
       "<style scoped>\n",
       "    .dataframe tbody tr th:only-of-type {\n",
       "        vertical-align: middle;\n",
       "    }\n",
       "\n",
       "    .dataframe tbody tr th {\n",
       "        vertical-align: top;\n",
       "    }\n",
       "\n",
       "    .dataframe thead th {\n",
       "        text-align: right;\n",
       "    }\n",
       "</style>\n",
       "<table border=\"1\" class=\"dataframe\">\n",
       "  <thead>\n",
       "    <tr style=\"text-align: right;\">\n",
       "      <th></th>\n",
       "      <th>airline</th>\n",
       "      <th>src_airport</th>\n",
       "      <th>dst_airport</th>\n",
       "      <th>codeshare</th>\n",
       "      <th>equipment</th>\n",
       "    </tr>\n",
       "  </thead>\n",
       "  <tbody>\n",
       "    <tr>\n",
       "      <th>0</th>\n",
       "      <td>{'airline_id': 410, 'name': 'Aerocondor', 'ali...</td>\n",
       "      <td>{'airport_id': 2965.0, 'name': 'Sochi Internat...</td>\n",
       "      <td>{'airport_id': 2990.0, 'name': 'Kazan Internat...</td>\n",
       "      <td>False</td>\n",
       "      <td>[CR2]</td>\n",
       "    </tr>\n",
       "    <tr>\n",
       "      <th>1</th>\n",
       "      <td>{'airline_id': 410, 'name': 'Aerocondor', 'ali...</td>\n",
       "      <td>{'airport_id': 2966.0, 'name': 'Astrakhan Airp...</td>\n",
       "      <td>{'airport_id': 2990.0, 'name': 'Kazan Internat...</td>\n",
       "      <td>False</td>\n",
       "      <td>[CR2]</td>\n",
       "    </tr>\n",
       "    <tr>\n",
       "      <th>2</th>\n",
       "      <td>{'airline_id': 410, 'name': 'Aerocondor', 'ali...</td>\n",
       "      <td>{'airport_id': 2966.0, 'name': 'Astrakhan Airp...</td>\n",
       "      <td>{'airport_id': 2962.0, 'name': 'Mineralnyye Vo...</td>\n",
       "      <td>False</td>\n",
       "      <td>[CR2]</td>\n",
       "    </tr>\n",
       "    <tr>\n",
       "      <th>3</th>\n",
       "      <td>{'airline_id': 410, 'name': 'Aerocondor', 'ali...</td>\n",
       "      <td>{'airport_id': 2968.0, 'name': 'Chelyabinsk Ba...</td>\n",
       "      <td>{'airport_id': 2990.0, 'name': 'Kazan Internat...</td>\n",
       "      <td>False</td>\n",
       "      <td>[CR2]</td>\n",
       "    </tr>\n",
       "    <tr>\n",
       "      <th>4</th>\n",
       "      <td>{'airline_id': 410, 'name': 'Aerocondor', 'ali...</td>\n",
       "      <td>{'airport_id': 2968.0, 'name': 'Chelyabinsk Ba...</td>\n",
       "      <td>{'airport_id': 4078.0, 'name': 'Tolmachevo Air...</td>\n",
       "      <td>False</td>\n",
       "      <td>[CR2]</td>\n",
       "    </tr>\n",
       "  </tbody>\n",
       "</table>\n",
       "</div>"
      ],
      "text/plain": [
       "                                             airline  \\\n",
       "0  {'airline_id': 410, 'name': 'Aerocondor', 'ali...   \n",
       "1  {'airline_id': 410, 'name': 'Aerocondor', 'ali...   \n",
       "2  {'airline_id': 410, 'name': 'Aerocondor', 'ali...   \n",
       "3  {'airline_id': 410, 'name': 'Aerocondor', 'ali...   \n",
       "4  {'airline_id': 410, 'name': 'Aerocondor', 'ali...   \n",
       "\n",
       "                                         src_airport  \\\n",
       "0  {'airport_id': 2965.0, 'name': 'Sochi Internat...   \n",
       "1  {'airport_id': 2966.0, 'name': 'Astrakhan Airp...   \n",
       "2  {'airport_id': 2966.0, 'name': 'Astrakhan Airp...   \n",
       "3  {'airport_id': 2968.0, 'name': 'Chelyabinsk Ba...   \n",
       "4  {'airport_id': 2968.0, 'name': 'Chelyabinsk Ba...   \n",
       "\n",
       "                                         dst_airport  codeshare equipment  \n",
       "0  {'airport_id': 2990.0, 'name': 'Kazan Internat...      False     [CR2]  \n",
       "1  {'airport_id': 2990.0, 'name': 'Kazan Internat...      False     [CR2]  \n",
       "2  {'airport_id': 2962.0, 'name': 'Mineralnyye Vo...      False     [CR2]  \n",
       "3  {'airport_id': 2990.0, 'name': 'Kazan Internat...      False     [CR2]  \n",
       "4  {'airport_id': 4078.0, 'name': 'Tolmachevo Air...      False     [CR2]  "
      ]
     },
     "execution_count": 5,
     "metadata": {},
     "output_type": "execute_result"
    }
   ],
   "source": [
    "# check\n",
    "df.head()"
   ]
  },
  {
   "cell_type": "code",
   "execution_count": 6,
   "metadata": {},
   "outputs": [
    {
     "data": {
      "text/plain": [
       "(67663, 5)"
      ]
     },
     "execution_count": 6,
     "metadata": {},
     "output_type": "execute_result"
    }
   ],
   "source": [
    "# check starting size of df\n",
    "\n",
    "df.shape\n"
   ]
  },
  {
   "cell_type": "code",
   "execution_count": 7,
   "metadata": {},
   "outputs": [],
   "source": [
    "# drop rows with empty source airport, destination airport, and airline\n",
    "\n",
    "df = df.dropna(subset = ['src_airport', 'dst_airport', 'airline'])"
   ]
  },
  {
   "cell_type": "code",
   "execution_count": 8,
   "metadata": {},
   "outputs": [
    {
     "data": {
      "text/plain": [
       "(66771, 5)"
      ]
     },
     "execution_count": 8,
     "metadata": {},
     "output_type": "execute_result"
    }
   ],
   "source": [
    "# check ending size of df\n",
    "\n",
    "df.shape"
   ]
  },
  {
   "cell_type": "code",
   "execution_count": 9,
   "metadata": {},
   "outputs": [],
   "source": [
    "# define function for key\n",
    "\n",
    "def generate_key(df):\n",
    "    src = df['src_airport'].get('iata')\n",
    "    dst = df['dst_airport'].get('iata')\n",
    "    airline = df['airline'].get('iata')\n",
    "    key = str('{}{}{}'.format(src, dst, airline))\n",
    "    return key"
   ]
  },
  {
   "cell_type": "code",
   "execution_count": 10,
   "metadata": {},
   "outputs": [],
   "source": [
    "# cenerate key column\n",
    "\n",
    "df['key'] = df.apply(generate_key, axis=1)\n"
   ]
  },
  {
   "cell_type": "code",
   "execution_count": 11,
   "metadata": {},
   "outputs": [
    {
     "data": {
      "text/html": [
       "<div>\n",
       "<style scoped>\n",
       "    .dataframe tbody tr th:only-of-type {\n",
       "        vertical-align: middle;\n",
       "    }\n",
       "\n",
       "    .dataframe tbody tr th {\n",
       "        vertical-align: top;\n",
       "    }\n",
       "\n",
       "    .dataframe thead th {\n",
       "        text-align: right;\n",
       "    }\n",
       "</style>\n",
       "<table border=\"1\" class=\"dataframe\">\n",
       "  <thead>\n",
       "    <tr style=\"text-align: right;\">\n",
       "      <th></th>\n",
       "      <th>airline</th>\n",
       "      <th>src_airport</th>\n",
       "      <th>dst_airport</th>\n",
       "      <th>codeshare</th>\n",
       "      <th>equipment</th>\n",
       "      <th>key</th>\n",
       "    </tr>\n",
       "  </thead>\n",
       "  <tbody>\n",
       "    <tr>\n",
       "      <th>0</th>\n",
       "      <td>{'airline_id': 410, 'name': 'Aerocondor', 'ali...</td>\n",
       "      <td>{'airport_id': 2965.0, 'name': 'Sochi Internat...</td>\n",
       "      <td>{'airport_id': 2990.0, 'name': 'Kazan Internat...</td>\n",
       "      <td>False</td>\n",
       "      <td>[CR2]</td>\n",
       "      <td>AERKZN2B</td>\n",
       "    </tr>\n",
       "    <tr>\n",
       "      <th>1</th>\n",
       "      <td>{'airline_id': 410, 'name': 'Aerocondor', 'ali...</td>\n",
       "      <td>{'airport_id': 2966.0, 'name': 'Astrakhan Airp...</td>\n",
       "      <td>{'airport_id': 2990.0, 'name': 'Kazan Internat...</td>\n",
       "      <td>False</td>\n",
       "      <td>[CR2]</td>\n",
       "      <td>ASFKZN2B</td>\n",
       "    </tr>\n",
       "    <tr>\n",
       "      <th>2</th>\n",
       "      <td>{'airline_id': 410, 'name': 'Aerocondor', 'ali...</td>\n",
       "      <td>{'airport_id': 2966.0, 'name': 'Astrakhan Airp...</td>\n",
       "      <td>{'airport_id': 2962.0, 'name': 'Mineralnyye Vo...</td>\n",
       "      <td>False</td>\n",
       "      <td>[CR2]</td>\n",
       "      <td>ASFMRV2B</td>\n",
       "    </tr>\n",
       "    <tr>\n",
       "      <th>3</th>\n",
       "      <td>{'airline_id': 410, 'name': 'Aerocondor', 'ali...</td>\n",
       "      <td>{'airport_id': 2968.0, 'name': 'Chelyabinsk Ba...</td>\n",
       "      <td>{'airport_id': 2990.0, 'name': 'Kazan Internat...</td>\n",
       "      <td>False</td>\n",
       "      <td>[CR2]</td>\n",
       "      <td>CEKKZN2B</td>\n",
       "    </tr>\n",
       "    <tr>\n",
       "      <th>4</th>\n",
       "      <td>{'airline_id': 410, 'name': 'Aerocondor', 'ali...</td>\n",
       "      <td>{'airport_id': 2968.0, 'name': 'Chelyabinsk Ba...</td>\n",
       "      <td>{'airport_id': 4078.0, 'name': 'Tolmachevo Air...</td>\n",
       "      <td>False</td>\n",
       "      <td>[CR2]</td>\n",
       "      <td>CEKOVB2B</td>\n",
       "    </tr>\n",
       "  </tbody>\n",
       "</table>\n",
       "</div>"
      ],
      "text/plain": [
       "                                             airline  \\\n",
       "0  {'airline_id': 410, 'name': 'Aerocondor', 'ali...   \n",
       "1  {'airline_id': 410, 'name': 'Aerocondor', 'ali...   \n",
       "2  {'airline_id': 410, 'name': 'Aerocondor', 'ali...   \n",
       "3  {'airline_id': 410, 'name': 'Aerocondor', 'ali...   \n",
       "4  {'airline_id': 410, 'name': 'Aerocondor', 'ali...   \n",
       "\n",
       "                                         src_airport  \\\n",
       "0  {'airport_id': 2965.0, 'name': 'Sochi Internat...   \n",
       "1  {'airport_id': 2966.0, 'name': 'Astrakhan Airp...   \n",
       "2  {'airport_id': 2966.0, 'name': 'Astrakhan Airp...   \n",
       "3  {'airport_id': 2968.0, 'name': 'Chelyabinsk Ba...   \n",
       "4  {'airport_id': 2968.0, 'name': 'Chelyabinsk Ba...   \n",
       "\n",
       "                                         dst_airport  codeshare equipment  \\\n",
       "0  {'airport_id': 2990.0, 'name': 'Kazan Internat...      False     [CR2]   \n",
       "1  {'airport_id': 2990.0, 'name': 'Kazan Internat...      False     [CR2]   \n",
       "2  {'airport_id': 2962.0, 'name': 'Mineralnyye Vo...      False     [CR2]   \n",
       "3  {'airport_id': 2990.0, 'name': 'Kazan Internat...      False     [CR2]   \n",
       "4  {'airport_id': 4078.0, 'name': 'Tolmachevo Air...      False     [CR2]   \n",
       "\n",
       "        key  \n",
       "0  AERKZN2B  \n",
       "1  ASFKZN2B  \n",
       "2  ASFMRV2B  \n",
       "3  CEKKZN2B  \n",
       "4  CEKOVB2B  "
      ]
     },
     "execution_count": 11,
     "metadata": {},
     "output_type": "execute_result"
    }
   ],
   "source": [
    "# check data\n",
    "\n",
    "df.head()\n"
   ]
  },
  {
   "cell_type": "code",
   "execution_count": 13,
   "metadata": {},
   "outputs": [],
   "source": [
    "# create kv_key\n",
    "\n",
    "df['kv_key'] = df['key'].str[0]\n",
    "\n",
    "# replace the kv_key based on partition\n",
    "\n",
    "df['kv_key'] = df['kv_key'].replace({'C': 'C-D', 'D': 'C-D', 'E': 'E-F', 'F': 'E-F', 'G': 'G-H', 'H': 'G-H', 'I': 'I-J',\n",
    "                                     'J': 'I-J','K': 'K-L', 'L': 'K-L', 'O': 'O-P', 'P': 'O-P','Q': 'Q-R', 'R': 'Q-R',\n",
    "                                     'S': 'S-T', 'T':'S-T','W': 'W-X', 'X': 'W-X', 'Y': 'Y-Z', 'Z':'Y-Z'})"
   ]
  },
  {
   "cell_type": "code",
   "execution_count": 14,
   "metadata": {},
   "outputs": [
    {
     "data": {
      "text/html": [
       "<div>\n",
       "<style scoped>\n",
       "    .dataframe tbody tr th:only-of-type {\n",
       "        vertical-align: middle;\n",
       "    }\n",
       "\n",
       "    .dataframe tbody tr th {\n",
       "        vertical-align: top;\n",
       "    }\n",
       "\n",
       "    .dataframe thead th {\n",
       "        text-align: right;\n",
       "    }\n",
       "</style>\n",
       "<table border=\"1\" class=\"dataframe\">\n",
       "  <thead>\n",
       "    <tr style=\"text-align: right;\">\n",
       "      <th></th>\n",
       "      <th>airline</th>\n",
       "      <th>src_airport</th>\n",
       "      <th>dst_airport</th>\n",
       "      <th>codeshare</th>\n",
       "      <th>equipment</th>\n",
       "      <th>key</th>\n",
       "      <th>kv_key</th>\n",
       "    </tr>\n",
       "  </thead>\n",
       "  <tbody>\n",
       "    <tr>\n",
       "      <th>0</th>\n",
       "      <td>{'airline_id': 410, 'name': 'Aerocondor', 'ali...</td>\n",
       "      <td>{'airport_id': 2965.0, 'name': 'Sochi Internat...</td>\n",
       "      <td>{'airport_id': 2990.0, 'name': 'Kazan Internat...</td>\n",
       "      <td>False</td>\n",
       "      <td>[CR2]</td>\n",
       "      <td>AERKZN2B</td>\n",
       "      <td>A</td>\n",
       "    </tr>\n",
       "    <tr>\n",
       "      <th>1</th>\n",
       "      <td>{'airline_id': 410, 'name': 'Aerocondor', 'ali...</td>\n",
       "      <td>{'airport_id': 2966.0, 'name': 'Astrakhan Airp...</td>\n",
       "      <td>{'airport_id': 2990.0, 'name': 'Kazan Internat...</td>\n",
       "      <td>False</td>\n",
       "      <td>[CR2]</td>\n",
       "      <td>ASFKZN2B</td>\n",
       "      <td>A</td>\n",
       "    </tr>\n",
       "    <tr>\n",
       "      <th>2</th>\n",
       "      <td>{'airline_id': 410, 'name': 'Aerocondor', 'ali...</td>\n",
       "      <td>{'airport_id': 2966.0, 'name': 'Astrakhan Airp...</td>\n",
       "      <td>{'airport_id': 2962.0, 'name': 'Mineralnyye Vo...</td>\n",
       "      <td>False</td>\n",
       "      <td>[CR2]</td>\n",
       "      <td>ASFMRV2B</td>\n",
       "      <td>A</td>\n",
       "    </tr>\n",
       "    <tr>\n",
       "      <th>3</th>\n",
       "      <td>{'airline_id': 410, 'name': 'Aerocondor', 'ali...</td>\n",
       "      <td>{'airport_id': 2968.0, 'name': 'Chelyabinsk Ba...</td>\n",
       "      <td>{'airport_id': 2990.0, 'name': 'Kazan Internat...</td>\n",
       "      <td>False</td>\n",
       "      <td>[CR2]</td>\n",
       "      <td>CEKKZN2B</td>\n",
       "      <td>C-D</td>\n",
       "    </tr>\n",
       "    <tr>\n",
       "      <th>4</th>\n",
       "      <td>{'airline_id': 410, 'name': 'Aerocondor', 'ali...</td>\n",
       "      <td>{'airport_id': 2968.0, 'name': 'Chelyabinsk Ba...</td>\n",
       "      <td>{'airport_id': 4078.0, 'name': 'Tolmachevo Air...</td>\n",
       "      <td>False</td>\n",
       "      <td>[CR2]</td>\n",
       "      <td>CEKOVB2B</td>\n",
       "      <td>C-D</td>\n",
       "    </tr>\n",
       "  </tbody>\n",
       "</table>\n",
       "</div>"
      ],
      "text/plain": [
       "                                             airline  \\\n",
       "0  {'airline_id': 410, 'name': 'Aerocondor', 'ali...   \n",
       "1  {'airline_id': 410, 'name': 'Aerocondor', 'ali...   \n",
       "2  {'airline_id': 410, 'name': 'Aerocondor', 'ali...   \n",
       "3  {'airline_id': 410, 'name': 'Aerocondor', 'ali...   \n",
       "4  {'airline_id': 410, 'name': 'Aerocondor', 'ali...   \n",
       "\n",
       "                                         src_airport  \\\n",
       "0  {'airport_id': 2965.0, 'name': 'Sochi Internat...   \n",
       "1  {'airport_id': 2966.0, 'name': 'Astrakhan Airp...   \n",
       "2  {'airport_id': 2966.0, 'name': 'Astrakhan Airp...   \n",
       "3  {'airport_id': 2968.0, 'name': 'Chelyabinsk Ba...   \n",
       "4  {'airport_id': 2968.0, 'name': 'Chelyabinsk Ba...   \n",
       "\n",
       "                                         dst_airport  codeshare equipment  \\\n",
       "0  {'airport_id': 2990.0, 'name': 'Kazan Internat...      False     [CR2]   \n",
       "1  {'airport_id': 2990.0, 'name': 'Kazan Internat...      False     [CR2]   \n",
       "2  {'airport_id': 2962.0, 'name': 'Mineralnyye Vo...      False     [CR2]   \n",
       "3  {'airport_id': 2990.0, 'name': 'Kazan Internat...      False     [CR2]   \n",
       "4  {'airport_id': 4078.0, 'name': 'Tolmachevo Air...      False     [CR2]   \n",
       "\n",
       "        key kv_key  \n",
       "0  AERKZN2B      A  \n",
       "1  ASFKZN2B      A  \n",
       "2  ASFMRV2B      A  \n",
       "3  CEKKZN2B    C-D  \n",
       "4  CEKOVB2B    C-D  "
      ]
     },
     "execution_count": 14,
     "metadata": {},
     "output_type": "execute_result"
    }
   ],
   "source": [
    "# check first few rows are correct\n",
    "df.head()"
   ]
  },
  {
   "cell_type": "code",
   "execution_count": 15,
   "metadata": {},
   "outputs": [],
   "source": [
    "# create directory structure\n",
    "\n",
    "df.to_parquet(path='results/kv',partition_cols=['kv_key'])\n"
   ]
  },
  {
   "cell_type": "markdown",
   "metadata": {},
   "source": [
    "#### Assginemt 7b"
   ]
  },
  {
   "cell_type": "code",
   "execution_count": 16,
   "metadata": {},
   "outputs": [],
   "source": [
    "# define fuction to create hash key\n",
    "\n",
    "def hash_key(key):\n",
    "    m = hashlib.sha256()\n",
    "    m.update(str(key).encode('utf-8'))\n",
    "    return m.hexdigest().upper()\n"
   ]
  },
  {
   "cell_type": "code",
   "execution_count": 17,
   "metadata": {},
   "outputs": [],
   "source": [
    "# generate hashed column and populate values\n",
    "\n",
    "df['hashed'] = df.apply(hash_key, axis=1)\n"
   ]
  },
  {
   "cell_type": "code",
   "execution_count": 18,
   "metadata": {},
   "outputs": [],
   "source": [
    "# create hash_key\n",
    "\n",
    "df['hash_key'] = df['hashed'].str[0]"
   ]
  },
  {
   "cell_type": "code",
   "execution_count": 19,
   "metadata": {},
   "outputs": [
    {
     "data": {
      "text/html": [
       "<div>\n",
       "<style scoped>\n",
       "    .dataframe tbody tr th:only-of-type {\n",
       "        vertical-align: middle;\n",
       "    }\n",
       "\n",
       "    .dataframe tbody tr th {\n",
       "        vertical-align: top;\n",
       "    }\n",
       "\n",
       "    .dataframe thead th {\n",
       "        text-align: right;\n",
       "    }\n",
       "</style>\n",
       "<table border=\"1\" class=\"dataframe\">\n",
       "  <thead>\n",
       "    <tr style=\"text-align: right;\">\n",
       "      <th></th>\n",
       "      <th>airline</th>\n",
       "      <th>src_airport</th>\n",
       "      <th>dst_airport</th>\n",
       "      <th>codeshare</th>\n",
       "      <th>equipment</th>\n",
       "      <th>key</th>\n",
       "      <th>kv_key</th>\n",
       "      <th>hashed</th>\n",
       "      <th>hash_key</th>\n",
       "    </tr>\n",
       "  </thead>\n",
       "  <tbody>\n",
       "    <tr>\n",
       "      <th>0</th>\n",
       "      <td>{'airline_id': 410, 'name': 'Aerocondor', 'ali...</td>\n",
       "      <td>{'airport_id': 2965.0, 'name': 'Sochi Internat...</td>\n",
       "      <td>{'airport_id': 2990.0, 'name': 'Kazan Internat...</td>\n",
       "      <td>False</td>\n",
       "      <td>[CR2]</td>\n",
       "      <td>AERKZN2B</td>\n",
       "      <td>A</td>\n",
       "      <td>6BE72CE1DF4C9891AA30336AF9AF50AEB2B6ADAFF48180...</td>\n",
       "      <td>6</td>\n",
       "    </tr>\n",
       "    <tr>\n",
       "      <th>1</th>\n",
       "      <td>{'airline_id': 410, 'name': 'Aerocondor', 'ali...</td>\n",
       "      <td>{'airport_id': 2966.0, 'name': 'Astrakhan Airp...</td>\n",
       "      <td>{'airport_id': 2990.0, 'name': 'Kazan Internat...</td>\n",
       "      <td>False</td>\n",
       "      <td>[CR2]</td>\n",
       "      <td>ASFKZN2B</td>\n",
       "      <td>A</td>\n",
       "      <td>E250BB3A1FDBA40235E3C7529A9924AD777631603448CD...</td>\n",
       "      <td>E</td>\n",
       "    </tr>\n",
       "    <tr>\n",
       "      <th>2</th>\n",
       "      <td>{'airline_id': 410, 'name': 'Aerocondor', 'ali...</td>\n",
       "      <td>{'airport_id': 2966.0, 'name': 'Astrakhan Airp...</td>\n",
       "      <td>{'airport_id': 2962.0, 'name': 'Mineralnyye Vo...</td>\n",
       "      <td>False</td>\n",
       "      <td>[CR2]</td>\n",
       "      <td>ASFMRV2B</td>\n",
       "      <td>A</td>\n",
       "      <td>611CBF68C32694D98BF1A469FFAC950F15A5AA608C444D...</td>\n",
       "      <td>6</td>\n",
       "    </tr>\n",
       "    <tr>\n",
       "      <th>3</th>\n",
       "      <td>{'airline_id': 410, 'name': 'Aerocondor', 'ali...</td>\n",
       "      <td>{'airport_id': 2968.0, 'name': 'Chelyabinsk Ba...</td>\n",
       "      <td>{'airport_id': 2990.0, 'name': 'Kazan Internat...</td>\n",
       "      <td>False</td>\n",
       "      <td>[CR2]</td>\n",
       "      <td>CEKKZN2B</td>\n",
       "      <td>C-D</td>\n",
       "      <td>BB1FA222B179AA3E535ABEEECB8B692CECBF86C4EEBABC...</td>\n",
       "      <td>B</td>\n",
       "    </tr>\n",
       "    <tr>\n",
       "      <th>4</th>\n",
       "      <td>{'airline_id': 410, 'name': 'Aerocondor', 'ali...</td>\n",
       "      <td>{'airport_id': 2968.0, 'name': 'Chelyabinsk Ba...</td>\n",
       "      <td>{'airport_id': 4078.0, 'name': 'Tolmachevo Air...</td>\n",
       "      <td>False</td>\n",
       "      <td>[CR2]</td>\n",
       "      <td>CEKOVB2B</td>\n",
       "      <td>C-D</td>\n",
       "      <td>00E77E6BBE4310E0E29F3B9C7B02B43292C5EF78FD7D82...</td>\n",
       "      <td>0</td>\n",
       "    </tr>\n",
       "  </tbody>\n",
       "</table>\n",
       "</div>"
      ],
      "text/plain": [
       "                                             airline  \\\n",
       "0  {'airline_id': 410, 'name': 'Aerocondor', 'ali...   \n",
       "1  {'airline_id': 410, 'name': 'Aerocondor', 'ali...   \n",
       "2  {'airline_id': 410, 'name': 'Aerocondor', 'ali...   \n",
       "3  {'airline_id': 410, 'name': 'Aerocondor', 'ali...   \n",
       "4  {'airline_id': 410, 'name': 'Aerocondor', 'ali...   \n",
       "\n",
       "                                         src_airport  \\\n",
       "0  {'airport_id': 2965.0, 'name': 'Sochi Internat...   \n",
       "1  {'airport_id': 2966.0, 'name': 'Astrakhan Airp...   \n",
       "2  {'airport_id': 2966.0, 'name': 'Astrakhan Airp...   \n",
       "3  {'airport_id': 2968.0, 'name': 'Chelyabinsk Ba...   \n",
       "4  {'airport_id': 2968.0, 'name': 'Chelyabinsk Ba...   \n",
       "\n",
       "                                         dst_airport  codeshare equipment  \\\n",
       "0  {'airport_id': 2990.0, 'name': 'Kazan Internat...      False     [CR2]   \n",
       "1  {'airport_id': 2990.0, 'name': 'Kazan Internat...      False     [CR2]   \n",
       "2  {'airport_id': 2962.0, 'name': 'Mineralnyye Vo...      False     [CR2]   \n",
       "3  {'airport_id': 2990.0, 'name': 'Kazan Internat...      False     [CR2]   \n",
       "4  {'airport_id': 4078.0, 'name': 'Tolmachevo Air...      False     [CR2]   \n",
       "\n",
       "        key kv_key                                             hashed hash_key  \n",
       "0  AERKZN2B      A  6BE72CE1DF4C9891AA30336AF9AF50AEB2B6ADAFF48180...        6  \n",
       "1  ASFKZN2B      A  E250BB3A1FDBA40235E3C7529A9924AD777631603448CD...        E  \n",
       "2  ASFMRV2B      A  611CBF68C32694D98BF1A469FFAC950F15A5AA608C444D...        6  \n",
       "3  CEKKZN2B    C-D  BB1FA222B179AA3E535ABEEECB8B692CECBF86C4EEBABC...        B  \n",
       "4  CEKOVB2B    C-D  00E77E6BBE4310E0E29F3B9C7B02B43292C5EF78FD7D82...        0  "
      ]
     },
     "execution_count": 19,
     "metadata": {},
     "output_type": "execute_result"
    }
   ],
   "source": [
    "# check data\n",
    "\n",
    "df.head()\n"
   ]
  },
  {
   "cell_type": "code",
   "execution_count": 20,
   "metadata": {},
   "outputs": [],
   "source": [
    "# create directory structure\n",
    "\n",
    "df.to_parquet(path='results/hash',partition_cols=['hash_key'])\n"
   ]
  },
  {
   "cell_type": "markdown",
   "metadata": {},
   "source": [
    "#### Assignment 7c"
   ]
  },
  {
   "cell_type": "code",
   "execution_count": 21,
   "metadata": {},
   "outputs": [
    {
     "name": "stdout",
     "output_type": "stream",
     "text": [
      "{'west': 'c21g6s0rs4c7', 'central': '9z7dnebnj8kb', 'east': 'dqby34cjw922'}\n"
     ]
    }
   ],
   "source": [
    "# get geohash for datacenters\n",
    "\n",
    "datacenters = {}\n",
    "\n",
    "datacenters['west'] = pygeohash.encode(45.5945645, -121.1786823)\n",
    "datacenters['central'] = pygeohash.encode(41.1544433, -96.0422378)\n",
    "datacenters['east'] = pygeohash.encode(39.08344, -77.6497145)\n",
    "\n",
    "# print\n",
    "print(datacenters)"
   ]
  },
  {
   "cell_type": "code",
   "execution_count": 22,
   "metadata": {},
   "outputs": [],
   "source": [
    "# define function to find closest data center\n",
    "def closest_datacenter(df):\n",
    "    latitude = df['src_airport'].get('latitude')\n",
    "    longitude = df['src_airport'].get('longitude')\n",
    "    geohash = pygeohash.encode(latitude, longitude)\n",
    "    west_dist = pygeohash.geohash_approximate_distance(geohash, datacenters['west'])\n",
    "    east_dist = pygeohash.geohash_approximate_distance(geohash,datacenters['east'])\n",
    "    central_dist = pygeohash.geohash_approximate_distance(geohash,datacenters['central'])\n",
    "    min_dist = min(west_dist, east_dist, central_dist)\n",
    "    \n",
    "    if west_dist == min_dist:\n",
    "        return 'west'\n",
    "    if east_dist == min_dist:\n",
    "        return 'east'\n",
    "    return 'central'\n",
    "\n"
   ]
  },
  {
   "cell_type": "code",
   "execution_count": 23,
   "metadata": {},
   "outputs": [],
   "source": [
    "# generate location column\n",
    "\n",
    "df['location'] = df.apply(closest_datacenter, axis=1)\n"
   ]
  },
  {
   "cell_type": "code",
   "execution_count": 24,
   "metadata": {},
   "outputs": [
    {
     "data": {
      "text/plain": [
       "west       51311\n",
       "east        9980\n",
       "central     5480\n",
       "Name: location, dtype: int64"
      ]
     },
     "execution_count": 24,
     "metadata": {},
     "output_type": "execute_result"
    }
   ],
   "source": [
    "# check the counts of unique locations\n",
    "df['location'].value_counts()\n"
   ]
  },
  {
   "cell_type": "code",
   "execution_count": 25,
   "metadata": {},
   "outputs": [],
   "source": [
    "# create directory structure\n",
    "\n",
    "df.to_parquet(path='results/geo',partition_cols=['location'])"
   ]
  },
  {
   "cell_type": "markdown",
   "metadata": {},
   "source": [
    "#### Assginment 7d"
   ]
  },
  {
   "cell_type": "code",
   "execution_count": 26,
   "metadata": {},
   "outputs": [],
   "source": [
    "def balance_partitions(keys, num_partitions):\n",
    "    keys.sort() \n",
    "    partitions = []\n",
    "\n",
    "    # get approximate number of keys per partition\n",
    "    partition_size = int(len(keys) / num_partitions)\n",
    "    \n",
    "    for i in range(num_partitions):\n",
    "        if i == (num_partitions-1): # remaining keys are added to the last␣partition\n",
    "            partitions.append(keys[i*partition_size:])\n",
    "        else: partitions.append(keys[i*partition_size:(i+1)*partition_size])\n",
    "            \n",
    "    return partitions\n"
   ]
  },
  {
   "cell_type": "code",
   "execution_count": 27,
   "metadata": {},
   "outputs": [
    {
     "name": "stdout",
     "output_type": "stream",
     "text": [
      "[[1, 1, 1, 1, 2], [3, 3, 3, 4, 4], [4, 5, 5, 5, 6], [6, 6, 7, 7, 7], [7, 8, 8, 8, 9]]\n"
     ]
    }
   ],
   "source": [
    "# define a list\n",
    "keys = [1, 7, 2, 8, 3, 3, 8, 4, 4, 5, 5, 6, 6, 7, 1, 8, 3, 4, 1, 9, 6, 5, 1, 7, 7]\n",
    "\n",
    "# define number of partitions\n",
    "num_partitions = 5\n",
    "\n",
    "# call function\n",
    "partitions = balance_partitions(keys, num_partitions)\n",
    "\n",
    "# print it\n",
    "print(partitions)\n"
   ]
  },
  {
   "cell_type": "code",
   "execution_count": null,
   "metadata": {},
   "outputs": [],
   "source": []
  }
 ],
 "metadata": {
  "kernelspec": {
   "display_name": "Python 3",
   "language": "python",
   "name": "python3"
  },
  "language_info": {
   "codemirror_mode": {
    "name": "ipython",
    "version": 3
   },
   "file_extension": ".py",
   "mimetype": "text/x-python",
   "name": "python",
   "nbconvert_exporter": "python",
   "pygments_lexer": "ipython3",
   "version": "3.8.3"
  }
 },
 "nbformat": 4,
 "nbformat_minor": 4
}
