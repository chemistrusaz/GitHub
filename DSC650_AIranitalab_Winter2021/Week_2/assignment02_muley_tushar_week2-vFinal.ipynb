{
 "cells": [
  {
   "cell_type": "markdown",
   "metadata": {},
   "source": [
    "Name: Muley, Tushar\n",
    "Assignment: Assignment02-Week2\n",
    "Date: Dec 12, 2021"
   ]
  },
  {
   "cell_type": "markdown",
   "metadata": {},
   "source": [
    "#### Assignment 2.1 - KVDB"
   ]
  },
  {
   "cell_type": "code",
   "execution_count": 44,
   "metadata": {},
   "outputs": [],
   "source": [
    "import json\n",
    "from pathlib import Path\n",
    "import os\n",
    "\n",
    "import pandas as pd\n",
    "import s3fs\n",
    "from operator import itemgetter\n",
    "\n",
    "#def read_cluster_csv(file_path, endpoint_url='https://storage.budsc.midwest-datascience.com'):\n",
    "#    s3 = s3fs.S3FileSystem(\n",
    "#        anon=True,\n",
    "#        client_kwargs={\n",
    "#            'endpoint_url': endpoint_url\n",
    "#        }\n",
    "#    )\n",
    "#    return pd.read_csv(s3.open(file_path, mode='rb'))\n",
    "\n",
    "#site file\n",
    "site = 'site.csv'\n",
    "people = 'person.csv'\n",
    "visited = 'visited.csv'\n",
    "measurements = 'measurements.csv'\n",
    "\n",
    "current_dir = Path(os.getcwd()).absolute()\n",
    "results_dir = current_dir.joinpath('results')\n",
    "kv_data_dir = results_dir.joinpath('kvdb')\n",
    "kv_data_dir.mkdir(parents=True, exist_ok=True)\n",
    "\n",
    "people_json = kv_data_dir.joinpath('people.json')\n",
    "visited_json = kv_data_dir.joinpath('visited.json')\n",
    "sites_json = kv_data_dir.joinpath('sites.json')\n",
    "measurements_json = kv_data_dir.joinpath('measurements.json')"
   ]
  },
  {
   "cell_type": "code",
   "execution_count": 2,
   "metadata": {},
   "outputs": [],
   "source": [
    "class KVDB(object):\n",
    "    def __init__(self, db_path):\n",
    "        self._db_path = Path(db_path)\n",
    "        self._db = {}\n",
    "        self._load_db()\n",
    "\n",
    "    def _load_db(self):\n",
    "        if self._db_path.exists():\n",
    "            with open(self._db_path) as f:\n",
    "                self._db = json.load(f)\n",
    "\n",
    "    def get_value(self, key):\n",
    "        return self._db.get(key)\n",
    "\n",
    "    def set_value(self, key, value):\n",
    "        self._db[key] = value\n",
    "\n",
    "    def save(self):\n",
    "        with open(self._db_path, 'w') as f:\n",
    "            json.dump(self._db, f, indent=2)"
   ]
  },
  {
   "cell_type": "code",
   "execution_count": 5,
   "metadata": {},
   "outputs": [],
   "source": [
    "def create_sites_kvdb():\n",
    "    db = KVDB(sites_json)\n",
    "    #df = read_cluster_csv('data/external/tidynomicon/site.csv')\n",
    "    df = pd.read_csv(site) #read the file and move to dataframe\n",
    "    for site_id, group_df in df.groupby('site_id'):\n",
    "        db.set_value(site_id, group_df.to_dict(orient='records')[0])\n",
    "    db.save()\n",
    "\n",
    "def create_people_kvdb():\n",
    "    db = KVDB(people_json)\n",
    "    ## TODO: Implement code\n",
    "    df = pd.read_csv(people)\n",
    "    for person_id, group_df in df.groupby('person_id'):\n",
    "        db.set_value(person_id, group_df.to_dict(orient='records')[0])\n",
    "    db.save()\n",
    "\n",
    "def create_visits_kvdb():\n",
    "    db = KVDB(visited_json)\n",
    "    df=pd.read_csv(visited)\n",
    "    for visit_id, group_df in df.groupby('visit_id'):\n",
    "        db.set_value(visit_id, group_df.to_dict(orient='records')[0])\n",
    "    db.save()\n",
    "    \n",
    "def create_visits_kvdb():\n",
    "    db = KVDB(visited_json)\n",
    "    ## TODO: Implement code\n",
    "    df = pd.read_csv(visited)\n",
    "    for ids, group_df in df.groupby(['visit_id','site_id']):\n",
    "        db.set_value(str(ids), group_df.to_dict(orient='records')[0])\n",
    "    db.save()\n",
    "    \n",
    "\n",
    "def create_measurements_kvdb():\n",
    "    db = KVDB(measurements_json)\n",
    "    ## TODO: Implement code\n",
    "    df = pd.read_csv(measurements)\n",
    "    for ids, group_df in df.groupby(['visit_id','person_id','quantity']):\n",
    "        db.set_value(str(ids),group_df.to_dict(orient='records')[0])\n",
    "    db.save()"
   ]
  },
  {
   "cell_type": "code",
   "execution_count": 8,
   "metadata": {},
   "outputs": [],
   "source": [
    "create_sites_kvdb()\n",
    "create_people_kvdb()\n",
    "create_visits_kvdb()\n",
    "create_measurements_kvdb()"
   ]
  },
  {
   "cell_type": "markdown",
   "metadata": {},
   "source": [
    "#### Assignment 2.2 0 TinyDB"
   ]
  },
  {
   "cell_type": "code",
   "execution_count": 10,
   "metadata": {},
   "outputs": [],
   "source": [
    "from pathlib import Path\n",
    "import json\n",
    "import os\n",
    "\n",
    "from tinydb import TinyDB\n",
    "\n",
    "current_dir = Path(os.getcwd()).absolute()\n",
    "results_dir = current_dir.joinpath('results')\n",
    "kv_data_dir = results_dir.joinpath('kvdb')\n",
    "kv_data_dir.mkdir(parents=True, exist_ok=True)\n"
   ]
  },
  {
   "cell_type": "code",
   "execution_count": 13,
   "metadata": {},
   "outputs": [],
   "source": [
    "def _load_json(json_path):\n",
    "    with open(json_path) as f:\n",
    "        return json.load(f)\n",
    "    \n",
    "class DocumentDB(object):\n",
    "    def __init__(self, db_path):\n",
    "        ## You can use the code from the previous exmaple if you would like\n",
    "        people_json = kv_data_dir.joinpath('people.json')\n",
    "        visited_json = kv_data_dir.joinpath('visited.json')\n",
    "        sites_json = kv_data_dir.joinpath('sites.json')\n",
    "        measurements_json = kv_data_dir.joinpath('measurements.json')\n",
    "        self._db_path = Path(db_path)\n",
    "        self._db = None\n",
    "        ## TODO: Implement code        \n",
    "        # load JSON files\n",
    "        self._person_find = _load_json(people_json)\n",
    "        self._visit_find = _load_json(visited_json)\n",
    "        self._site_find = _load_json(sites_json)\n",
    "        self._measurements_find = _load_json(measurements_json)\n",
    "        \n",
    "        self._load_db()\n",
    "\n",
    "        # get needed ids for site\n",
    "    def _get_site(self, site_id):\n",
    "        return self._site_find[site_id]\n",
    "        # get person id from measurement\n",
    "    def _get_measurements(self, person_id):\n",
    "        measurements = []\n",
    "        for values in self._measurements_find.values():\n",
    "            if str(values['person_id']) == str(person_id):\n",
    "                measurements.extend([values])\n",
    "        return measurements\n",
    "        # get visit id\n",
    "    def _get_visit(self, visit_id):\n",
    "        visits = self._visit_find.values()\n",
    "        for value in visits:\n",
    "            visit = value\n",
    "            if value['visit_id'] == visit_id:\n",
    "                site_id = str(value['site_id'])\n",
    "                site = self._get_site(site_id)\n",
    "                visit['site'] = site\n",
    "                break\n",
    "        return visit\n",
    "    \n",
    "    # load the tinyDb with the data\n",
    "    def _load_db(self):\n",
    "        self._db = TinyDB(self._db_path)\n",
    "        ## TODO: Implement code\n",
    "        persons = self._person_find.items() #find person 1st\n",
    "        for person_id, record in persons:\n",
    "            measurements = self._get_measurements(person_id) #find person in measurement to find visit\n",
    "            visit_ids = set([measurement['visit_id'] for measurement in measurements])\n",
    "            visits = [] #load visit\n",
    "            for visit_id in visit_ids:\n",
    "                visit = self._get_visit(visit_id) #find visit in visit\n",
    "                visit['measurements'] = [\n",
    "                    measurement for measurement in measurements\n",
    "                    if visit_id == measurement['visit_id'] #do the match\n",
    "                ]\n",
    "                visits.append(visit) #add visit\n",
    "            record['visits'] = visits\n",
    "            self._db.insert(record) #insert in toe TinyDB\n",
    "                "
   ]
  },
  {
   "cell_type": "code",
   "execution_count": 14,
   "metadata": {},
   "outputs": [],
   "source": [
    "db_path = results_dir.joinpath('patient-info.json')\n",
    "if db_path.exists():\n",
    "    os.remove(db_path)\n",
    "\n",
    "db = DocumentDB(db_path)"
   ]
  },
  {
   "cell_type": "code",
   "execution_count": null,
   "metadata": {},
   "outputs": [],
   "source": [
    "##Notes:\n",
    "pj=open(people)\n",
    "pj=json.load(pj)\n",
    "vj=open(visited)\n",
    "vj=json.load(vj)\n",
    "sj=open(sites)\n",
    "sj=json.load(sj)\n",
    "mj=open(measurements)\n",
    "msmts=json.load(mj)\n",
    "\n",
    "for key in mtms.keys():\n",
    "     pkeys=key.split(', ')\n",
    "     pval=pj.get(pkeys[1])\n",
    "     print(pval)\n",
    "     visval=vj.get(pkeys[0])\n",
    "     print(visval)\n",
    "     sitval=sj.get(visval[1].get('site_id'))\n",
    "     print(sitval)\n",
    "     mval=msmts.get(key)\n",
    "     print(mval)"
   ]
  },
  {
   "cell_type": "markdown",
   "metadata": {},
   "source": [
    "#### Assignment 2.3 - SQLite"
   ]
  },
  {
   "cell_type": "code",
   "execution_count": 75,
   "metadata": {},
   "outputs": [],
   "source": [
    "from pathlib import Path\n",
    "import os\n",
    "import sqlite3\n",
    "\n",
    "import s3fs\n",
    "import pandas as pd\n",
    "\n",
    "current_dir = Path(os.getcwd()).absolute()\n",
    "results_dir = current_dir.joinpath('results')\n",
    "kv_data_dir = results_dir.joinpath('kvdb')\n",
    "kv_data_dir.mkdir(parents=True, exist_ok=True)\n",
    "\n",
    "#def read_cluster_csv(file_path, endpoint_url='https://storage.budsc.midwest-datascience.com'):\n",
    "#    s3 = s3fs.S3FileSystem(\n",
    "#        anon=True,\n",
    "#      client_kwargs={\n",
    "#            'endpoint_url': endpoint_url\n",
    "#        }\n",
    "#    )\n",
    "#    return pd.read_csv(s3.open(file_path, mode='rb'))\n",
    "\n",
    "#site file\n",
    "fsite = 'site.csv'\n",
    "fpeople = 'person.csv'\n",
    "fvisited = 'visited.csv'\n",
    "fmeasurements = 'measurements.csv'\n",
    "\n",
    "#current_dir = Path(os.getcwd()).absolute()\n",
    "#results_dir = current_dir.joinpath('results')\n",
    "\n",
    "# dsc650/assignments/assignment02/results/patient-info.db for SQL\n"
   ]
  },
  {
   "cell_type": "markdown",
   "metadata": {},
   "source": [
    "## Create and Load Measurements Table"
   ]
  },
  {
   "cell_type": "code",
   "execution_count": 76,
   "metadata": {},
   "outputs": [],
   "source": [
    "def create_measurements_table(conn):\n",
    "    sql = \"\"\"\n",
    "    CREATE TABLE IF NOT EXISTS measurements (\n",
    "        visit_id integer NOT NULL,\n",
    "        person_id text NOT NULL,\n",
    "        quantity text,\n",
    "        reading real,\n",
    "        FOREIGN KEY (visit_id) REFERENCES visits (visit_id),\n",
    "        FOREIGN KEY (person_id) REFERENCES people (people_id)\n",
    "        );\n",
    "    \"\"\"\n",
    "\n",
    "    c = conn.cursor()\n",
    "    c.execute(sql)\n",
    "    \n",
    "def load_measurements_table(conn):\n",
    "    create_measurements_table(conn)\n",
    "    df = pd.read_csv(fmeasurements) #read the file and move to dataframe\n",
    "    measurements = df.values\n",
    "    c = conn.cursor()\n",
    "    c.execute('DELETE FROM measurements;') # Delete data if exists\n",
    "    c.executemany('INSERT INTO measurements VALUES (?,?,?,?)', measurements)"
   ]
  },
  {
   "cell_type": "markdown",
   "metadata": {},
   "source": [
    "## Create and Load People Table"
   ]
  },
  {
   "cell_type": "code",
   "execution_count": 77,
   "metadata": {},
   "outputs": [],
   "source": [
    "def create_people_table(conn):\n",
    "    sql = \"\"\"\n",
    "    CREATE TABLE IF NOT EXISTS people (\n",
    "        person_id text PRIMARY KEY,\n",
    "        personal_name text,\n",
    "        family_name text\n",
    "        );\n",
    "    \"\"\"\n",
    "    ## TODO: Complete SQL\n",
    "    c = conn.cursor()\n",
    "    c.execute(sql)\n",
    "    \n",
    "def load_people_table(conn):\n",
    "    create_people_table(conn)\n",
    "    df = pd.read_csv(fpeople)\n",
    "    person = df.values\n",
    "    c = conn.cursor()\n",
    "    c.execute('DELETE FROM people;')\n",
    "    c.executemany('INSERT INTO people VALUES (?,?,?)', person)\n",
    "    ## TODO: Complete code"
   ]
  },
  {
   "cell_type": "markdown",
   "metadata": {},
   "source": [
    "## Create and Load Sites Table"
   ]
  },
  {
   "cell_type": "code",
   "execution_count": 87,
   "metadata": {},
   "outputs": [],
   "source": [
    "def create_sites_table(conn):\n",
    "    sql = \"\"\"\n",
    "    CREATE TABLE IF NOT EXISTS sites (\n",
    "        site_id text PRIMARY KEY,\n",
    "        latitude double NOT NULL,\n",
    "        longitude double NOT NULL\n",
    "        );\n",
    "    \"\"\"\n",
    "\n",
    "    c = conn.cursor()\n",
    "    c.execute(sql)\n",
    "\n",
    "def load_sites_table(conn):\n",
    "    create_sites_table(conn)\n",
    "    df = pd.read_csv(fsite)\n",
    "    sites = df.values\n",
    "    c = conn.cursor()\n",
    "    c.execute('DELETE FROM sites;')\n",
    "    c.executemany('INSERT INTO sites VALUES (?,?,?)', sites)\n",
    "    ## TODO: Complete code"
   ]
  },
  {
   "cell_type": "markdown",
   "metadata": {},
   "source": [
    "## Create and Load Visits Table"
   ]
  },
  {
   "cell_type": "code",
   "execution_count": 79,
   "metadata": {},
   "outputs": [],
   "source": [
    "def create_visits_table(conn):\n",
    "    sql = \"\"\"\n",
    "    CREATE TABLE IF NOT EXISTS visits (\n",
    "        visit_id integer PRIMARY KEY,\n",
    "        site_id text NOT NULL,\n",
    "        visit_date text,\n",
    "        FOREIGN KEY (site_id) REFERENCES sites (site_id)\n",
    "        );\n",
    "    \"\"\"\n",
    "\n",
    "    c = conn.cursor()\n",
    "    c.execute(sql)\n",
    "\n",
    "def load_visits_table(conn):\n",
    "    create_visits_table(conn)\n",
    "    df = pd.read_csv(fvisited)\n",
    "    visits = df.values\n",
    "    c = conn.cursor()\n",
    "    c.execute('DELETE FROM visits;')\n",
    "    c.executemany('INSERT INTO visits VALUES (?,?,?)', visits)\n",
    "    ## TODO: Complete code"
   ]
  },
  {
   "cell_type": "markdown",
   "metadata": {},
   "source": [
    "## Create DB and Load Tables"
   ]
  },
  {
   "cell_type": "code",
   "execution_count": 88,
   "metadata": {},
   "outputs": [],
   "source": [
    "db_path = results_dir.joinpath('patient-info.db')\n",
    "conn = sqlite3.connect(str(db_path))\n",
    "# TODO: Uncomment once functions completed\n",
    "load_people_table(conn) \n",
    "load_sites_table(conn)\n",
    "load_visits_table(conn)\n",
    "load_measurements_table(conn)\n",
    "\n",
    "conn.commit()\n",
    "conn.close()"
   ]
  },
  {
   "cell_type": "markdown",
   "metadata": {},
   "source": [
    "### Assignment 2.4"
   ]
  },
  {
   "cell_type": "markdown",
   "metadata": {},
   "source": [
    "Modify the query so that the column order is date, event, and eventLabel instead of event, eventLabel, and date. Download the results as a JSON file and copy the results to dsc650/assignments/assignment02/results/wikidata-query.json."
   ]
  },
  {
   "cell_type": "code",
   "execution_count": null,
   "metadata": {},
   "outputs": [],
   "source": []
  },
  {
   "cell_type": "code",
   "execution_count": null,
   "metadata": {},
   "outputs": [],
   "source": []
  }
 ],
 "metadata": {
  "kernelspec": {
   "display_name": "Python 3",
   "language": "python",
   "name": "python3"
  },
  "language_info": {
   "codemirror_mode": {
    "name": "ipython",
    "version": 3
   },
   "file_extension": ".py",
   "mimetype": "text/x-python",
   "name": "python",
   "nbconvert_exporter": "python",
   "pygments_lexer": "ipython3",
   "version": "3.8.10"
  }
 },
 "nbformat": 4,
 "nbformat_minor": 4
}
