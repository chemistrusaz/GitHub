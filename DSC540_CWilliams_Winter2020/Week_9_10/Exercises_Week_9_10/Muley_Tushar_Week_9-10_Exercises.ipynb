{
 "cells": [
  {
   "cell_type": "markdown",
   "metadata": {},
   "source": [
    "Name: Muley, Tushar\n",
    "\n",
    "Assignment: Week 9 & 10 Exercises\n",
    "\n",
    "Date: February 21, 2021"
   ]
  },
  {
   "cell_type": "markdown",
   "metadata": {},
   "source": [
    "# Exercise 1 Activity 9 :  "
   ]
  },
  {
   "cell_type": "markdown",
   "metadata": {},
   "source": [
    "1. Import the necessary libraries."
   ]
  },
  {
   "cell_type": "code",
   "execution_count": 18,
   "metadata": {},
   "outputs": [],
   "source": [
    "#Import libraries need for this Activity\n",
    "import requests\n",
    "import re\n",
    "from bs4 import BeautifulSoup\n",
    "import urllib.request, urllib.parse, urllib.error\n",
    "import ssl"
   ]
  },
  {
   "cell_type": "markdown",
   "metadata": {},
   "source": [
    "2. Check the SSL certificate."
   ]
  },
  {
   "cell_type": "code",
   "execution_count": 7,
   "metadata": {},
   "outputs": [],
   "source": [
    "#Check SSL certificate\n",
    "cert = ssl.create_default_context()\n",
    "cert.check_hostname = False\n",
    "cert.verify_mode = ssl.CERT_NONE"
   ]
  },
  {
   "cell_type": "markdown",
   "metadata": {},
   "source": [
    "3. Read the HTML from the URL:"
   ]
  },
  {
   "cell_type": "code",
   "execution_count": 2,
   "metadata": {},
   "outputs": [
    {
     "data": {
      "text/plain": [
       "requests.models.Response"
      ]
     },
     "execution_count": 2,
     "metadata": {},
     "output_type": "execute_result"
    }
   ],
   "source": [
    "#Read the HTML\n",
    "url = 'https://www.gutenberg.org/browse/scores/top'\n",
    "\n",
    "response = requests.get(url)\n",
    "#Confirm type of response\n",
    "type(response)"
   ]
  },
  {
   "cell_type": "markdown",
   "metadata": {},
   "source": [
    "4. Write a small function to check the status of the web request."
   ]
  },
  {
   "cell_type": "code",
   "execution_count": 3,
   "metadata": {},
   "outputs": [],
   "source": [
    "#Function to check status of web request\n",
    "def check_web_page(r):\n",
    "    if r.status_code==200: #200 response was error free status\n",
    "        print('Good to go.')\n",
    "    else: #Anything else connection status failed or error related to request\n",
    "        print('Crash and burn!')"
   ]
  },
  {
   "cell_type": "code",
   "execution_count": 8,
   "metadata": {},
   "outputs": [
    {
     "name": "stdout",
     "output_type": "stream",
     "text": [
      "Good to go.\n"
     ]
    }
   ],
   "source": [
    "#Check the status of the web page\n",
    "check_web_page(response)"
   ]
  },
  {
   "cell_type": "markdown",
   "metadata": {},
   "source": [
    "5. Decode the response and pass this on to BeautifulSoup for HTML parsing."
   ]
  },
  {
   "cell_type": "code",
   "execution_count": 9,
   "metadata": {},
   "outputs": [
    {
     "data": {
      "text/plain": [
       "'<!DOCTYPE html>\\n<html class=\"client-nojs\" lang=\"en\" dir=\"ltr\">\\n<head>\\n <meta charset=\"UTF-8\"/>\\n\\n<title>Top 100 | Project Gutenberg</title>\\n <link rel=\"stylesheet\" href=\"/gutenberg/style.css?v=1.1\">\\n <link rel=\"stylesheet\" href=\"/gutenberg/collapsible.css?1.1\">\\n <link rel=\"stylesheet\" href=\"/gutenberg/new_nav.css?v=1.321231\">\\n<link rel=\"stylesheet\" href=\"/gutenberg/pg-desktop-one.css\">\\n <meta name=\"viewport\" content=\"width=device-width, initial-scale=1\">\\n <meta name=\"keywords\" content=\"books, ebooks, free, kindle, android, iphone, ipad\"/>\\n <meta name=\"google-site-verification\" content=\"wucOEvSnj5kP3Ts_36OfP64laakK-1mVTg-ptrGC9io\"/>\\n <meta name=\"alexaVerifyID\" content=\"4WNaCljsE-A82vP_ih2H_UqXZvM\"/>\\n <link rel=\"copyright\" href=\"https://www.gnu.org/copyleft/fdl.html\"/>\\n <link rel=\"shortcut icon\" href=\"/gutenberg/favicon.ico?v=1.1\"/>\\n\\n <meta property=\"og:title\"        content=\"Project Gutenberg\" />\\n <meta property=\"og:type\"         content=\"website\" />\\n <meta property=\"og:url\"          content=\"https://www.gutenberg.org/\" />\\n <meta property=\"og:description\"  content=\"Project Gutenberg is a library of free eBooks.\" />\\n <meta property=\"fb:admins\"       content=\"615269807\" />\\n <meta property=\"fb:app_id\"       content=\"115319388529183\" />\\n <meta property=\"og:site_name\"    content=\"Project Gutenberg\" />\\n <meta property=\"og:image\"        content=\"https://www.gutenberg.org/gutenberg/pg-logo-144x144.png\" />\\n </head>\\n <body>\\n  <div class=\"container\"><!-- start body --><nav>\\n  <!--<div id=\"main_logo\"> -->\\n  <a id=\"main_logo\" href=\"/\" class=\"no-hover\">\\n    <img src=\"/gutenberg/pg-logo-129x80.png\" alt=\"Project Gutenberg\" draggable=\"false\" />\\n  </a>\\n  <!--\\t</div>-->\\n  <div id=\"menu\">\\n    <label for=\"tm\" id=\"toggle-menu\">Menu<span class=\"drop-icon\">&#9662;</span></label>\\n    <input type=\"checkbox\" id=\"tm\" />\\n    <ul class=\"main-menu cf\">\\n      <li>\\n\\t<a href=\"/about/\">About\\n          <span class=\"drop-icon\">&#9662;</span>\\n      \\t</a>\\n        <label title=\"Toggle Drop-down\" class=\"drop-icon\" for=\"sm0\">&#9662;</label>\\n     \\t<input type=\"checkbox\" id=\"sm0\" />\\n     \\t<ul class=\"sub-menu\">\\n\\t  <li><a href=\"/about/\">About Project Gutenberg</a></li>\\n          <li><a href=\"/policy/collection_development.html\">Collection Development</a></li>\\n          <li><a href=\"/about/contact_information.html\">Contact Us</a></li>\\n          <li><a href=\"/about/background/\">History &amp; Philosophy</a></li>\\n          <li><a href=\"/policy/permission.html\">Permissions &amp; License</a></li>\\n          <li><a href=\"/policy/privacy_policy.html\">Privacy Policy</a></li>\\n          <li><a href=\"/policy/terms_of_use.html\">Terms of Use</a></li>\\n\\t</ul>\\n      </li>\\n      <li>\\n\\t<a href=\"/ebooks/\">Search and Browse\\n      \\t  <span class=\"drop-icon\">&#9662;</span>\\n      \\t</a>\\n\\t<label title=\"Toggle Drop-down\" class=\"drop-icon\" for=\"sm8\">&#9662;</label>\\n        <input type=\"checkbox\" id=\"sm8\" />\\n        <ul class=\"sub-menu\">\\n\\t  <li><a href=\"/ebooks/\">Book Search</a></li>\\n\\t  <li><a href=\"/ebooks/bookshelf/\">Bookshelves</a></li>\\n\\t  <li><a href=\"/browse/scores/top\">Frequently Downloaded</a></li>\\n\\t  <li><a href=\"/ebooks/offline_catalogs.html\">Offline Catalogs</a></li>\\n\\t</ul>\\n      </li>\\n      <li>\\n\\t<a href=\"/help/\">Help\\n          <span class=\"drop-icon\">&#9662;</span>\\n   \\t</a>\\n         <label title=\"Toggle Drop-down\" class=\"drop-icon\" for=\"sm3\">&#9662;</label>\\n   \\t<input type=\"checkbox\" id=\"sm3\" />\\n    \\t<ul class=\"sub-menu\">\\n          <li><a href=\"/help/\">All help topics &rarr;</a></li>\\n          <li><a href=\"/help/copyright.html\">Copyright Procedures</a></li>\\n          <li><a href=\"/help/errata.html\">Errata, Fixes and Bug Reports</a></li>\\n          <li><a href=\"/help/file_formats.html\">File Formats</a></li>\\n          <li><a href=\"/help/faq.html\">Frequently Asked Questions</a></li>\\n          <li><a href=\"/policy/\">Policies &rarr;</a></li>\\n          <li><a href=\"/help/public_domain_ebook_submission.html\">Public Domain eBook Submission</a></li>\\n          <li><a href=\"/help/submitting_your_own_work.html\">Submitting Your Own Work</a></li>\\n          <li><a href=\"/help/mobile.html\">Tablets, Phones and eReaders</a></li>\\n          <li><a href=\"/attic/\">The Attic &rarr;</a></li>\\n        </ul>\\n      </li>\\n      <li><a href=\"/donate/\">Donate</a></li>\\n    </ul>\\n  </div>\\n  <div class=\"donate\">\\n  <div class=\"searchbox\">\\n    <form method=\"get\" action=\"/ebooks/search/\" accept-charset=\"utf-8\" enctype=\"multipart/form-data\" class=\"searchbox\">\\n      <input type=\"text\" value=\"\" id=\"menu-book-search\" name=\"query\" class=\"searchInput\" title=\"Quick search\" tabindex=\"20\" size=\"20\" maxlength=\"80\" placeholder=\"  Quick search\" />\\n      <input type=\"submit\" name=\"submit_search\" value=\"Go!\" style=\"vertical-align:middle;\" />\\n    </form>\\n  </div>\\n    <form class=\"donatelink\" action=\"https://www.paypal.com/cgi-bin/webscr\" method=\"post\" target=\"new\">\\n      <p><a href=\"/donate/\">Donation</a></p>\\n      <input type=\"hidden\" name=\"cmd\" value=\"_s-xclick\" />\\n      <input type=\"hidden\" name=\"hosted_button_id\" value=\"XKAL6BZL3YPSN\" />\\n      <input class=\"donbtn\" type=\"image\" src=\"/pics/en_US.gif\" name=\"submit\" alt=\"Donate via PayPal\" />\\n    </form>\\n  </div>\\n</nav>\\n  <div class=\"page_content\"><!-- start content -->\\t\\n<h1>Frequently Viewed or Downloaded</h1>\\n<p>These listings are based on the number of times each eBook gets downloaded.\\n      Multiple downloads from the same Internet address on the same day count as one download, and addresses that download more than 100 eBooks in a day are considered robots and are not counted.</p>\\n\\n<table>\\n  <caption>Downloaded Books</caption>\\n  <tr><th>2021-02-20</th><td class=\"right\">178820</td></tr>\\n  <tr><th>last 7 days</th><td class=\"right\">1394510</td></tr>\\n  <tr><th>last 30 days</th><td class=\"right\">5788321</td></tr>\\n</table>\\n <div class=\"padded\">\\n  <ul>\\n   <li><a href=\"#books-last1\">Top 100 EBooks yesterday</a></li>\\n   <li><a href=\"#authors-last1\">Top 100 Authors yesterday</a></li>\\n   <li><a href=\"#books-last7\">Top 100 EBooks last 7 days</a></li>\\n   <li><a href=\"#authors-last7\">Top 100 Authors last 7 days</a></li>\\n   <li><a href=\"#books-last30\">Top 100 EBooks last 30 days</a></li>\\n   <li><a href=\"#authors-last30\">Top 100 Authors last 30 days</li>\\n  </ul>\\n </div>\\n<h2 id=\"books-last1\">Top 100 EBooks yesterday</h2>\\n\\n<ol>\\n<li><a href=\"/ebooks/1342\">Pride and Prejudice by Jane Austen (1537)</a></li>\\n<li><a href=\"/ebooks/84\">Frankenstein; Or, The Modern Prometheus by Mary Wollstonecraft Shelley (1423)</a></li>\\n<li><a href=\"/ebooks/11\">Alice\\'s Adventures in Wonderland by Lewis Carroll (909)</a></li>\\n<li><a href=\"/ebooks/1661\">The Adventures of Sherlock Holmes by Arthur Conan Doyle (671)</a></li>\\n<li><a href=\"/ebooks/2701\">Moby Dick; Or, The Whale by Herman Melville (666)</a></li>\\n<li><a href=\"/ebooks/98\">A Tale of Two Cities by Charles Dickens (658)</a></li>\\n<li><a href=\"/ebooks/64596\">The Star Beast by Damon Knight (633)</a></li>\\n<li><a href=\"/ebooks/1080\">A Modest Proposal by Jonathan Swift (620)</a></li>\\n<li><a href=\"/ebooks/5200\">Metamorphosis by Franz Kafka (565)</a></li>\\n<li><a href=\"/ebooks/174\">The Picture of Dorian Gray by Oscar Wilde (487)</a></li>\\n<li><a href=\"/ebooks/1260\">Jane Eyre: An Autobiography by Charlotte Brontë (477)</a></li>\\n<li><a href=\"/ebooks/1952\">The Yellow Wallpaper by Charlotte Perkins Gilman (471)</a></li>\\n<li><a href=\"/ebooks/844\">The Importance of Being Earnest: A Trivial Comedy for Serious People by Oscar Wilde (437)</a></li>\\n<li><a href=\"/ebooks/76\">Adventures of Huckleberry Finn by Mark Twain (435)</a></li>\\n<li><a href=\"/ebooks/64595\">Animat by Basil Wells (409)</a></li>\\n<li><a href=\"/ebooks/25344\">The Scarlet Letter by Nathaniel Hawthorne (407)</a></li>\\n<li><a href=\"/ebooks/57775\">Le jardin des supplices by Octave Mirbeau (406)</a></li>\\n<li><a href=\"/ebooks/46\">A Christmas Carol in Prose; Being a Ghost Story of Christmas by Charles Dickens (400)</a></li>\\n<li><a href=\"/ebooks/1497\">The Republic by Plato (392)</a></li>\\n<li><a href=\"/ebooks/64317\">The Great Gatsby by F. Scott  Fitzgerald (373)</a></li>\\n<li><a href=\"/ebooks/219\">Heart of Darkness by Joseph Conrad (371)</a></li>\\n<li><a href=\"/ebooks/345\">Dracula by Bram Stoker (370)</a></li>\\n<li><a href=\"/ebooks/43\">The Strange Case of Dr. Jekyll and Mr. Hyde by Robert Louis Stevenson (360)</a></li>\\n<li><a href=\"/ebooks/2542\">Et dukkehjem. English by Henrik Ibsen (358)</a></li>\\n<li><a href=\"/ebooks/1232\">Il Principe. English by Niccolò Machiavelli (358)</a></li>\\n<li><a href=\"/ebooks/160\">The Awakening, and Selected Short Stories by Kate Chopin (353)</a></li>\\n<li><a href=\"/ebooks/4300\">Ulysses by James Joyce (351)</a></li>\\n<li><a href=\"/ebooks/408\">The Souls of Black Folk by W. E. B.  Du Bois (344)</a></li>\\n<li><a href=\"/ebooks/6133\">Arsène Lupin, gentleman-cambrioleur. English by Maurice Leblanc (340)</a></li>\\n<li><a href=\"/ebooks/74\">The Adventures of Tom Sawyer, Complete by Mark Twain (340)</a></li>\\n<li><a href=\"/ebooks/16\">Peter Pan by J. M.  Barrie (327)</a></li>\\n<li><a href=\"/ebooks/64592\">Harper\\'s Electricity Book for Boys by Joseph H.  Adams (326)</a></li>\\n<li><a href=\"/ebooks/2591\">Grimms\\' Fairy Tales by Jacob Grimm and Wilhelm Grimm (324)</a></li>\\n<li><a href=\"/ebooks/2600\">War and Peace by graf Leo Tolstoy (321)</a></li>\\n<li><a href=\"/ebooks/1400\">Great Expectations by Charles Dickens (318)</a></li>\\n<li><a href=\"/ebooks/16328\">Beowulf: An Anglo-Saxon Epic Poem (317)</a></li>\\n<li><a href=\"/ebooks/1184\">The Count of Monte Cristo, Illustrated by Alexandre Dumas (317)</a></li>\\n<li><a href=\"/ebooks/55\">The Wonderful Wizard of Oz by L. Frank  Baum (315)</a></li>\\n<li><a href=\"/ebooks/514\">Little Women by Louisa May Alcott (312)</a></li>\\n<li><a href=\"/ebooks/2852\">The Hound of the Baskervilles by Arthur Conan Doyle (299)</a></li>\\n<li><a href=\"/ebooks/3207\">Leviathan by Thomas Hobbes (297)</a></li>\\n<li><a href=\"/ebooks/205\">Walden, and On The Duty Of Civil Disobedience by Henry David Thoreau (291)</a></li>\\n<li><a href=\"/ebooks/996\">Don Quixote by Miguel de Cervantes Saavedra (289)</a></li>\\n<li><a href=\"/ebooks/42108\">The Slang Dictionary: Etymological, Historical and Andecdotal by John Camden Hotten (289)</a></li>\\n<li><a href=\"/ebooks/135\">Les Misérables by Victor Hugo (285)</a></li>\\n<li><a href=\"/ebooks/158\">Emma by Jane Austen (282)</a></li>\\n<li><a href=\"/ebooks/58585\">The Prophet by Kahlil Gibran (275)</a></li>\\n<li><a href=\"/ebooks/36\">The War of the Worlds by H. G.  Wells (274)</a></li>\\n<li><a href=\"/ebooks/1250\">Anthem by Ayn Rand (273)</a></li>\\n<li><a href=\"/ebooks/120\">Treasure Island by Robert Louis Stevenson (273)</a></li>\\n<li><a href=\"/ebooks/768\">Wuthering Heights by Emily Brontë (259)</a></li>\\n<li><a href=\"/ebooks/1998\">Also sprach Zarathustra. English by Friedrich Wilhelm Nietzsche (255)</a></li>\\n<li><a href=\"/ebooks/23\">Narrative of the Life of Frederick Douglass, an American Slave by Frederick Douglass (252)</a></li>\\n<li><a href=\"/ebooks/5740\">Tractatus Logico-Philosophicus by Ludwig Wittgenstein (250)</a></li>\\n<li><a href=\"/ebooks/45\">Anne of Green Gables by L. M.  Montgomery (250)</a></li>\\n<li><a href=\"/ebooks/6130\">The Iliad by Homer (248)</a></li>\\n<li><a href=\"/ebooks/43453\">A Pickle for the Knowing Ones by Timothy Dexter (245)</a></li>\\n<li><a href=\"/ebooks/2814\">Dubliners by James Joyce (240)</a></li>\\n<li><a href=\"/ebooks/2554\">Prestuplenie i nakazanie. English by Fyodor Dostoyevsky (239)</a></li>\\n<li><a href=\"/ebooks/244\">A Study in Scarlet by Arthur Conan Doyle (238)</a></li>\\n<li><a href=\"/ebooks/64594\">The Death of the Scharnhorst and other Poems by Arch Alfred McKillen (238)</a></li>\\n<li><a href=\"/ebooks/19942\">Candide by Voltaire (225)</a></li>\\n<li><a href=\"/ebooks/829\">Gulliver\\'s Travels into Several Remote Nations of the World by Jonathan Swift (224)</a></li>\\n<li><a href=\"/ebooks/25929\">Daemonologie. by King of England James I (217)</a></li>\\n<li><a href=\"/ebooks/215\">The Call of the Wild by Jack London (214)</a></li>\\n<li><a href=\"/ebooks/203\">Uncle Tom\\'s Cabin by Harriet Beecher Stowe (214)</a></li>\\n<li><a href=\"/ebooks/3600\">Essays of Michel de Montaigne — Complete by Michel de Montaigne (205)</a></li>\\n<li><a href=\"/ebooks/766\">David Copperfield by Charles Dickens (202)</a></li>\\n<li><a href=\"/ebooks/1001\">Divine Comedy, Longfellow\\'s Translation, Hell by Dante Alighieri (200)</a></li>\\n<li><a href=\"/ebooks/1727\">The Odyssey by Homer (197)</a></li>\\n<li><a href=\"/ebooks/902\">The Happy Prince, and Other Tales by Oscar Wilde (192)</a></li>\\n<li><a href=\"/ebooks/863\">The Mysterious Affair at Styles by Agatha Christie (192)</a></li>\\n<li><a href=\"/ebooks/64599\">The Princess Casamassima by Henry James (189)</a></li>\\n<li><a href=\"/ebooks/30254\">The Romance of Lust: A classic Victorian erotic novel by Anonymous (186)</a></li>\\n<li><a href=\"/ebooks/32415\">The Nursery Rhymes of England (186)</a></li>\\n<li><a href=\"/ebooks/27559\">The 2004 CIA World Factbook by United States. Central Intelligence Agency (184)</a></li>\\n<li><a href=\"/ebooks/7370\">Second Treatise of Government by John Locke (184)</a></li>\\n<li><a href=\"/ebooks/3825\">Pygmalion by Bernard Shaw (182)</a></li>\\n<li><a href=\"/ebooks/105\">Persuasion by Jane Austen (182)</a></li>\\n<li><a href=\"/ebooks/140\">The Jungle by Upton Sinclair (181)</a></li>\\n<li><a href=\"/ebooks/730\">Oliver Twist by Charles Dickens (179)</a></li>\\n<li><a href=\"/ebooks/209\">The Turn of the Screw by Henry James (176)</a></li>\\n<li><a href=\"/ebooks/113\">The Secret Garden by Frances Hodgson Burnett (175)</a></li>\\n<li><a href=\"/ebooks/35\">The Time Machine by H. G.  Wells (175)</a></li>\\n<li><a href=\"/ebooks/20203\">Autobiography of Benjamin Franklin by Benjamin Franklin (173)</a></li>\\n<li><a href=\"/ebooks/972\">The Devil\\'s Dictionary by Ambrose Bierce (173)</a></li>\\n<li><a href=\"/ebooks/27509\">The 2006 CIA World Factbook by United States. Central Intelligence Agency (172)</a></li>\\n<li><a href=\"/ebooks/4363\">Beyond Good and Evil by Friedrich Wilhelm Nietzsche (172)</a></li>\\n<li><a href=\"/ebooks/236\">The Jungle Book by Rudyard Kipling (169)</a></li>\\n<li><a href=\"/ebooks/3090\">Complete Original Short Stories of Guy De Maupassant by Guy de Maupassant (168)</a></li>\\n<li><a href=\"/ebooks/8800\">An Index of The Divine Comedy by Dante by Dante Alighieri (163)</a></li>\\n<li><a href=\"/ebooks/147\">Common Sense by Thomas Paine (163)</a></li>\\n<li><a href=\"/ebooks/3296\">The Confessions of St. Augustine by Bishop of Hippo Saint Augustine (161)</a></li>\\n<li><a href=\"/ebooks/600\">Notes from the Underground by Fyodor Dostoyevsky (160)</a></li>\\n<li><a href=\"/ebooks/2500\">Siddhartha by Hermann Hesse (159)</a></li>\\n<li><a href=\"/ebooks/15399\">The Interesting Narrative of the Life of Olaudah Equiano, Or Gustavus Vassa, The African by Equiano (157)</a></li>\\n<li><a href=\"/ebooks/521\">The Life and Adventures of Robinson Crusoe by Daniel Defoe (150)</a></li>\\n<li><a href=\"/ebooks/2680\">Meditations by Emperor of Rome Marcus Aurelius (150)</a></li>\\n<li><a href=\"/ebooks/1399\">Anna Karenina by graf Leo Tolstoy (150)</a></li>\\n<li><a href=\"/ebooks/27827\">The Kama Sutra of Vatsyayana by Vatsyayana (149)</a></li>\\n</ol>\\n <div class=\"padded\">\\n  <ul>\\n   <li><a href=\"#books-last1\">Top 100 EBooks yesterday</a></li>\\n   <li><a href=\"#authors-last1\">Top 100 Authors yesterday</a></li>\\n   <li><a href=\"#books-last7\">Top 100 EBooks last 7 days</a></li>\\n   <li><a href=\"#authors-last7\">Top 100 Authors last 7 days</a></li>\\n   <li><a href=\"#books-last30\">Top 100 EBooks last 30 days</a></li>\\n   <li><a href=\"#authors-last30\">Top 100 Authors last 30 days</li>\\n  </ul>\\n </div>\\n<h2 id=\"authors-last1\">Top 100 Authors yesterday</h2>\\n\\n<ol>\\n<li><a href=\"/browse/authors/d#a37\">Dickens, Charles (3064)</a></li>\\n<li><a href=\"/browse/authors/a#a68\">Austen, Jane (2716)</a></li>\\n<li><a href=\"/browse/authors/t#a53\">Twain, Mark (2202)</a></li>\\n<li><a href=\"/browse/authors/d#a69\">Doyle, Arthur Conan (2080)</a></li>\\n<li><a href=\"/browse/authors/s#a61\">Shelley, Mary Wollstonecraft (1737)</a></li>\\n<li><a href=\"/browse/authors/w#a111\">Wilde, Oscar (1609)</a></li>\\n<li><a href=\"/browse/authors/c#a7\">Carroll, Lewis (1384)</a></li>\\n<li><a href=\"/browse/authors/w#a30\">Wells, H. G. (Herbert George) (1219)</a></li>\\n<li><a href=\"/browse/authors/p#a93\">Plato (1105)</a></li>\\n<li><a href=\"/browse/authors/s#a35\">Stevenson, Robert Louis (1082)</a></li>\\n<li><a href=\"/browse/authors/s#a65\">Shakespeare, William (1047)</a></li>\\n<li><a href=\"/browse/authors/d#a314\">Dostoyevsky, Fyodor (1037)</a></li>\\n<li><a href=\"/browse/authors/m#a9\">Melville, Herman (1028)</a></li>\\n<li><a href=\"/browse/authors/j#a94\">Jowett, Benjamin (1027)</a></li>\\n<li><a href=\"/browse/authors/s#a326\">Swift, Jonathan (974)</a></li>\\n<li><a href=\"/browse/authors/t#a136\">Tolstoy, Leo, graf (959)</a></li>\\n<li><a href=\"/browse/authors/n#a779\">Nietzsche, Friedrich Wilhelm (955)</a></li>\\n<li><a href=\"/browse/authors/j#a113\">James, Henry (925)</a></li>\\n<li><a href=\"/browse/authors/c#a125\">Conrad, Joseph (846)</a></li>\\n<li><a href=\"/browse/authors/p#a481\">Poe, Edgar Allan (827)</a></li>\\n<li><a href=\"/browse/authors/d#a492\">Dumas, Alexandre (798)</a></li>\\n<li><a href=\"/browse/authors/k#a1735\">Kafka, Franz (789)</a></li>\\n<li><a href=\"/browse/authors/l#a1358\">Leblanc, Maurice (789)</a></li>\\n<li><a href=\"/browse/authors/d#a507\">Dante Alighieri (784)</a></li>\\n<li><a href=\"/browse/authors/g#a2858\">Garnett, Constance (784)</a></li>\\n<li><a href=\"/browse/authors/b#a42\">Baum, L. Frank (Lyman Frank) (775)</a></li>\\n<li><a href=\"/browse/authors/h#a705\">Homer (766)</a></li>\\n<li><a href=\"/browse/authors/h#a28\">Hawthorne, Nathaniel (764)</a></li>\\n<li><a href=\"/browse/authors/k#a25414\">Knight, Damon (736)</a></li>\\n<li><a href=\"/browse/authors/l#a120\">London, Jack (734)</a></li>\\n<li><a href=\"/browse/authors/c#a708\">Chekhov, Anton Pavlovich (721)</a></li>\\n<li><a href=\"/browse/authors/k#a132\">Kipling, Rudyard (705)</a></li>\\n<li><a href=\"/browse/authors/m#a36\">Montgomery, L. M. (Lucy Maud) (693)</a></li>\\n<li><a href=\"/browse/authors/w#a1736\">Wyllie, David (Translator) (687)</a></li>\\n<li><a href=\"/browse/authors/j#a1039\">Joyce, James (683)</a></li>\\n<li><a href=\"/browse/authors/v#a60\">Verne, Jules (679)</a></li>\\n<li><a href=\"/browse/authors/l#a79\">Lang, Andrew (661)</a></li>\\n<li><a href=\"/browse/authors/u#a8\">United States. Central Intelligence Agency (656)</a></li>\\n<li><a href=\"/browse/authors/h#a85\">Hugo, Victor (638)</a></li>\\n<li><a href=\"/browse/authors/d#a204\">Defoe, Daniel (637)</a></li>\\n<li><a href=\"/browse/authors/d#a1896\">Doré, Gustave (632)</a></li>\\n<li><a href=\"/browse/authors/b#a408\">Brontë, Charlotte (622)</a></li>\\n<li><a href=\"/browse/authors/i#a861\">Ibsen, Henrik (589)</a></li>\\n<li><a href=\"/browse/authors/a#a102\">Alcott, Louisa May (579)</a></li>\\n<li><a href=\"/browse/authors/w#a1961\">Widger, David (556)</a></li>\\n<li><a href=\"/browse/authors/m#a306\">Maupassant, Guy de (554)</a></li>\\n<li><a href=\"/browse/authors/g#a27\">Gilman, Charlotte Perkins (551)</a></li>\\n<li><a href=\"/browse/authors/g#a972\">Grimm, Wilhelm (546)</a></li>\\n<li><a href=\"/browse/authors/g#a971\">Grimm, Jacob (546)</a></li>\\n<li><a href=\"/browse/authors/r#a355\">Russell, Bertrand (540)</a></li>\\n<li><a href=\"/browse/authors/c#a80\">Chesterton, G. K. (Gilbert Keith) (535)</a></li>\\n<li><a href=\"/browse/authors/c#a505\">Cervantes Saavedra, Miguel de (530)</a></li>\\n<li><a href=\"/browse/authors/m#a500\">Maude, Louise (525)</a></li>\\n<li><a href=\"/browse/authors/w#a104\">Wharton, Edith (522)</a></li>\\n<li><a href=\"/browse/authors/m#a1355\">Morley, Henry (518)</a></li>\\n<li><a href=\"/browse/authors/b#a251\">Balzac, Honoré de (516)</a></li>\\n<li><a href=\"/browse/authors/b#a10\">Barrie, J. M. (James Matthew) (515)</a></li>\\n<li><a href=\"/browse/authors/r#a2183\">Rizal, José (513)</a></li>\\n<li><a href=\"/browse/authors/m#a4589\">Maude, Aylmer (512)</a></li>\\n<li><a href=\"/browse/authors/t#a9854\">Townsend, F. H. (Frederick Henry) (510)</a></li>\\n<li><a href=\"/browse/authors/f#a420\">Fitzgerald, F. Scott (Francis Scott) (506)</a></li>\\n<li><a href=\"/browse/authors/e#a90\">Eliot, George (505)</a></li>\\n<li><a href=\"/browse/authors/v#a913\">Voltaire (496)</a></li>\\n<li><a href=\"/browse/authors/w#a33148\">Wells, Basil (496)</a></li>\\n<li><a href=\"/browse/authors/c#a451\">Christie, Agatha (491)</a></li>\\n<li><a href=\"/browse/authors/l#a9473\">Leech, John (480)</a></li>\\n<li><a href=\"/browse/authors/k#a37155\">Kemble, E. W. (Edward Windsor) (477)</a></li>\\n<li><a href=\"/browse/authors/s#a467\">Shaw, Bernard (477)</a></li>\\n<li><a href=\"/browse/authors/t#a54\">Thoreau, Henry David (476)</a></li>\\n<li><a href=\"/browse/authors/b#a73\">Burnett, Frances Hodgson (457)</a></li>\\n<li><a href=\"/browse/authors/s#a59\">Scott, Walter (457)</a></li>\\n<li><a href=\"/browse/authors/s#a190\">Stoker, Bram (450)</a></li>\\n<li><a href=\"/browse/authors/d#a226\">Du Bois, W. E. B. (William Edward Burghardt) (446)</a></li>\\n<li><a href=\"/browse/authors/p#a907\">Pope, Alexander (446)</a></li>\\n<li><a href=\"/browse/authors/h#a23\">Hardy, Thomas (428)</a></li>\\n<li><a href=\"/browse/authors/w#a783\">Wodehouse, P. G. (Pelham Grenville) (422)</a></li>\\n<li><a href=\"/browse/authors/m#a6950\">Mirbeau, Octave (412)</a></li>\\n<li><a href=\"/browse/authors/f#a2703\">Foote, Mary Hallock (411)</a></li>\\n<li><a href=\"/browse/authors/m#a563\">Machiavelli, Niccolò (408)</a></li>\\n<li><a href=\"/browse/authors/a#a31267\">Anthony, A. V. S. (Andrew Varick Stout) (407)</a></li>\\n<li><a href=\"/browse/authors/i#a34\">Irving, Washington (407)</a></li>\\n<li><a href=\"/browse/authors/i#a31265\">Ipsen, Ludvig Sandöe (407)</a></li>\\n<li><a href=\"/browse/authors/h#a33608\">Hapgood, Isabel Florence (404)</a></li>\\n<li><a href=\"/browse/authors/g#a586\">Goethe, Johann Wolfgang von (399)</a></li>\\n<li><a href=\"/browse/authors/f#a92\">Franklin, Benjamin (398)</a></li>\\n<li><a href=\"/browse/authors/b#a48\">Burroughs, Edgar Rice (394)</a></li>\\n<li><a href=\"/browse/authors/b#a898\">Burton, Richard Francis, Sir (375)</a></li>\\n<li><a href=\"/browse/authors/e#a25412\">Emshwiller, Ed (374)</a></li>\\n<li><a href=\"/browse/authors/c#a3622\">Cary, Henry Francis (370)</a></li>\\n<li><a href=\"/browse/authors/o#a506\">Ormsby, John (369)</a></li>\\n<li><a href=\"/browse/authors/c#a100\">Chopin, Kate (366)</a></li>\\n<li><a href=\"/browse/authors/a#a18\">Aesop (363)</a></li>\\n<li><a href=\"/browse/authors/m#a564\">Marriott, W. K. (William Kenaz) (362)</a></li>\\n<li><a href=\"/browse/authors/b#a206\">Bierce, Ambrose (352)</a></li>\\n<li><a href=\"/browse/authors/r#a2297\">Robertson, James Alexander (347)</a></li>\\n<li><a href=\"/browse/authors/d#a485\">Darwin, Charles (343)</a></li>\\n<li><a href=\"/browse/authors/p#a292\">Potter, Beatrix (342)</a></li>\\n<li><a href=\"/browse/authors/a#a47495\">Adams, Joseph H. (Joseph Henry) (341)</a></li>\\n<li><a href=\"/browse/authors/b#a748\">Butler, Samuel (339)</a></li>\\n<li><a href=\"/browse/authors/z#a528\">Zola, Émile (330)</a></li>\\n</ol>\\n <div class=\"padded\">\\n  <ul>\\n   <li><a href=\"#books-last1\">Top 100 EBooks yesterday</a></li>\\n   <li><a href=\"#authors-last1\">Top 100 Authors yesterday</a></li>\\n   <li><a href=\"#books-last7\">Top 100 EBooks last 7 days</a></li>\\n   <li><a href=\"#authors-last7\">Top 100 Authors last 7 days</a></li>\\n   <li><a href=\"#books-last30\">Top 100 EBooks last 30 days</a></li>\\n   <li><a href=\"#authors-last30\">Top 100 Authors last 30 days</li>\\n  </ul>\\n </div>\\n<h2 id=\"books-last7\">Top 100 EBooks last 7 days</h2>\\n\\n<ol>\\n<li><a href=\"/ebooks/84\">Frankenstein; Or, The Modern Prometheus by Mary Wollstonecraft Shelley (19818)</a></li>\\n<li><a href=\"/ebooks/1342\">Pride and Prejudice by Jane Austen (15563)</a></li>\\n<li><a href=\"/ebooks/11\">Alice\\'s Adventures in Wonderland by Lewis Carroll (7105)</a></li>\\n<li><a href=\"/ebooks/1080\">A Modest Proposal by Jonathan Swift (6986)</a></li>\\n<li><a href=\"/ebooks/98\">A Tale of Two Cities by Charles Dickens (6232)</a></li>\\n<li><a href=\"/ebooks/5200\">Metamorphosis by Franz Kafka (5980)</a></li>\\n<li><a href=\"/ebooks/844\">The Importance of Being Earnest: A Trivial Comedy for Serious People by Oscar Wilde (5665)</a></li>\\n<li><a href=\"/ebooks/25344\">The Scarlet Letter by Nathaniel Hawthorne (5651)</a></li>\\n<li><a href=\"/ebooks/1661\">The Adventures of Sherlock Holmes by Arthur Conan Doyle (5649)</a></li>\\n<li><a href=\"/ebooks/2701\">Moby Dick; Or, The Whale by Herman Melville (5642)</a></li>\\n<li><a href=\"/ebooks/2542\">Et dukkehjem. English by Henrik Ibsen (5332)</a></li>\\n<li><a href=\"/ebooks/76\">Adventures of Huckleberry Finn by Mark Twain (5079)</a></li>\\n<li><a href=\"/ebooks/1952\">The Yellow Wallpaper by Charlotte Perkins Gilman (5004)</a></li>\\n<li><a href=\"/ebooks/64317\">The Great Gatsby by F. Scott  Fitzgerald (4923)</a></li>\\n<li><a href=\"/ebooks/174\">The Picture of Dorian Gray by Oscar Wilde (4766)</a></li>\\n<li><a href=\"/ebooks/1260\">Jane Eyre: An Autobiography by Charlotte Brontë (4626)</a></li>\\n<li><a href=\"/ebooks/1250\">Anthem by Ayn Rand (4448)</a></li>\\n<li><a href=\"/ebooks/160\">The Awakening, and Selected Short Stories by Kate Chopin (4188)</a></li>\\n<li><a href=\"/ebooks/408\">The Souls of Black Folk by W. E. B.  Du Bois (4068)</a></li>\\n<li><a href=\"/ebooks/43\">The Strange Case of Dr. Jekyll and Mr. Hyde by Robert Louis Stevenson (3865)</a></li>\\n<li><a href=\"/ebooks/219\">Heart of Darkness by Joseph Conrad (3704)</a></li>\\n<li><a href=\"/ebooks/46\">A Christmas Carol in Prose; Being a Ghost Story of Christmas by Charles Dickens (3697)</a></li>\\n<li><a href=\"/ebooks/345\">Dracula by Bram Stoker (3480)</a></li>\\n<li><a href=\"/ebooks/1232\">Il Principe. English by Niccolò Machiavelli (3464)</a></li>\\n<li><a href=\"/ebooks/23\">Narrative of the Life of Frederick Douglass, an American Slave by Frederick Douglass (3345)</a></li>\\n<li><a href=\"/ebooks/16\">Peter Pan by J. M.  Barrie (3343)</a></li>\\n<li><a href=\"/ebooks/205\">Walden, and On The Duty Of Civil Disobedience by Henry David Thoreau (3332)</a></li>\\n<li><a href=\"/ebooks/74\">The Adventures of Tom Sawyer, Complete by Mark Twain (3234)</a></li>\\n<li><a href=\"/ebooks/16328\">Beowulf: An Anglo-Saxon Epic Poem (3213)</a></li>\\n<li><a href=\"/ebooks/2852\">The Hound of the Baskervilles by Arthur Conan Doyle (3195)</a></li>\\n<li><a href=\"/ebooks/1400\">Great Expectations by Charles Dickens (3135)</a></li>\\n<li><a href=\"/ebooks/1497\">The Republic by Plato (3074)</a></li>\\n<li><a href=\"/ebooks/57775\">Le jardin des supplices by Octave Mirbeau (3006)</a></li>\\n<li><a href=\"/ebooks/6133\">Arsène Lupin, gentleman-cambrioleur. English by Maurice Leblanc (2984)</a></li>\\n<li><a href=\"/ebooks/55\">The Wonderful Wizard of Oz by L. Frank  Baum (2798)</a></li>\\n<li><a href=\"/ebooks/4300\">Ulysses by James Joyce (2782)</a></li>\\n<li><a href=\"/ebooks/19942\">Candide by Voltaire (2738)</a></li>\\n<li><a href=\"/ebooks/514\">Little Women by Louisa May Alcott (2698)</a></li>\\n<li><a href=\"/ebooks/2591\">Grimms\\' Fairy Tales by Jacob Grimm and Wilhelm Grimm (2652)</a></li>\\n<li><a href=\"/ebooks/2814\">Dubliners by James Joyce (2637)</a></li>\\n<li><a href=\"/ebooks/158\">Emma by Jane Austen (2629)</a></li>\\n<li><a href=\"/ebooks/3207\">Leviathan by Thomas Hobbes (2596)</a></li>\\n<li><a href=\"/ebooks/120\">Treasure Island by Robert Louis Stevenson (2545)</a></li>\\n<li><a href=\"/ebooks/2600\">War and Peace by graf Leo Tolstoy (2517)</a></li>\\n<li><a href=\"/ebooks/215\">The Call of the Wild by Jack London (2445)</a></li>\\n<li><a href=\"/ebooks/768\">Wuthering Heights by Emily Brontë (2436)</a></li>\\n<li><a href=\"/ebooks/42108\">The Slang Dictionary: Etymological, Historical and Andecdotal by John Camden Hotten (2289)</a></li>\\n<li><a href=\"/ebooks/1184\">The Count of Monte Cristo, Illustrated by Alexandre Dumas (2289)</a></li>\\n<li><a href=\"/ebooks/45\">Anne of Green Gables by L. M.  Montgomery (2269)</a></li>\\n<li><a href=\"/ebooks/2554\">Prestuplenie i nakazanie. English by Fyodor Dostoyevsky (2247)</a></li>\\n<li><a href=\"/ebooks/996\">Don Quixote by Miguel de Cervantes Saavedra (2169)</a></li>\\n<li><a href=\"/ebooks/5740\">Tractatus Logico-Philosophicus by Ludwig Wittgenstein (2142)</a></li>\\n<li><a href=\"/ebooks/244\">A Study in Scarlet by Arthur Conan Doyle (2119)</a></li>\\n<li><a href=\"/ebooks/3825\">Pygmalion by Bernard Shaw (2076)</a></li>\\n<li><a href=\"/ebooks/36\">The War of the Worlds by H. G.  Wells (2051)</a></li>\\n<li><a href=\"/ebooks/58585\">The Prophet by Kahlil Gibran (2045)</a></li>\\n<li><a href=\"/ebooks/203\">Uncle Tom\\'s Cabin by Harriet Beecher Stowe (2042)</a></li>\\n<li><a href=\"/ebooks/135\">Les Misérables by Victor Hugo (2013)</a></li>\\n<li><a href=\"/ebooks/6130\">The Iliad by Homer (1965)</a></li>\\n<li><a href=\"/ebooks/3600\">Essays of Michel de Montaigne — Complete by Michel de Montaigne (1948)</a></li>\\n<li><a href=\"/ebooks/1727\">The Odyssey by Homer (1948)</a></li>\\n<li><a href=\"/ebooks/902\">The Happy Prince, and Other Tales by Oscar Wilde (1926)</a></li>\\n<li><a href=\"/ebooks/140\">The Jungle by Upton Sinclair (1907)</a></li>\\n<li><a href=\"/ebooks/829\">Gulliver\\'s Travels into Several Remote Nations of the World by Jonathan Swift (1898)</a></li>\\n<li><a href=\"/ebooks/43453\">A Pickle for the Knowing Ones by Timothy Dexter (1873)</a></li>\\n<li><a href=\"/ebooks/1001\">Divine Comedy, Longfellow\\'s Translation, Hell by Dante Alighieri (1841)</a></li>\\n<li><a href=\"/ebooks/15399\">The Interesting Narrative of the Life of Olaudah Equiano, Or Gustavus Vassa, The African by Equiano (1833)</a></li>\\n<li><a href=\"/ebooks/11030\">Incidents in the Life of a Slave Girl, Written by Herself by Harriet A.  Jacobs (1728)</a></li>\\n<li><a href=\"/ebooks/7370\">Second Treatise of Government by John Locke (1714)</a></li>\\n<li><a href=\"/ebooks/20203\">Autobiography of Benjamin Franklin by Benjamin Franklin (1689)</a></li>\\n<li><a href=\"/ebooks/1998\">Also sprach Zarathustra. English by Friedrich Wilhelm Nietzsche (1683)</a></li>\\n<li><a href=\"/ebooks/2500\">Siddhartha by Hermann Hesse (1668)</a></li>\\n<li><a href=\"/ebooks/113\">The Secret Garden by Frances Hodgson Burnett (1644)</a></li>\\n<li><a href=\"/ebooks/35\">The Time Machine by H. G.  Wells (1621)</a></li>\\n<li><a href=\"/ebooks/147\">Common Sense by Thomas Paine (1618)</a></li>\\n<li><a href=\"/ebooks/25929\">Daemonologie. by King of England James I (1588)</a></li>\\n<li><a href=\"/ebooks/766\">David Copperfield by Charles Dickens (1519)</a></li>\\n<li><a href=\"/ebooks/730\">Oliver Twist by Charles Dickens (1502)</a></li>\\n<li><a href=\"/ebooks/863\">The Mysterious Affair at Styles by Agatha Christie (1488)</a></li>\\n<li><a href=\"/ebooks/37134\">The Elements of Style by William Strunk (1420)</a></li>\\n<li><a href=\"/ebooks/851\">Narrative of the Captivity and Restoration of Mrs. Mary Rowlandson by Mary White Rowlandson (1418)</a></li>\\n<li><a href=\"/ebooks/105\">Persuasion by Jane Austen (1391)</a></li>\\n<li><a href=\"/ebooks/42324\">Frankenstein; Or, The Modern Prometheus by Mary Wollstonecraft Shelley (1385)</a></li>\\n<li><a href=\"/ebooks/3090\">Complete Original Short Stories of Guy De Maupassant by Guy de Maupassant (1377)</a></li>\\n<li><a href=\"/ebooks/236\">The Jungle Book by Rudyard Kipling (1376)</a></li>\\n<li><a href=\"/ebooks/30254\">The Romance of Lust: A classic Victorian erotic novel by Anonymous (1366)</a></li>\\n<li><a href=\"/ebooks/376\">A Journal of the Plague Year by Daniel Defoe (1350)</a></li>\\n<li><a href=\"/ebooks/41\">The Legend of Sleepy Hollow by Washington Irving (1334)</a></li>\\n<li><a href=\"/ebooks/209\">The Turn of the Screw by Henry James (1331)</a></li>\\n<li><a href=\"/ebooks/521\">The Life and Adventures of Robinson Crusoe by Daniel Defoe (1327)</a></li>\\n<li><a href=\"/ebooks/8800\">An Index of The Divine Comedy by Dante by Dante Alighieri (1324)</a></li>\\n<li><a href=\"/ebooks/161\">Sense and Sensibility by Jane Austen (1319)</a></li>\\n<li><a href=\"/ebooks/972\">The Devil\\'s Dictionary by Ambrose Bierce (1308)</a></li>\\n<li><a href=\"/ebooks/779\">The Tragical History of Doctor Faustus by Christopher Marlowe (1292)</a></li>\\n<li><a href=\"/ebooks/1934\">Songs of Innocence, and Songs of Experience by William Blake (1291)</a></li>\\n<li><a href=\"/ebooks/1399\">Anna Karenina by graf Leo Tolstoy (1288)</a></li>\\n<li><a href=\"/ebooks/2148\">The Works of Edgar Allan Poe — Volume 2 by Edgar Allan Poe (1281)</a></li>\\n<li><a href=\"/ebooks/61\">Manifest der Kommunistischen Partei. English by Friedrich Engels and Karl Marx (1275)</a></li>\\n<li><a href=\"/ebooks/4363\">Beyond Good and Evil by Friedrich Wilhelm Nietzsche (1271)</a></li>\\n<li><a href=\"/ebooks/1064\">The Masque of the Red Death by Edgar Allan Poe (1265)</a></li>\\n</ol>\\n <div class=\"padded\">\\n  <ul>\\n   <li><a href=\"#books-last1\">Top 100 EBooks yesterday</a></li>\\n   <li><a href=\"#authors-last1\">Top 100 Authors yesterday</a></li>\\n   <li><a href=\"#books-last7\">Top 100 EBooks last 7 days</a></li>\\n   <li><a href=\"#authors-last7\">Top 100 Authors last 7 days</a></li>\\n   <li><a href=\"#books-last30\">Top 100 EBooks last 30 days</a></li>\\n   <li><a href=\"#authors-last30\">Top 100 Authors last 30 days</li>\\n  </ul>\\n </div>\\n<h2 id=\"authors-last7\">Top 100 Authors last 7 days</h2>\\n\\n<ol>\\n<li><a href=\"/browse/authors/d#a37\">Dickens, Charles (26341)</a></li>\\n<li><a href=\"/browse/authors/a#a68\">Austen, Jane (26077)</a></li>\\n<li><a href=\"/browse/authors/s#a61\">Shelley, Mary Wollstonecraft (23859)</a></li>\\n<li><a href=\"/browse/authors/t#a53\">Twain, Mark (20023)</a></li>\\n<li><a href=\"/browse/authors/d#a69\">Doyle, Arthur Conan (18023)</a></li>\\n<li><a href=\"/browse/authors/w#a111\">Wilde, Oscar (16195)</a></li>\\n<li><a href=\"/browse/authors/c#a7\">Carroll, Lewis (11546)</a></li>\\n<li><a href=\"/browse/authors/s#a326\">Swift, Jonathan (10288)</a></li>\\n<li><a href=\"/browse/authors/s#a35\">Stevenson, Robert Louis (10178)</a></li>\\n<li><a href=\"/browse/authors/s#a65\">Shakespeare, William (9858)</a></li>\\n<li><a href=\"/browse/authors/h#a28\">Hawthorne, Nathaniel (9446)</a></li>\\n<li><a href=\"/browse/authors/w#a30\">Wells, H. G. (Herbert George) (9336)</a></li>\\n<li><a href=\"/browse/authors/m#a9\">Melville, Herman (8509)</a></li>\\n<li><a href=\"/browse/authors/p#a93\">Plato (8440)</a></li>\\n<li><a href=\"/browse/authors/j#a94\">Jowett, Benjamin (7904)</a></li>\\n<li><a href=\"/browse/authors/d#a314\">Dostoyevsky, Fyodor (7897)</a></li>\\n<li><a href=\"/browse/authors/i#a861\">Ibsen, Henrik (7820)</a></li>\\n<li><a href=\"/browse/authors/p#a481\">Poe, Edgar Allan (7609)</a></li>\\n<li><a href=\"/browse/authors/k#a1735\">Kafka, Franz (7467)</a></li>\\n<li><a href=\"/browse/authors/t#a136\">Tolstoy, Leo, graf (7364)</a></li>\\n<li><a href=\"/browse/authors/c#a125\">Conrad, Joseph (7073)</a></li>\\n<li><a href=\"/browse/authors/n#a779\">Nietzsche, Friedrich Wilhelm (6862)</a></li>\\n<li><a href=\"/browse/authors/w#a1736\">Wyllie, David (Translator) (6759)</a></li>\\n<li><a href=\"/browse/authors/h#a705\">Homer (6719)</a></li>\\n<li><a href=\"/browse/authors/l#a120\">London, Jack (6607)</a></li>\\n<li><a href=\"/browse/authors/j#a1039\">Joyce, James (6596)</a></li>\\n<li><a href=\"/browse/authors/l#a1358\">Leblanc, Maurice (6406)</a></li>\\n<li><a href=\"/browse/authors/d#a507\">Dante Alighieri (6383)</a></li>\\n<li><a href=\"/browse/authors/b#a42\">Baum, L. Frank (Lyman Frank) (6382)</a></li>\\n<li><a href=\"/browse/authors/g#a2858\">Garnett, Constance (6369)</a></li>\\n<li><a href=\"/browse/authors/v#a60\">Verne, Jules (6014)</a></li>\\n<li><a href=\"/browse/authors/f#a420\">Fitzgerald, F. Scott (Francis Scott) (5889)</a></li>\\n<li><a href=\"/browse/authors/g#a27\">Gilman, Charlotte Perkins (5813)</a></li>\\n<li><a href=\"/browse/authors/j#a113\">James, Henry (5811)</a></li>\\n<li><a href=\"/browse/authors/f#a2703\">Foote, Mary Hallock (5679)</a></li>\\n<li><a href=\"/browse/authors/i#a31265\">Ipsen, Ludvig Sandöe (5651)</a></li>\\n<li><a href=\"/browse/authors/a#a31267\">Anthony, A. V. S. (Andrew Varick Stout) (5651)</a></li>\\n<li><a href=\"/browse/authors/m#a36\">Montgomery, L. M. (Lucy Maud) (5568)</a></li>\\n<li><a href=\"/browse/authors/b#a408\">Brontë, Charlotte (5554)</a></li>\\n<li><a href=\"/browse/authors/d#a1896\">Doré, Gustave (5541)</a></li>\\n<li><a href=\"/browse/authors/a#a102\">Alcott, Louisa May (5450)</a></li>\\n<li><a href=\"/browse/authors/d#a492\">Dumas, Alexandre (5446)</a></li>\\n<li><a href=\"/browse/authors/k#a132\">Kipling, Rudyard (5399)</a></li>\\n<li><a href=\"/browse/authors/d#a226\">Du Bois, W. E. B. (William Edward Burghardt) (5338)</a></li>\\n<li><a href=\"/browse/authors/k#a37155\">Kemble, E. W. (Edward Windsor) (5332)</a></li>\\n<li><a href=\"/browse/authors/c#a708\">Chekhov, Anton Pavlovich (5220)</a></li>\\n<li><a href=\"/browse/authors/b#a10\">Barrie, J. M. (James Matthew) (5081)</a></li>\\n<li><a href=\"/browse/authors/r#a2183\">Rizal, José (5077)</a></li>\\n<li><a href=\"/browse/authors/d#a204\">Defoe, Daniel (5045)</a></li>\\n<li><a href=\"/browse/authors/t#a54\">Thoreau, Henry David (4983)</a></li>\\n<li><a href=\"/browse/authors/t#a9854\">Townsend, F. H. (Frederick Henry) (4839)</a></li>\\n<li><a href=\"/browse/authors/w#a104\">Wharton, Edith (4784)</a></li>\\n<li><a href=\"/browse/authors/l#a79\">Lang, Andrew (4609)</a></li>\\n<li><a href=\"/browse/authors/r#a572\">Rand, Ayn (4531)</a></li>\\n<li><a href=\"/browse/authors/c#a505\">Cervantes Saavedra, Miguel de (4431)</a></li>\\n<li><a href=\"/browse/authors/h#a85\">Hugo, Victor (4425)</a></li>\\n<li><a href=\"/browse/authors/s#a467\">Shaw, Bernard (4422)</a></li>\\n<li><a href=\"/browse/authors/w#a1961\">Widger, David (4420)</a></li>\\n<li><a href=\"/browse/authors/v#a913\">Voltaire (4330)</a></li>\\n<li><a href=\"/browse/authors/g#a971\">Grimm, Jacob (4310)</a></li>\\n<li><a href=\"/browse/authors/g#a972\">Grimm, Wilhelm (4310)</a></li>\\n<li><a href=\"/browse/authors/c#a100\">Chopin, Kate (4301)</a></li>\\n<li><a href=\"/browse/authors/r#a355\">Russell, Bertrand (4238)</a></li>\\n<li><a href=\"/browse/authors/l#a9473\">Leech, John (4198)</a></li>\\n<li><a href=\"/browse/authors/c#a80\">Chesterton, G. K. (Gilbert Keith) (4136)</a></li>\\n<li><a href=\"/browse/authors/s#a190\">Stoker, Bram (4120)</a></li>\\n<li><a href=\"/browse/authors/m#a1355\">Morley, Henry (4113)</a></li>\\n<li><a href=\"/browse/authors/b#a73\">Burnett, Frances Hodgson (4086)</a></li>\\n<li><a href=\"/browse/authors/d#a34510\">Douglass, Frederick (3940)</a></li>\\n<li><a href=\"/browse/authors/m#a563\">Machiavelli, Niccolò (3933)</a></li>\\n<li><a href=\"/browse/authors/p#a907\">Pope, Alexander (3822)</a></li>\\n<li><a href=\"/browse/authors/e#a90\">Eliot, George (3793)</a></li>\\n<li><a href=\"/browse/authors/m#a306\">Maupassant, Guy de (3776)</a></li>\\n<li><a href=\"/browse/authors/b#a48\">Burroughs, Edgar Rice (3775)</a></li>\\n<li><a href=\"/browse/authors/c#a451\">Christie, Agatha (3765)</a></li>\\n<li><a href=\"/browse/authors/m#a500\">Maude, Louise (3641)</a></li>\\n<li><a href=\"/browse/authors/m#a4589\">Maude, Aylmer (3559)</a></li>\\n<li><a href=\"/browse/authors/m#a564\">Marriott, W. K. (William Kenaz) (3514)</a></li>\\n<li><a href=\"/browse/authors/h#a23\">Hardy, Thomas (3490)</a></li>\\n<li><a href=\"/browse/authors/p#a292\">Potter, Beatrix (3461)</a></li>\\n<li><a href=\"/browse/authors/f#a92\">Franklin, Benjamin (3429)</a></li>\\n<li><a href=\"/browse/authors/g#a586\">Goethe, Johann Wolfgang von (3427)</a></li>\\n<li><a href=\"/browse/authors/r#a2297\">Robertson, James Alexander (3362)</a></li>\\n<li><a href=\"/browse/authors/b#a251\">Balzac, Honoré de (3299)</a></li>\\n<li><a href=\"/browse/authors/b#a748\">Butler, Samuel (3298)</a></li>\\n<li><a href=\"/browse/authors/i#a34\">Irving, Washington (3278)</a></li>\\n<li><a href=\"/browse/authors/h#a6638\">Hall, J. Lesslie (John Lesslie) (3213)</a></li>\\n<li><a href=\"/browse/authors/s#a59\">Scott, Walter (3187)</a></li>\\n<li><a href=\"/browse/authors/w#a783\">Wodehouse, P. G. (Pelham Grenville) (3166)</a></li>\\n<li><a href=\"/browse/authors/c#a3622\">Cary, Henry Francis (3079)</a></li>\\n<li><a href=\"/browse/authors/m#a6950\">Mirbeau, Octave (3070)</a></li>\\n<li><a href=\"/browse/authors/o#a506\">Ormsby, John (3041)</a></li>\\n<li><a href=\"/browse/authors/e#a25412\">Emshwiller, Ed (3020)</a></li>\\n<li><a href=\"/browse/authors/b#a206\">Bierce, Ambrose (2983)</a></li>\\n<li><a href=\"/browse/authors/b#a2296\">Blair, Emma Helen (2946)</a></li>\\n<li><a href=\"/browse/authors/h#a33608\">Hapgood, Isabel Florence (2933)</a></li>\\n<li><a href=\"/browse/authors/b#a5446\">Bourne, Edward Gaylord (2905)</a></li>\\n<li><a href=\"/browse/authors/d#a485\">Darwin, Charles (2750)</a></li>\\n<li><a href=\"/browse/authors/m#a1705\">Mill, John Stuart (2708)</a></li>\\n<li><a href=\"/browse/authors/l#a16\">Longfellow, Henry Wadsworth (2690)</a></li>\\n</ol>\\n <div class=\"padded\">\\n  <ul>\\n   <li><a href=\"#books-last1\">Top 100 EBooks yesterday</a></li>\\n   <li><a href=\"#authors-last1\">Top 100 Authors yesterday</a></li>\\n   <li><a href=\"#books-last7\">Top 100 EBooks last 7 days</a></li>\\n   <li><a href=\"#authors-last7\">Top 100 Authors last 7 days</a></li>\\n   <li><a href=\"#books-last30\">Top 100 EBooks last 30 days</a></li>\\n   <li><a href=\"#authors-last30\">Top 100 Authors last 30 days</li>\\n  </ul>\\n </div>\\n<h2 id=\"books-last30\">Top 100 EBooks last 30 days</h2>\\n\\n<ol>\\n<li><a href=\"/ebooks/84\">Frankenstein; Or, The Modern Prometheus by Mary Wollstonecraft Shelley (101783)</a></li>\\n<li><a href=\"/ebooks/1342\">Pride and Prejudice by Jane Austen (76149)</a></li>\\n<li><a href=\"/ebooks/1080\">A Modest Proposal by Jonathan Swift (37289)</a></li>\\n<li><a href=\"/ebooks/11\">Alice\\'s Adventures in Wonderland by Lewis Carroll (32144)</a></li>\\n<li><a href=\"/ebooks/46\">A Christmas Carol in Prose; Being a Ghost Story of Christmas by Charles Dickens (31412)</a></li>\\n<li><a href=\"/ebooks/25344\">The Scarlet Letter by Nathaniel Hawthorne (28860)</a></li>\\n<li><a href=\"/ebooks/98\">A Tale of Two Cities by Charles Dickens (28713)</a></li>\\n<li><a href=\"/ebooks/2542\">Et dukkehjem. English by Henrik Ibsen (27857)</a></li>\\n<li><a href=\"/ebooks/1952\">The Yellow Wallpaper by Charlotte Perkins Gilman (27147)</a></li>\\n<li><a href=\"/ebooks/5200\">Metamorphosis by Franz Kafka (27015)</a></li>\\n<li><a href=\"/ebooks/844\">The Importance of Being Earnest: A Trivial Comedy for Serious People by Oscar Wilde (26610)</a></li>\\n<li><a href=\"/ebooks/1661\">The Adventures of Sherlock Holmes by Arthur Conan Doyle (25470)</a></li>\\n<li><a href=\"/ebooks/43\">The Strange Case of Dr. Jekyll and Mr. Hyde by Robert Louis Stevenson (25334)</a></li>\\n<li><a href=\"/ebooks/1250\">Anthem by Ayn Rand (25095)</a></li>\\n<li><a href=\"/ebooks/2701\">Moby Dick; Or, The Whale by Herman Melville (24806)</a></li>\\n<li><a href=\"/ebooks/76\">Adventures of Huckleberry Finn by Mark Twain (23803)</a></li>\\n<li><a href=\"/ebooks/1260\">Jane Eyre: An Autobiography by Charlotte Brontë (23628)</a></li>\\n<li><a href=\"/ebooks/174\">The Picture of Dorian Gray by Oscar Wilde (21956)</a></li>\\n<li><a href=\"/ebooks/219\">Heart of Darkness by Joseph Conrad (19597)</a></li>\\n<li><a href=\"/ebooks/6133\">Arsène Lupin, gentleman-cambrioleur. English by Maurice Leblanc (19502)</a></li>\\n<li><a href=\"/ebooks/408\">The Souls of Black Folk by W. E. B.  Du Bois (19328)</a></li>\\n<li><a href=\"/ebooks/16328\">Beowulf: An Anglo-Saxon Epic Poem (18735)</a></li>\\n<li><a href=\"/ebooks/160\">The Awakening, and Selected Short Stories by Kate Chopin (18327)</a></li>\\n<li><a href=\"/ebooks/23\">Narrative of the Life of Frederick Douglass, an American Slave by Frederick Douglass (17269)</a></li>\\n<li><a href=\"/ebooks/74\">The Adventures of Tom Sawyer, Complete by Mark Twain (17196)</a></li>\\n<li><a href=\"/ebooks/2852\">The Hound of the Baskervilles by Arthur Conan Doyle (16752)</a></li>\\n<li><a href=\"/ebooks/345\">Dracula by Bram Stoker (16705)</a></li>\\n<li><a href=\"/ebooks/1400\">Great Expectations by Charles Dickens (16577)</a></li>\\n<li><a href=\"/ebooks/205\">Walden, and On The Duty Of Civil Disobedience by Henry David Thoreau (16424)</a></li>\\n<li><a href=\"/ebooks/1232\">Il Principe. English by Niccolò Machiavelli (16278)</a></li>\\n<li><a href=\"/ebooks/64317\">The Great Gatsby by F. Scott  Fitzgerald (15861)</a></li>\\n<li><a href=\"/ebooks/16\">Peter Pan by J. M.  Barrie (14932)</a></li>\\n<li><a href=\"/ebooks/120\">Treasure Island by Robert Louis Stevenson (13867)</a></li>\\n<li><a href=\"/ebooks/55\">The Wonderful Wizard of Oz by L. Frank  Baum (13714)</a></li>\\n<li><a href=\"/ebooks/1497\">The Republic by Plato (13590)</a></li>\\n<li><a href=\"/ebooks/2591\">Grimms\\' Fairy Tales by Jacob Grimm and Wilhelm Grimm (12741)</a></li>\\n<li><a href=\"/ebooks/215\">The Call of the Wild by Jack London (12575)</a></li>\\n<li><a href=\"/ebooks/2814\">Dubliners by James Joyce (12371)</a></li>\\n<li><a href=\"/ebooks/514\">Little Women by Louisa May Alcott (12235)</a></li>\\n<li><a href=\"/ebooks/4300\">Ulysses by James Joyce (12122)</a></li>\\n<li><a href=\"/ebooks/158\">Emma by Jane Austen (11973)</a></li>\\n<li><a href=\"/ebooks/19942\">Candide by Voltaire (11844)</a></li>\\n<li><a href=\"/ebooks/2600\">War and Peace by graf Leo Tolstoy (11524)</a></li>\\n<li><a href=\"/ebooks/3207\">Leviathan by Thomas Hobbes (11166)</a></li>\\n<li><a href=\"/ebooks/25482\">The Armed Forces Officer by United States. Department of Defense (11155)</a></li>\\n<li><a href=\"/ebooks/768\">Wuthering Heights by Emily Brontë (11004)</a></li>\\n<li><a href=\"/ebooks/3825\">Pygmalion by Bernard Shaw (10628)</a></li>\\n<li><a href=\"/ebooks/45\">Anne of Green Gables by L. M.  Montgomery (10580)</a></li>\\n<li><a href=\"/ebooks/2554\">Prestuplenie i nakazanie. English by Fyodor Dostoyevsky (10213)</a></li>\\n<li><a href=\"/ebooks/1184\">The Count of Monte Cristo, Illustrated by Alexandre Dumas (10090)</a></li>\\n<li><a href=\"/ebooks/36\">The War of the Worlds by H. G.  Wells (10046)</a></li>\\n<li><a href=\"/ebooks/244\">A Study in Scarlet by Arthur Conan Doyle (10006)</a></li>\\n<li><a href=\"/ebooks/25929\">Daemonologie. by King of England James I (9934)</a></li>\\n<li><a href=\"/ebooks/57775\">Le jardin des supplices by Octave Mirbeau (9601)</a></li>\\n<li><a href=\"/ebooks/42108\">The Slang Dictionary: Etymological, Historical and Andecdotal by John Camden Hotten (9556)</a></li>\\n<li><a href=\"/ebooks/58585\">The Prophet by Kahlil Gibran (9495)</a></li>\\n<li><a href=\"/ebooks/140\">The Jungle by Upton Sinclair (9446)</a></li>\\n<li><a href=\"/ebooks/902\">The Happy Prince, and Other Tales by Oscar Wilde (9316)</a></li>\\n<li><a href=\"/ebooks/1727\">The Odyssey by Homer (9260)</a></li>\\n<li><a href=\"/ebooks/5740\">Tractatus Logico-Philosophicus by Ludwig Wittgenstein (9102)</a></li>\\n<li><a href=\"/ebooks/203\">Uncle Tom\\'s Cabin by Harriet Beecher Stowe (9078)</a></li>\\n<li><a href=\"/ebooks/996\">Don Quixote by Miguel de Cervantes Saavedra (9038)</a></li>\\n<li><a href=\"/ebooks/15399\">The Interesting Narrative of the Life of Olaudah Equiano, Or Gustavus Vassa, The African by Equiano (8865)</a></li>\\n<li><a href=\"/ebooks/6130\">The Iliad by Homer (8838)</a></li>\\n<li><a href=\"/ebooks/135\">Les Misérables by Victor Hugo (8678)</a></li>\\n<li><a href=\"/ebooks/829\">Gulliver\\'s Travels into Several Remote Nations of the World by Jonathan Swift (8673)</a></li>\\n<li><a href=\"/ebooks/20203\">Autobiography of Benjamin Franklin by Benjamin Franklin (8500)</a></li>\\n<li><a href=\"/ebooks/2500\">Siddhartha by Hermann Hesse (8421)</a></li>\\n<li><a href=\"/ebooks/2097\">The Sign of the Four by Arthur Conan Doyle (8387)</a></li>\\n<li><a href=\"/ebooks/3600\">Essays of Michel de Montaigne — Complete by Michel de Montaigne (8327)</a></li>\\n<li><a href=\"/ebooks/1934\">Songs of Innocence, and Songs of Experience by William Blake (8065)</a></li>\\n<li><a href=\"/ebooks/113\">The Secret Garden by Frances Hodgson Burnett (8012)</a></li>\\n<li><a href=\"/ebooks/35\">The Time Machine by H. G.  Wells (7981)</a></li>\\n<li><a href=\"/ebooks/730\">Oliver Twist by Charles Dickens (7854)</a></li>\\n<li><a href=\"/ebooks/4014\">Arsene Lupin by Maurice Leblanc (7838)</a></li>\\n<li><a href=\"/ebooks/1001\">Divine Comedy, Longfellow\\'s Translation, Hell by Dante Alighieri (7561)</a></li>\\n<li><a href=\"/ebooks/851\">Narrative of the Captivity and Restoration of Mrs. Mary Rowlandson by Mary White Rowlandson (7459)</a></li>\\n<li><a href=\"/ebooks/43453\">A Pickle for the Knowing Ones by Timothy Dexter (7413)</a></li>\\n<li><a href=\"/ebooks/1998\">Also sprach Zarathustra. English by Friedrich Wilhelm Nietzsche (7346)</a></li>\\n<li><a href=\"/ebooks/26184\">Simple Sabotage Field Manual by United States. Office of Strategic Services (7318)</a></li>\\n<li><a href=\"/ebooks/7370\">Second Treatise of Government by John Locke (7192)</a></li>\\n<li><a href=\"/ebooks/376\">A Journal of the Plague Year by Daniel Defoe (7174)</a></li>\\n<li><a href=\"/ebooks/4517\">Ethan Frome by Edith Wharton (7127)</a></li>\\n<li><a href=\"/ebooks/863\">The Mysterious Affair at Styles by Agatha Christie (7041)</a></li>\\n<li><a href=\"/ebooks/766\">David Copperfield by Charles Dickens (6917)</a></li>\\n<li><a href=\"/ebooks/11030\">Incidents in the Life of a Slave Girl, Written by Herself by Harriet A.  Jacobs (6803)</a></li>\\n<li><a href=\"/ebooks/236\">The Jungle Book by Rudyard Kipling (6519)</a></li>\\n<li><a href=\"/ebooks/41\">The Legend of Sleepy Hollow by Washington Irving (6478)</a></li>\\n<li><a href=\"/ebooks/37134\">The Elements of Style by William Strunk (6345)</a></li>\\n<li><a href=\"/ebooks/42324\">Frankenstein; Or, The Modern Prometheus by Mary Wollstonecraft Shelley (6295)</a></li>\\n<li><a href=\"/ebooks/147\">Common Sense by Thomas Paine (6286)</a></li>\\n<li><a href=\"/ebooks/2148\">The Works of Edgar Allan Poe — Volume 2 by Edgar Allan Poe (6249)</a></li>\\n<li><a href=\"/ebooks/1064\">The Masque of the Red Death by Edgar Allan Poe (6190)</a></li>\\n<li><a href=\"/ebooks/61\">Manifest der Kommunistischen Partei. English by Friedrich Engels and Karl Marx (6132)</a></li>\\n<li><a href=\"/ebooks/209\">The Turn of the Screw by Henry James (6101)</a></li>\\n<li><a href=\"/ebooks/8800\">An Index of The Divine Comedy by Dante by Dante Alighieri (6038)</a></li>\\n<li><a href=\"/ebooks/105\">Persuasion by Jane Austen (5999)</a></li>\\n<li><a href=\"/ebooks/521\">The Life and Adventures of Robinson Crusoe by Daniel Defoe (5802)</a></li>\\n<li><a href=\"/ebooks/4363\">Beyond Good and Evil by Friedrich Wilhelm Nietzsche (5773)</a></li>\\n<li><a href=\"/ebooks/34901\">On Liberty by John Stuart Mill (5713)</a></li>\\n</ol>\\n <div class=\"padded\">\\n  <ul>\\n   <li><a href=\"#books-last1\">Top 100 EBooks yesterday</a></li>\\n   <li><a href=\"#authors-last1\">Top 100 Authors yesterday</a></li>\\n   <li><a href=\"#books-last7\">Top 100 EBooks last 7 days</a></li>\\n   <li><a href=\"#authors-last7\">Top 100 Authors last 7 days</a></li>\\n   <li><a href=\"#books-last30\">Top 100 EBooks last 30 days</a></li>\\n   <li><a href=\"#authors-last30\">Top 100 Authors last 30 days</li>\\n  </ul>\\n </div>\\n<h2 id=\"authors-last30\">Top 100 Authors last 30 days</h2>\\n\\n<ol>\\n<li><a href=\"/browse/authors/d#a37\">Dickens, Charles (132507)</a></li>\\n<li><a href=\"/browse/authors/a#a68\">Austen, Jane (119768)</a></li>\\n<li><a href=\"/browse/authors/s#a61\">Shelley, Mary Wollstonecraft (115303)</a></li>\\n<li><a href=\"/browse/authors/t#a53\">Twain, Mark (86944)</a></li>\\n<li><a href=\"/browse/authors/d#a69\">Doyle, Arthur Conan (86066)</a></li>\\n<li><a href=\"/browse/authors/w#a111\">Wilde, Oscar (74273)</a></li>\\n<li><a href=\"/browse/authors/s#a35\">Stevenson, Robert Louis (55786)</a></li>\\n<li><a href=\"/browse/authors/s#a326\">Swift, Jonathan (51375)</a></li>\\n<li><a href=\"/browse/authors/c#a7\">Carroll, Lewis (50606)</a></li>\\n<li><a href=\"/browse/authors/s#a65\">Shakespeare, William (46560)</a></li>\\n<li><a href=\"/browse/authors/h#a28\">Hawthorne, Nathaniel (44974)</a></li>\\n<li><a href=\"/browse/authors/w#a30\">Wells, H. G. (Herbert George) (42456)</a></li>\\n<li><a href=\"/browse/authors/p#a93\">Plato (39764)</a></li>\\n<li><a href=\"/browse/authors/l#a1358\">Leblanc, Maurice (39614)</a></li>\\n<li><a href=\"/browse/authors/i#a861\">Ibsen, Henrik (38170)</a></li>\\n<li><a href=\"/browse/authors/j#a94\">Jowett, Benjamin (37608)</a></li>\\n<li><a href=\"/browse/authors/p#a481\">Poe, Edgar Allan (35791)</a></li>\\n<li><a href=\"/browse/authors/m#a9\">Melville, Herman (35574)</a></li>\\n<li><a href=\"/browse/authors/d#a314\">Dostoyevsky, Fyodor (33744)</a></li>\\n<li><a href=\"/browse/authors/l#a9473\">Leech, John (33488)</a></li>\\n<li><a href=\"/browse/authors/k#a1735\">Kafka, Franz (33147)</a></li>\\n<li><a href=\"/browse/authors/c#a125\">Conrad, Joseph (32204)</a></li>\\n<li><a href=\"/browse/authors/g#a27\">Gilman, Charlotte Perkins (30742)</a></li>\\n<li><a href=\"/browse/authors/t#a136\">Tolstoy, Leo, graf (30609)</a></li>\\n<li><a href=\"/browse/authors/h#a705\">Homer (30384)</a></li>\\n<li><a href=\"/browse/authors/l#a120\">London, Jack (30048)</a></li>\\n<li><a href=\"/browse/authors/j#a1039\">Joyce, James (29736)</a></li>\\n<li><a href=\"/browse/authors/w#a1736\">Wyllie, David (Translator) (29730)</a></li>\\n<li><a href=\"/browse/authors/n#a779\">Nietzsche, Friedrich Wilhelm (29622)</a></li>\\n<li><a href=\"/browse/authors/f#a2703\">Foote, Mary Hallock (28949)</a></li>\\n<li><a href=\"/browse/authors/a#a31267\">Anthony, A. V. S. (Andrew Varick Stout) (28860)</a></li>\\n<li><a href=\"/browse/authors/i#a31265\">Ipsen, Ludvig Sandöe (28860)</a></li>\\n<li><a href=\"/browse/authors/d#a507\">Dante Alighieri (27464)</a></li>\\n<li><a href=\"/browse/authors/b#a42\">Baum, L. Frank (Lyman Frank) (27372)</a></li>\\n<li><a href=\"/browse/authors/g#a2858\">Garnett, Constance (27311)</a></li>\\n<li><a href=\"/browse/authors/b#a408\">Brontë, Charlotte (27126)</a></li>\\n<li><a href=\"/browse/authors/d#a226\">Du Bois, W. E. B. (William Edward Burghardt) (26235)</a></li>\\n<li><a href=\"/browse/authors/r#a572\">Rand, Ayn (25673)</a></li>\\n<li><a href=\"/browse/authors/j#a113\">James, Henry (25415)</a></li>\\n<li><a href=\"/browse/authors/m#a36\">Montgomery, L. M. (Lucy Maud) (24917)</a></li>\\n<li><a href=\"/browse/authors/k#a37155\">Kemble, E. W. (Edward Windsor) (24852)</a></li>\\n<li><a href=\"/browse/authors/t#a9854\">Townsend, F. H. (Frederick Henry) (24331)</a></li>\\n<li><a href=\"/browse/authors/d#a1896\">Doré, Gustave (23902)</a></li>\\n<li><a href=\"/browse/authors/k#a132\">Kipling, Rudyard (23886)</a></li>\\n<li><a href=\"/browse/authors/v#a60\">Verne, Jules (23876)</a></li>\\n<li><a href=\"/browse/authors/d#a492\">Dumas, Alexandre (23099)</a></li>\\n<li><a href=\"/browse/authors/t#a54\">Thoreau, Henry David (22941)</a></li>\\n<li><a href=\"/browse/authors/a#a102\">Alcott, Louisa May (21904)</a></li>\\n<li><a href=\"/browse/authors/b#a10\">Barrie, J. M. (James Matthew) (21558)</a></li>\\n<li><a href=\"/browse/authors/d#a204\">Defoe, Daniel (21185)</a></li>\\n<li><a href=\"/browse/authors/s#a467\">Shaw, Bernard (20887)</a></li>\\n<li><a href=\"/browse/authors/w#a104\">Wharton, Edith (20885)</a></li>\\n<li><a href=\"/browse/authors/c#a708\">Chekhov, Anton Pavlovich (20480)</a></li>\\n<li><a href=\"/browse/authors/f#a420\">Fitzgerald, F. Scott (Francis Scott) (20426)</a></li>\\n<li><a href=\"/browse/authors/d#a34510\">Douglass, Frederick (19436)</a></li>\\n<li><a href=\"/browse/authors/s#a190\">Stoker, Bram (19303)</a></li>\\n<li><a href=\"/browse/authors/r#a355\">Russell, Bertrand (19204)</a></li>\\n<li><a href=\"/browse/authors/r#a2183\">Rizal, José (19075)</a></li>\\n<li><a href=\"/browse/authors/g#a972\">Grimm, Wilhelm (19058)</a></li>\\n<li><a href=\"/browse/authors/g#a971\">Grimm, Jacob (19058)</a></li>\\n<li><a href=\"/browse/authors/c#a100\">Chopin, Kate (18780)</a></li>\\n<li><a href=\"/browse/authors/b#a73\">Burnett, Frances Hodgson (18741)</a></li>\\n<li><a href=\"/browse/authors/h#a6638\">Hall, J. Lesslie (John Lesslie) (18735)</a></li>\\n<li><a href=\"/browse/authors/h#a85\">Hugo, Victor (18700)</a></li>\\n<li><a href=\"/browse/authors/l#a79\">Lang, Andrew (18647)</a></li>\\n<li><a href=\"/browse/authors/m#a563\">Machiavelli, Niccolò (18556)</a></li>\\n<li><a href=\"/browse/authors/v#a913\">Voltaire (18168)</a></li>\\n<li><a href=\"/browse/authors/c#a80\">Chesterton, G. K. (Gilbert Keith) (18065)</a></li>\\n<li><a href=\"/browse/authors/m#a1355\">Morley, Henry (18059)</a></li>\\n<li><a href=\"/browse/authors/c#a505\">Cervantes Saavedra, Miguel de (17908)</a></li>\\n<li><a href=\"/browse/authors/w#a1961\">Widger, David (17583)</a></li>\\n<li><a href=\"/browse/authors/c#a451\">Christie, Agatha (17256)</a></li>\\n<li><a href=\"/browse/authors/p#a907\">Pope, Alexander (17140)</a></li>\\n<li><a href=\"/browse/authors/m#a564\">Marriott, W. K. (William Kenaz) (16481)</a></li>\\n<li><a href=\"/browse/authors/f#a92\">Franklin, Benjamin (16093)</a></li>\\n<li><a href=\"/browse/authors/m#a500\">Maude, Louise (15262)</a></li>\\n<li><a href=\"/browse/authors/m#a4589\">Maude, Aylmer (15004)</a></li>\\n<li><a href=\"/browse/authors/b#a748\">Butler, Samuel (14948)</a></li>\\n<li><a href=\"/browse/authors/m#a306\">Maupassant, Guy de (14761)</a></li>\\n<li><a href=\"/browse/authors/g#a586\">Goethe, Johann Wolfgang von (14740)</a></li>\\n<li><a href=\"/browse/authors/i#a34\">Irving, Washington (14612)</a></li>\\n<li><a href=\"/browse/authors/p#a292\">Potter, Beatrix (14417)</a></li>\\n<li><a href=\"/browse/authors/r#a44215\">Rhead, Louis (13884)</a></li>\\n<li><a href=\"/browse/authors/b#a206\">Bierce, Ambrose (13852)</a></li>\\n<li><a href=\"/browse/authors/c#a3622\">Cary, Henry Francis (13675)</a></li>\\n<li><a href=\"/browse/authors/b#a251\">Balzac, Honoré de (13443)</a></li>\\n<li><a href=\"/browse/authors/e#a90\">Eliot, George (13285)</a></li>\\n<li><a href=\"/browse/authors/r#a2297\">Robertson, James Alexander (13027)</a></li>\\n<li><a href=\"/browse/authors/b#a295\">Blake, William (13004)</a></li>\\n<li><a href=\"/browse/authors/s#a59\">Scott, Walter (12902)</a></li>\\n<li><a href=\"/browse/authors/w#a783\">Wodehouse, P. G. (Pelham Grenville) (12729)</a></li>\\n<li><a href=\"/browse/authors/m#a1705\">Mill, John Stuart (12715)</a></li>\\n<li><a href=\"/browse/authors/h#a23\">Hardy, Thomas (12710)</a></li>\\n<li><a href=\"/browse/authors/h#a33608\">Hapgood, Isabel Florence (12700)</a></li>\\n<li><a href=\"/browse/authors/o#a506\">Ormsby, John (12611)</a></li>\\n<li><a href=\"/browse/authors/s#a88\">Sinclair, Upton (12607)</a></li>\\n<li><a href=\"/browse/authors/h#a941\">Hesse, Hermann (12422)</a></li>\\n<li><a href=\"/browse/authors/b#a48\">Burroughs, Edgar Rice (11813)</a></li>\\n<li><a href=\"/browse/authors/b#a2296\">Blair, Emma Helen (11758)</a></li>\\n<li><a href=\"/browse/authors/s#a115\">Stowe, Harriet Beecher (11586)</a></li>\\n</ol>\\n <div class=\"padded\">\\n  <ul>\\n   <li><a href=\"#books-last1\">Top 100 EBooks yesterday</a></li>\\n   <li><a href=\"#authors-last1\">Top 100 Authors yesterday</a></li>\\n   <li><a href=\"#books-last7\">Top 100 EBooks last 7 days</a></li>\\n   <li><a href=\"#authors-last7\">Top 100 Authors last 7 days</a></li>\\n   <li><a href=\"#books-last30\">Top 100 EBooks last 30 days</a></li>\\n   <li><a href=\"#authors-last30\">Top 100 Authors last 30 days</li>\\n  </ul>\\n </div>\\n\\n   </div><!--content ending-->\\n\\n  </div>\\n   <div class=\"footer\"><!-- start footer -->  <ul>\\n      <li>\\n        <a href=\"/policy/privacy_policy.html\" title=\"Privacy Policy\">Privacy policy</a>\\n      </li>\\n      <li>\\n        <a href=\"/about/\" title=\"About Project Gutenberg\">About Project Gutenberg</a>\\n      </li>\\n      <li>\\n        <a href=\"/policy/terms_of_use.html\" title=\"Terms of Use\">Terms of Use</a>\\n      </li>\\n      <li>\\n        <a href=\"/about/contact_information.html\" title=\"Contact Information\">Contact Information</a>\\n      </li>\\n      <li><a href=\"/help/\" title=\"Get Help\">Get Help</a></li>\\n\\n  </ul>\\n\\n  <a href=\"https://www.ibiblio.org/\" title=\"Project Gutenberg is hosted by ibiblio\">\\n   <img src=\"/gutenberg/ibiblio-logo.png\" alt=\"iBiblio\">\\n  </a>\\n  </div><!-- footer ending-->\\n<!-- body ending -->\\n </body>\\n</html>'"
      ]
     },
     "execution_count": 9,
     "metadata": {},
     "output_type": "execute_result"
    }
   ],
   "source": [
    "#Decode the response and pass to bs4\n",
    "content = response.content.decode(response.encoding)\n",
    "#Parsing data to pass to variable\n",
    "soup = BeautifulSoup(content, 'html.parser')\n",
    "#Print content\n",
    "content"
   ]
  },
  {
   "cell_type": "markdown",
   "metadata": {},
   "source": [
    "6. Find all the href tags and store them in the list of links. Check what the list looks like – print the first 30 elements."
   ]
  },
  {
   "cell_type": "code",
   "execution_count": 13,
   "metadata": {},
   "outputs": [],
   "source": [
    "# Find all the href tags and store them in the list of links\n",
    "\n",
    "#List for tags\n",
    "lst_tags=[]\n",
    "\n",
    "#Loop through to find all 'href'\n",
    "for tags in soup.find_all('a'):\n",
    "    lst_tags.append(tags.get('href')) #Add anything with href to lst_tags    "
   ]
  },
  {
   "cell_type": "code",
   "execution_count": 14,
   "metadata": {},
   "outputs": [
    {
     "data": {
      "text/plain": [
       "['/',\n",
       " '/about/',\n",
       " '/about/',\n",
       " '/policy/collection_development.html',\n",
       " '/about/contact_information.html',\n",
       " '/about/background/',\n",
       " '/policy/permission.html',\n",
       " '/policy/privacy_policy.html',\n",
       " '/policy/terms_of_use.html',\n",
       " '/ebooks/',\n",
       " '/ebooks/',\n",
       " '/ebooks/bookshelf/',\n",
       " '/browse/scores/top',\n",
       " '/ebooks/offline_catalogs.html',\n",
       " '/help/',\n",
       " '/help/',\n",
       " '/help/copyright.html',\n",
       " '/help/errata.html',\n",
       " '/help/file_formats.html',\n",
       " '/help/faq.html',\n",
       " '/policy/',\n",
       " '/help/public_domain_ebook_submission.html',\n",
       " '/help/submitting_your_own_work.html',\n",
       " '/help/mobile.html',\n",
       " '/attic/',\n",
       " '/donate/',\n",
       " '/donate/',\n",
       " '#books-last1',\n",
       " '#authors-last1',\n",
       " '#books-last7']"
      ]
     },
     "execution_count": 14,
     "metadata": {},
     "output_type": "execute_result"
    }
   ],
   "source": [
    "#Print the top 30\n",
    "lst_tags[:30]"
   ]
  },
  {
   "cell_type": "code",
   "execution_count": 15,
   "metadata": {},
   "outputs": [
    {
     "data": {
      "text/plain": [
       "['/',\n",
       " '/about/',\n",
       " '/about/',\n",
       " '/policy/collection_development.html',\n",
       " '/about/contact_information.html',\n",
       " '/about/background/',\n",
       " '/policy/permission.html',\n",
       " '/policy/privacy_policy.html',\n",
       " '/policy/terms_of_use.html',\n",
       " '/ebooks/',\n",
       " '/ebooks/',\n",
       " '/ebooks/bookshelf/',\n",
       " '/browse/scores/top',\n",
       " '/ebooks/offline_catalogs.html',\n",
       " '/help/',\n",
       " '/help/',\n",
       " '/help/copyright.html',\n",
       " '/help/errata.html',\n",
       " '/help/file_formats.html',\n",
       " '/help/faq.html',\n",
       " '/policy/',\n",
       " '/help/public_domain_ebook_submission.html',\n",
       " '/help/submitting_your_own_work.html',\n",
       " '/help/mobile.html',\n",
       " '/attic/',\n",
       " '/donate/',\n",
       " '/donate/',\n",
       " '#books-last1',\n",
       " '#authors-last1',\n",
       " '#books-last7',\n",
       " '#authors-last7',\n",
       " '#books-last30',\n",
       " '#authors-last30',\n",
       " '/ebooks/1342',\n",
       " '/ebooks/84',\n",
       " '/ebooks/11',\n",
       " '/ebooks/1661',\n",
       " '/ebooks/2701',\n",
       " '/ebooks/98',\n",
       " '/ebooks/64596',\n",
       " '/ebooks/1080',\n",
       " '/ebooks/5200',\n",
       " '/ebooks/174',\n",
       " '/ebooks/1260',\n",
       " '/ebooks/1952',\n",
       " '/ebooks/844',\n",
       " '/ebooks/76',\n",
       " '/ebooks/64595',\n",
       " '/ebooks/25344',\n",
       " '/ebooks/57775',\n",
       " '/ebooks/46',\n",
       " '/ebooks/1497',\n",
       " '/ebooks/64317',\n",
       " '/ebooks/219',\n",
       " '/ebooks/345',\n",
       " '/ebooks/43',\n",
       " '/ebooks/2542',\n",
       " '/ebooks/1232',\n",
       " '/ebooks/160',\n",
       " '/ebooks/4300',\n",
       " '/ebooks/408',\n",
       " '/ebooks/6133',\n",
       " '/ebooks/74',\n",
       " '/ebooks/16',\n",
       " '/ebooks/64592',\n",
       " '/ebooks/2591',\n",
       " '/ebooks/2600',\n",
       " '/ebooks/1400',\n",
       " '/ebooks/16328',\n",
       " '/ebooks/1184',\n",
       " '/ebooks/55',\n",
       " '/ebooks/514',\n",
       " '/ebooks/2852',\n",
       " '/ebooks/3207',\n",
       " '/ebooks/205',\n",
       " '/ebooks/996',\n",
       " '/ebooks/42108',\n",
       " '/ebooks/135',\n",
       " '/ebooks/158',\n",
       " '/ebooks/58585',\n",
       " '/ebooks/36',\n",
       " '/ebooks/1250',\n",
       " '/ebooks/120',\n",
       " '/ebooks/768',\n",
       " '/ebooks/1998',\n",
       " '/ebooks/23',\n",
       " '/ebooks/5740',\n",
       " '/ebooks/45',\n",
       " '/ebooks/6130',\n",
       " '/ebooks/43453',\n",
       " '/ebooks/2814',\n",
       " '/ebooks/2554',\n",
       " '/ebooks/244',\n",
       " '/ebooks/64594',\n",
       " '/ebooks/19942',\n",
       " '/ebooks/829',\n",
       " '/ebooks/25929',\n",
       " '/ebooks/215',\n",
       " '/ebooks/203',\n",
       " '/ebooks/3600',\n",
       " '/ebooks/766',\n",
       " '/ebooks/1001',\n",
       " '/ebooks/1727',\n",
       " '/ebooks/902',\n",
       " '/ebooks/863',\n",
       " '/ebooks/64599',\n",
       " '/ebooks/30254',\n",
       " '/ebooks/32415',\n",
       " '/ebooks/27559',\n",
       " '/ebooks/7370',\n",
       " '/ebooks/3825',\n",
       " '/ebooks/105',\n",
       " '/ebooks/140',\n",
       " '/ebooks/730',\n",
       " '/ebooks/209',\n",
       " '/ebooks/113',\n",
       " '/ebooks/35',\n",
       " '/ebooks/20203',\n",
       " '/ebooks/972',\n",
       " '/ebooks/27509',\n",
       " '/ebooks/4363',\n",
       " '/ebooks/236',\n",
       " '/ebooks/3090',\n",
       " '/ebooks/8800',\n",
       " '/ebooks/147',\n",
       " '/ebooks/3296',\n",
       " '/ebooks/600',\n",
       " '/ebooks/2500',\n",
       " '/ebooks/15399',\n",
       " '/ebooks/521',\n",
       " '/ebooks/2680',\n",
       " '/ebooks/1399',\n",
       " '/ebooks/27827',\n",
       " '#books-last1',\n",
       " '#authors-last1',\n",
       " '#books-last7',\n",
       " '#authors-last7',\n",
       " '#books-last30',\n",
       " '#authors-last30',\n",
       " '/browse/authors/d#a37',\n",
       " '/browse/authors/a#a68',\n",
       " '/browse/authors/t#a53',\n",
       " '/browse/authors/d#a69',\n",
       " '/browse/authors/s#a61',\n",
       " '/browse/authors/w#a111',\n",
       " '/browse/authors/c#a7',\n",
       " '/browse/authors/w#a30',\n",
       " '/browse/authors/p#a93',\n",
       " '/browse/authors/s#a35',\n",
       " '/browse/authors/s#a65',\n",
       " '/browse/authors/d#a314',\n",
       " '/browse/authors/m#a9',\n",
       " '/browse/authors/j#a94',\n",
       " '/browse/authors/s#a326',\n",
       " '/browse/authors/t#a136',\n",
       " '/browse/authors/n#a779',\n",
       " '/browse/authors/j#a113',\n",
       " '/browse/authors/c#a125',\n",
       " '/browse/authors/p#a481',\n",
       " '/browse/authors/d#a492',\n",
       " '/browse/authors/k#a1735',\n",
       " '/browse/authors/l#a1358',\n",
       " '/browse/authors/d#a507',\n",
       " '/browse/authors/g#a2858',\n",
       " '/browse/authors/b#a42',\n",
       " '/browse/authors/h#a705',\n",
       " '/browse/authors/h#a28',\n",
       " '/browse/authors/k#a25414',\n",
       " '/browse/authors/l#a120',\n",
       " '/browse/authors/c#a708',\n",
       " '/browse/authors/k#a132',\n",
       " '/browse/authors/m#a36',\n",
       " '/browse/authors/w#a1736',\n",
       " '/browse/authors/j#a1039',\n",
       " '/browse/authors/v#a60',\n",
       " '/browse/authors/l#a79',\n",
       " '/browse/authors/u#a8',\n",
       " '/browse/authors/h#a85',\n",
       " '/browse/authors/d#a204',\n",
       " '/browse/authors/d#a1896',\n",
       " '/browse/authors/b#a408',\n",
       " '/browse/authors/i#a861',\n",
       " '/browse/authors/a#a102',\n",
       " '/browse/authors/w#a1961',\n",
       " '/browse/authors/m#a306',\n",
       " '/browse/authors/g#a27',\n",
       " '/browse/authors/g#a972',\n",
       " '/browse/authors/g#a971',\n",
       " '/browse/authors/r#a355',\n",
       " '/browse/authors/c#a80',\n",
       " '/browse/authors/c#a505',\n",
       " '/browse/authors/m#a500',\n",
       " '/browse/authors/w#a104',\n",
       " '/browse/authors/m#a1355',\n",
       " '/browse/authors/b#a251',\n",
       " '/browse/authors/b#a10',\n",
       " '/browse/authors/r#a2183',\n",
       " '/browse/authors/m#a4589',\n",
       " '/browse/authors/t#a9854',\n",
       " '/browse/authors/f#a420',\n",
       " '/browse/authors/e#a90',\n",
       " '/browse/authors/v#a913',\n",
       " '/browse/authors/w#a33148',\n",
       " '/browse/authors/c#a451',\n",
       " '/browse/authors/l#a9473',\n",
       " '/browse/authors/k#a37155',\n",
       " '/browse/authors/s#a467',\n",
       " '/browse/authors/t#a54',\n",
       " '/browse/authors/b#a73',\n",
       " '/browse/authors/s#a59',\n",
       " '/browse/authors/s#a190',\n",
       " '/browse/authors/d#a226',\n",
       " '/browse/authors/p#a907',\n",
       " '/browse/authors/h#a23',\n",
       " '/browse/authors/w#a783',\n",
       " '/browse/authors/m#a6950',\n",
       " '/browse/authors/f#a2703',\n",
       " '/browse/authors/m#a563',\n",
       " '/browse/authors/a#a31267',\n",
       " '/browse/authors/i#a34',\n",
       " '/browse/authors/i#a31265',\n",
       " '/browse/authors/h#a33608',\n",
       " '/browse/authors/g#a586',\n",
       " '/browse/authors/f#a92',\n",
       " '/browse/authors/b#a48',\n",
       " '/browse/authors/b#a898',\n",
       " '/browse/authors/e#a25412',\n",
       " '/browse/authors/c#a3622',\n",
       " '/browse/authors/o#a506',\n",
       " '/browse/authors/c#a100',\n",
       " '/browse/authors/a#a18',\n",
       " '/browse/authors/m#a564',\n",
       " '/browse/authors/b#a206',\n",
       " '/browse/authors/r#a2297',\n",
       " '/browse/authors/d#a485',\n",
       " '/browse/authors/p#a292',\n",
       " '/browse/authors/a#a47495',\n",
       " '/browse/authors/b#a748',\n",
       " '/browse/authors/z#a528',\n",
       " '#books-last1',\n",
       " '#authors-last1',\n",
       " '#books-last7',\n",
       " '#authors-last7',\n",
       " '#books-last30',\n",
       " '#authors-last30',\n",
       " '/ebooks/84',\n",
       " '/ebooks/1342',\n",
       " '/ebooks/11',\n",
       " '/ebooks/1080',\n",
       " '/ebooks/98',\n",
       " '/ebooks/5200',\n",
       " '/ebooks/844',\n",
       " '/ebooks/25344',\n",
       " '/ebooks/1661',\n",
       " '/ebooks/2701',\n",
       " '/ebooks/2542',\n",
       " '/ebooks/76',\n",
       " '/ebooks/1952',\n",
       " '/ebooks/64317',\n",
       " '/ebooks/174',\n",
       " '/ebooks/1260',\n",
       " '/ebooks/1250',\n",
       " '/ebooks/160',\n",
       " '/ebooks/408',\n",
       " '/ebooks/43',\n",
       " '/ebooks/219',\n",
       " '/ebooks/46',\n",
       " '/ebooks/345',\n",
       " '/ebooks/1232',\n",
       " '/ebooks/23',\n",
       " '/ebooks/16',\n",
       " '/ebooks/205',\n",
       " '/ebooks/74',\n",
       " '/ebooks/16328',\n",
       " '/ebooks/2852',\n",
       " '/ebooks/1400',\n",
       " '/ebooks/1497',\n",
       " '/ebooks/57775',\n",
       " '/ebooks/6133',\n",
       " '/ebooks/55',\n",
       " '/ebooks/4300',\n",
       " '/ebooks/19942',\n",
       " '/ebooks/514',\n",
       " '/ebooks/2591',\n",
       " '/ebooks/2814',\n",
       " '/ebooks/158',\n",
       " '/ebooks/3207',\n",
       " '/ebooks/120',\n",
       " '/ebooks/2600',\n",
       " '/ebooks/215',\n",
       " '/ebooks/768',\n",
       " '/ebooks/42108',\n",
       " '/ebooks/1184',\n",
       " '/ebooks/45',\n",
       " '/ebooks/2554',\n",
       " '/ebooks/996',\n",
       " '/ebooks/5740',\n",
       " '/ebooks/244',\n",
       " '/ebooks/3825',\n",
       " '/ebooks/36',\n",
       " '/ebooks/58585',\n",
       " '/ebooks/203',\n",
       " '/ebooks/135',\n",
       " '/ebooks/6130',\n",
       " '/ebooks/3600',\n",
       " '/ebooks/1727',\n",
       " '/ebooks/902',\n",
       " '/ebooks/140',\n",
       " '/ebooks/829',\n",
       " '/ebooks/43453',\n",
       " '/ebooks/1001',\n",
       " '/ebooks/15399',\n",
       " '/ebooks/11030',\n",
       " '/ebooks/7370',\n",
       " '/ebooks/20203',\n",
       " '/ebooks/1998',\n",
       " '/ebooks/2500',\n",
       " '/ebooks/113',\n",
       " '/ebooks/35',\n",
       " '/ebooks/147',\n",
       " '/ebooks/25929',\n",
       " '/ebooks/766',\n",
       " '/ebooks/730',\n",
       " '/ebooks/863',\n",
       " '/ebooks/37134',\n",
       " '/ebooks/851',\n",
       " '/ebooks/105',\n",
       " '/ebooks/42324',\n",
       " '/ebooks/3090',\n",
       " '/ebooks/236',\n",
       " '/ebooks/30254',\n",
       " '/ebooks/376',\n",
       " '/ebooks/41',\n",
       " '/ebooks/209',\n",
       " '/ebooks/521',\n",
       " '/ebooks/8800',\n",
       " '/ebooks/161',\n",
       " '/ebooks/972',\n",
       " '/ebooks/779',\n",
       " '/ebooks/1934',\n",
       " '/ebooks/1399',\n",
       " '/ebooks/2148',\n",
       " '/ebooks/61',\n",
       " '/ebooks/4363',\n",
       " '/ebooks/1064',\n",
       " '#books-last1',\n",
       " '#authors-last1',\n",
       " '#books-last7',\n",
       " '#authors-last7',\n",
       " '#books-last30',\n",
       " '#authors-last30',\n",
       " '/browse/authors/d#a37',\n",
       " '/browse/authors/a#a68',\n",
       " '/browse/authors/s#a61',\n",
       " '/browse/authors/t#a53',\n",
       " '/browse/authors/d#a69',\n",
       " '/browse/authors/w#a111',\n",
       " '/browse/authors/c#a7',\n",
       " '/browse/authors/s#a326',\n",
       " '/browse/authors/s#a35',\n",
       " '/browse/authors/s#a65',\n",
       " '/browse/authors/h#a28',\n",
       " '/browse/authors/w#a30',\n",
       " '/browse/authors/m#a9',\n",
       " '/browse/authors/p#a93',\n",
       " '/browse/authors/j#a94',\n",
       " '/browse/authors/d#a314',\n",
       " '/browse/authors/i#a861',\n",
       " '/browse/authors/p#a481',\n",
       " '/browse/authors/k#a1735',\n",
       " '/browse/authors/t#a136',\n",
       " '/browse/authors/c#a125',\n",
       " '/browse/authors/n#a779',\n",
       " '/browse/authors/w#a1736',\n",
       " '/browse/authors/h#a705',\n",
       " '/browse/authors/l#a120',\n",
       " '/browse/authors/j#a1039',\n",
       " '/browse/authors/l#a1358',\n",
       " '/browse/authors/d#a507',\n",
       " '/browse/authors/b#a42',\n",
       " '/browse/authors/g#a2858',\n",
       " '/browse/authors/v#a60',\n",
       " '/browse/authors/f#a420',\n",
       " '/browse/authors/g#a27',\n",
       " '/browse/authors/j#a113',\n",
       " '/browse/authors/f#a2703',\n",
       " '/browse/authors/i#a31265',\n",
       " '/browse/authors/a#a31267',\n",
       " '/browse/authors/m#a36',\n",
       " '/browse/authors/b#a408',\n",
       " '/browse/authors/d#a1896',\n",
       " '/browse/authors/a#a102',\n",
       " '/browse/authors/d#a492',\n",
       " '/browse/authors/k#a132',\n",
       " '/browse/authors/d#a226',\n",
       " '/browse/authors/k#a37155',\n",
       " '/browse/authors/c#a708',\n",
       " '/browse/authors/b#a10',\n",
       " '/browse/authors/r#a2183',\n",
       " '/browse/authors/d#a204',\n",
       " '/browse/authors/t#a54',\n",
       " '/browse/authors/t#a9854',\n",
       " '/browse/authors/w#a104',\n",
       " '/browse/authors/l#a79',\n",
       " '/browse/authors/r#a572',\n",
       " '/browse/authors/c#a505',\n",
       " '/browse/authors/h#a85',\n",
       " '/browse/authors/s#a467',\n",
       " '/browse/authors/w#a1961',\n",
       " '/browse/authors/v#a913',\n",
       " '/browse/authors/g#a971',\n",
       " '/browse/authors/g#a972',\n",
       " '/browse/authors/c#a100',\n",
       " '/browse/authors/r#a355',\n",
       " '/browse/authors/l#a9473',\n",
       " '/browse/authors/c#a80',\n",
       " '/browse/authors/s#a190',\n",
       " '/browse/authors/m#a1355',\n",
       " '/browse/authors/b#a73',\n",
       " '/browse/authors/d#a34510',\n",
       " '/browse/authors/m#a563',\n",
       " '/browse/authors/p#a907',\n",
       " '/browse/authors/e#a90',\n",
       " '/browse/authors/m#a306',\n",
       " '/browse/authors/b#a48',\n",
       " '/browse/authors/c#a451',\n",
       " '/browse/authors/m#a500',\n",
       " '/browse/authors/m#a4589',\n",
       " '/browse/authors/m#a564',\n",
       " '/browse/authors/h#a23',\n",
       " '/browse/authors/p#a292',\n",
       " '/browse/authors/f#a92',\n",
       " '/browse/authors/g#a586',\n",
       " '/browse/authors/r#a2297',\n",
       " '/browse/authors/b#a251',\n",
       " '/browse/authors/b#a748',\n",
       " '/browse/authors/i#a34',\n",
       " '/browse/authors/h#a6638',\n",
       " '/browse/authors/s#a59',\n",
       " '/browse/authors/w#a783',\n",
       " '/browse/authors/c#a3622',\n",
       " '/browse/authors/m#a6950',\n",
       " '/browse/authors/o#a506',\n",
       " '/browse/authors/e#a25412',\n",
       " '/browse/authors/b#a206',\n",
       " '/browse/authors/b#a2296',\n",
       " '/browse/authors/h#a33608',\n",
       " '/browse/authors/b#a5446',\n",
       " '/browse/authors/d#a485',\n",
       " '/browse/authors/m#a1705',\n",
       " '/browse/authors/l#a16',\n",
       " '#books-last1',\n",
       " '#authors-last1',\n",
       " '#books-last7',\n",
       " '#authors-last7',\n",
       " '#books-last30',\n",
       " '#authors-last30',\n",
       " '/ebooks/84',\n",
       " '/ebooks/1342',\n",
       " '/ebooks/1080',\n",
       " '/ebooks/11',\n",
       " '/ebooks/46',\n",
       " '/ebooks/25344',\n",
       " '/ebooks/98',\n",
       " '/ebooks/2542',\n",
       " '/ebooks/1952',\n",
       " '/ebooks/5200',\n",
       " '/ebooks/844',\n",
       " '/ebooks/1661',\n",
       " '/ebooks/43',\n",
       " '/ebooks/1250',\n",
       " '/ebooks/2701',\n",
       " '/ebooks/76',\n",
       " '/ebooks/1260',\n",
       " '/ebooks/174',\n",
       " '/ebooks/219',\n",
       " '/ebooks/6133',\n",
       " '/ebooks/408',\n",
       " '/ebooks/16328',\n",
       " '/ebooks/160',\n",
       " '/ebooks/23',\n",
       " '/ebooks/74',\n",
       " '/ebooks/2852',\n",
       " '/ebooks/345',\n",
       " '/ebooks/1400',\n",
       " '/ebooks/205',\n",
       " '/ebooks/1232',\n",
       " '/ebooks/64317',\n",
       " '/ebooks/16',\n",
       " '/ebooks/120',\n",
       " '/ebooks/55',\n",
       " '/ebooks/1497',\n",
       " '/ebooks/2591',\n",
       " '/ebooks/215',\n",
       " '/ebooks/2814',\n",
       " '/ebooks/514',\n",
       " '/ebooks/4300',\n",
       " '/ebooks/158',\n",
       " '/ebooks/19942',\n",
       " '/ebooks/2600',\n",
       " '/ebooks/3207',\n",
       " '/ebooks/25482',\n",
       " '/ebooks/768',\n",
       " '/ebooks/3825',\n",
       " '/ebooks/45',\n",
       " '/ebooks/2554',\n",
       " '/ebooks/1184',\n",
       " '/ebooks/36',\n",
       " '/ebooks/244',\n",
       " '/ebooks/25929',\n",
       " '/ebooks/57775',\n",
       " '/ebooks/42108',\n",
       " '/ebooks/58585',\n",
       " '/ebooks/140',\n",
       " '/ebooks/902',\n",
       " '/ebooks/1727',\n",
       " '/ebooks/5740',\n",
       " '/ebooks/203',\n",
       " '/ebooks/996',\n",
       " '/ebooks/15399',\n",
       " '/ebooks/6130',\n",
       " '/ebooks/135',\n",
       " '/ebooks/829',\n",
       " '/ebooks/20203',\n",
       " '/ebooks/2500',\n",
       " '/ebooks/2097',\n",
       " '/ebooks/3600',\n",
       " '/ebooks/1934',\n",
       " '/ebooks/113',\n",
       " '/ebooks/35',\n",
       " '/ebooks/730',\n",
       " '/ebooks/4014',\n",
       " '/ebooks/1001',\n",
       " '/ebooks/851',\n",
       " '/ebooks/43453',\n",
       " '/ebooks/1998',\n",
       " '/ebooks/26184',\n",
       " '/ebooks/7370',\n",
       " '/ebooks/376',\n",
       " '/ebooks/4517',\n",
       " '/ebooks/863',\n",
       " '/ebooks/766',\n",
       " '/ebooks/11030',\n",
       " '/ebooks/236',\n",
       " '/ebooks/41',\n",
       " '/ebooks/37134',\n",
       " '/ebooks/42324',\n",
       " '/ebooks/147',\n",
       " '/ebooks/2148',\n",
       " '/ebooks/1064',\n",
       " '/ebooks/61',\n",
       " '/ebooks/209',\n",
       " '/ebooks/8800',\n",
       " '/ebooks/105',\n",
       " '/ebooks/521',\n",
       " '/ebooks/4363',\n",
       " '/ebooks/34901',\n",
       " '#books-last1',\n",
       " '#authors-last1',\n",
       " '#books-last7',\n",
       " '#authors-last7',\n",
       " '#books-last30',\n",
       " '#authors-last30',\n",
       " '/browse/authors/d#a37',\n",
       " '/browse/authors/a#a68',\n",
       " '/browse/authors/s#a61',\n",
       " '/browse/authors/t#a53',\n",
       " '/browse/authors/d#a69',\n",
       " '/browse/authors/w#a111',\n",
       " '/browse/authors/s#a35',\n",
       " '/browse/authors/s#a326',\n",
       " '/browse/authors/c#a7',\n",
       " '/browse/authors/s#a65',\n",
       " '/browse/authors/h#a28',\n",
       " '/browse/authors/w#a30',\n",
       " '/browse/authors/p#a93',\n",
       " '/browse/authors/l#a1358',\n",
       " '/browse/authors/i#a861',\n",
       " '/browse/authors/j#a94',\n",
       " '/browse/authors/p#a481',\n",
       " '/browse/authors/m#a9',\n",
       " '/browse/authors/d#a314',\n",
       " '/browse/authors/l#a9473',\n",
       " '/browse/authors/k#a1735',\n",
       " '/browse/authors/c#a125',\n",
       " '/browse/authors/g#a27',\n",
       " '/browse/authors/t#a136',\n",
       " '/browse/authors/h#a705',\n",
       " '/browse/authors/l#a120',\n",
       " '/browse/authors/j#a1039',\n",
       " '/browse/authors/w#a1736',\n",
       " '/browse/authors/n#a779',\n",
       " '/browse/authors/f#a2703',\n",
       " '/browse/authors/a#a31267',\n",
       " '/browse/authors/i#a31265',\n",
       " '/browse/authors/d#a507',\n",
       " '/browse/authors/b#a42',\n",
       " '/browse/authors/g#a2858',\n",
       " '/browse/authors/b#a408',\n",
       " '/browse/authors/d#a226',\n",
       " '/browse/authors/r#a572',\n",
       " '/browse/authors/j#a113',\n",
       " '/browse/authors/m#a36',\n",
       " '/browse/authors/k#a37155',\n",
       " '/browse/authors/t#a9854',\n",
       " '/browse/authors/d#a1896',\n",
       " '/browse/authors/k#a132',\n",
       " '/browse/authors/v#a60',\n",
       " '/browse/authors/d#a492',\n",
       " '/browse/authors/t#a54',\n",
       " '/browse/authors/a#a102',\n",
       " '/browse/authors/b#a10',\n",
       " '/browse/authors/d#a204',\n",
       " '/browse/authors/s#a467',\n",
       " '/browse/authors/w#a104',\n",
       " '/browse/authors/c#a708',\n",
       " '/browse/authors/f#a420',\n",
       " '/browse/authors/d#a34510',\n",
       " '/browse/authors/s#a190',\n",
       " '/browse/authors/r#a355',\n",
       " '/browse/authors/r#a2183',\n",
       " '/browse/authors/g#a972',\n",
       " '/browse/authors/g#a971',\n",
       " '/browse/authors/c#a100',\n",
       " '/browse/authors/b#a73',\n",
       " '/browse/authors/h#a6638',\n",
       " '/browse/authors/h#a85',\n",
       " '/browse/authors/l#a79',\n",
       " '/browse/authors/m#a563',\n",
       " '/browse/authors/v#a913',\n",
       " '/browse/authors/c#a80',\n",
       " '/browse/authors/m#a1355',\n",
       " '/browse/authors/c#a505',\n",
       " '/browse/authors/w#a1961',\n",
       " '/browse/authors/c#a451',\n",
       " '/browse/authors/p#a907',\n",
       " '/browse/authors/m#a564',\n",
       " '/browse/authors/f#a92',\n",
       " '/browse/authors/m#a500',\n",
       " '/browse/authors/m#a4589',\n",
       " '/browse/authors/b#a748',\n",
       " '/browse/authors/m#a306',\n",
       " '/browse/authors/g#a586',\n",
       " '/browse/authors/i#a34',\n",
       " '/browse/authors/p#a292',\n",
       " '/browse/authors/r#a44215',\n",
       " '/browse/authors/b#a206',\n",
       " '/browse/authors/c#a3622',\n",
       " '/browse/authors/b#a251',\n",
       " '/browse/authors/e#a90',\n",
       " '/browse/authors/r#a2297',\n",
       " '/browse/authors/b#a295',\n",
       " '/browse/authors/s#a59',\n",
       " '/browse/authors/w#a783',\n",
       " '/browse/authors/m#a1705',\n",
       " '/browse/authors/h#a23',\n",
       " '/browse/authors/h#a33608',\n",
       " '/browse/authors/o#a506',\n",
       " '/browse/authors/s#a88',\n",
       " '/browse/authors/h#a941',\n",
       " '/browse/authors/b#a48',\n",
       " '/browse/authors/b#a2296',\n",
       " '/browse/authors/s#a115',\n",
       " '#books-last1',\n",
       " '#authors-last1',\n",
       " '#books-last7',\n",
       " '#authors-last7',\n",
       " '#books-last30',\n",
       " '#authors-last30',\n",
       " '/policy/privacy_policy.html',\n",
       " '/about/',\n",
       " '/policy/terms_of_use.html',\n",
       " '/about/contact_information.html',\n",
       " '/help/',\n",
       " 'https://www.ibiblio.org/']"
      ]
     },
     "execution_count": 15,
     "metadata": {},
     "output_type": "execute_result"
    }
   ],
   "source": [
    "#Full print of tags\n",
    "lst_tags"
   ]
  },
  {
   "cell_type": "markdown",
   "metadata": {},
   "source": [
    "7. Use a regular expression to find the numeric digits in these links. These are the file numbers for the top 100 eBooks."
   ]
  },
  {
   "cell_type": "markdown",
   "metadata": {},
   "source": [
    "8. Initialize the empty list to hold the file numbers over an appropriate range and use regex to find the numeric digits in the link href string. Use the findall method."
   ]
  },
  {
   "cell_type": "code",
   "execution_count": 16,
   "metadata": {},
   "outputs": [],
   "source": [
    "#Empty list\n",
    "lst_book_num = []"
   ]
  },
  {
   "cell_type": "code",
   "execution_count": 19,
   "metadata": {},
   "outputs": [],
   "source": [
    "#Loop to find all the numbers and append to lst_book_num\n",
    "for i in range(33,133): #Counted the point at which ebooks start added a 100 to get range end\n",
    "    tags=lst_tags[i] \n",
    "    tags=tags.strip() #Remove all white space\n",
    "    n=re.findall('[0-9]+',tags) #Find all numbers using regex express\n",
    "    if len(n)==1:\n",
    "        lst_book_num.append(int(n[0])) #Append number to list"
   ]
  },
  {
   "cell_type": "code",
   "execution_count": 20,
   "metadata": {},
   "outputs": [
    {
     "name": "stdout",
     "output_type": "stream",
     "text": [
      "[1342, 84, 11, 1661, 2701, 98, 64596, 1080, 5200, 174, 1260, 1952, 844, 76, 64595, 25344, 57775, 46, 1497, 64317, 219, 345, 43, 2542, 1232, 160, 4300, 408, 6133, 74, 16, 64592, 2591, 2600, 1400, 16328, 1184, 55, 514, 2852, 3207, 205, 996, 42108, 135, 158, 58585, 36, 1250, 120, 768, 1998, 23, 5740, 45, 6130, 43453, 2814, 2554, 244, 64594, 19942, 829, 25929, 215, 203, 3600, 766, 1001, 1727, 902, 863, 64599, 30254, 32415, 27559, 7370, 3825, 105, 140, 730, 209, 113, 35, 20203, 972, 27509, 4363, 236, 3090, 8800, 147, 3296, 600, 2500, 15399, 521, 2680, 1399, 27827]\n"
     ]
    }
   ],
   "source": [
    "#COnfirm append worked\n",
    "print(lst_book_num)"
   ]
  },
  {
   "cell_type": "markdown",
   "metadata": {},
   "source": [
    "9. What does the soup object's text look like? Use the .text method and print only the first 2,000 characters (do not print the whole thing, as it is too long)."
   ]
  },
  {
   "cell_type": "code",
   "execution_count": 21,
   "metadata": {},
   "outputs": [
    {
     "name": "stdout",
     "output_type": "stream",
     "text": [
      "\n",
      "\n",
      "\n",
      "\n",
      "Top 100 | Project Gutenberg\n",
      "\n",
      "\n",
      "\n",
      "\n",
      "\n",
      "\n",
      "\n",
      "\n",
      "\n",
      "\n",
      "\n",
      "\n",
      "\n",
      "\n",
      "\n",
      "\n",
      "\n",
      "\n",
      "\n",
      "\n",
      "\n",
      "\n",
      "\n",
      "\n",
      "\n",
      "\n",
      "\n",
      "Menu▾\n",
      "\n",
      "\n",
      "\n",
      "About\n",
      "          ▾\n",
      "\n",
      "▾\n",
      "\n",
      "\n",
      "About Project Gutenberg\n",
      "Collection Development\n",
      "Contact Us\n",
      "History & Philosophy\n",
      "Permissions & License\n",
      "Privacy Policy\n",
      "Terms of Use\n",
      "\n",
      "\n",
      "\n",
      "Search and Browse\n",
      "      \t  ▾\n",
      "\n",
      "▾\n",
      "\n",
      "\n",
      "Book Search\n",
      "Bookshelves\n",
      "Frequently Downloaded\n",
      "Offline Catalogs\n",
      "\n",
      "\n",
      "\n",
      "Help\n",
      "          ▾\n",
      "\n",
      "▾\n",
      "\n",
      "\n",
      "All help topics →\n",
      "Copyright Procedures\n",
      "Errata, Fixes and Bug Reports\n",
      "File Formats\n",
      "Frequently Asked Questions\n",
      "Policies →\n",
      "Public Domain eBook Submission\n",
      "Submitting Your Own Work\n",
      "Tablets, Phones and eReaders\n",
      "The Attic →\n",
      "\n",
      "\n",
      "Donate\n",
      "\n",
      "\n",
      "\n",
      "\n",
      "\n",
      "\n",
      "\n",
      "\n",
      "\n",
      "\n",
      "Donation\n",
      "\n",
      "\n",
      "\n",
      "\n",
      "\n",
      "\n",
      "\n",
      "Frequently Viewed or Downloaded\n",
      "These listings are based on the number of times each eBook gets downloaded.\n",
      "      Multiple downloads from the same Internet address on the same day count as one download, and addresses that download more than 100 eBooks in a day are considered robots and are not counted.\n",
      "\n",
      "Downloaded Books\n",
      "2021-02-20178820\n",
      "last 7 days1394510\n",
      "last 30 days5788321\n",
      "\n",
      "\n",
      "\n",
      "Top 100 EBooks yesterday\n",
      "Top 100 Authors yesterday\n",
      "Top 100 EBooks last 7 days\n",
      "Top 100 Authors last 7 days\n",
      "Top 100 EBooks last 30 days\n",
      "Top 100 Authors last 30 days\n",
      "\n",
      "\n",
      "Top 100 EBooks yesterday\n",
      "\n",
      "Pride and Prejudice by Jane Austen (1537)\n",
      "Frankenstein; Or, The Modern Prometheus by Mary Wollstonecraft Shelley (1423)\n",
      "Alice's Adventures in Wonderland by Lewis Carroll (909)\n",
      "The Adventures of Sherlock Holmes by Arthur Conan Doyle (671)\n",
      "Moby Dick; Or, The Whale by Herman Melville (666)\n",
      "A Tale of Two Cities by Charles Dickens (658)\n",
      "The Star Beast by Damon Knight (633)\n",
      "A Modest Proposal by Jonathan Swift (620)\n",
      "Metamorphosis by Franz Kafka (565)\n",
      "The Picture of Dorian Gray by Oscar Wilde (487)\n",
      "Jane Eyre: An Autobiography by Charlotte Brontë (477)\n",
      "The Yellow Wallpaper by Charlotte Perkins Gilman (471)\n",
      "The Importance of Being Earnest: A Trivial Comedy for Serious People by Oscar Wilde (437)\n",
      "Adventures of Huckleberry Finn by Mark Twain (435)\n",
      "Animat by Basil Wells (409)\n",
      "The Scarlet Letter by Nathaniel Hawthorne (407)\n",
      "Le jardin\n"
     ]
    }
   ],
   "source": [
    "#Print the first 2000 characters\n",
    "print(soup.text[:2000])"
   ]
  },
  {
   "cell_type": "markdown",
   "metadata": {},
   "source": [
    "10.Search in the extracted text (using a regular expression) from the soup object to find the names of the top 100 eBooks (yesterday's ranking)."
   ]
  },
  {
   "cell_type": "markdown",
   "metadata": {},
   "source": [
    "11.Create a starting index. It should point at the text Top 100 Ebooks yesterday. Use the splitlines method of soup.text. It splits the lines of text of the soup object."
   ]
  },
  {
   "cell_type": "markdown",
   "metadata": {},
   "source": [
    "12. Loop 1-100 to add the strings of the next 100 lines to this temporary list. Hint: use the splitlines method."
   ]
  },
  {
   "cell_type": "code",
   "execution_count": 22,
   "metadata": {},
   "outputs": [],
   "source": [
    "#Index the top 100 Ebooks from yesterday\n",
    "lst_temp=[] #My temp list\n",
    "idx=soup.text.splitlines().index('Top 100 EBooks yesterday')\n",
    "for i in range(108):\n",
    "    lst_temp.append(soup.text.splitlines()[idx+2+i])\n"
   ]
  },
  {
   "cell_type": "markdown",
   "metadata": {},
   "source": [
    "13.Use a regular expression to extract only text from the name strings and append it to an empty list. Use match and span to find the indices and use them."
   ]
  },
  {
   "cell_type": "code",
   "execution_count": 23,
   "metadata": {},
   "outputs": [],
   "source": [
    "#Get titles and append them to list\n",
    "lst_titles=[] #Empty list\n",
    "for i in range(7,108): #Contain the range to between 7 and 108 for titles only\n",
    "    id1,id2=re.match('^[a-zA-Z ]*',lst_temp[i]).span() #Regex expression to find titles\n",
    "    lst_titles.append(lst_temp[i][id1:id2]) #Add titles to list"
   ]
  },
  {
   "cell_type": "code",
   "execution_count": 26,
   "metadata": {},
   "outputs": [
    {
     "data": {
      "text/plain": [
       "['',\n",
       " 'Pride and Prejudice by Jane Austen ',\n",
       " 'Frankenstein',\n",
       " 'Alice',\n",
       " 'The Adventures of Sherlock Holmes by Arthur Conan Doyle ',\n",
       " 'Moby Dick',\n",
       " 'A Tale of Two Cities by Charles Dickens ',\n",
       " 'The Star Beast by Damon Knight ',\n",
       " 'A Modest Proposal by Jonathan Swift ',\n",
       " 'Metamorphosis by Franz Kafka ',\n",
       " 'The Picture of Dorian Gray by Oscar Wilde ',\n",
       " 'Jane Eyre',\n",
       " 'The Yellow Wallpaper by Charlotte Perkins Gilman ',\n",
       " 'The Importance of Being Earnest',\n",
       " 'Adventures of Huckleberry Finn by Mark Twain ',\n",
       " 'Animat by Basil Wells ',\n",
       " 'The Scarlet Letter by Nathaniel Hawthorne ',\n",
       " 'Le jardin des supplices by Octave Mirbeau ',\n",
       " 'A Christmas Carol in Prose',\n",
       " 'The Republic by Plato ',\n",
       " 'The Great Gatsby by F',\n",
       " 'Heart of Darkness by Joseph Conrad ',\n",
       " 'Dracula by Bram Stoker ',\n",
       " 'The Strange Case of Dr',\n",
       " 'Et dukkehjem',\n",
       " 'Il Principe',\n",
       " 'The Awakening',\n",
       " 'Ulysses by James Joyce ',\n",
       " 'The Souls of Black Folk by W',\n",
       " 'Ars',\n",
       " 'The Adventures of Tom Sawyer',\n",
       " 'Peter Pan by J',\n",
       " 'Harper',\n",
       " 'Grimms',\n",
       " 'War and Peace by graf Leo Tolstoy ',\n",
       " 'Great Expectations by Charles Dickens ',\n",
       " 'Beowulf',\n",
       " 'The Count of Monte Cristo',\n",
       " 'The Wonderful Wizard of Oz by L',\n",
       " 'Little Women by Louisa May Alcott ',\n",
       " 'The Hound of the Baskervilles by Arthur Conan Doyle ',\n",
       " 'Leviathan by Thomas Hobbes ',\n",
       " 'Walden',\n",
       " 'Don Quixote by Miguel de Cervantes Saavedra ',\n",
       " 'The Slang Dictionary',\n",
       " 'Les Mis',\n",
       " 'Emma by Jane Austen ',\n",
       " 'The Prophet by Kahlil Gibran ',\n",
       " 'The War of the Worlds by H',\n",
       " 'Anthem by Ayn Rand ',\n",
       " 'Treasure Island by Robert Louis Stevenson ',\n",
       " 'Wuthering Heights by Emily Bront',\n",
       " 'Also sprach Zarathustra',\n",
       " 'Narrative of the Life of Frederick Douglass',\n",
       " 'Tractatus Logico',\n",
       " 'Anne of Green Gables by L',\n",
       " 'The Iliad by Homer ',\n",
       " 'A Pickle for the Knowing Ones by Timothy Dexter ',\n",
       " 'Dubliners by James Joyce ',\n",
       " 'Prestuplenie i nakazanie',\n",
       " 'A Study in Scarlet by Arthur Conan Doyle ',\n",
       " 'The Death of the Scharnhorst and other Poems by Arch Alfred McKillen ',\n",
       " 'Candide by Voltaire ',\n",
       " 'Gulliver',\n",
       " 'Daemonologie',\n",
       " 'The Call of the Wild by Jack London ',\n",
       " 'Uncle Tom',\n",
       " 'Essays of Michel de Montaigne ',\n",
       " 'David Copperfield by Charles Dickens ',\n",
       " 'Divine Comedy',\n",
       " 'The Odyssey by Homer ',\n",
       " 'The Happy Prince',\n",
       " 'The Mysterious Affair at Styles by Agatha Christie ',\n",
       " 'The Princess Casamassima by Henry James ',\n",
       " 'The Romance of Lust',\n",
       " 'The Nursery Rhymes of England ',\n",
       " 'The ',\n",
       " 'Second Treatise of Government by John Locke ',\n",
       " 'Pygmalion by Bernard Shaw ',\n",
       " 'Persuasion by Jane Austen ',\n",
       " 'The Jungle by Upton Sinclair ',\n",
       " 'Oliver Twist by Charles Dickens ',\n",
       " 'The Turn of the Screw by Henry James ',\n",
       " 'The Secret Garden by Frances Hodgson Burnett ',\n",
       " 'The Time Machine by H',\n",
       " 'Autobiography of Benjamin Franklin by Benjamin Franklin ',\n",
       " 'The Devil',\n",
       " 'The ',\n",
       " 'Beyond Good and Evil by Friedrich Wilhelm Nietzsche ',\n",
       " 'The Jungle Book by Rudyard Kipling ',\n",
       " 'Complete Original Short Stories of Guy De Maupassant by Guy de Maupassant ',\n",
       " 'An Index of The Divine Comedy by Dante by Dante Alighieri ',\n",
       " 'Common Sense by Thomas Paine ',\n",
       " 'The Confessions of St',\n",
       " 'Notes from the Underground by Fyodor Dostoyevsky ',\n",
       " 'Siddhartha by Hermann Hesse ',\n",
       " 'The Interesting Narrative of the Life of Olaudah Equiano',\n",
       " 'The Life and Adventures of Robinson Crusoe by Daniel Defoe ',\n",
       " 'Meditations by Emperor of Rome Marcus Aurelius ',\n",
       " 'Anna Karenina by graf Leo Tolstoy ',\n",
       " 'The Kama Sutra of Vatsyayana by Vatsyayana ']"
      ]
     },
     "execution_count": 26,
     "metadata": {},
     "output_type": "execute_result"
    }
   ],
   "source": [
    "#View the list\n",
    "lst_titles"
   ]
  },
  {
   "cell_type": "code",
   "execution_count": 27,
   "metadata": {},
   "outputs": [
    {
     "name": "stdout",
     "output_type": "stream",
     "text": [
      "\n",
      "Pride and Prejudice by Jane Austen \n",
      "Frankenstein\n",
      "Alice\n",
      "The Adventures of Sherlock Holmes by Arthur Conan Doyle \n",
      "Moby Dick\n",
      "A Tale of Two Cities by Charles Dickens \n",
      "The Star Beast by Damon Knight \n",
      "A Modest Proposal by Jonathan Swift \n",
      "Metamorphosis by Franz Kafka \n",
      "The Picture of Dorian Gray by Oscar Wilde \n",
      "Jane Eyre\n",
      "The Yellow Wallpaper by Charlotte Perkins Gilman \n",
      "The Importance of Being Earnest\n",
      "Adventures of Huckleberry Finn by Mark Twain \n",
      "Animat by Basil Wells \n",
      "The Scarlet Letter by Nathaniel Hawthorne \n",
      "Le jardin des supplices by Octave Mirbeau \n",
      "A Christmas Carol in Prose\n",
      "The Republic by Plato \n",
      "The Great Gatsby by F\n",
      "Heart of Darkness by Joseph Conrad \n",
      "Dracula by Bram Stoker \n",
      "The Strange Case of Dr\n",
      "Et dukkehjem\n",
      "Il Principe\n",
      "The Awakening\n",
      "Ulysses by James Joyce \n",
      "The Souls of Black Folk by W\n",
      "Ars\n",
      "The Adventures of Tom Sawyer\n",
      "Peter Pan by J\n",
      "Harper\n",
      "Grimms\n",
      "War and Peace by graf Leo Tolstoy \n",
      "Great Expectations by Charles Dickens \n",
      "Beowulf\n",
      "The Count of Monte Cristo\n",
      "The Wonderful Wizard of Oz by L\n",
      "Little Women by Louisa May Alcott \n",
      "The Hound of the Baskervilles by Arthur Conan Doyle \n",
      "Leviathan by Thomas Hobbes \n",
      "Walden\n",
      "Don Quixote by Miguel de Cervantes Saavedra \n",
      "The Slang Dictionary\n",
      "Les Mis\n",
      "Emma by Jane Austen \n",
      "The Prophet by Kahlil Gibran \n",
      "The War of the Worlds by H\n",
      "Anthem by Ayn Rand \n",
      "Treasure Island by Robert Louis Stevenson \n",
      "Wuthering Heights by Emily Bront\n",
      "Also sprach Zarathustra\n",
      "Narrative of the Life of Frederick Douglass\n",
      "Tractatus Logico\n",
      "Anne of Green Gables by L\n",
      "The Iliad by Homer \n",
      "A Pickle for the Knowing Ones by Timothy Dexter \n",
      "Dubliners by James Joyce \n",
      "Prestuplenie i nakazanie\n",
      "A Study in Scarlet by Arthur Conan Doyle \n",
      "The Death of the Scharnhorst and other Poems by Arch Alfred McKillen \n",
      "Candide by Voltaire \n",
      "Gulliver\n",
      "Daemonologie\n",
      "The Call of the Wild by Jack London \n",
      "Uncle Tom\n",
      "Essays of Michel de Montaigne \n",
      "David Copperfield by Charles Dickens \n",
      "Divine Comedy\n",
      "The Odyssey by Homer \n",
      "The Happy Prince\n",
      "The Mysterious Affair at Styles by Agatha Christie \n",
      "The Princess Casamassima by Henry James \n",
      "The Romance of Lust\n",
      "The Nursery Rhymes of England \n",
      "The \n",
      "Second Treatise of Government by John Locke \n",
      "Pygmalion by Bernard Shaw \n",
      "Persuasion by Jane Austen \n",
      "The Jungle by Upton Sinclair \n",
      "Oliver Twist by Charles Dickens \n",
      "The Turn of the Screw by Henry James \n",
      "The Secret Garden by Frances Hodgson Burnett \n",
      "The Time Machine by H\n",
      "Autobiography of Benjamin Franklin by Benjamin Franklin \n",
      "The Devil\n",
      "The \n",
      "Beyond Good and Evil by Friedrich Wilhelm Nietzsche \n",
      "The Jungle Book by Rudyard Kipling \n",
      "Complete Original Short Stories of Guy De Maupassant by Guy de Maupassant \n",
      "An Index of The Divine Comedy by Dante by Dante Alighieri \n",
      "Common Sense by Thomas Paine \n",
      "The Confessions of St\n",
      "Notes from the Underground by Fyodor Dostoyevsky \n",
      "Siddhartha by Hermann Hesse \n",
      "The Interesting Narrative of the Life of Olaudah Equiano\n",
      "The Life and Adventures of Robinson Crusoe by Daniel Defoe \n",
      "Meditations by Emperor of Rome Marcus Aurelius \n",
      "Anna Karenina by graf Leo Tolstoy \n",
      "The Kama Sutra of Vatsyayana by Vatsyayana \n"
     ]
    }
   ],
   "source": [
    "#Print the list to double check\n",
    "for l in lst_titles: #Loop to go through list for printing\n",
    "    print(l)"
   ]
  },
  {
   "cell_type": "markdown",
   "metadata": {},
   "source": [
    "# Exercise 2 Activity 10 :  "
   ]
  },
  {
   "cell_type": "markdown",
   "metadata": {},
   "source": [
    "1. Load libraries"
   ]
  },
  {
   "cell_type": "code",
   "execution_count": 28,
   "metadata": {},
   "outputs": [],
   "source": [
    "#Import Libraries\n",
    "import urllib.request as request, urllib.parse, urllib.error\n",
    "import json"
   ]
  },
  {
   "cell_type": "markdown",
   "metadata": {},
   "source": [
    "2. Load the secret API key (you have to get one from the OMDb website and use that; it has a daily limit of 1,000) from a JSON file stored in the same folder in a variable, by using json.loads."
   ]
  },
  {
   "cell_type": "markdown",
   "metadata": {},
   "source": [
    "3. Obtain a key and store it in JSON as APIkeys.json. - Done"
   ]
  },
  {
   "cell_type": "markdown",
   "metadata": {},
   "source": [
    "4. Open the APIkeys.json file."
   ]
  },
  {
   "cell_type": "code",
   "execution_count": 29,
   "metadata": {},
   "outputs": [],
   "source": [
    "#Open the API key file\n",
    "api_file = open('APIkeys.json',)\n",
    "keys = json.load(api_file)\n",
    "api_file.close()"
   ]
  },
  {
   "cell_type": "code",
   "execution_count": 30,
   "metadata": {},
   "outputs": [
    {
     "data": {
      "text/plain": [
       "{'OMDBapi': '7532548a'}"
      ]
     },
     "execution_count": 30,
     "metadata": {},
     "output_type": "execute_result"
    }
   ],
   "source": [
    "#Print API key from keys\n",
    "keys"
   ]
  },
  {
   "cell_type": "markdown",
   "metadata": {},
   "source": [
    "5. Assign the OMDb portal (http://www.omdbapi.com/?) as a string to a variable."
   ]
  },
  {
   "cell_type": "code",
   "execution_count": 31,
   "metadata": {},
   "outputs": [],
   "source": [
    "#Assign url to variable\n",
    "base_url = 'http://www.omdbapi.com/?'"
   ]
  },
  {
   "cell_type": "markdown",
   "metadata": {},
   "source": [
    "6. Create a variable called apikey with the last portion of the URL (&apikey=secretapikey), where secretapikey is your own API key."
   ]
  },
  {
   "cell_type": "code",
   "execution_count": 32,
   "metadata": {},
   "outputs": [],
   "source": [
    "#Variable with API key\n",
    "apikey = 'apikey=7532548a'"
   ]
  },
  {
   "cell_type": "code",
   "execution_count": 33,
   "metadata": {},
   "outputs": [
    {
     "data": {
      "text/plain": [
       "{'Title': 'Titanic',\n",
       " 'Year': '1997',\n",
       " 'Rated': 'PG-13',\n",
       " 'Released': '19 Dec 1997',\n",
       " 'Runtime': '194 min',\n",
       " 'Genre': 'Drama, Romance',\n",
       " 'Director': 'James Cameron',\n",
       " 'Writer': 'James Cameron',\n",
       " 'Actors': 'Leonardo DiCaprio, Kate Winslet, Billy Zane, Kathy Bates',\n",
       " 'Plot': 'A seventeen-year-old aristocrat falls in love with a kind but poor artist aboard the luxurious, ill-fated R.M.S. Titanic.',\n",
       " 'Language': 'English, Swedish, Italian, French',\n",
       " 'Country': 'USA, Mexico',\n",
       " 'Awards': 'Won 11 Oscars. Another 112 wins & 83 nominations.',\n",
       " 'Poster': 'https://m.media-amazon.com/images/M/MV5BMDdmZGU3NDQtY2E5My00ZTliLWIzOTUtMTY4ZGI1YjdiNjk3XkEyXkFqcGdeQXVyNTA4NzY1MzY@._V1_SX300.jpg',\n",
       " 'Ratings': [{'Source': 'Internet Movie Database', 'Value': '7.8/10'},\n",
       "  {'Source': 'Rotten Tomatoes', 'Value': '89%'},\n",
       "  {'Source': 'Metacritic', 'Value': '75/100'}],\n",
       " 'Metascore': '75',\n",
       " 'imdbRating': '7.8',\n",
       " 'imdbVotes': '1,048,704',\n",
       " 'imdbID': 'tt0120338',\n",
       " 'Type': 'movie',\n",
       " 'DVD': 'N/A',\n",
       " 'BoxOffice': '$659,363,944',\n",
       " 'Production': '20th Century Fox, Lightstorm Entertainment, Paramount Pictures',\n",
       " 'Website': 'N/A',\n",
       " 'Response': 'True'}"
      ]
     },
     "execution_count": 33,
     "metadata": {},
     "output_type": "execute_result"
    }
   ],
   "source": [
    "#Use the url to call the API and close it with a 'with' statement\n",
    "\n",
    "with request.urlopen(base_url+apikey+'&t=titanic') as response:\n",
    "    source = response.read()\n",
    "    data = json.loads(source)\n",
    "\n",
    "#Print the data returned\n",
    "data"
   ]
  },
  {
   "cell_type": "code",
   "execution_count": 39,
   "metadata": {},
   "outputs": [
    {
     "data": {
      "text/plain": [
       "{'Title': 'The Avengers',\n",
       " 'Year': '2012',\n",
       " 'Rated': 'PG-13',\n",
       " 'Released': '04 May 2012',\n",
       " 'Runtime': '143 min',\n",
       " 'Genre': 'Action, Adventure, Sci-Fi',\n",
       " 'Director': 'Joss Whedon',\n",
       " 'Writer': 'Joss Whedon (screenplay), Zak Penn (story), Joss Whedon (story)',\n",
       " 'Actors': 'Robert Downey Jr., Chris Evans, Mark Ruffalo, Chris Hemsworth',\n",
       " 'Plot': \"Earth's mightiest heroes must come together and learn to fight as a team if they are going to stop the mischievous Loki and his alien army from enslaving humanity.\",\n",
       " 'Language': 'English, Russian, Hindi',\n",
       " 'Country': 'USA',\n",
       " 'Awards': 'Nominated for 1 Oscar. Another 38 wins & 79 nominations.',\n",
       " 'Poster': 'https://m.media-amazon.com/images/M/MV5BNDYxNjQyMjAtNTdiOS00NGYwLWFmNTAtNThmYjU5ZGI2YTI1XkEyXkFqcGdeQXVyMTMxODk2OTU@._V1_SX300.jpg',\n",
       " 'Ratings': [{'Source': 'Internet Movie Database', 'Value': '8.0/10'},\n",
       "  {'Source': 'Rotten Tomatoes', 'Value': '91%'},\n",
       "  {'Source': 'Metacritic', 'Value': '69/100'}],\n",
       " 'Metascore': '69',\n",
       " 'imdbRating': '8.0',\n",
       " 'imdbVotes': '1,263,208',\n",
       " 'imdbID': 'tt0848228',\n",
       " 'Type': 'movie',\n",
       " 'DVD': 'N/A',\n",
       " 'BoxOffice': '$623,357,910',\n",
       " 'Production': 'Marvel Studios',\n",
       " 'Website': 'N/A',\n",
       " 'Response': 'True'}"
      ]
     },
     "execution_count": 39,
     "metadata": {},
     "output_type": "execute_result"
    }
   ],
   "source": [
    "#Double checking the call with a different movie\n",
    "with request.urlopen(base_url+apikey+'&t=Avengers') as response:\n",
    "    source = response.read()\n",
    "    data = json.loads(source)\n",
    "\n",
    "#Print the data returned\n",
    "data\n"
   ]
  },
  {
   "cell_type": "markdown",
   "metadata": {},
   "source": [
    "7. Write a utility function called print_json to print the movie data from a JSON file (which we will get from the portal)."
   ]
  },
  {
   "cell_type": "code",
   "execution_count": 40,
   "metadata": {},
   "outputs": [],
   "source": [
    "#Function to print the json data\n",
    "def print_json(data):\n",
    "    lst_movie_data=['Title', 'Year', 'Rated', 'Released', 'Runtime', 'Genre', 'Director', 'Writer','Actors', 'Plot',\n",
    "               'Language', 'Country', 'Awards', 'Poster','Ratings','Metascore', 'imdbRating', 'imdbVotes', 'imdbID',\n",
    "              'Type','DVD','BoxOffice','Production','Website','Response'] #List to hold printable data.\n",
    "    for d in lst_movie_data: #Found in list\n",
    "        if d in list(data.keys()): #Condition if in list print it\n",
    "            print(f'{d}: {data[d]}') #Print matches"
   ]
  },
  {
   "cell_type": "markdown",
   "metadata": {},
   "source": [
    "8. Write a utility function to download a poster of the movie based on the information from the JSON dataset and save it in your local folder. Use the os module. The poster data is stored in the JSON key Poster. Use the Python command to open a file and write the poster data. Close the file after you're done. This function will save the poster data as an image file."
   ]
  },
  {
   "cell_type": "code",
   "execution_count": 41,
   "metadata": {},
   "outputs": [],
   "source": [
    "#Import os library\n",
    "import os\n",
    "from IPython.display import Image, display #Display the image that has been pulled down to local"
   ]
  },
  {
   "cell_type": "code",
   "execution_count": 45,
   "metadata": {},
   "outputs": [],
   "source": [
    "#Downloading the poster to local\n",
    "def my_poster(data):\n",
    "    title = data['Title']\n",
    "    poster_url = data['Poster']\n",
    "    poster_file_extension=poster_url.split('.')[-1] #Split the poster url\n",
    "    movie_poster = urllib.request.urlopen(poster_url).read() #Reads image from web\n",
    "    loc=os.getcwd()+'\\\\'+'Posters'+'\\\\' #Add poster name\n",
    "    if not os.path.isdir(loc): #Check if director is present\n",
    "        os.mkdir(loc) #Creates new directory if needed\n",
    "    filename=loc+str(title)+'.'+poster_file_extension #File location of poster\n",
    "    file=open(filename,'wb') #Open the file\n",
    "    file.write(movie_poster) #Write the file\n",
    "    file.close() #Close the file\n",
    "    display(Image(filename=filename)) #Display the file in Notebooks"
   ]
  },
  {
   "cell_type": "markdown",
   "metadata": {},
   "source": [
    "9. Write a utility function called search_movie to search for a movie by its name, print the downloaded JSON data, and save the movie poster in the local folder. Use a try-except loop for this. Use the previously created serviceurl and apikey variables. You have to pass on a dictionary with a key, t, and the movie name as the corresponding value to the urllib.parse.urlencode() function and then add the serviceurl and apikey to the output of the function to construct the full URL. This URL will be used to access the data. The JSON data has a key called Response. If it is True, that means the read was successful. Check this before processing the data. If it's not successful, then print the JSON key Error, which will contain the appropriate error message returned by the movie database."
   ]
  },
  {
   "cell_type": "code",
   "execution_count": 43,
   "metadata": {},
   "outputs": [],
   "source": [
    "#Function to look for the movie\n",
    "def search_movie(movie):\n",
    "    try: #Try block\n",
    "        url_now = base_url+apikey+'&'+urllib.parse.urlencode({'t':(movie)}) #URL to find movie\n",
    "        print(f'Hold on I am getting you '+movie+ ' now...\\n') #Let user know we are looking\n",
    "        print(url_now) #Print the full url\n",
    "        with request.urlopen(url_now) as response: #Call the API\n",
    "            source = response.read() #Read the information\n",
    "            data = json.loads(source) #Load it to data\n",
    "        if data['Response']=='True': #Reponse is true\n",
    "            print_json(data) #Call print_json function\n",
    "            if data['Poster']!='N/A': #If poster is not N/A call the poster function\n",
    "                my_poster(data) #Call my_poster function\n",
    "            else:\n",
    "                print('Error encountered: ',data['Error']) #Report error\n",
    "        else:\n",
    "            print('Error encountered:',data ['Error']) #If response is not true print error\n",
    "    except urllib.error.URLError as e: #End the Try block\n",
    "        print(f'ERROR: {e.reason}') #Print the error for the try block\n",
    "        "
   ]
  },
  {
   "cell_type": "markdown",
   "metadata": {},
   "source": [
    "10. Test the search_movie function by entering Titanic."
   ]
  },
  {
   "cell_type": "code",
   "execution_count": 46,
   "metadata": {},
   "outputs": [
    {
     "name": "stdout",
     "output_type": "stream",
     "text": [
      "What movie do you want a poster for? Space Sweepers\n",
      "Hold on I am getting you Space Sweepers now...\n",
      "\n",
      "http://www.omdbapi.com/?apikey=7532548a&t=Space+Sweepers\n",
      "Title: Space Sweepers\n",
      "Year: 2021\n",
      "Rated: TV-MA\n",
      "Released: 05 Feb 2021\n",
      "Runtime: 136 min\n",
      "Genre: Action, Adventure, Drama, Fantasy, Sci-Fi\n",
      "Director: Sung-hee Jo\n",
      "Writer: N/A\n",
      "Actors: Song Joong-Ki, Kim Tae-ri, Seon-kyu Jin, Hae-Jin Yoo\n",
      "Plot: Set in the year 2092 and follows the crew of a space junk collector ship called The Victory. When they discover a humanoid robot named Dorothy that's known to be a weapon of mass destruction, they get involved in a risky business deal.\n",
      "Language: Korean, English\n",
      "Country: South Korea\n",
      "Awards: N/A\n",
      "Poster: https://m.media-amazon.com/images/M/MV5BZTUxN2M3ZWYtMzc1MC00NTc4LWFhZDItMzViZDg2NmFjMzBhXkEyXkFqcGdeQXVyMTMxODk2OTU@._V1_SX300.jpg\n",
      "Ratings: [{'Source': 'Internet Movie Database', 'Value': '6.6/10'}]\n",
      "Metascore: N/A\n",
      "imdbRating: 6.6\n",
      "imdbVotes: 6,602\n",
      "imdbID: tt12838766\n",
      "Type: movie\n",
      "DVD: N/A\n",
      "BoxOffice: N/A\n",
      "Production: N/A\n",
      "Website: N/A\n",
      "Response: True\n"
     ]
    },
    {
     "data": {
      "image/jpeg": "[encoded data removed]",
      "text/plain": [
       "<IPython.core.display.Image object>"
      ]
     },
     "metadata": {},
     "output_type": "display_data"
    }
   ],
   "source": [
    "#Ask the user for input\n",
    "\n",
    "movie = input('What movie do you want a poster for? ')\n",
    "search_movie(movie) #Call function to find the movie\n",
    "\n",
    "#search_movie('Space Sweepers') #For testing\n",
    "\n"
   ]
  },
  {
   "cell_type": "code",
   "execution_count": 47,
   "metadata": {},
   "outputs": [
    {
     "name": "stdout",
     "output_type": "stream",
     "text": [
      "What movie do you want a poster for? Gone in 60 seconds\n",
      "Hold on I am getting you Gone in 60 seconds now...\n",
      "\n",
      "http://www.omdbapi.com/?apikey=7532548a&t=Gone+in+60+seconds\n",
      "Title: Gone in 60 Seconds\n",
      "Year: 2000\n",
      "Rated: PG-13\n",
      "Released: 09 Jun 2000\n",
      "Runtime: 118 min\n",
      "Genre: Action, Crime, Thriller\n",
      "Director: Dominic Sena\n",
      "Writer: H.B. Halicki, Scott Rosenberg (screenplay)\n",
      "Actors: Nicolas Cage, Giovanni Ribisi, Angelina Jolie, T.J. Cross\n",
      "Plot: A retired master car thief must come back to the industry and steal fifty cars with his crew in one night to save his brother's life.\n",
      "Language: English\n",
      "Country: USA\n",
      "Awards: 9 wins & 6 nominations.\n",
      "Poster: https://m.media-amazon.com/images/M/MV5BMTIwMzExNDEwN15BMl5BanBnXkFtZTYwODMxMzg2._V1_SX300.jpg\n",
      "Ratings: [{'Source': 'Internet Movie Database', 'Value': '6.5/10'}, {'Source': 'Rotten Tomatoes', 'Value': '26%'}, {'Source': 'Metacritic', 'Value': '35/100'}]\n",
      "Metascore: 35\n",
      "imdbRating: 6.5\n",
      "imdbVotes: 260,789\n",
      "imdbID: tt0187078\n",
      "Type: movie\n",
      "DVD: N/A\n",
      "BoxOffice: $101,648,571\n",
      "Production: Touchstone Pictures, Jerry Bruckheimer Films\n",
      "Website: N/A\n",
      "Response: True\n"
     ]
    },
    {
     "data": {
      "image/jpeg": "[encoded data removed]",
      "text/plain": [
       "<IPython.core.display.Image object>"
      ]
     },
     "metadata": {},
     "output_type": "display_data"
    }
   ],
   "source": [
    "#Try is again\n",
    "movie = input('What movie do you want a poster for? ')\n",
    "search_movie(movie)"
   ]
  },
  {
   "cell_type": "code",
   "execution_count": 51,
   "metadata": {},
   "outputs": [
    {
     "name": "stdout",
     "output_type": "stream",
     "text": [
      "What movie do you want a poster for? 2Fast2Furious\n",
      "Hold on I am getting you 2Fast2Furious now...\n",
      "\n",
      "http://www.omdbapi.com/?apikey=7532548a&t=2Fast2Furious\n",
      "Error encountered: Movie not found!\n"
     ]
    }
   ],
   "source": [
    "#One more time\n",
    "movie = input('What movie do you want a poster for? ')\n",
    "search_movie(movie)"
   ]
  },
  {
   "cell_type": "code",
   "execution_count": 53,
   "metadata": {},
   "outputs": [
    {
     "name": "stdout",
     "output_type": "stream",
     "text": [
      "What movie do you want a poster for? 2 Fast 2 Furious\n",
      "Hold on I am getting you 2 Fast 2 Furious now...\n",
      "\n",
      "http://www.omdbapi.com/?apikey=7532548a&t=2+Fast+2+Furious\n",
      "Title: 2 Fast 2 Furious\n",
      "Year: 2003\n",
      "Rated: PG-13\n",
      "Released: 06 Jun 2003\n",
      "Runtime: 107 min\n",
      "Genre: Action, Crime, Thriller\n",
      "Director: John Singleton\n",
      "Writer: Gary Scott Thompson (characters), Michael Brandt (story), Derek Haas (story), Gary Scott Thompson (story), Michael Brandt (screenplay), Derek Haas (screenplay)\n",
      "Actors: Paul Walker, Tyrese Gibson, Eva Mendes, Cole Hauser\n",
      "Plot: Former cop Brian O'Conner is called upon to bust a dangerous criminal and he recruits the help of a former childhood friend and street racer who has a chance to redeem himself.\n",
      "Language: English, Spanish\n",
      "Country: USA, Germany\n",
      "Awards: 4 wins & 13 nominations.\n",
      "Poster: https://m.media-amazon.com/images/M/MV5BMzExYjcyYWMtY2JkOC00NDUwLTg2OTgtMDI3MGY2OWQzMDE2XkEyXkFqcGdeQXVyMTQxNzMzNDI@._V1_SX300.jpg\n",
      "Ratings: [{'Source': 'Internet Movie Database', 'Value': '5.9/10'}, {'Source': 'Rotten Tomatoes', 'Value': '36%'}, {'Source': 'Metacritic', 'Value': '38/100'}]\n",
      "Metascore: 38\n",
      "imdbRating: 5.9\n",
      "imdbVotes: 251,726\n",
      "imdbID: tt0322259\n",
      "Type: movie\n",
      "DVD: N/A\n",
      "BoxOffice: $127,154,901\n",
      "Production: Universal/Universal Int\n",
      "Website: N/A\n",
      "Response: True\n"
     ]
    },
    {
     "data": {
      "image/jpeg": "[encoded data removed]",
      "text/plain": [
       "<IPython.core.display.Image object>"
      ]
     },
     "metadata": {},
     "output_type": "display_data"
    }
   ],
   "source": [
    "#The right way\n",
    "movie = input('What movie do you want a poster for? ')\n",
    "search_movie(movie)"
   ]
  },
  {
   "cell_type": "markdown",
   "metadata": {},
   "source": [
    "11. Test the search_movie function by entering \"Random_error\" (obviously, this will not be found, and you should be able to check whether your error catching code is working properly).\n"
   ]
  },
  {
   "cell_type": "code",
   "execution_count": 54,
   "metadata": {},
   "outputs": [
    {
     "name": "stdout",
     "output_type": "stream",
     "text": [
      "Hold on I am getting you Random_error now...\n",
      "\n",
      "http://www.omdbapi.com/?apikey=7532548a&t=Random_error\n",
      "Error encountered: Movie not found!\n"
     ]
    }
   ],
   "source": [
    "#movie = input('What movie do you want a poster for? ')\n",
    "search_movie('Random_error')"
   ]
  },
  {
   "cell_type": "markdown",
   "metadata": {},
   "source": [
    "# Exercise 3: Connect to Twitter API and do a simple data pull:"
   ]
  },
  {
   "cell_type": "code",
   "execution_count": 1,
   "metadata": {},
   "outputs": [],
   "source": [
    "#Import Twitter Library\n",
    "import twitter"
   ]
  },
  {
   "cell_type": "code",
   "execution_count": 4,
   "metadata": {},
   "outputs": [],
   "source": [
    "#Load my keys\n",
    "api = twitter.Api(consumer_key= 'Z73l5WzyFFZtCCrTOLC',\n",
    "                  consumer_secret='yOjtfbsEQPL4MKqVRAKx6chnflJLbdgm9hhd9iwe',\n",
    "                  access_token_key='1361357611497447425-d2xanlXEmRZIe6',\n",
    "                  access_token_secret='6duIm4zB8V1xOHv04268qamE9bgwwRzEoi') \n",
    "#Keys have been alter due to seurity and will not work"
   ]
  },
  {
   "cell_type": "code",
   "execution_count": 5,
   "metadata": {},
   "outputs": [
    {
     "name": "stdout",
     "output_type": "stream",
     "text": [
      "{\"created_at\": \"Mon Feb 15 16:53:23 +0000 2021\", \"default_profile\": true, \"default_profile_image\": true, \"description\": \"Just a squirrel trying to get my nut in the world.\", \"friends_count\": 8, \"id\": 1361357611497447425, \"id_str\": \"1361357611497447425\", \"name\": \"Tushar M\", \"profile_background_color\": \"F5F8FA\", \"profile_image_url\": \"http://abs.twimg.com/sticky/default_profile_images/default_profile_normal.png\", \"profile_image_url_https\": \"https://abs.twimg.com/sticky/default_profile_images/default_profile_normal.png\", \"profile_link_color\": \"1DA1F2\", \"profile_sidebar_border_color\": \"C0DEED\", \"profile_sidebar_fill_color\": \"DDEEF6\", \"profile_text_color\": \"333333\", \"profile_use_background_image\": true, \"screen_name\": \"TusharM75238677\"}\n"
     ]
    }
   ],
   "source": [
    "#Verify Credentials\n",
    "\n",
    "print(api.VerifyCredentials())"
   ]
  },
  {
   "cell_type": "code",
   "execution_count": 6,
   "metadata": {},
   "outputs": [
    {
     "name": "stdout",
     "output_type": "stream",
     "text": [
      "['John Cena', 'A Late Show', 'Mark Ruffalo', 'Arizona State Sun Devils', 'Stephen Colbert', 'Neil deGrasse Tyson', 'jimmy fallon', 'Jimmy Kimmel']\n"
     ]
    }
   ],
   "source": [
    "#Get friends I am following\n",
    "users = api.GetFriends() #Set variable users\n",
    "print([u.name for u in users])"
   ]
  },
  {
   "cell_type": "code",
   "execution_count": 8,
   "metadata": {},
   "outputs": [
    {
     "data": {
      "text/plain": [
       "[Status(ID=1361898030790823936, ScreenName=MarkMachacek5, Created=Wed Feb 17 04:39:28 +0000 2021, Text='RT @BUBruins: To all those in Bruin Nation:\\n\\nCheck out https://t.co/x3PK3xaoHh tomorrow at 8 a.m. for an exciting reveal by the Bellevue Un…'),\n",
       " Status(ID=1361833927451754496, ScreenName=Cheyenneisback_, Created=Wed Feb 17 00:24:44 +0000 2021, Text='RT @BUBruins: To all those in Bruin Nation:\\n\\nCheck out https://t.co/x3PK3xaoHh tomorrow at 8 a.m. for an exciting reveal by the Bellevue Un…'),\n",
       " Status(ID=1361813727591415810, ScreenName=thinmanx11, Created=Tue Feb 16 23:04:28 +0000 2021, Text='RT @BUBruins: To all those in Bruin Nation:\\n\\nCheck out https://t.co/x3PK3xaoHh tomorrow at 8 a.m. for an exciting reveal by the Bellevue Un…'),\n",
       " Status(ID=1361791841541238785, ScreenName=BillMullinsSID, Created=Tue Feb 16 21:37:30 +0000 2021, Text='RT @BUBruins: To all those in Bruin Nation:\\n\\nCheck out https://t.co/x3PK3xaoHh tomorrow at 8 a.m. for an exciting reveal by the Bellevue Un…'),\n",
       " Status(ID=1361791701296160771, ScreenName=BUBruins, Created=Tue Feb 16 21:36:57 +0000 2021, Text='To all those in Bruin Nation:\\n\\nCheck out https://t.co/x3PK3xaoHh tomorrow at 8 a.m. for an exciting reveal by the B… https://t.co/L2UBRHf34n'),\n",
       " Status(ID=1361769674959069187, ScreenName=JeffBoyles6, Created=Tue Feb 16 20:09:25 +0000 2021, Text='@Softykjr Troll. Well Bellevue grad it is Washington STATE University. Check it out WSU is state wide. You did learn about maps?'),\n",
       " Status(ID=1361702609250312192, ScreenName=central_may, Created=Tue Feb 16 15:42:55 +0000 2021, Text='Interested in transferring to Bellevue University after completing your Associates degree at CCC?\\nYou should talk w… https://t.co/UbQ1yprj3X'),\n",
       " Status(ID=1361491452530892802, ScreenName=ddisontreesh, Created=Tue Feb 16 01:43:52 +0000 2021, Text=\"RT @dsubluehawks: Men's Basketball: Dickinson State upsets Bellevue University in final seconds of the game\\n - https://t.co/ymQKFJXZUB http…\"),\n",
       " Status(ID=1361489441299267589, ScreenName=PlayNorthStar, Created=Tue Feb 16 01:35:52 +0000 2021, Text=\"Men's Basketball: Dickinson State upsets Bellevue University in final seconds of the game\\n - https://t.co/cocZDEi7SQ https://t.co/x0V74OpMtt\"),\n",
       " Status(ID=1361437799941988352, ScreenName=malcohm_hill24, Created=Mon Feb 15 22:10:40 +0000 2021, Text=\"RT @dsubluehawks: Men's Basketball: Dickinson State upsets Bellevue University in final seconds of the game\\n - https://t.co/ymQKFJXZUB http…\"),\n",
       " Status(ID=1361402576256724992, ScreenName=JorgeX2387, Created=Mon Feb 15 19:50:42 +0000 2021, Text='@Ty_Bundy moving to Omaha this summer to attend Bellevue University, are there any apartments that offer discounts to students?'),\n",
       " Status(ID=1361380623722627073, ScreenName=_Swaggy_J_, Created=Mon Feb 15 18:23:28 +0000 2021, Text=\"RT @dsubluehawks: Men's Basketball: Dickinson State upsets Bellevue University in final seconds of the game\\n - https://t.co/ymQKFJXZUB http…\"),\n",
       " Status(ID=1361378665054011393, ScreenName=BlueHawkVB, Created=Mon Feb 15 18:15:41 +0000 2021, Text=\"RT @dsubluehawks: Men's Basketball: Dickinson State upsets Bellevue University in final seconds of the game\\n - https://t.co/ymQKFJXZUB http…\"),\n",
       " Status(ID=1361377877095284738, ScreenName=dsubluehawks, Created=Mon Feb 15 18:12:33 +0000 2021, Text=\"Men's Basketball: Dickinson State upsets Bellevue University in final seconds of the game\\n - https://t.co/ymQKFJXZUB https://t.co/5HXvG4s2la\"),\n",
       " Status(ID=1361330165293469699, ScreenName=lscuclibrary, Created=Mon Feb 15 15:02:58 +0000 2021, Text='Bellevue University Degree Programs at LSC-University Center #lscuc #studentsuccess https://t.co/3gIf6YbB3m https://t.co/WHzOxZm7kB'),\n",
       " Status(ID=1360823864901595137, ScreenName=johne4125, Created=Sun Feb 14 05:31:06 +0000 2021, Text=\"RT @dsubluehawks: Men's Basketball - Won 67-65 over Bellevue University\"),\n",
       " Status(ID=1360769963578056708, ScreenName=SheridanShali, Created=Sun Feb 14 01:56:55 +0000 2021, Text=\"RT @dsubluehawks: Men's Basketball - Won 67-65 over Bellevue University\"),\n",
       " Status(ID=1360767046779240451, ScreenName=TheRealJakePom, Created=Sun Feb 14 01:45:20 +0000 2021, Text=\"RT @dsubluehawks: Men's Basketball - Won 67-65 over Bellevue University\"),\n",
       " Status(ID=1360763593210347526, ScreenName=dsubluehawks, Created=Sun Feb 14 01:31:37 +0000 2021, Text=\"Men's Basketball - Won 67-65 over Bellevue University\"),\n",
       " Status(ID=1360752104466505731, ScreenName=dsubluehawks, Created=Sun Feb 14 00:45:57 +0000 2021, Text='Men’s basketball- leads Bellevue University 29-27 (halftime)'),\n",
       " Status(ID=1360748930414374912, ScreenName=SundbergPaige, Created=Sun Feb 14 00:33:21 +0000 2021, Text='RT @lauren2636: After a great visit yesterday, I’m excited to announce that I have received my first volleyball offer at Bellevue Universit…'),\n",
       " Status(ID=1360740759511719938, ScreenName=thinmanx11, Created=Sun Feb 14 00:00:53 +0000 2021, Text='RT @lauren2636: After a great visit yesterday, I’m excited to announce that I have received my first volleyball offer at Bellevue Universit…'),\n",
       " Status(ID=1360731981357662213, ScreenName=dsubluehawks, Created=Sat Feb 13 23:26:00 +0000 2021, Text='Women’s basketball- Lost 46-67 to Bellevue University (final)'),\n",
       " Status(ID=1360720684742230016, ScreenName=liv_galas, Created=Sat Feb 13 22:41:06 +0000 2021, Text='RT @lauren2636: After a great visit yesterday, I’m excited to announce that I have received my first volleyball offer at Bellevue Universit…'),\n",
       " Status(ID=1360719645960007682, ScreenName=dsubluehawks, Created=Sat Feb 13 22:36:59 +0000 2021, Text='Women’s Basketball- Dickinson State trails Bellevue University, 21-31 (halftime)')]"
      ]
     },
     "execution_count": 8,
     "metadata": {},
     "output_type": "execute_result"
    }
   ],
   "source": [
    "#Get searches for Bellevue University\n",
    "\n",
    "api.GetSearch(term='Bellevue University', since=2019-1-1, count=25)"
   ]
  },
  {
   "cell_type": "code",
   "execution_count": 9,
   "metadata": {},
   "outputs": [
    {
     "data": {
      "text/plain": [
       "[Status(ID=1362171058162401283, ScreenName=SenatorRomney, Created=Wed Feb 17 22:44:22 +0000 2021, Text='The data is in: schools are not superspreaders. Science, not the teachers unions, should guide the timetable for op… https://t.co/frvSOPHk56'),\n",
       " Status(ID=1361958808117985280, ScreenName=RealSpikeCohen, Created=Wed Feb 17 08:40:58 +0000 2021, Text='Remember when we were called \"anti-science\" and accused of wanting people to die when we simply acknowledged the da… https://t.co/GWvUV4D4nH'),\n",
       " Status(ID=1361687028182745102, ScreenName=mattdizwhitlock, Created=Tue Feb 16 14:41:01 +0000 2021, Text='Not only is the White House lying, but members of the media who know better -- and have the data and the science in… https://t.co/eKTzw6bLZi'),\n",
       " Status(ID=1362255767890493444, ScreenName=ConnieMckenney, Created=Thu Feb 18 04:20:59 +0000 2021, Text='RT @smartblonde0670: @TG22110 Texas Gov &amp; DOE Sec. R. Perry were both provided data from the Wind Energy Technologies Program (WETO) SMEs a…'),\n",
       " Status(ID=1362255760328036353, ScreenName=epuujee, Created=Thu Feb 18 04:20:57 +0000 2021, Text='RT @dwoodru11: $ENZC Company’s Genetics and Molecular Biology data science team is now screening (using computer analysis/Artificial Intell…'),\n",
       " Status(ID=1362255702522232832, ScreenName=dwoodru11, Created=Thu Feb 18 04:20:43 +0000 2021, Text='$ENZC Company’s Genetics and Molecular Biology data science team is now screening (using computer analysis/Artifici… https://t.co/AiNcPssdUl'),\n",
       " Status(ID=1362255683316445184, ScreenName=bexxmodd, Created=Thu Feb 18 04:20:39 +0000 2021, Text='RT @gp_pulipaka: Free Books to Learn #Statistics for Data Science. #BigData #Analytics #DataScience #IoT #IIoT #Python #RStats #TensorFlow…'),\n",
       " Status(ID=1362255663313911811, ScreenName=DjangoBot_, Created=Thu Feb 18 04:20:34 +0000 2021, Text='RT @gp_pulipaka: Free Books to Learn #Statistics for Data Science. #BigData #Analytics #DataScience #IoT #IIoT #Python #RStats #TensorFlow…'),\n",
       " Status(ID=1362255660537290754, ScreenName=iPythonistaBot, Created=Thu Feb 18 04:20:33 +0000 2021, Text='RT @gp_pulipaka: Free Books to Learn #Statistics for Data Science. #BigData #Analytics #DataScience #IoT #IIoT #Python #RStats #TensorFlow…'),\n",
       " Status(ID=1362255657051688965, ScreenName=friday_Js_bot, Created=Thu Feb 18 04:20:32 +0000 2021, Text='RT @gp_pulipaka: Free Books to Learn #Statistics for Data Science. #BigData #Analytics #DataScience #IoT #IIoT #Python #RStats #TensorFlow…'),\n",
       " Status(ID=1362255655776575488, ScreenName=epuujee, Created=Thu Feb 18 04:20:32 +0000 2021, Text='RT @dwoodru11: $ENZC Company’s Genetics and Molecular Biology data science team is now screening (using computer analysis/Artificial Intell…'),\n",
       " Status(ID=1362255640417157124, ScreenName=xaelbot, Created=Thu Feb 18 04:20:28 +0000 2021, Text='RT @gp_pulipaka: Free Books to Learn #Statistics for Data Science. #BigData #Analytics #DataScience #IoT #IIoT #Python #RStats #TensorFlow…'),\n",
       " Status(ID=1362255633412739073, ScreenName=CoderRetweet, Created=Thu Feb 18 04:20:27 +0000 2021, Text='RT @gp_pulipaka: Free Books to Learn #Statistics for Data Science. #BigData #Analytics #DataScience #IoT #IIoT #Python #RStats #TensorFlow…'),\n",
       " Status(ID=1362255632880062465, ScreenName=NVSData, Created=Thu Feb 18 04:20:27 +0000 2021, Text='RT @analyticsexam: Climb the Ladder of Success Faster with Dell EMC Data Science Associate (DEA-7TT2) Certification\\nhttps://t.co/BwSvT9kSH4…'),\n",
       " Status(ID=1362255613728759808, ScreenName=epuujee, Created=Thu Feb 18 04:20:22 +0000 2021, Text='RT @SamSaysFashion: We will replace Abbott as well. Anything can be unregulated if those in charge give a shit and make changes according t…'),\n",
       " Status(ID=1362255612395085829, ScreenName=dwoodru11, Created=Thu Feb 18 04:20:22 +0000 2021, Text='$ENZC Company’s Genetics and Molecular Biology data science team is now screening (using computer analysis/Artifici… https://t.co/wEnkXwYpmC'),\n",
       " Status(ID=1362255596901212162, ScreenName=epuujee, Created=Thu Feb 18 04:20:18 +0000 2021, Text='RT @realTakeDump: JAVASCRIPT WITH MY CLOWN. UNDERWEAR MAY AFFECT BASEBALL FISH RIDES SNOT GARDENING MONONUCLEOSIS BOWEL MOVEMENT RICK ASTLE…'),\n",
       " Status(ID=1362255584511352833, ScreenName=SamSaysFashion, Created=Thu Feb 18 04:20:15 +0000 2021, Text='We will replace Abbott as well. Anything can be unregulated if those in charge give a shit and make changes accordi… https://t.co/ioy8SZhbLB'),\n",
       " Status(ID=1362255565620088832, ScreenName=realTakeDump, Created=Thu Feb 18 04:20:10 +0000 2021, Text='JAVASCRIPT WITH MY CLOWN. UNDERWEAR MAY AFFECT BASEBALL FISH RIDES SNOT GARDENING MONONUCLEOSIS BOWEL MOVEMENT RICK… https://t.co/A3TtSW38tg'),\n",
       " Status(ID=1362255559844593664, ScreenName=corizance, Created=Thu Feb 18 04:20:09 +0000 2021, Text='RT @Sirlupinwatson: How To Learn Statistics For Data Science, The Self-Starter Way\\n\\nhttps://t.co/t3Vse0xm7q\\n\\n#MachineLearning #Python #NLP…'),\n",
       " Status(ID=1362255489875124234, ScreenName=epuujee, Created=Thu Feb 18 04:19:52 +0000 2021, Text='RT @DrakeWarren: COVID cases in Albuquerque continue to slowly decline. Apparently the new rallying cry is \"until cases decline, stay onlin…'),\n",
       " Status(ID=1362255472162701313, ScreenName=pineda_yovanis, Created=Thu Feb 18 04:19:48 +0000 2021, Text='RT @KirkDBorne: The 20 Best #DataScience eBooks (PDF Downloads) available FREE online: https://t.co/IuJFINp0mj\\n—————\\n#BigData #AI #MachineL…'),\n",
       " Status(ID=1362255460569669634, ScreenName=DrakeWarren, Created=Thu Feb 18 04:19:45 +0000 2021, Text='COVID cases in Albuquerque continue to slowly decline. Apparently the new rallying cry is \"until cases decline, sta… https://t.co/sU4LnS70D1'),\n",
       " Status(ID=1362255398133186560, ScreenName=WayneChenNY, Created=Thu Feb 18 04:19:31 +0000 2021, Text='RT @KirkDBorne: The 20 Best #DataScience eBooks (PDF Downloads) available FREE online: https://t.co/IuJFINp0mj\\n—————\\n#BigData #AI #MachineL…'),\n",
       " Status(ID=1362255388545064960, ScreenName=DrRenukaGupta, Created=Thu Feb 18 04:19:28 +0000 2021, Text='#COVID is severe for those who have such daily habit patterns and addictions as it compromises with a persons immun… https://t.co/x0fEESp2zr')]"
      ]
     },
     "execution_count": 9,
     "metadata": {},
     "output_type": "execute_result"
    }
   ],
   "source": [
    "#Get searches for Data Science\n",
    "\n",
    "api.GetSearch(term='Data Science', since=2020-3-1, count=25)"
   ]
  },
  {
   "cell_type": "code",
   "execution_count": 10,
   "metadata": {},
   "outputs": [
    {
     "data": {
      "text/plain": [
       "[Status(ID=1362148122504298497, ScreenName=itrevormoore, Created=Wed Feb 17 21:13:14 +0000 2021, Text=\"We mock the dead because it's provides an illusion of separation between them and ourselves. We don't have to confr… https://t.co/5tAXXC4hAN\"),\n",
       " Status(ID=1361730444484558851, ScreenName=AEWGames, Created=Tue Feb 16 17:33:32 +0000 2021, Text=\"You see @abadon_AEW speeding at you on a Ghost. What's your next move? #AEWgames https://t.co/yvY1bBMZ2J\"),\n",
       " Status(ID=1361925746793451523, ScreenName=TeluguBulletin, Created=Wed Feb 17 06:29:36 +0000 2021, Text='పంచాయితీ పోరులో జనసేన ‘మూడో లెక్క’ ఎంత.?\\n\\n🔸పంచాయితీ ఎన్నికల తొలి దశలో  జనసేన పార్టీ 18 శాతం ఓటు బ్యాంకుని కైవసం చే… https://t.co/PBIIS96Pph'),\n",
       " Status(ID=1362256221445623808, ScreenName=Mr___Carter99, Created=Thu Feb 18 04:22:47 +0000 2021, Text='RT @CdotHoncho: Police Aint Box Me In Wen Dey Stopped Me, Yea Dey Tweaked Im Speeding OFF 💨💨 https://t.co/ssWaCIVNWm'),\n",
       " Status(ID=1362256098024181761, ScreenName=NebPharmer, Created=Thu Feb 18 04:22:17 +0000 2021, Text='@SwiftHitter Can I point out this is located on Osborne Dr E in Hastings.....named after Tom Osborne in his home to… https://t.co/t7afInA3XG'),\n",
       " Status(ID=1362256028268720129, ScreenName=OedipaB, Created=Thu Feb 18 04:22:01 +0000 2021, Text='I went to the store to buy a box of tissue to cry into. Instead, I was pulled over and got a ticket for speeding.'),\n",
       " Status(ID=1362256026637058048, ScreenName=nadiafrmdablock, Created=Thu Feb 18 04:22:00 +0000 2021, Text='i went speeding in my new car and i can honestly say, that was the best adrenaline rush high that i’ve ever had🥳🥳 https://t.co/Rj3vvayaOF'),\n",
       " Status(ID=1362255896395599873, ScreenName=Phantom_Guard, Created=Thu Feb 18 04:21:29 +0000 2021, Text=\"@MichelsTristan We have an extended parody  ending of Zootopia, and there's a reason why Flash was speeding https://t.co/hOp2SYlP6q\"),\n",
       " Status(ID=1362255807446974465, ScreenName=RihNoire, Created=Thu Feb 18 04:21:08 +0000 2021, Text='@born_winner98 awww yes cause those have all the turnt songs too! i see y u was speeding'),\n",
       " Status(ID=1362255737343254531, ScreenName=karrbenn, Created=Thu Feb 18 04:20:51 +0000 2021, Text='how are y’all speeding rn?'),\n",
       " Status(ID=1362255646192640000, ScreenName=Fuzail1819, Created=Thu Feb 18 04:20:30 +0000 2021, Text='@RaiSandeepTOI @Uppolice @timesofindia Fault is not of speeding car but of people they are partying on road or near road.🙄🚫'),\n",
       " Status(ID=1362255537912487936, ScreenName=Soleil_et_Lune1, Created=Thu Feb 18 04:20:04 +0000 2021, Text='@TheDrunkenMick Stopped for speeding in podunk, PA. I had a concealed weapon in my glove compartment. I was in the… https://t.co/P6ida9A6aW'),\n",
       " Status(ID=1362255507147214848, ScreenName=huggingrats, Created=Thu Feb 18 04:19:57 +0000 2021, Text='Played ari for my chestie and now he speeding YUHH'),\n",
       " Status(ID=1362255442701811715, ScreenName=melanieeereyes, Created=Thu Feb 18 04:19:41 +0000 2021, Text='RT @Terrencek__: i don’t even be speeding on purpose it be the music🤦🏾\\u200d♂️😭😭'),\n",
       " Status(ID=1362255300531810311, ScreenName=Scrocdiddlydog, Created=Thu Feb 18 04:19:07 +0000 2021, Text=\"@BadLegalTakes Had a buddy who got stopped for speeding in Nevada (He wasn't. Cruise control was set to sl) &amp; cops… https://t.co/AnXtNAh0c7\"),\n",
       " Status(ID=1362255212208152576, ScreenName=Allmayduhh, Created=Thu Feb 18 04:18:46 +0000 2021, Text='RT @Terrencek__: i don’t even be speeding on purpose it be the music🤦🏾\\u200d♂️😭😭'),\n",
       " Status(ID=1362255021954465798, ScreenName=TheReal_JonBoy, Created=Thu Feb 18 04:18:01 +0000 2021, Text='@o_big4 @universal_sci @WorldAndScience Speeding it up the earth has gone through many different types of climates'),\n",
       " Status(ID=1362254981135482888, ScreenName=JDrix4, Created=Thu Feb 18 04:17:51 +0000 2021, Text='Speeding in the streets to this&gt;&gt;&gt;&gt;&gt; https://t.co/xPcqcQpBZD'),\n",
       " Status(ID=1362254965096525824, ScreenName=vickynyakabau, Created=Thu Feb 18 04:17:47 +0000 2021, Text='RT @Terrencek__: i don’t even be speeding on purpose it be the music🤦🏾\\u200d♂️😭😭'),\n",
       " Status(ID=1362254914811015168, ScreenName=shealynn_palmer, Created=Thu Feb 18 04:17:35 +0000 2021, Text='RT @Terrencek__: i don’t even be speeding on purpose it be the music🤦🏾\\u200d♂️😭😭'),\n",
       " Status(ID=1362254891662643200, ScreenName=NealJr90, Created=Thu Feb 18 04:17:30 +0000 2021, Text=\"RT @itrevormoore: We mock the dead because it's provides an illusion of separation between them and ourselves. We don't have to confront th…\"),\n",
       " Status(ID=1362254858213064706, ScreenName=JRobSATB, Created=Thu Feb 18 04:17:22 +0000 2021, Text='@TheDrunkenMick Forgot to pay a speeding ticket. 🤷🏻\\u200d♂️'),\n",
       " Status(ID=1362254481296080899, ScreenName=Anngxbelen, Created=Thu Feb 18 04:15:52 +0000 2021, Text='RT @Terrencek__: i don’t even be speeding on purpose it be the music🤦🏾\\u200d♂️😭😭'),\n",
       " Status(ID=1362254108984369156, ScreenName=Taipan57602002, Created=Thu Feb 18 04:14:23 +0000 2021, Text='RT @bobmerlote: I nearly talked my way out of a speeding fine earlier by telling this Police woman she looked bloody stunning\\n\\nThen I went…'),\n",
       " Status(ID=1362254108858572801, ScreenName=TheAshleyJoi, Created=Thu Feb 18 04:14:23 +0000 2021, Text='@DorianTheBrand Now Rainah speeding like the fastest bat outta hell🙃\\U0001f972🦇')]"
      ]
     },
     "execution_count": 10,
     "metadata": {},
     "output_type": "execute_result"
    }
   ],
   "source": [
    "#Get searches for my stuff\n",
    "\n",
    "api.GetSearch(term='Speeding', since=2020-3-1, count=25)"
   ]
  },
  {
   "cell_type": "code",
   "execution_count": 11,
   "metadata": {},
   "outputs": [],
   "source": [
    "#Get searches Speeding Tickets and save to dataframe.\n",
    "\n",
    "df_twitter_speeding_ticket = api.GetSearch(term='Speeding Ticket', since=2020-4-1, count=25)"
   ]
  },
  {
   "cell_type": "code",
   "execution_count": 12,
   "metadata": {},
   "outputs": [
    {
     "data": {
      "text/plain": [
       "[Status(ID=1362256028268720129, ScreenName=OedipaB, Created=Thu Feb 18 04:22:01 +0000 2021, Text='I went to the store to buy a box of tissue to cry into. Instead, I was pulled over and got a ticket for speeding.'),\n",
       " Status(ID=1362255300531810311, ScreenName=Scrocdiddlydog, Created=Thu Feb 18 04:19:07 +0000 2021, Text=\"@BadLegalTakes Had a buddy who got stopped for speeding in Nevada (He wasn't. Cruise control was set to sl) &amp; cops… https://t.co/AnXtNAh0c7\"),\n",
       " Status(ID=1362254858213064706, ScreenName=JRobSATB, Created=Thu Feb 18 04:17:22 +0000 2021, Text='@TheDrunkenMick Forgot to pay a speeding ticket. 🤷🏻\\u200d♂️'),\n",
       " Status(ID=1362252363692716033, ScreenName=Bazooka_Goblin, Created=Thu Feb 18 04:07:27 +0000 2021, Text='If someone can get thousands for putting gorilla glue in their hair can I set up a patreon to pay for my speeding ticket?'),\n",
       " Status(ID=1362252280171360256, ScreenName=isleytorr, Created=Thu Feb 18 04:07:07 +0000 2021, Text='It was only a matter of time that I got a speeding ticket 😭'),\n",
       " Status(ID=1362251488140029954, ScreenName=DinaDeljanin, Created=Thu Feb 18 04:03:58 +0000 2021, Text='@iamChrisVolpe @NYC_DOT I love how the FAQ for speed cameras from the DOT says, \"the penalty for a speed camera vio… https://t.co/P407xwiana'),\n",
       " Status(ID=1362251245759643649, ScreenName=Mardigroan, Created=Thu Feb 18 04:03:01 +0000 2021, Text='RT @JohnLyonTweets: I’m extremely upset with myself for speeding, Officer. Giving me a ticket now would only delay the healing process.'),\n",
       " Status(ID=1362250629700329478, ScreenName=jazbookie, Created=Thu Feb 18 04:00:34 +0000 2021, Text='Damnnnn I owe the blvd $123 nut ass speeding ticket😭'),\n",
       " Status(ID=1362249991142703107, ScreenName=crackwhoremodel, Created=Thu Feb 18 03:58:01 +0000 2021, Text='what in the rick ross jumping off a bridge over a speeding ticket is going on.....'),\n",
       " Status(ID=1362249247500820480, ScreenName=vunguye50157456, Created=Thu Feb 18 03:55:04 +0000 2021, Text='@Banker_HC @YoungA0404 Speeding ticket, nice response .'),\n",
       " Status(ID=1362247647051079680, ScreenName=younghock2, Created=Thu Feb 18 03:48:43 +0000 2021, Text='The first time you saw the ocean\\nor the first time you got your heartbroken\\nThe first time you saw a musical live p… https://t.co/Dgk9qJDIgn'),\n",
       " Status(ID=1362246794269192200, ScreenName=ItsJustMarkNV, Created=Thu Feb 18 03:45:19 +0000 2021, Text='Same thing happened to me for a speeding ticket! Will never forget because I got the call the Friday before memoria… https://t.co/6emX7oUiFe'),\n",
       " Status(ID=1362241795850199041, ScreenName=wendyharless, Created=Thu Feb 18 03:25:28 +0000 2021, Text='So, apparently my dad got a speeding ticket. It’s like I have a teenager who has more money and houses than I do.🌈🎱'),\n",
       " Status(ID=1362239245541253123, ScreenName=Thathowlifegoes, Created=Thu Feb 18 03:15:19 +0000 2021, Text='RT @BayDraco: Everyone in the car after Rick Ross jumped over the bridge for a speeding ticket https://t.co/ElFz99I2ux'),\n",
       " Status(ID=1362236459621711875, ScreenName=droach3, Created=Thu Feb 18 03:04:15 +0000 2021, Text='RT @JoeyDevlin_: I got a speeding ticket today\\n\\nInstead of reacting and getting angry I accepted it for what it is\\n\\nI was speeding and the…'),\n",
       " Status(ID=1362236422661562368, ScreenName=Chumly_Pieplate, Created=Thu Feb 18 03:04:06 +0000 2021, Text='@SunSuzSunTzuing Okay, truth.\\n\\nI went to a Grateful Dead concert, tripped balls, coming home the car I was in was p… https://t.co/AHYVMkUWdE'),\n",
       " Status(ID=1362235108426735618, ScreenName=Bazooka_Goblin, Created=Thu Feb 18 02:58:53 +0000 2021, Text='I just got a fucking speeding ticket.'),\n",
       " Status(ID=1362234213206945796, ScreenName=akingsensebirth, Created=Thu Feb 18 02:55:20 +0000 2021, Text='Should I fight the speeding ticket let my lawyer handle the situation or tuck my tail and go to traffic school who… https://t.co/va6KiHQlx4'),\n",
       " Status(ID=1362232164176125954, ScreenName=GenXTrading, Created=Thu Feb 18 02:47:11 +0000 2021, Text='@RyanShead Fuck Colorado City.. Sincerely, someone who got a speeding ticket on the 20.'),\n",
       " Status(ID=1362229919913287682, ScreenName=DuarfFred, Created=Thu Feb 18 02:38:16 +0000 2021, Text='@TheDrunkenMick Got caught driving with an expired and suspended license, but was actually arrested for failure to… https://t.co/iWDX5ZPEZw'),\n",
       " Status(ID=1362228063686299650, ScreenName=CWhitsitt, Created=Thu Feb 18 02:30:54 +0000 2021, Text=\"@duty2warn And the rules-- such as Senate's binding jurisdictional ruling--can be plowed over b/c they didn't like… https://t.co/WX1Rh1iN97\"),\n",
       " Status(ID=1362227862879621123, ScreenName=rayyago, Created=Thu Feb 18 02:30:06 +0000 2021, Text='@dodge_s_ Oh bless your heart. I had a late 1998 9-5 and got my first speeding ticket in it on the way to Coachella… https://t.co/j9DZLMMGTp'),\n",
       " Status(ID=1362227087579357188, ScreenName=austefani, Created=Thu Feb 18 02:27:01 +0000 2021, Text='So weird when you play devils advocate like this. If you get caught/recorded, So be it. This is people’s lives we a… https://t.co/1nVLkAMbhF'),\n",
       " Status(ID=1362226624335400967, ScreenName=chrishofley, Created=Thu Feb 18 02:25:10 +0000 2021, Text='@joseph_darren Get me out of my next speeding ticket and I’ll put in a good word to keep you in Ottawa...3/3'),\n",
       " Status(ID=1362226320130928640, ScreenName=HRHGunpowder, Created=Thu Feb 18 02:23:58 +0000 2021, Text='I remember getting a speeding ticket and being terrified of telling my parents. I asked him to “fix” it (because he… https://t.co/nrPWg5PzAi')]"
      ]
     },
     "execution_count": 12,
     "metadata": {},
     "output_type": "execute_result"
    }
   ],
   "source": [
    "#Print the df\n",
    "df_twitter_speeding_ticket"
   ]
  },
  {
   "cell_type": "markdown",
   "metadata": {},
   "source": [
    "# Exercise 4: Choose 3 of the following visualizations to complete.\n"
   ]
  },
  {
   "cell_type": "code",
   "execution_count": 126,
   "metadata": {},
   "outputs": [],
   "source": [
    "#Import libraries\n",
    "import numpy as np\n",
    "import pandas as pd\n",
    "import matplotlib.pyplot as plt\n",
    "import seaborn as sns"
   ]
  },
  {
   "cell_type": "code",
   "execution_count": 152,
   "metadata": {},
   "outputs": [],
   "source": [
    "#Load candy file with dates\n",
    "loc2 = 'BOING-BOING-CANDY-HIERARCHY-2016-SURVEY-Responses.xlsx' \n",
    "#Read and load file into dataframe\n",
    "df_boing=pd.read_excel(loc2, index_col=None, header=0)"
   ]
  },
  {
   "cell_type": "code",
   "execution_count": 153,
   "metadata": {},
   "outputs": [
    {
     "data": {
      "text/html": [
       "<div>\n",
       "<style scoped>\n",
       "    .dataframe tbody tr th:only-of-type {\n",
       "        vertical-align: middle;\n",
       "    }\n",
       "\n",
       "    .dataframe tbody tr th {\n",
       "        vertical-align: top;\n",
       "    }\n",
       "\n",
       "    .dataframe thead th {\n",
       "        text-align: right;\n",
       "    }\n",
       "</style>\n",
       "<table border=\"1\" class=\"dataframe\">\n",
       "  <thead>\n",
       "    <tr style=\"text-align: right;\">\n",
       "      <th></th>\n",
       "      <th>Timestamp</th>\n",
       "      <th>Are you going actually going trick or treating yourself?</th>\n",
       "      <th>Your gender:</th>\n",
       "      <th>How old are you?</th>\n",
       "      <th>Which country do you live in?</th>\n",
       "      <th>Which state, province, county do you live in?</th>\n",
       "      <th>[100 Grand Bar]</th>\n",
       "      <th>[Anonymous brown globs that come in black and orange wrappers]</th>\n",
       "      <th>[Any full-sized candy bar]</th>\n",
       "      <th>[Black Jacks]</th>\n",
       "      <th>...</th>\n",
       "      <th>Please estimate the degree(s) of separation you have from the following celebrities [JK Rowling]</th>\n",
       "      <th>Please estimate the degree(s) of separation you have from the following celebrities [JJ Abrams]</th>\n",
       "      <th>Please estimate the degree(s) of separation you have from the following celebrities [Beyoncé]</th>\n",
       "      <th>Please estimate the degree(s) of separation you have from the following celebrities [Bieber]</th>\n",
       "      <th>Please estimate the degree(s) of separation you have from the following celebrities [Kevin Bacon]</th>\n",
       "      <th>Please estimate the degree(s) of separation you have from the following celebrities [Francis Bacon (1561 - 1626)]</th>\n",
       "      <th>Which day do you prefer, Friday or Sunday?</th>\n",
       "      <th>Do you eat apples the correct way, East to West (side to side) or do you eat them like a freak of nature, South to North (bottom to top)?</th>\n",
       "      <th>When you see the above image of the 4 different websites, which one would you most likely check out (please be honest).</th>\n",
       "      <th>[York Peppermint Patties] Ignore</th>\n",
       "    </tr>\n",
       "  </thead>\n",
       "  <tbody>\n",
       "    <tr>\n",
       "      <th>0</th>\n",
       "      <td>2016-10-24 05:09:23.033</td>\n",
       "      <td>No</td>\n",
       "      <td>Male</td>\n",
       "      <td>22</td>\n",
       "      <td>Canada</td>\n",
       "      <td>Ontario</td>\n",
       "      <td>JOY</td>\n",
       "      <td>DESPAIR</td>\n",
       "      <td>JOY</td>\n",
       "      <td>MEH</td>\n",
       "      <td>...</td>\n",
       "      <td>3 or higher</td>\n",
       "      <td>2</td>\n",
       "      <td>3 or higher</td>\n",
       "      <td>3 or higher</td>\n",
       "      <td>3 or higher</td>\n",
       "      <td>3 or higher</td>\n",
       "      <td>Friday</td>\n",
       "      <td>South to North</td>\n",
       "      <td>Science: Latest News and Headlines</td>\n",
       "      <td>NaN</td>\n",
       "    </tr>\n",
       "    <tr>\n",
       "      <th>1</th>\n",
       "      <td>2016-10-24 05:09:54.798</td>\n",
       "      <td>No</td>\n",
       "      <td>Male</td>\n",
       "      <td>45</td>\n",
       "      <td>usa</td>\n",
       "      <td>il</td>\n",
       "      <td>MEH</td>\n",
       "      <td>MEH</td>\n",
       "      <td>JOY</td>\n",
       "      <td>JOY</td>\n",
       "      <td>...</td>\n",
       "      <td>3 or higher</td>\n",
       "      <td>3 or higher</td>\n",
       "      <td>3 or higher</td>\n",
       "      <td>3 or higher</td>\n",
       "      <td>3 or higher</td>\n",
       "      <td>3 or higher</td>\n",
       "      <td>Friday</td>\n",
       "      <td>East to West</td>\n",
       "      <td>Science: Latest News and Headlines</td>\n",
       "      <td>NaN</td>\n",
       "    </tr>\n",
       "    <tr>\n",
       "      <th>2</th>\n",
       "      <td>2016-10-24 05:13:06.734</td>\n",
       "      <td>No</td>\n",
       "      <td>Female</td>\n",
       "      <td>48</td>\n",
       "      <td>US</td>\n",
       "      <td>Colorado</td>\n",
       "      <td>JOY</td>\n",
       "      <td>DESPAIR</td>\n",
       "      <td>JOY</td>\n",
       "      <td>MEH</td>\n",
       "      <td>...</td>\n",
       "      <td>3 or higher</td>\n",
       "      <td>3 or higher</td>\n",
       "      <td>3 or higher</td>\n",
       "      <td>3 or higher</td>\n",
       "      <td>3 or higher</td>\n",
       "      <td>3 or higher</td>\n",
       "      <td>Sunday</td>\n",
       "      <td>East to West</td>\n",
       "      <td>Science: Latest News and Headlines</td>\n",
       "      <td>NaN</td>\n",
       "    </tr>\n",
       "    <tr>\n",
       "      <th>3</th>\n",
       "      <td>2016-10-24 05:14:17.192</td>\n",
       "      <td>No</td>\n",
       "      <td>Male</td>\n",
       "      <td>57</td>\n",
       "      <td>usa</td>\n",
       "      <td>il</td>\n",
       "      <td>JOY</td>\n",
       "      <td>MEH</td>\n",
       "      <td>JOY</td>\n",
       "      <td>MEH</td>\n",
       "      <td>...</td>\n",
       "      <td>3 or higher</td>\n",
       "      <td>3 or higher</td>\n",
       "      <td>3 or higher</td>\n",
       "      <td>3 or higher</td>\n",
       "      <td>3 or higher</td>\n",
       "      <td>3 or higher</td>\n",
       "      <td>Sunday</td>\n",
       "      <td>South to North</td>\n",
       "      <td>Science: Latest News and Headlines</td>\n",
       "      <td>NaN</td>\n",
       "    </tr>\n",
       "    <tr>\n",
       "      <th>4</th>\n",
       "      <td>2016-10-24 05:14:24.625</td>\n",
       "      <td>Yes</td>\n",
       "      <td>Male</td>\n",
       "      <td>42</td>\n",
       "      <td>USA</td>\n",
       "      <td>South Dakota</td>\n",
       "      <td>MEH</td>\n",
       "      <td>DESPAIR</td>\n",
       "      <td>JOY</td>\n",
       "      <td>DESPAIR</td>\n",
       "      <td>...</td>\n",
       "      <td>3 or higher</td>\n",
       "      <td>3 or higher</td>\n",
       "      <td>3 or higher</td>\n",
       "      <td>3 or higher</td>\n",
       "      <td>3 or higher</td>\n",
       "      <td>3 or higher</td>\n",
       "      <td>Friday</td>\n",
       "      <td>East to West</td>\n",
       "      <td>ESPN</td>\n",
       "      <td>NaN</td>\n",
       "    </tr>\n",
       "  </tbody>\n",
       "</table>\n",
       "<p>5 rows × 123 columns</p>\n",
       "</div>"
      ],
      "text/plain": [
       "                Timestamp  \\\n",
       "0 2016-10-24 05:09:23.033   \n",
       "1 2016-10-24 05:09:54.798   \n",
       "2 2016-10-24 05:13:06.734   \n",
       "3 2016-10-24 05:14:17.192   \n",
       "4 2016-10-24 05:14:24.625   \n",
       "\n",
       "  Are you going actually going trick or treating yourself? Your gender:  \\\n",
       "0                                                 No               Male   \n",
       "1                                                 No               Male   \n",
       "2                                                 No             Female   \n",
       "3                                                 No               Male   \n",
       "4                                                Yes               Male   \n",
       "\n",
       "  How old are you? Which country do you live in?  \\\n",
       "0               22                        Canada   \n",
       "1               45                           usa   \n",
       "2               48                            US   \n",
       "3               57                           usa   \n",
       "4               42                           USA   \n",
       "\n",
       "  Which state, province, county do you live in?  [100 Grand Bar]  \\\n",
       "0                                       Ontario              JOY   \n",
       "1                                            il              MEH   \n",
       "2                                      Colorado              JOY   \n",
       "3                                            il              JOY   \n",
       "4                                  South Dakota              MEH   \n",
       "\n",
       "   [Anonymous brown globs that come in black and orange wrappers]  \\\n",
       "0                                            DESPAIR                \n",
       "1                                                MEH                \n",
       "2                                            DESPAIR                \n",
       "3                                                MEH                \n",
       "4                                            DESPAIR                \n",
       "\n",
       "   [Any full-sized candy bar]  [Black Jacks]  ...  \\\n",
       "0                         JOY            MEH  ...   \n",
       "1                         JOY            JOY  ...   \n",
       "2                         JOY            MEH  ...   \n",
       "3                         JOY            MEH  ...   \n",
       "4                         JOY        DESPAIR  ...   \n",
       "\n",
       "  Please estimate the degree(s) of separation you have from the following celebrities [JK Rowling]  \\\n",
       "0                                        3 or higher                                                 \n",
       "1                                        3 or higher                                                 \n",
       "2                                        3 or higher                                                 \n",
       "3                                        3 or higher                                                 \n",
       "4                                        3 or higher                                                 \n",
       "\n",
       "  Please estimate the degree(s) of separation you have from the following celebrities [JJ Abrams]  \\\n",
       "0                                                  2                                                \n",
       "1                                        3 or higher                                                \n",
       "2                                        3 or higher                                                \n",
       "3                                        3 or higher                                                \n",
       "4                                        3 or higher                                                \n",
       "\n",
       "  Please estimate the degree(s) of separation you have from the following celebrities [Beyoncé]  \\\n",
       "0                                        3 or higher                                              \n",
       "1                                        3 or higher                                              \n",
       "2                                        3 or higher                                              \n",
       "3                                        3 or higher                                              \n",
       "4                                        3 or higher                                              \n",
       "\n",
       "  Please estimate the degree(s) of separation you have from the following celebrities [Bieber]  \\\n",
       "0                                        3 or higher                                             \n",
       "1                                        3 or higher                                             \n",
       "2                                        3 or higher                                             \n",
       "3                                        3 or higher                                             \n",
       "4                                        3 or higher                                             \n",
       "\n",
       "  Please estimate the degree(s) of separation you have from the following celebrities [Kevin Bacon]  \\\n",
       "0                                        3 or higher                                                  \n",
       "1                                        3 or higher                                                  \n",
       "2                                        3 or higher                                                  \n",
       "3                                        3 or higher                                                  \n",
       "4                                        3 or higher                                                  \n",
       "\n",
       "  Please estimate the degree(s) of separation you have from the following celebrities [Francis Bacon (1561 - 1626)]  \\\n",
       "0                                        3 or higher                                                                  \n",
       "1                                        3 or higher                                                                  \n",
       "2                                        3 or higher                                                                  \n",
       "3                                        3 or higher                                                                  \n",
       "4                                        3 or higher                                                                  \n",
       "\n",
       "  Which day do you prefer, Friday or Sunday?  \\\n",
       "0                                     Friday   \n",
       "1                                     Friday   \n",
       "2                                     Sunday   \n",
       "3                                     Sunday   \n",
       "4                                     Friday   \n",
       "\n",
       "  Do you eat apples the correct way, East to West (side to side) or do you eat them like a freak of nature, South to North (bottom to top)?  \\\n",
       "0                                     South to North                                                                                          \n",
       "1                                       East to West                                                                                          \n",
       "2                                       East to West                                                                                          \n",
       "3                                     South to North                                                                                          \n",
       "4                                       East to West                                                                                          \n",
       "\n",
       "  When you see the above image of the 4 different websites, which one would you most likely check out (please be honest).  \\\n",
       "0                 Science: Latest News and Headlines                                                                        \n",
       "1                 Science: Latest News and Headlines                                                                        \n",
       "2                 Science: Latest News and Headlines                                                                        \n",
       "3                 Science: Latest News and Headlines                                                                        \n",
       "4                                               ESPN                                                                        \n",
       "\n",
       "   [York Peppermint Patties] Ignore  \n",
       "0                               NaN  \n",
       "1                               NaN  \n",
       "2                               NaN  \n",
       "3                               NaN  \n",
       "4                               NaN  \n",
       "\n",
       "[5 rows x 123 columns]"
      ]
     },
     "execution_count": 153,
     "metadata": {},
     "output_type": "execute_result"
    }
   ],
   "source": [
    "#Preview df_boing\n",
    "df_boing.head()"
   ]
  },
  {
   "cell_type": "code",
   "execution_count": 154,
   "metadata": {},
   "outputs": [],
   "source": [
    "#Reduce the size by removing some columns to perform Pivot\n",
    "df_sm_boing= df_boing.drop(df_boing.iloc[:, 5:123], axis = 1) "
   ]
  },
  {
   "cell_type": "code",
   "execution_count": 155,
   "metadata": {},
   "outputs": [
    {
     "data": {
      "text/html": [
       "<div>\n",
       "<style scoped>\n",
       "    .dataframe tbody tr th:only-of-type {\n",
       "        vertical-align: middle;\n",
       "    }\n",
       "\n",
       "    .dataframe tbody tr th {\n",
       "        vertical-align: top;\n",
       "    }\n",
       "\n",
       "    .dataframe thead th {\n",
       "        text-align: right;\n",
       "    }\n",
       "</style>\n",
       "<table border=\"1\" class=\"dataframe\">\n",
       "  <thead>\n",
       "    <tr style=\"text-align: right;\">\n",
       "      <th></th>\n",
       "      <th>Timestamp</th>\n",
       "      <th>Are you going actually going trick or treating yourself?</th>\n",
       "      <th>Your gender:</th>\n",
       "      <th>How old are you?</th>\n",
       "      <th>Which country do you live in?</th>\n",
       "    </tr>\n",
       "  </thead>\n",
       "  <tbody>\n",
       "    <tr>\n",
       "      <th>0</th>\n",
       "      <td>2016-10-24 05:09:23.033</td>\n",
       "      <td>No</td>\n",
       "      <td>Male</td>\n",
       "      <td>22</td>\n",
       "      <td>Canada</td>\n",
       "    </tr>\n",
       "    <tr>\n",
       "      <th>1</th>\n",
       "      <td>2016-10-24 05:09:54.798</td>\n",
       "      <td>No</td>\n",
       "      <td>Male</td>\n",
       "      <td>45</td>\n",
       "      <td>usa</td>\n",
       "    </tr>\n",
       "    <tr>\n",
       "      <th>2</th>\n",
       "      <td>2016-10-24 05:13:06.734</td>\n",
       "      <td>No</td>\n",
       "      <td>Female</td>\n",
       "      <td>48</td>\n",
       "      <td>US</td>\n",
       "    </tr>\n",
       "    <tr>\n",
       "      <th>3</th>\n",
       "      <td>2016-10-24 05:14:17.192</td>\n",
       "      <td>No</td>\n",
       "      <td>Male</td>\n",
       "      <td>57</td>\n",
       "      <td>usa</td>\n",
       "    </tr>\n",
       "    <tr>\n",
       "      <th>4</th>\n",
       "      <td>2016-10-24 05:14:24.625</td>\n",
       "      <td>Yes</td>\n",
       "      <td>Male</td>\n",
       "      <td>42</td>\n",
       "      <td>USA</td>\n",
       "    </tr>\n",
       "  </tbody>\n",
       "</table>\n",
       "</div>"
      ],
      "text/plain": [
       "                Timestamp  \\\n",
       "0 2016-10-24 05:09:23.033   \n",
       "1 2016-10-24 05:09:54.798   \n",
       "2 2016-10-24 05:13:06.734   \n",
       "3 2016-10-24 05:14:17.192   \n",
       "4 2016-10-24 05:14:24.625   \n",
       "\n",
       "  Are you going actually going trick or treating yourself? Your gender:  \\\n",
       "0                                                 No               Male   \n",
       "1                                                 No               Male   \n",
       "2                                                 No             Female   \n",
       "3                                                 No               Male   \n",
       "4                                                Yes               Male   \n",
       "\n",
       "  How old are you? Which country do you live in?  \n",
       "0               22                        Canada  \n",
       "1               45                           usa  \n",
       "2               48                            US  \n",
       "3               57                           usa  \n",
       "4               42                           USA  "
      ]
     },
     "execution_count": 155,
     "metadata": {},
     "output_type": "execute_result"
    }
   ],
   "source": [
    "#Check the df\n",
    "df_sm_boing.head()"
   ]
  },
  {
   "cell_type": "code",
   "execution_count": 156,
   "metadata": {},
   "outputs": [
    {
     "data": {
      "text/plain": [
       "Index(['Timestamp', 'Are you going actually going trick or treating yourself?',\n",
       "       'Your gender:', 'How old are you?', 'Which country do you live in?'],\n",
       "      dtype='object')"
      ]
     },
     "execution_count": 156,
     "metadata": {},
     "output_type": "execute_result"
    }
   ],
   "source": [
    "#Print out the columns for df small\n",
    "df_sm_boing.columns"
   ]
  },
  {
   "cell_type": "code",
   "execution_count": 157,
   "metadata": {},
   "outputs": [],
   "source": [
    "#Rename the columns\n",
    "df_sm_boing.columns = ['timestamp','trick_treating','gender','age','country']"
   ]
  },
  {
   "cell_type": "code",
   "execution_count": 158,
   "metadata": {},
   "outputs": [
    {
     "data": {
      "text/html": [
       "<div>\n",
       "<style scoped>\n",
       "    .dataframe tbody tr th:only-of-type {\n",
       "        vertical-align: middle;\n",
       "    }\n",
       "\n",
       "    .dataframe tbody tr th {\n",
       "        vertical-align: top;\n",
       "    }\n",
       "\n",
       "    .dataframe thead th {\n",
       "        text-align: right;\n",
       "    }\n",
       "</style>\n",
       "<table border=\"1\" class=\"dataframe\">\n",
       "  <thead>\n",
       "    <tr style=\"text-align: right;\">\n",
       "      <th></th>\n",
       "      <th>timestamp</th>\n",
       "      <th>trick_treating</th>\n",
       "      <th>gender</th>\n",
       "      <th>age</th>\n",
       "      <th>country</th>\n",
       "    </tr>\n",
       "  </thead>\n",
       "  <tbody>\n",
       "    <tr>\n",
       "      <th>0</th>\n",
       "      <td>2016-10-24 05:09:23.033</td>\n",
       "      <td>No</td>\n",
       "      <td>Male</td>\n",
       "      <td>22</td>\n",
       "      <td>Canada</td>\n",
       "    </tr>\n",
       "    <tr>\n",
       "      <th>1</th>\n",
       "      <td>2016-10-24 05:09:54.798</td>\n",
       "      <td>No</td>\n",
       "      <td>Male</td>\n",
       "      <td>45</td>\n",
       "      <td>usa</td>\n",
       "    </tr>\n",
       "    <tr>\n",
       "      <th>2</th>\n",
       "      <td>2016-10-24 05:13:06.734</td>\n",
       "      <td>No</td>\n",
       "      <td>Female</td>\n",
       "      <td>48</td>\n",
       "      <td>US</td>\n",
       "    </tr>\n",
       "    <tr>\n",
       "      <th>3</th>\n",
       "      <td>2016-10-24 05:14:17.192</td>\n",
       "      <td>No</td>\n",
       "      <td>Male</td>\n",
       "      <td>57</td>\n",
       "      <td>usa</td>\n",
       "    </tr>\n",
       "    <tr>\n",
       "      <th>4</th>\n",
       "      <td>2016-10-24 05:14:24.625</td>\n",
       "      <td>Yes</td>\n",
       "      <td>Male</td>\n",
       "      <td>42</td>\n",
       "      <td>USA</td>\n",
       "    </tr>\n",
       "  </tbody>\n",
       "</table>\n",
       "</div>"
      ],
      "text/plain": [
       "                timestamp trick_treating  gender age country\n",
       "0 2016-10-24 05:09:23.033             No    Male  22  Canada\n",
       "1 2016-10-24 05:09:54.798             No    Male  45     usa\n",
       "2 2016-10-24 05:13:06.734             No  Female  48      US\n",
       "3 2016-10-24 05:14:17.192             No    Male  57     usa\n",
       "4 2016-10-24 05:14:24.625            Yes    Male  42     USA"
      ]
     },
     "execution_count": 158,
     "metadata": {},
     "output_type": "execute_result"
    }
   ],
   "source": [
    "#Check the df\n",
    "df_sm_boing.head()"
   ]
  },
  {
   "cell_type": "code",
   "execution_count": 159,
   "metadata": {},
   "outputs": [
    {
     "name": "stderr",
     "output_type": "stream",
     "text": [
      "C:\\Users\\Tushar\\anaconda3\\lib\\site-packages\\pandas\\core\\missing.py:47: FutureWarning: elementwise comparison failed; returning scalar instead, but in the future will perform elementwise comparison\n",
      "  mask = arr == x\n",
      "C:\\Users\\Tushar\\anaconda3\\lib\\site-packages\\pandas\\core\\missing.py:58: FutureWarning: elementwise comparison failed; returning scalar instead, but in the future will perform elementwise comparison\n",
      "  mask |= arr == x\n"
     ]
    }
   ],
   "source": [
    "#Do a few data clean up items\n",
    "df_sm_boing['country']=df_sm_boing['country'].str.replace(\" \",\"\")\n",
    "df_sm_boing.dropna(inplace=True)\n",
    "df_sm_boing['country']=df_sm_boing['country'].str.lower()\n",
    "df_sm_boing['gender']=df_sm_boing['gender'].str.lower()\n",
    "df_sm_boing=df_sm_boing.replace(['us','u','america','unitedstateofamerica','unitedstates','usa!','usa! usa!',\n",
    "                                  'usa! usa! usa!','usa!!!!!!','ussa','usausausa','usausausausa','unitedstate',\n",
    "                                   'u.s.','u.s.a.','merica','murica', 'usa'])"
   ]
  },
  {
   "cell_type": "code",
   "execution_count": 160,
   "metadata": {},
   "outputs": [],
   "source": [
    "#Do some more clean up\n",
    "df_sm_boing=df_sm_boing.replace(['Old enough','Many','?','no','45-55','hahahahaha','older than dirt','5u','Enough',\n",
    "                          'See question 2','24-50','Over 50','46 Halloweens.','ancient','OLD','old','MY NAME JEFF',\n",
    "                           'sixty-nine','59 on the day after Halloween','old enough','your mom',\n",
    "                          'I can remember when Java was a cool new language','60+','Old enough to know better ',\n",
    "                                  'As old as my tongue a few years older than my teeth','50s','0x2A',\n",
    "                                  'Fifty.  Nine.  Ish.','Ancient','I remember the Nixon administration',\n",
    "                                  'over retirement age','50+','55+','over 40','Hahahahahaha', \n",
    "                                   'Old','Older than i act','really old','blah','older than I want to be',\n",
    "                                  'Not as old as you...','Never ask a woman that question.','old ',\n",
    "                                  'Same as yo mama','Too old to trick or treat without it being creepy',\n",
    "                                  'Old enough to not Trick or Treat.','49 11/12ths'], np.nan)\n",
    "\n",
    "#Drop the nan's\n",
    "df_sm_boing.dropna(inplace=True)"
   ]
  },
  {
   "cell_type": "code",
   "execution_count": 161,
   "metadata": {},
   "outputs": [
    {
     "data": {
      "text/plain": [
       "timestamp         datetime64[ns]\n",
       "trick_treating            object\n",
       "gender                    object\n",
       "age                      float64\n",
       "country                   object\n",
       "dtype: object"
      ]
     },
     "execution_count": 161,
     "metadata": {},
     "output_type": "execute_result"
    }
   ],
   "source": [
    "#Check the data types\n",
    "df_sm_boing.dtypes"
   ]
  },
  {
   "cell_type": "code",
   "execution_count": 162,
   "metadata": {},
   "outputs": [],
   "source": [
    "#Change age from float to integer data type\n",
    "df_sm_boing['age']=df_sm_boing['age'].astype(int)\n"
   ]
  },
  {
   "cell_type": "code",
   "execution_count": 163,
   "metadata": {},
   "outputs": [
    {
     "data": {
      "text/html": [
       "<div>\n",
       "<style scoped>\n",
       "    .dataframe tbody tr th:only-of-type {\n",
       "        vertical-align: middle;\n",
       "    }\n",
       "\n",
       "    .dataframe tbody tr th {\n",
       "        vertical-align: top;\n",
       "    }\n",
       "\n",
       "    .dataframe thead th {\n",
       "        text-align: right;\n",
       "    }\n",
       "</style>\n",
       "<table border=\"1\" class=\"dataframe\">\n",
       "  <thead>\n",
       "    <tr style=\"text-align: right;\">\n",
       "      <th></th>\n",
       "      <th>timestamp</th>\n",
       "      <th>trick_treating</th>\n",
       "      <th>gender</th>\n",
       "      <th>age</th>\n",
       "      <th>country</th>\n",
       "    </tr>\n",
       "  </thead>\n",
       "  <tbody>\n",
       "    <tr>\n",
       "      <th>0</th>\n",
       "      <td>2016-10-24 05:09:23.033</td>\n",
       "      <td>No</td>\n",
       "      <td>male</td>\n",
       "      <td>22</td>\n",
       "      <td>canada</td>\n",
       "    </tr>\n",
       "    <tr>\n",
       "      <th>1</th>\n",
       "      <td>2016-10-24 05:09:54.798</td>\n",
       "      <td>No</td>\n",
       "      <td>male</td>\n",
       "      <td>45</td>\n",
       "      <td>canada</td>\n",
       "    </tr>\n",
       "    <tr>\n",
       "      <th>2</th>\n",
       "      <td>2016-10-24 05:13:06.734</td>\n",
       "      <td>No</td>\n",
       "      <td>female</td>\n",
       "      <td>48</td>\n",
       "      <td>canada</td>\n",
       "    </tr>\n",
       "    <tr>\n",
       "      <th>3</th>\n",
       "      <td>2016-10-24 05:14:17.192</td>\n",
       "      <td>No</td>\n",
       "      <td>male</td>\n",
       "      <td>57</td>\n",
       "      <td>canada</td>\n",
       "    </tr>\n",
       "    <tr>\n",
       "      <th>4</th>\n",
       "      <td>2016-10-24 05:14:24.625</td>\n",
       "      <td>Yes</td>\n",
       "      <td>male</td>\n",
       "      <td>42</td>\n",
       "      <td>canada</td>\n",
       "    </tr>\n",
       "  </tbody>\n",
       "</table>\n",
       "</div>"
      ],
      "text/plain": [
       "                timestamp trick_treating  gender  age country\n",
       "0 2016-10-24 05:09:23.033             No    male   22  canada\n",
       "1 2016-10-24 05:09:54.798             No    male   45  canada\n",
       "2 2016-10-24 05:13:06.734             No  female   48  canada\n",
       "3 2016-10-24 05:14:17.192             No    male   57  canada\n",
       "4 2016-10-24 05:14:24.625            Yes    male   42  canada"
      ]
     },
     "execution_count": 163,
     "metadata": {},
     "output_type": "execute_result"
    }
   ],
   "source": [
    "#Confirm changes took\n",
    "df_sm_boing.head()"
   ]
  },
  {
   "cell_type": "code",
   "execution_count": 166,
   "metadata": {},
   "outputs": [
    {
     "data": {
      "image/png": "[encoded data removed]",
      "text/plain": [
       "<Figure size 432x288 with 1 Axes>"
      ]
     },
     "metadata": {
      "needs_background": "light"
     },
     "output_type": "display_data"
    }
   ],
   "source": [
    "#Plot a histogram\n",
    "plt.hist(df_sm_boing['gender']) #,bins=20) #Type of plot and bin setting\n",
    "plt.xlabel('Gender',fontsize=12) #Label of X axis\n",
    "plt.ylabel('Frequency',fontsize=12) #Label of Y axis\n",
    "plt.title('Histogram of Gender that are Trick or Treating') #Title the histogram\n",
    "plt.show() #Show plot"
   ]
  },
  {
   "cell_type": "code",
   "execution_count": 186,
   "metadata": {},
   "outputs": [
    {
     "data": {
      "text/plain": [
       "gender\n",
       "female                392\n",
       "i'd rather not say     16\n",
       "male                  758\n",
       "other                  17\n",
       "Name: trick_treating, dtype: int64"
      ]
     },
     "execution_count": 186,
     "metadata": {},
     "output_type": "execute_result"
    }
   ],
   "source": [
    "#Do some data grouping\n",
    "data_group = df_sm_boing.groupby('gender')['trick_treating'].count()\n",
    "#Preview the groups\n",
    "data_group\n",
    "                                                   "
   ]
  },
  {
   "cell_type": "code",
   "execution_count": 191,
   "metadata": {},
   "outputs": [
    {
     "data": {
      "image/png": "[encoded data removed]",
      "text/plain": [
       "<Figure size 864x432 with 1 Axes>"
      ]
     },
     "metadata": {},
     "output_type": "display_data"
    }
   ],
   "source": [
    "#Plot a pie chart\n",
    "pie, ax = plt.subplots(figsize=[12,6]) #Size of the pie\n",
    "labels = data_group.keys() #Labels\n",
    "plt.pie(x=data_group, autopct='%.1f%%', explode=[0.07]*4, labels=labels, pctdistance=0.5) #Size and expanion of pie\n",
    "plt.title('Going Trick or Treating by Gender', fontsize=16); #Title the pie chart\n"
   ]
  },
  {
   "cell_type": "code",
   "execution_count": 198,
   "metadata": {},
   "outputs": [],
   "source": [
    "#Path to location and name of file. Load some term project data to perform grouping\n",
    "loc = 'race_results_contractor.xlsx' \n",
    "#Read and load file into dataframe\n",
    "df_contructor=pd.read_excel(loc, index_col=None, header=0)\n",
    "\n"
   ]
  },
  {
   "cell_type": "code",
   "execution_count": 199,
   "metadata": {},
   "outputs": [
    {
     "data": {
      "text/html": [
       "<div>\n",
       "<style scoped>\n",
       "    .dataframe tbody tr th:only-of-type {\n",
       "        vertical-align: middle;\n",
       "    }\n",
       "\n",
       "    .dataframe tbody tr th {\n",
       "        vertical-align: top;\n",
       "    }\n",
       "\n",
       "    .dataframe thead th {\n",
       "        text-align: right;\n",
       "    }\n",
       "</style>\n",
       "<table border=\"1\" class=\"dataframe\">\n",
       "  <thead>\n",
       "    <tr style=\"text-align: right;\">\n",
       "      <th></th>\n",
       "      <th>constructorResultsId</th>\n",
       "      <th>race</th>\n",
       "      <th>contructor</th>\n",
       "      <th>points</th>\n",
       "    </tr>\n",
       "  </thead>\n",
       "  <tbody>\n",
       "    <tr>\n",
       "      <th>0</th>\n",
       "      <td>15641</td>\n",
       "      <td>Australian Grand Prix</td>\n",
       "      <td>Mercedes</td>\n",
       "      <td>22</td>\n",
       "    </tr>\n",
       "    <tr>\n",
       "      <th>1</th>\n",
       "      <td>15642</td>\n",
       "      <td>Australian Grand Prix</td>\n",
       "      <td>Red Bull</td>\n",
       "      <td>20</td>\n",
       "    </tr>\n",
       "    <tr>\n",
       "      <th>2</th>\n",
       "      <td>15643</td>\n",
       "      <td>Australian Grand Prix</td>\n",
       "      <td>McLaren</td>\n",
       "      <td>12</td>\n",
       "    </tr>\n",
       "    <tr>\n",
       "      <th>3</th>\n",
       "      <td>15644</td>\n",
       "      <td>Australian Grand Prix</td>\n",
       "      <td>Renault</td>\n",
       "      <td>7</td>\n",
       "    </tr>\n",
       "    <tr>\n",
       "      <th>4</th>\n",
       "      <td>15645</td>\n",
       "      <td>Australian Grand Prix</td>\n",
       "      <td>Force India</td>\n",
       "      <td>0</td>\n",
       "    </tr>\n",
       "  </tbody>\n",
       "</table>\n",
       "</div>"
      ],
      "text/plain": [
       "   constructorResultsId                   race   contructor  points\n",
       "0                 15641  Australian Grand Prix     Mercedes      22\n",
       "1                 15642  Australian Grand Prix     Red Bull      20\n",
       "2                 15643  Australian Grand Prix      McLaren      12\n",
       "3                 15644  Australian Grand Prix      Renault       7\n",
       "4                 15645  Australian Grand Prix  Force India       0"
      ]
     },
     "execution_count": 199,
     "metadata": {},
     "output_type": "execute_result"
    }
   ],
   "source": [
    "#Preview the data\n",
    "df_contructor.head()"
   ]
  },
  {
   "cell_type": "code",
   "execution_count": 213,
   "metadata": {
    "scrolled": true
   },
   "outputs": [
    {
     "data": {
      "image/png": "[encoded data removed]",
      "text/plain": [
       "<Figure size 1080x1080 with 1 Axes>"
      ]
     },
     "metadata": {
      "needs_background": "light"
     },
     "output_type": "display_data"
    }
   ],
   "source": [
    "#Stack bar graph of Points by Contructor\n",
    "#Set figure size (big)\n",
    "f = plt.figure() \n",
    "f.set_figwidth(15) \n",
    "f.set_figheight(15) \n",
    "#Plot the data\n",
    "plt.bar(df_contructor['contructor'],df_contructor['points'] , align='center', alpha=0.5) #Contructors to Points\n",
    "plt.xticks(df_contructor['contructor']) #X will have Contructors\n",
    "plt.ylabel('Points Earned', fontsize=12) #Lable of Y axis\n",
    "plt.xlabel('F1 Teams Name', fontsize=12) #Lable of X axis\n",
    "plt.title('Bar Plot of Points Earned by F1 Teams', fontsize=16) #Title the bar graph\n",
    "\n",
    "plt.show() #Show the bar graph"
   ]
  }
 ],
 "metadata": {
  "kernelspec": {
   "display_name": "Python 3",
   "language": "python",
   "name": "python3"
  },
  "language_info": {
   "codemirror_mode": {
    "name": "ipython",
    "version": 3
   },
   "file_extension": ".py",
   "mimetype": "text/x-python",
   "name": "python",
   "nbconvert_exporter": "python",
   "pygments_lexer": "ipython3",
   "version": "3.8.3"
  }
 },
 "nbformat": 4,
 "nbformat_minor": 4
}
