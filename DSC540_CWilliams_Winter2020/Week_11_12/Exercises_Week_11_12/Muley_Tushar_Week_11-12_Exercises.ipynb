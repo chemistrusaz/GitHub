{
 "cells": [
  {
   "cell_type": "markdown",
   "metadata": {},
   "source": [
    "Name: Muley, Tushar\n",
    "\n",
    "Assignment: Week 11 & 12 Exercises\n",
    "\n",
    "Date: March 6, 2021"
   ]
  },
  {
   "cell_type": "markdown",
   "metadata": {},
   "source": [
    "# Exercise 1 Activity 11 :  "
   ]
  },
  {
   "cell_type": "markdown",
   "metadata": {},
   "source": [
    "1. Connect to petsDB and check whether the connection has been successful."
   ]
  },
  {
   "cell_type": "code",
   "execution_count": 1,
   "metadata": {},
   "outputs": [],
   "source": [
    "#Import libraries\n",
    "import sqlite3"
   ]
  },
  {
   "cell_type": "code",
   "execution_count": 2,
   "metadata": {},
   "outputs": [],
   "source": [
    "#Connection to db\n",
    "db_conn = sqlite3.connect('petsDB')"
   ]
  },
  {
   "cell_type": "code",
   "execution_count": 3,
   "metadata": {},
   "outputs": [],
   "source": [
    "#Function to check connection status to db\n",
    "def connection(db_conn):\n",
    "    try:\n",
    "        db_conn.execute('SELECT * FROM persons LIMIT 1')\n",
    "        return True\n",
    "    except sqlite3.ProgrammingError as f:\n",
    "        print('Connection failed {}'.format(f))\n",
    "        return False"
   ]
  },
  {
   "cell_type": "code",
   "execution_count": 4,
   "metadata": {},
   "outputs": [
    {
     "name": "stdout",
     "output_type": "stream",
     "text": [
      "True\n"
     ]
    }
   ],
   "source": [
    "#Check connection status\n",
    "print(connection(db_conn))"
   ]
  },
  {
   "cell_type": "code",
   "execution_count": 5,
   "metadata": {},
   "outputs": [],
   "source": [
    "#Close open connection\n",
    "db_conn.close()"
   ]
  },
  {
   "cell_type": "code",
   "execution_count": 6,
   "metadata": {},
   "outputs": [],
   "source": [
    "#TBD\n",
    "\n",
    "#Connect to the db\n",
    "with sqlite3.connect(\"petsDB\") as conn:\n",
    "    pass"
   ]
  },
  {
   "cell_type": "markdown",
   "metadata": {},
   "source": [
    "2. Find the different age groups in the persons database."
   ]
  },
  {
   "cell_type": "code",
   "execution_count": 7,
   "metadata": {},
   "outputs": [
    {
     "name": "stdout",
     "output_type": "stream",
     "text": [
      "age     count\n",
      "---------------\n",
      "5    |    2\n",
      "6    |    1\n",
      "7    |    1\n",
      "8    |    3\n",
      "9    |    1\n",
      "11   |    2\n",
      "12   |    3\n",
      "13   |    1\n",
      "14   |    4\n",
      "16   |    2\n",
      "17   |    2\n",
      "18   |    3\n",
      "19   |    1\n",
      "22   |    3\n",
      "23   |    2\n",
      "24   |    3\n",
      "25   |    2\n",
      "27   |    1\n",
      "30   |    1\n",
      "31   |    3\n",
      "32   |    1\n",
      "33   |    1\n",
      "34   |    2\n",
      "35   |    3\n",
      "36   |    3\n",
      "37   |    1\n",
      "39   |    2\n",
      "40   |    1\n",
      "42   |    1\n",
      "44   |    2\n",
      "48   |    2\n",
      "49   |    1\n",
      "50   |    1\n",
      "51   |    2\n",
      "52   |    2\n",
      "53   |    2\n",
      "54   |    2\n",
      "58   |    1\n",
      "59   |    1\n",
      "60   |    1\n",
      "61   |    1\n",
      "62   |    2\n",
      "63   |    1\n",
      "65   |    2\n",
      "66   |    2\n",
      "67   |    1\n",
      "68   |    3\n",
      "69   |    1\n",
      "70   |    1\n",
      "71   |    4\n",
      "72   |    1\n",
      "73   |    5\n",
      "74   |    3\n"
     ]
    }
   ],
   "source": [
    "#Pull age and count of age.\n",
    "with sqlite3.connect('petsDB') as conn: #Open/close connection\n",
    "    cursor = conn.cursor() #Defin cursor\n",
    "    print('age    ','count') #Print headers\n",
    "    print(\"-\"*15) #Print dashes\n",
    "    #SQL to pull data\n",
    "    for age, cnt in cursor.execute('SELECT age, count(*) FROM persons GROUP BY age ORDER BY age'):\n",
    "        print('{:<5}|{:>5}'.format(age,cnt)) #Print information\n",
    "\n",
    "        "
   ]
  },
  {
   "cell_type": "markdown",
   "metadata": {},
   "source": [
    "3. Find the age group that has the maximum number of people."
   ]
  },
  {
   "cell_type": "code",
   "execution_count": 8,
   "metadata": {},
   "outputs": [
    {
     "name": "stdout",
     "output_type": "stream",
     "text": [
      "Age group with the maximum number of people\n",
      "age     count\n",
      "---------------\n",
      "73   |    5\n"
     ]
    }
   ],
   "source": [
    "with sqlite3.connect('petsDB') as conn: #Open/close connection\n",
    "    cursor = conn.cursor() #Defin cursor\n",
    "    print('Age group with the maximum number of people')\n",
    "    print('age    ','count') #Print headers\n",
    "    print(\"-\"*15) #Print dashes\n",
    "    #SQL to pull data\n",
    "    for age, cnt in cursor.execute('SELECT age, count(*) FROM persons GROUP BY age ORDER BY count(*) DESC LIMIT 1'):\n",
    "                                   print('{:<5}|{:>5}'.format(age,cnt)) #Print information\n"
   ]
  },
  {
   "cell_type": "markdown",
   "metadata": {},
   "source": [
    "4. Find the people who do not have a last name."
   ]
  },
  {
   "cell_type": "code",
   "execution_count": 9,
   "metadata": {},
   "outputs": [
    {
     "name": "stdout",
     "output_type": "stream",
     "text": [
      "People missing last names: (60,)\n"
     ]
    }
   ],
   "source": [
    "with sqlite3.connect('petsDB') as conn: #Open/close connection\n",
    "    cursor = conn.cursor() #Defin cursor\n",
    "    #SQL to pull data\n",
    "    for cnt in cursor.execute('SELECT count(*) FROM persons WHERE last_name IS null'):\n",
    "        print('People missing last names: {}'.format(cnt)) #Print information"
   ]
  },
  {
   "cell_type": "markdown",
   "metadata": {},
   "source": [
    "5. Find out how many people have more than one pet."
   ]
  },
  {
   "cell_type": "code",
   "execution_count": 16,
   "metadata": {},
   "outputs": [
    {
     "name": "stdout",
     "output_type": "stream",
     "text": [
      "Owners with more than 1 pet: 43\n"
     ]
    }
   ],
   "source": [
    "with sqlite3.connect('petsDB') as conn: #Open/close connection\n",
    "    cursor = conn.cursor() #Defin cursor\n",
    "    #Set variable with SQL to get owners with more than 1 pet\n",
    "    selt = cursor.execute(\n",
    "        'SELECT count(*) FROM (SELECT count(owner_id) FROM pets GROUP BY owner_id HAVING count(owner_id)>1)')\n",
    "    for row in selt: #Run through the variable to get the rows\n",
    "        print('Owners with more than 1 pet: {}'.format(row[0])) #Print information\n",
    "        "
   ]
  },
  {
   "cell_type": "markdown",
   "metadata": {},
   "source": [
    "6. Find out how many pets have received treatment."
   ]
  },
  {
   "cell_type": "code",
   "execution_count": 21,
   "metadata": {},
   "outputs": [
    {
     "name": "stdout",
     "output_type": "stream",
     "text": [
      "Number of pets that have had treatment: (36,)\n"
     ]
    }
   ],
   "source": [
    "with sqlite3.connect('petsDB') as conn: #Open/close connection\n",
    "    cursor = conn.cursor() #Defin cursor\n",
    "    #SQL to pull data\n",
    "    for cnt in cursor.execute('SELECT count(*) FROM pets WHERE treatment_done=1'):\n",
    "        print('Number of pets that have had treatment: {}'.format(cnt)) #Print information"
   ]
  },
  {
   "cell_type": "markdown",
   "metadata": {},
   "source": [
    "7. Find out how many pets have received treatment and the type of pet is known."
   ]
  },
  {
   "cell_type": "code",
   "execution_count": 23,
   "metadata": {},
   "outputs": [
    {
     "name": "stdout",
     "output_type": "stream",
     "text": [
      "Number of pets that have treatment and pet type is not null: (16,)\n"
     ]
    }
   ],
   "source": [
    "with sqlite3.connect('petsDB') as conn: #Open/close connection\n",
    "    cursor = conn.cursor() #Defin cursor\n",
    "    #SQL to pull data\n",
    "    for cnt in cursor.execute('SELECT count(*) FROM pets WHERE treatment_done=1 AND pet_type IS NOT null'):\n",
    "        print('Number of pets that have treatment and pet type is not null: {}'.format(cnt)) #Print information"
   ]
  },
  {
   "cell_type": "markdown",
   "metadata": {},
   "source": [
    "8. Find out how many pets are from the city called east port."
   ]
  },
  {
   "cell_type": "code",
   "execution_count": 34,
   "metadata": {},
   "outputs": [
    {
     "name": "stdout",
     "output_type": "stream",
     "text": [
      "Number of pets that live in east port: (49,)\n"
     ]
    }
   ],
   "source": [
    "with sqlite3.connect('petsDB') as conn: #Open/close connection\n",
    "    cursor = conn.cursor() #Defin cursor\n",
    "    #SQL to pull data\n",
    "    for cnt in cursor.execute('SELECT count(*) FROM pets JOIN persons ON pets.owner_id=persons.id \\\n",
    "    WHERE city=\"east port\"'):\n",
    "        print('Number of pets that live in east port: {}'.format(cnt)) #Print information"
   ]
  },
  {
   "cell_type": "markdown",
   "metadata": {},
   "source": [
    "9. Find out how many pets are from the city called east port and who received a treatment."
   ]
  },
  {
   "cell_type": "code",
   "execution_count": 37,
   "metadata": {},
   "outputs": [
    {
     "name": "stdout",
     "output_type": "stream",
     "text": [
      "Number of pets that live in east port and got treatment: (11,)\n"
     ]
    }
   ],
   "source": [
    "with sqlite3.connect('petsDB') as conn: #Open/close connection\n",
    "    cursor = conn.cursor() #Defin cursor\n",
    "    #SQL to pull data\n",
    "    for cnt in cursor.execute('SELECT count(*) FROM pets JOIN persons ON pets.owner_id=persons.id \\\n",
    "    WHERE city=\"east port\" AND pets.treatment_done=1 '):\n",
    "        print('Number of pets that live in east port and got treatment: {}'.format(cnt)) #Print information"
   ]
  }
 ],
 "metadata": {
  "kernelspec": {
   "display_name": "Python 3",
   "language": "python",
   "name": "python3"
  },
  "language_info": {
   "codemirror_mode": {
    "name": "ipython",
    "version": 3
   },
   "file_extension": ".py",
   "mimetype": "text/x-python",
   "name": "python",
   "nbconvert_exporter": "python",
   "pygments_lexer": "ipython3",
   "version": "3.8.3"
  }
 },
 "nbformat": 4,
 "nbformat_minor": 4
}
